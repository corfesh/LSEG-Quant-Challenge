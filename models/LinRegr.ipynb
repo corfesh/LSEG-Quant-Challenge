{
 "cells": [
  {
   "cell_type": "code",
   "execution_count": 78,
   "metadata": {},
   "outputs": [],
   "source": [
    "import numpy as np\n",
    "import pandas as pd\n",
    "from sklearn import preprocessing\n",
    "from sklearn import metrics\n",
    "from sklearn.model_selection import train_test_split\n",
    "from sklearn.linear_model import LinearRegression\n",
    "import matplotlib.pyplot as plt\n",
    "import os"
   ]
  },
  {
   "cell_type": "code",
   "execution_count": 79,
   "metadata": {},
   "outputs": [
    {
     "data": {
      "text/plain": [
       "(939, 8)"
      ]
     },
     "execution_count": 79,
     "metadata": {},
     "output_type": "execute_result"
    }
   ],
   "source": [
    "\n",
    "csv_file_path = os.path.join(os.getcwd(), 'basic_df.csv')\n",
    "df = pd.read_csv(csv_file_path)\n",
    "df.shape"
   ]
  },
  {
   "cell_type": "code",
   "execution_count": 80,
   "metadata": {},
   "outputs": [],
   "source": [
    "df.dropna(inplace=True)"
   ]
  },
  {
   "cell_type": "code",
   "execution_count": 81,
   "metadata": {},
   "outputs": [
    {
     "data": {
      "text/html": [
       "<div>\n",
       "<style scoped>\n",
       "    .dataframe tbody tr th:only-of-type {\n",
       "        vertical-align: middle;\n",
       "    }\n",
       "\n",
       "    .dataframe tbody tr th {\n",
       "        vertical-align: top;\n",
       "    }\n",
       "\n",
       "    .dataframe thead th {\n",
       "        text-align: right;\n",
       "    }\n",
       "</style>\n",
       "<table border=\"1\" class=\"dataframe\">\n",
       "  <thead>\n",
       "    <tr style=\"text-align: right;\">\n",
       "      <th></th>\n",
       "      <th>Unnamed: 0</th>\n",
       "      <th>Date</th>\n",
       "      <th>Close</th>\n",
       "      <th>Net</th>\n",
       "      <th>%Chg</th>\n",
       "      <th>Open</th>\n",
       "      <th>Low</th>\n",
       "      <th>High</th>\n",
       "    </tr>\n",
       "  </thead>\n",
       "  <tbody>\n",
       "    <tr>\n",
       "      <th>937</th>\n",
       "      <td>937</td>\n",
       "      <td>2020-09-17</td>\n",
       "      <td>1114.58</td>\n",
       "      <td>-9.52</td>\n",
       "      <td>-0.008469</td>\n",
       "      <td>1124.22</td>\n",
       "      <td>1110.08</td>\n",
       "      <td>1124.34</td>\n",
       "    </tr>\n",
       "    <tr>\n",
       "      <th>936</th>\n",
       "      <td>936</td>\n",
       "      <td>2020-09-18</td>\n",
       "      <td>1113.80</td>\n",
       "      <td>-0.78</td>\n",
       "      <td>-0.000700</td>\n",
       "      <td>1115.83</td>\n",
       "      <td>1111.07</td>\n",
       "      <td>1120.56</td>\n",
       "    </tr>\n",
       "    <tr>\n",
       "      <th>935</th>\n",
       "      <td>935</td>\n",
       "      <td>2020-09-21</td>\n",
       "      <td>1093.33</td>\n",
       "      <td>-20.47</td>\n",
       "      <td>-0.018379</td>\n",
       "      <td>1112.64</td>\n",
       "      <td>1087.69</td>\n",
       "      <td>1117.14</td>\n",
       "    </tr>\n",
       "    <tr>\n",
       "      <th>934</th>\n",
       "      <td>934</td>\n",
       "      <td>2020-09-22</td>\n",
       "      <td>1088.58</td>\n",
       "      <td>-4.75</td>\n",
       "      <td>-0.004345</td>\n",
       "      <td>1094.50</td>\n",
       "      <td>1084.85</td>\n",
       "      <td>1094.66</td>\n",
       "    </tr>\n",
       "    <tr>\n",
       "      <th>933</th>\n",
       "      <td>933</td>\n",
       "      <td>2020-09-23</td>\n",
       "      <td>1081.49</td>\n",
       "      <td>-7.09</td>\n",
       "      <td>-0.006513</td>\n",
       "      <td>1087.79</td>\n",
       "      <td>1079.47</td>\n",
       "      <td>1090.47</td>\n",
       "    </tr>\n",
       "  </tbody>\n",
       "</table>\n",
       "</div>"
      ],
      "text/plain": [
       "     Unnamed: 0       Date    Close    Net      %Chg     Open      Low  \\\n",
       "937         937 2020-09-17  1114.58  -9.52 -0.008469  1124.22  1110.08   \n",
       "936         936 2020-09-18  1113.80  -0.78 -0.000700  1115.83  1111.07   \n",
       "935         935 2020-09-21  1093.33 -20.47 -0.018379  1112.64  1087.69   \n",
       "934         934 2020-09-22  1088.58  -4.75 -0.004345  1094.50  1084.85   \n",
       "933         933 2020-09-23  1081.49  -7.09 -0.006513  1087.79  1079.47   \n",
       "\n",
       "        High  \n",
       "937  1124.34  \n",
       "936  1120.56  \n",
       "935  1117.14  \n",
       "934  1094.66  \n",
       "933  1090.47  "
      ]
     },
     "execution_count": 81,
     "metadata": {},
     "output_type": "execute_result"
    }
   ],
   "source": [
    "df = df.rename(columns={'Exchange Date': 'Date'})\n",
    "df['Date'] = pd.to_datetime(df['Date'])\n",
    "df = df[::-1].copy(deep = True)\n",
    "\n",
    "df.head()"
   ]
  },
  {
   "cell_type": "code",
   "execution_count": 83,
   "metadata": {},
   "outputs": [],
   "source": [
    "df.drop(columns=['Unnamed: 0'], inplace = True)"
   ]
  },
  {
   "cell_type": "code",
   "execution_count": 84,
   "metadata": {},
   "outputs": [],
   "source": [
    "df.set_index('Date', inplace=True)"
   ]
  },
  {
   "cell_type": "code",
   "execution_count": 85,
   "metadata": {},
   "outputs": [],
   "source": [
    "X = df[['High','Low','Open','Net']].values\n",
    "y = df['Close'].values"
   ]
  },
  {
   "cell_type": "code",
   "execution_count": 86,
   "metadata": {},
   "outputs": [],
   "source": [
    "X_train, X_test, y_train, y_test = train_test_split(X, y, test_size=0.3, random_state=1)\n"
   ]
  },
  {
   "cell_type": "code",
   "execution_count": 74,
   "metadata": {},
   "outputs": [
    {
     "data": {
      "text/plain": [
       "282"
      ]
     },
     "execution_count": 74,
     "metadata": {},
     "output_type": "execute_result"
    }
   ],
   "source": [
    "len(X_test)"
   ]
  },
  {
   "cell_type": "code",
   "execution_count": 87,
   "metadata": {},
   "outputs": [
    {
     "name": "stdout",
     "output_type": "stream",
     "text": [
      "[0.36903278 0.49439502 0.13364029 0.46187092]\n",
      "4.26540472212173\n"
     ]
    }
   ],
   "source": [
    "regressor = LinearRegression()\n",
    "regressor.fit(X_train, y_train)\n",
    "\n",
    "\n",
    "print(regressor.coef_) # weights of the features\n",
    "print(regressor.intercept_) # bias"
   ]
  },
  {
   "cell_type": "code",
   "execution_count": 88,
   "metadata": {},
   "outputs": [
    {
     "data": {
      "text/plain": [
       "array([1050.24771339, 1195.00880138,  934.50999004, 1025.80771811,\n",
       "       1174.44592103, 1220.80181383, 1017.62727378, 1087.10356287,\n",
       "       1015.89768797, 1148.29487084, 1327.54916272, 1263.72379277,\n",
       "       1026.67800425, 1039.72064796, 1360.11147184, 1035.80764843,\n",
       "       1052.05465129, 1030.64076185,  917.01108082, 1076.56037956,\n",
       "       1011.91598134, 1310.65548216, 1183.80328475, 1027.96807801,\n",
       "       1046.1817223 , 1356.94456257, 1004.89135429, 1025.78188617,\n",
       "       1080.83419352, 1251.79413258,  961.95776251, 1142.16045586,\n",
       "       1028.14502772, 1035.61948031, 1391.61392576, 1017.77202426,\n",
       "       1086.2295846 , 1021.4066014 , 1286.44122361, 1362.84700891,\n",
       "       1280.83633239, 1280.93937404, 1418.64172228, 1053.27053939,\n",
       "       1045.06558753,  988.39130694, 1286.93278453, 1030.32321409,\n",
       "       1063.50701276, 1065.66011954, 1234.90174647, 1064.90979151,\n",
       "       1022.30320087, 1372.06790172, 1420.82681253, 1142.37444973,\n",
       "       1348.77627889, 1033.64038927, 1073.78604366, 1396.5962922 ,\n",
       "        904.71507461, 1020.86307754, 1259.53095591, 1026.42732548,\n",
       "       1021.26762869, 1012.62149376, 1250.89059516, 1258.13458761,\n",
       "       1079.86845581, 1324.94379321, 1354.70612906, 1088.6506799 ,\n",
       "       1347.59843868, 1029.25451998, 1068.12750446, 1008.3389729 ,\n",
       "       1089.69054409, 1122.35683342, 1024.703259  , 1033.48467141,\n",
       "       1244.04873002, 1339.55960517, 1093.5142427 , 1245.04219288,\n",
       "       1267.6108643 , 1362.55770174,  982.86905066, 1304.88685631,\n",
       "       1032.34209331, 1238.52511276,  990.60974012, 1273.87486648,\n",
       "       1049.87263072,  995.01091069,  907.53356657,  965.73709914,\n",
       "       1108.58564202,  993.01873725, 1249.46241182,  901.9264183 ,\n",
       "       1244.47136836, 1011.92348483, 1045.99895072, 1110.37168874,\n",
       "       1062.76546661, 1114.94465986, 1037.01579593, 1021.40879552,\n",
       "       1020.65603096, 1091.98870526, 1367.94220652, 1014.4223029 ,\n",
       "       1104.62056133, 1276.92742332, 1270.71732067, 1075.44351439,\n",
       "       1064.17260146, 1053.27528208, 1074.47575166, 1033.15170343,\n",
       "       1246.90284734, 1024.81469175, 1004.61356033, 1155.34659139,\n",
       "       1024.82969791, 1107.38829356, 1013.11947769, 1289.85432281,\n",
       "       1337.62653014,  973.4516313 , 1046.93756392, 1374.58141744,\n",
       "       1221.79435336, 1047.51355809, 1079.77232278, 1302.22463484,\n",
       "       1042.86366901, 1314.61269438, 1333.21321059, 1014.18526235,\n",
       "       1376.85676149, 1260.12294232, 1318.70828864, 1278.56513804,\n",
       "       1233.72267788, 1110.51913168, 1096.24991174, 1097.28112675,\n",
       "       1066.27106011, 1135.68358708, 1333.62461597, 1032.87348458,\n",
       "       1021.93648774, 1032.55592993,  886.33043635,  990.02479936,\n",
       "       1112.4023785 ,  900.04875352, 1005.09546231, 1034.84234821,\n",
       "       1029.3715237 , 1069.4369636 , 1375.87705853, 1320.40014222,\n",
       "       1225.60415436, 1055.01101233, 1018.39784963, 1145.01547716,\n",
       "       1003.42066231, 1360.69496422, 1285.81374744, 1128.31082782,\n",
       "       1033.10283541, 1014.99892807, 1003.06440593, 1246.30420095,\n",
       "       1046.61418086, 1274.37950542, 1039.61132969, 1024.54443451,\n",
       "       1043.27263222, 1039.57770141, 1107.56894397, 1047.48914252,\n",
       "       1021.96256521, 1384.82449918, 1031.81417331, 1292.35684146,\n",
       "       1029.9604764 , 1307.82221958, 1362.02318552,  896.02244319,\n",
       "       1025.30314188, 1345.49846138, 1016.56538099,  995.89479117,\n",
       "       1020.58407136, 1258.77598503, 1022.81680594, 1238.80594313,\n",
       "       1288.78830736,  957.37626103, 1370.96616261, 1292.92723636,\n",
       "       1043.17113626, 1075.75389223, 1306.17618495, 1050.50565337,\n",
       "       1041.78548682, 1428.5787878 , 1375.52693   , 1224.63590604,\n",
       "        985.24815208, 1243.45301151, 1336.84688214, 1013.11076894,\n",
       "       1381.09623547, 1432.18318052, 1022.54897507,  982.34945673,\n",
       "       1063.78791732, 1129.81939901, 1308.56416013,  997.22158059,\n",
       "       1013.29203403, 1272.60679467, 1022.87888408, 1356.30308478,\n",
       "       1012.60169112, 1025.07015051,  926.85360495, 1093.49720164,\n",
       "       1267.2507084 , 1126.37305672, 1423.15321855, 1152.88594527,\n",
       "       1143.55478605, 1017.06330061, 1248.81308012, 1275.56089084,\n",
       "       1016.77913661, 1003.64464021, 1094.12323537, 1101.81254501,\n",
       "       1063.5960612 , 1063.93122848, 1041.35637531, 1378.03762995,\n",
       "       1035.34848538, 1027.55679169, 1080.61066065, 1267.97055976,\n",
       "       1017.6532983 , 1002.60765959, 1300.82407118, 1076.73871964,\n",
       "       1069.91175461, 1042.59926404, 1425.65828803, 1057.78964875,\n",
       "       1067.22053275, 1387.40262786, 1037.97652829, 1026.60742301,\n",
       "       1172.26030318, 1055.83476074, 1254.37191951, 1232.59605076,\n",
       "       1278.15947562, 1021.66314669, 1056.05716563,  972.25809027,\n",
       "       1031.18961086, 1105.65996636, 1017.0951994 , 1303.15815851,\n",
       "       1022.57930966, 1052.69853527, 1246.01444772, 1233.00023528,\n",
       "       1012.74518091,  999.50534076])"
      ]
     },
     "execution_count": 88,
     "metadata": {},
     "output_type": "execute_result"
    }
   ],
   "source": [
    "predicted = regressor.predict(X_test)\n",
    "predicted"
   ]
  },
  {
   "cell_type": "code",
   "execution_count": 89,
   "metadata": {},
   "outputs": [
    {
     "data": {
      "text/html": [
       "<div>\n",
       "<style scoped>\n",
       "    .dataframe tbody tr th:only-of-type {\n",
       "        vertical-align: middle;\n",
       "    }\n",
       "\n",
       "    .dataframe tbody tr th {\n",
       "        vertical-align: top;\n",
       "    }\n",
       "\n",
       "    .dataframe thead th {\n",
       "        text-align: right;\n",
       "    }\n",
       "</style>\n",
       "<table border=\"1\" class=\"dataframe\">\n",
       "  <thead>\n",
       "    <tr style=\"text-align: right;\">\n",
       "      <th></th>\n",
       "      <th>Actual</th>\n",
       "      <th>Predicted</th>\n",
       "    </tr>\n",
       "  </thead>\n",
       "  <tbody>\n",
       "    <tr>\n",
       "      <th>0</th>\n",
       "      <td>1051.35</td>\n",
       "      <td>1050.247713</td>\n",
       "    </tr>\n",
       "    <tr>\n",
       "      <th>1</th>\n",
       "      <td>1196.27</td>\n",
       "      <td>1195.008801</td>\n",
       "    </tr>\n",
       "    <tr>\n",
       "      <th>2</th>\n",
       "      <td>933.23</td>\n",
       "      <td>934.509990</td>\n",
       "    </tr>\n",
       "    <tr>\n",
       "      <th>3</th>\n",
       "      <td>1025.15</td>\n",
       "      <td>1025.807718</td>\n",
       "    </tr>\n",
       "    <tr>\n",
       "      <th>4</th>\n",
       "      <td>1177.03</td>\n",
       "      <td>1174.445921</td>\n",
       "    </tr>\n",
       "  </tbody>\n",
       "</table>\n",
       "</div>"
      ],
      "text/plain": [
       "    Actual    Predicted\n",
       "0  1051.35  1050.247713\n",
       "1  1196.27  1195.008801\n",
       "2   933.23   934.509990\n",
       "3  1025.15  1025.807718\n",
       "4  1177.03  1174.445921"
      ]
     },
     "execution_count": 89,
     "metadata": {},
     "output_type": "execute_result"
    }
   ],
   "source": [
    "data1 = pd.DataFrame({'Actual': y_test.flatten(), 'Predicted' : predicted.flatten()})\n",
    "data1.head()"
   ]
  },
  {
   "cell_type": "code",
   "execution_count": 30,
   "metadata": {},
   "outputs": [
    {
     "name": "stdout",
     "output_type": "stream",
     "text": [
      "Mean Absolute Error: 1.7977299178777053\n",
      "Mean Squared Error: 6.14892844097186\n",
      "Root Mean Squared Error: 2.479703296963542\n"
     ]
    }
   ],
   "source": [
    "import math\n",
    "print('Mean Absolute Error:', metrics.mean_absolute_error(y_test,predicted))\n",
    "print('Mean Squared Error:', metrics.mean_squared_error(y_test,predicted))\n",
    "print('Root Mean Squared Error:', math.sqrt(metrics.mean_squared_error(y_test,predicted)))"
   ]
  },
  {
   "cell_type": "code",
   "execution_count": 38,
   "metadata": {},
   "outputs": [],
   "source": [
    "X_train = df[['High','Low','Open','Net']].values\n",
    "y_train = df['Close'].values"
   ]
  },
  {
   "cell_type": "code",
   "execution_count": 65,
   "metadata": {},
   "outputs": [
    {
     "name": "stdout",
     "output_type": "stream",
     "text": [
      "            High  Low  Open  Net\n",
      "Date                            \n",
      "2024-04-23   NaN  NaN   NaN  NaN\n",
      "2024-04-24   NaN  NaN   NaN  NaN\n",
      "2024-04-25   NaN  NaN   NaN  NaN\n",
      "2024-04-26   NaN  NaN   NaN  NaN\n",
      "2024-04-27   NaN  NaN   NaN  NaN\n"
     ]
    }
   ],
   "source": [
    "last_data = df.iloc[-5:]\n",
    "last_date = last_data.iloc[-1]['Date']  # Get the last date in the last_data\n",
    "\n",
    "# Generate future dates for the next 5 days\n",
    "future_dates = pd.date_range(start=last_date + pd.DateOffset(days=1), periods=5, freq='D')\n",
    "\n",
    "# Create input features (High, Low, Open, Net) for the next 5 days\n",
    "x_predict = np.array([last_data[['High', 'Low', 'Open', 'Net']]])\n",
    "\n",
    "# Create a DataFrame to store the predicted values with corresponding dates\n",
    "future_df = pd.DataFrame({\n",
    "    'Date': future_dates,\n",
    "    'High': x_predict[0, :, 0],  # High prices for the next 5 days (all rows in x_predict, column 0)\n",
    "    'Low': x_predict[0, :, 1],   # Low prices for the next 5 days (all rows in x_predict, column 1)\n",
    "    'Open': x_predict[0, :, 2],  # Open prices for the next 5 days (all rows in x_predict, column 2)\n",
    "    'Net': x_predict[0, :, 3]    # Net prices for the next 5 days (all rows in x_predict, column 3)\n",
    "})\n",
    "\n",
    "# Set the 'Date' column as the index\n",
    "future_df.set_index('Date', inplace=True)\n",
    "\n",
    "# Display the DataFrame with future dates and input features\n",
    "print(future_df)"
   ]
  },
  {
   "cell_type": "code",
   "execution_count": 54,
   "metadata": {},
   "outputs": [],
   "source": [
    "csv_file_path = os.path.join(os.getcwd(), 'test.csv')\n",
    "truth_df = pd.read_csv(csv_file_path)\n",
    "truth_df = truth_df[::-1]\n",
    "y_true = np.array(truth_df['Close'])"
   ]
  },
  {
   "cell_type": "code",
   "execution_count": 66,
   "metadata": {},
   "outputs": [
    {
     "name": "stdout",
     "output_type": "stream",
     "text": [
      "[0.4100308  0.49818292 0.08883974 0.44378418]\n",
      "4.120145206300549\n"
     ]
    }
   ],
   "source": [
    "regressor = LinearRegression()\n",
    "regressor.fit(X_train, y_train)\n",
    "\n",
    "\n",
    "print(regressor.coef_) # weights of the features\n",
    "print(regressor.intercept_) # bias"
   ]
  },
  {
   "cell_type": "code",
   "execution_count": null,
   "metadata": {},
   "outputs": [],
   "source": [
    "predicted = regressor.predict(future_df)\n",
    "print(predicted)\n",
    "\n",
    "np.sqrt(metrics.mean_squared_error(y_true,predicted))"
   ]
  },
  {
   "cell_type": "code",
   "execution_count": 62,
   "metadata": {},
   "outputs": [
    {
     "name": "stdout",
     "output_type": "stream",
     "text": [
      "[-0.1920317  -0.04800175  1.24514231  1.08121988]\n",
      "-5.199669107476211\n",
      "[1070.59719675 1074.0429484  1078.5014922  1062.39530303 1068.28915205]\n"
     ]
    },
    {
     "name": "stderr",
     "output_type": "stream",
     "text": [
      "c:\\Users\\anaro\\miniconda3\\envs\\lseg\\Lib\\site-packages\\sklearn\\base.py:486: UserWarning: X has feature names, but LinearRegression was fitted without feature names\n",
      "  warnings.warn(\n"
     ]
    },
    {
     "data": {
      "text/plain": [
       "28.197746322204914"
      ]
     },
     "execution_count": 62,
     "metadata": {},
     "output_type": "execute_result"
    }
   ],
   "source": [
    "X_train_15 = X_train[-15:]\n",
    "y_train_15 = y_train[-15:]\n",
    "\n",
    "regressor = LinearRegression()\n",
    "regressor.fit(X_train_15, y_train_15)\n",
    "\n",
    "\n",
    "print(regressor.coef_) # weights of the features\n",
    "print(regressor.intercept_) # bias\n",
    "\n",
    "predicted = regressor.predict(future_df)\n",
    "print(predicted)\n",
    "\n",
    "np.sqrt(metrics.mean_squared_error(y_true,predicted))"
   ]
  },
  {
   "cell_type": "code",
   "execution_count": 63,
   "metadata": {},
   "outputs": [
    {
     "name": "stdout",
     "output_type": "stream",
     "text": [
      "[0.18531434 0.35084015 0.45635543 0.60106467]\n",
      "8.92547142816602\n",
      "[1072.37011779 1074.99887258 1079.13198606 1061.00581785 1068.16097762]\n"
     ]
    },
    {
     "name": "stderr",
     "output_type": "stream",
     "text": [
      "c:\\Users\\anaro\\miniconda3\\envs\\lseg\\Lib\\site-packages\\sklearn\\base.py:486: UserWarning: X has feature names, but LinearRegression was fitted without feature names\n",
      "  warnings.warn(\n"
     ]
    },
    {
     "data": {
      "text/plain": [
       "28.409822866403502"
      ]
     },
     "execution_count": 63,
     "metadata": {},
     "output_type": "execute_result"
    }
   ],
   "source": [
    "X_train_30 = X_train[-30:]\n",
    "y_train_30 = y_train[-30:]\n",
    "\n",
    "regressor = LinearRegression()\n",
    "regressor.fit(X_train_30, y_train_30)\n",
    "\n",
    "\n",
    "print(regressor.coef_) # weights of the features\n",
    "print(regressor.intercept_) # bias\n",
    "\n",
    "predicted = regressor.predict(future_df)\n",
    "print(predicted)\n",
    "\n",
    "np.sqrt(metrics.mean_squared_error(y_true,predicted))"
   ]
  },
  {
   "cell_type": "code",
   "execution_count": 64,
   "metadata": {},
   "outputs": [
    {
     "name": "stdout",
     "output_type": "stream",
     "text": [
      "[0.23709487 0.25067891 0.51241017 0.65818685]\n",
      "-0.32161291454031016\n",
      "[1072.46895657 1074.53461047 1079.05565557 1061.49363434 1067.84431157]\n"
     ]
    },
    {
     "name": "stderr",
     "output_type": "stream",
     "text": [
      "c:\\Users\\anaro\\miniconda3\\envs\\lseg\\Lib\\site-packages\\sklearn\\base.py:486: UserWarning: X has feature names, but LinearRegression was fitted without feature names\n",
      "  warnings.warn(\n"
     ]
    },
    {
     "data": {
      "text/plain": [
       "28.42314712120198"
      ]
     },
     "execution_count": 64,
     "metadata": {},
     "output_type": "execute_result"
    }
   ],
   "source": [
    "X_train_60 = X_train[-60:]\n",
    "y_train_60 = y_train[-60:]\n",
    "\n",
    "regressor = LinearRegression()\n",
    "regressor.fit(X_train_60, y_train_60)\n",
    "\n",
    "\n",
    "print(regressor.coef_) # weights of the features\n",
    "print(regressor.intercept_) # bias\n",
    "\n",
    "predicted = regressor.predict(future_df)\n",
    "print(predicted)\n",
    "\n",
    "np.sqrt(metrics.mean_squared_error(y_true,predicted))"
   ]
  }
 ],
 "metadata": {
  "kernelspec": {
   "display_name": "lseg",
   "language": "python",
   "name": "python3"
  },
  "language_info": {
   "codemirror_mode": {
    "name": "ipython",
    "version": 3
   },
   "file_extension": ".py",
   "mimetype": "text/x-python",
   "name": "python",
   "nbconvert_exporter": "python",
   "pygments_lexer": "ipython3",
   "version": "3.12.3"
  }
 },
 "nbformat": 4,
 "nbformat_minor": 2
}
