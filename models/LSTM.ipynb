{
 "cells": [
  {
   "cell_type": "code",
   "execution_count": 1,
   "id": "initial_id",
   "metadata": {
    "ExecuteTime": {
     "end_time": "2024-05-07T12:07:15.601879400Z",
     "start_time": "2024-05-07T12:07:08.690025800Z"
    },
    "collapsed": true
   },
   "outputs": [
    {
     "name": "stdout",
     "output_type": "stream",
     "text": [
      "    Exchange Date    Close    Net        RSI         EMAF       MACD  \\\n",
      "302    2023-02-23  1028.76   4.80  29.733511  1047.354304 -12.048748   \n",
      "301    2023-02-24  1011.73 -17.03  21.379820  1042.604397 -13.828487   \n",
      "300    2023-02-27  1008.77  -2.96  20.227437  1038.093144 -15.301406   \n",
      "299    2023-02-28  1004.17  -4.60  18.426688  1033.570058 -16.647978   \n",
      "298    2023-03-01  1028.69  24.52  47.495107  1032.919384 -15.557253   \n",
      "\n",
      "         MACDs  \n",
      "302  -8.731913  \n",
      "301  -9.751228  \n",
      "300 -10.861263  \n",
      "299 -12.018606  \n",
      "298 -12.726336  \n"
     ]
    }
   ],
   "source": [
    "import numpy as np\n",
    "import matplotlib.pyplot as plt\n",
    "import pandas as pd\n",
    "import pandas_ta as ta\n",
    "import os\n",
    "\n",
    "# read data from new csv file containing cleaned and formatted data\n",
    "csv_file_path = os.path.join(os.getcwd(), '../', 'data','new_filtered_data.csv')\n",
    "data = pd.read_csv(csv_file_path).iloc[::-1]\n",
    "\n",
    "# add more indicators to help train the model\n",
    "data['RSI'] = ta.rsi(data['Close'], length=7)\n",
    "data['EMAF'] = ta.ema(data['Close'], length=14)\n",
    "data['MACD'] = ta.macd(data['Close'])['MACD_12_26_9']\n",
    "data['MACDs'] = ta.macd(data['Close'])['MACDs_12_26_9']\n",
    "\n",
    "# remove columns with NaN values\n",
    "data.dropna(inplace=True)\n",
    "print(data.head())"
   ]
  },
  {
   "cell_type": "markdown",
   "id": "3219d6b9f6ad574d",
   "metadata": {
    "collapsed": false
   },
   "source": [
    "## Process data "
   ]
  },
  {
   "cell_type": "code",
   "execution_count": 2,
   "id": "554a30c76395cd5a",
   "metadata": {
    "ExecuteTime": {
     "end_time": "2024-05-07T12:07:15.610121800Z",
     "start_time": "2024-05-07T12:07:15.602902900Z"
    },
    "collapsed": false
   },
   "outputs": [
    {
     "name": "stdout",
     "output_type": "stream",
     "text": [
      "       Close    Net        RSI         EMAF       MACD      MACDs\n",
      "302  1028.76   4.80  29.733511  1047.354304 -12.048748  -8.731913\n",
      "301  1011.73 -17.03  21.379820  1042.604397 -13.828487  -9.751228\n",
      "300  1008.77  -2.96  20.227437  1038.093144 -15.301406 -10.861263\n",
      "299  1004.17  -4.60  18.426688  1033.570058 -16.647978 -12.018606\n",
      "298  1028.69  24.52  47.495107  1032.919384 -15.557253 -12.726336\n"
     ]
    }
   ],
   "source": [
    "data.drop(['Exchange Date'], axis=1, inplace=True)\n",
    "print(data.head())"
   ]
  },
  {
   "cell_type": "markdown",
   "id": "4a0377f4f09e950c",
   "metadata": {
    "collapsed": false
   },
   "source": [
    "## Scale Data"
   ]
  },
  {
   "cell_type": "code",
   "execution_count": 3,
   "id": "80a597db362adbde",
   "metadata": {
    "ExecuteTime": {
     "end_time": "2024-05-07T12:07:27.310616900Z",
     "start_time": "2024-05-07T12:07:21.250175800Z"
    },
    "collapsed": false
   },
   "outputs": [
    {
     "name": "stdout",
     "output_type": "stream",
     "text": [
      "       Close    Net        RSI         EMAF       MACD      MACDs\n",
      "302  1028.76   4.80  29.733511  1047.354304 -12.048748  -8.731913\n",
      "301  1011.73 -17.03  21.379820  1042.604397 -13.828487  -9.751228\n",
      "300  1008.77  -2.96  20.227437  1038.093144 -15.301406 -10.861263\n",
      "299  1004.17  -4.60  18.426688  1033.570058 -16.647978 -12.018606\n",
      "298  1028.69  24.52  47.495107  1032.919384 -15.557253 -12.726336\n",
      "\n",
      "[[0.44115661 0.58255715 0.21658939 0.57022608 0.18935197 0.25956242]\n",
      " [0.33660753 0.12044877 0.10417235 0.53494044 0.13359646 0.22411957]\n",
      " [0.31843575 0.41828959 0.08866454 0.50142769 0.087453   0.18552224]\n",
      " [0.29019584 0.38357324 0.06443156 0.46782704 0.04526771 0.14527998]\n",
      " [0.44072687 1.         0.4556102  0.46299337 0.07943784 0.12067134]]\n"
     ]
    }
   ],
   "source": [
    "from sklearn.preprocessing import MinMaxScaler\n",
    "\n",
    "# Scale data in range 0,1 as it is easier for the model to understand\n",
    "print(data.head(), end='\\n\\n')\n",
    "scaler = MinMaxScaler(feature_range=(0,1))\n",
    "data_set_scaled = scaler.fit_transform(data)\n",
    "\n",
    "data_set_scaled = np.array(data_set_scaled)\n",
    "print(data_set_scaled[:5])"
   ]
  },
  {
   "cell_type": "markdown",
   "id": "55a0493bad9b3024",
   "metadata": {
    "collapsed": false
   },
   "source": [
    "## Separating data in batches"
   ]
  },
  {
   "cell_type": "markdown",
   "id": "f60cb0ec8e129c1c",
   "metadata": {
    "collapsed": false
   },
   "source": [
    "Here X vector contains 28 values of the last 28 close values, and Y contains the next true 5 day close values. The model will train on the X and Y "
   ]
  },
  {
   "cell_type": "code",
   "execution_count": 4,
   "id": "1dfc174186a64c8c",
   "metadata": {
    "ExecuteTime": {
     "end_time": "2024-05-07T12:07:29.777368100Z",
     "start_time": "2024-05-07T12:07:29.766368400Z"
    },
    "collapsed": false
   },
   "outputs": [],
   "source": [
    "X = []\n",
    "# how many data points to look behind at before predicting\n",
    "# 28 because its the average number of days in a month - can be modified\n",
    "lookback = 28\n",
    "\n",
    "# go trough every column \n",
    "for j in range(len(data_set_scaled[0])):\n",
    "    X.append([])\n",
    "    # go trough every data \n",
    "    for i in range(lookback, data_set_scaled.shape[0] - 4):\n",
    "        X[j].append(data_set_scaled[i-lookback:i, j])\n",
    "        \n",
    "Y = []\n",
    "for i in range(lookback, data_set_scaled.shape[0] - 4):\n",
    "    Y.append(data_set_scaled[i:i+5, 1])\n",
    "\n",
    "X = np.moveaxis(X, 0, 2)\n",
    "Y = np.array(Y)\n",
    "Y = np.reshape(Y, (len(Y), 5))"
   ]
  },
  {
   "cell_type": "code",
   "execution_count": 5,
   "id": "907184b6a2d0d730",
   "metadata": {
    "ExecuteTime": {
     "end_time": "2024-05-07T12:07:30.420747400Z",
     "start_time": "2024-05-07T12:07:30.415232700Z"
    },
    "collapsed": false
   },
   "outputs": [
    {
     "name": "stdout",
     "output_type": "stream",
     "text": [
      "(271, 28, 6)\n",
      "(271, 5)\n"
     ]
    }
   ],
   "source": [
    "print(X.shape)\n",
    "print(Y.shape)"
   ]
  },
  {
   "cell_type": "markdown",
   "id": "579d140362c339b8",
   "metadata": {
    "collapsed": false
   },
   "source": [
    "## Split data into train test sets"
   ]
  },
  {
   "cell_type": "markdown",
   "id": "f6f3b05b0a3eed1d",
   "metadata": {
    "collapsed": false
   },
   "source": [
    "We chose to go with a 80% train and 20% split"
   ]
  },
  {
   "cell_type": "code",
   "execution_count": 6,
   "id": "31a813bcc9fd3a9b",
   "metadata": {
    "ExecuteTime": {
     "end_time": "2024-05-07T12:07:32.137175600Z",
     "start_time": "2024-05-07T12:07:32.134650600Z"
    },
    "collapsed": false
   },
   "outputs": [
    {
     "name": "stdout",
     "output_type": "stream",
     "text": [
      "(216, 28, 6)\n",
      "(55, 28, 6)\n",
      "(216, 5)\n",
      "(55, 5)\n"
     ]
    }
   ],
   "source": [
    "split = int(len(X) * 0.8)\n",
    "X_train , X_test = X[:split], X[split:]\n",
    "Y_train , Y_test = Y[:split], Y[split:]\n",
    "\n",
    "print(X_train.shape)\n",
    "print(X_test.shape)\n",
    "print(Y_train.shape)\n",
    "print(Y_test.shape)"
   ]
  },
  {
   "cell_type": "markdown",
   "id": "251bd46d374dfecb",
   "metadata": {
    "collapsed": false
   },
   "source": [
    "## LSTM Model"
   ]
  },
  {
   "cell_type": "code",
   "execution_count": 7,
   "id": "3a4de84ebbbe93d6",
   "metadata": {
    "ExecuteTime": {
     "end_time": "2024-05-07T12:07:57.246101100Z",
     "start_time": "2024-05-07T12:07:33.244692300Z"
    },
    "collapsed": false
   },
   "outputs": [
    {
     "name": "stdout",
     "output_type": "stream",
     "text": [
      "2.16.1\n",
      "[PhysicalDevice(name='/physical_device:CPU:0', device_type='CPU')]\n",
      "3.3.3\n"
     ]
    }
   ],
   "source": [
    "import tensorflow as tf\n",
    "from tensorflow import keras\n",
    "print(tf.__version__)\n",
    "print(tf.config.list_physical_devices('CPU'))\n",
    "print(keras.__version__)"
   ]
  },
  {
   "cell_type": "code",
   "execution_count": 29,
   "id": "470b523b5c848590",
   "metadata": {
    "ExecuteTime": {
     "end_time": "2024-05-07T12:10:13.270848700Z",
     "start_time": "2024-05-07T12:10:10.037341200Z"
    },
    "collapsed": false
   },
   "outputs": [
    {
     "name": "stdout",
     "output_type": "stream",
     "text": [
      "Epoch 1/10\n",
      "\u001b[1m6/6\u001b[0m \u001b[32m━━━━━━━━━━━━━━━━━━━━\u001b[0m\u001b[37m\u001b[0m \u001b[1m2s\u001b[0m 57ms/step - loss: 0.2172 - val_loss: 0.0412\n",
      "Epoch 2/10\n",
      "\u001b[1m6/6\u001b[0m \u001b[32m━━━━━━━━━━━━━━━━━━━━\u001b[0m\u001b[37m\u001b[0m \u001b[1m0s\u001b[0m 14ms/step - loss: 0.0427 - val_loss: 0.0917\n",
      "Epoch 3/10\n",
      "\u001b[1m6/6\u001b[0m \u001b[32m━━━━━━━━━━━━━━━━━━━━\u001b[0m\u001b[37m\u001b[0m \u001b[1m0s\u001b[0m 13ms/step - loss: 0.0396 - val_loss: 0.0401\n",
      "Epoch 4/10\n",
      "\u001b[1m6/6\u001b[0m \u001b[32m━━━━━━━━━━━━━━━━━━━━\u001b[0m\u001b[37m\u001b[0m \u001b[1m0s\u001b[0m 13ms/step - loss: 0.0339 - val_loss: 0.0355\n",
      "Epoch 5/10\n",
      "\u001b[1m6/6\u001b[0m \u001b[32m━━━━━━━━━━━━━━━━━━━━\u001b[0m\u001b[37m\u001b[0m \u001b[1m0s\u001b[0m 14ms/step - loss: 0.0313 - val_loss: 0.0443\n",
      "Epoch 6/10\n",
      "\u001b[1m6/6\u001b[0m \u001b[32m━━━━━━━━━━━━━━━━━━━━\u001b[0m\u001b[37m\u001b[0m \u001b[1m0s\u001b[0m 14ms/step - loss: 0.0304 - val_loss: 0.0358\n",
      "Epoch 7/10\n",
      "\u001b[1m6/6\u001b[0m \u001b[32m━━━━━━━━━━━━━━━━━━━━\u001b[0m\u001b[37m\u001b[0m \u001b[1m0s\u001b[0m 14ms/step - loss: 0.0273 - val_loss: 0.0299\n",
      "Epoch 8/10\n",
      "\u001b[1m6/6\u001b[0m \u001b[32m━━━━━━━━━━━━━━━━━━━━\u001b[0m\u001b[37m\u001b[0m \u001b[1m0s\u001b[0m 14ms/step - loss: 0.0279 - val_loss: 0.0297\n",
      "Epoch 9/10\n",
      "\u001b[1m6/6\u001b[0m \u001b[32m━━━━━━━━━━━━━━━━━━━━\u001b[0m\u001b[37m\u001b[0m \u001b[1m0s\u001b[0m 16ms/step - loss: 0.0280 - val_loss: 0.0333\n",
      "Epoch 10/10\n",
      "\u001b[1m6/6\u001b[0m \u001b[32m━━━━━━━━━━━━━━━━━━━━\u001b[0m\u001b[37m\u001b[0m \u001b[1m0s\u001b[0m 14ms/step - loss: 0.0272 - val_loss: 0.0327\n"
     ]
    },
    {
     "data": {
      "text/plain": [
       "<keras.src.callbacks.history.History at 0x1bfd3fdb250>"
      ]
     },
     "execution_count": 29,
     "metadata": {},
     "output_type": "execute_result"
    }
   ],
   "source": [
    "from keras.src.layers import BatchNormalization\n",
    "from keras.models import Sequential\n",
    "from keras.layers import LSTM\n",
    "from keras.layers import Dropout\n",
    "from keras.layers import Dense\n",
    "from keras.layers import TimeDistributed\n",
    "\n",
    "from keras import optimizers\n",
    "from keras.callbacks import History\n",
    "from keras.models import Model\n",
    "from keras.layers import Dense, Dropout, LSTM, Input, Activation, concatenate\n",
    "\n",
    "# the first input layer of the same size as the vectors in X\n",
    "lstm_input = Input(shape=(lookback, len(data_set_scaled[0])), name='lstm_input')\n",
    "\n",
    "# first hidden layer of 50 units\n",
    "inputs = LSTM(50, name='first_layer', return_sequences=True)(lstm_input)\n",
    "\n",
    "# second hidden layer of 50 units\n",
    "inputs = LSTM(50, name='second_layer', return_sequences=False)(inputs)\n",
    "\n",
    "# first layer to squish data in new dimension\n",
    "inputs = Dense(25, name='third_layer')(inputs)\n",
    "\n",
    "# second layer to squish data to output format\n",
    "inputs = Dense(5, name='dense_layer')(inputs)\n",
    "\n",
    "# activation funciton used: Tanh\n",
    "output = Activation(keras.activations.tanh, name='output')(inputs)\n",
    "model = Model(inputs=lstm_input, outputs=output)\n",
    "\n",
    "# added Adam optimizer for the model\n",
    "adam = optimizers.Adam()\n",
    "model.compile(optimizer=adam, loss='mse')\n",
    "\n",
    "# if you want to calculate on the train/test set run the first commented fit function\n",
    "# model.fit(x=X_train, y=Y_train, batch_size=32, epochs=10, shuffle=True, validation_split=0.1)\n",
    "\n",
    "# else this is for the last 5 days, as its trained on the whole dataset\n",
    "model.fit(x=X, y=Y, batch_size=48, epochs=10, validation_split=0.1)"
   ]
  },
  {
   "cell_type": "markdown",
   "id": "b9945f4a1f649b81",
   "metadata": {
    "collapsed": false
   },
   "source": [
    "## Overall RMSE "
   ]
  },
  {
   "cell_type": "markdown",
   "id": "89c689404bde1f03",
   "metadata": {
    "collapsed": false
   },
   "source": [
    "This cell is used for calculating RMSE on train/test data sets"
   ]
  },
  {
   "cell_type": "code",
   "execution_count": 422,
   "id": "f8558803d429eb1d",
   "metadata": {
    "ExecuteTime": {
     "end_time": "2024-05-07T09:53:28.791340100Z",
     "start_time": "2024-05-07T09:53:28.332230600Z"
    },
    "collapsed": false
   },
   "outputs": [
    {
     "name": "stdout",
     "output_type": "stream",
     "text": [
      "\u001b[1m2/2\u001b[0m \u001b[32m━━━━━━━━━━━━━━━━━━━━\u001b[0m\u001b[37m\u001b[0m \u001b[1m0s\u001b[0m 199ms/step\n",
      "0.16211152755372138\n"
     ]
    }
   ],
   "source": [
    "from sklearn.metrics import root_mean_squared_error\n",
    "\n",
    "prediction_batch = model.predict(X_test)\n",
    "rmse = root_mean_squared_error(Y_test, prediction_batch)\n",
    "\n",
    "print(rmse)"
   ]
  },
  {
   "cell_type": "markdown",
   "id": "3519c2e39c03004c",
   "metadata": {
    "collapsed": false
   },
   "source": [
    "## Last 5 Days Prediction"
   ]
  },
  {
   "cell_type": "markdown",
   "id": "a4080a6e3670e39",
   "metadata": {
    "collapsed": false
   },
   "source": [
    "This cell is used for calculating RMSE on the last 5 days\n",
    "This block retrieves the next 5 days from our last data point"
   ]
  },
  {
   "cell_type": "code",
   "execution_count": 30,
   "id": "6127bce13c2981a5",
   "metadata": {
    "ExecuteTime": {
     "end_time": "2024-05-07T12:10:16.531146100Z",
     "start_time": "2024-05-07T12:10:16.282159300Z"
    },
    "collapsed": false
   },
   "outputs": [
    {
     "name": "stdout",
     "output_type": "stream",
     "text": [
      "WARNING:tensorflow:5 out of the last 5 calls to <function TensorFlowTrainer.make_predict_function.<locals>.one_step_on_data_distributed at 0x000001BFD67467A0> triggered tf.function retracing. Tracing is expensive and the excessive number of tracings could be due to (1) creating @tf.function repeatedly in a loop, (2) passing tensors with different shapes, (3) passing Python objects instead of tensors. For (1), please define your @tf.function outside of the loop. For (2), @tf.function has reduce_retracing=True option that can avoid unnecessary retracing. For (3), please refer to https://www.tensorflow.org/guide/function#controlling_retracing and https://www.tensorflow.org/api_docs/python/tf/function for  more details.\n",
      "\u001b[1m1/1\u001b[0m \u001b[32m━━━━━━━━━━━━━━━━━━━━\u001b[0m\u001b[37m\u001b[0m \u001b[1m0s\u001b[0m 208ms/step\n",
      "[[0.5278101  0.48488045 0.5217415  0.53791183 0.51199824]]\n"
     ]
    }
   ],
   "source": [
    "test = np.array([X[-1]]) \n",
    "prediction = model.predict(test)\n",
    "\n",
    "print(prediction)"
   ]
  },
  {
   "cell_type": "markdown",
   "id": "8f21ecd077d67018",
   "metadata": {
    "collapsed": false
   },
   "source": [
    "Here we scale out data back up to a more human understandable format (the original format)"
   ]
  },
  {
   "cell_type": "code",
   "execution_count": 31,
   "id": "626725f32f917d06",
   "metadata": {
    "ExecuteTime": {
     "end_time": "2024-05-07T12:10:17.797232500Z",
     "start_time": "2024-05-07T12:10:17.787203600Z"
    },
    "collapsed": false
   },
   "outputs": [
    {
     "name": "stdout",
     "output_type": "stream",
     "text": [
      "[[0.5278101  0.48488045 0.5217415  0.53791183 0.51199824]]\n",
      "[1093.9937489700317, 1094.1795013046265, 1096.106570210457, 1098.7975251698497, 1100.2643218469623]\n"
     ]
    }
   ],
   "source": [
    "# prediction = [[0.98643256, 1., 0.98103014, 0.90066916, 0.82804346]]\n",
    "scaled_prediction = scaler.inverse_transform([[test[-1][-1][0], prediction[0][0], 0, 0, 0, 0],\n",
    "                          [0, prediction[0][1], 0, 0, 0, 0],\n",
    "                          [0, prediction[0][2], 0, 0, 0, 0],\n",
    "                          [0, prediction[0][3], 0, 0, 0, 0],\n",
    "                          [0, prediction[0][4], 0, 0, 0, 0]])\n",
    "\n",
    "last_predicted = scaled_prediction[0][0]\n",
    "prediction_set = []\n",
    "for i in range(5):\n",
    "    prediction_set.append(last_predicted + scaled_prediction[i][1])\n",
    "    last_predicted = prediction_set[-1]\n",
    "\n",
    "print(prediction)\n",
    "print(prediction_set)"
   ]
  },
  {
   "cell_type": "markdown",
   "id": "be9b89d9e6ddbe44",
   "metadata": {
    "collapsed": false
   },
   "source": [
    "Plot of the test data (the actual correct 5 days) - red vs our prediction - green.\n",
    "And calculation of RMSE"
   ]
  },
  {
   "cell_type": "code",
   "execution_count": 32,
   "id": "bc863b9e1a8b2875",
   "metadata": {
    "ExecuteTime": {
     "end_time": "2024-05-07T12:10:19.074249900Z",
     "start_time": "2024-05-07T12:10:18.950779700Z"
    },
    "collapsed": false
   },
   "outputs": [
    {
     "data": {
      "image/png": "[encoded data removed]",
      "text/plain": [
       "<Figure size 1500x600 with 1 Axes>"
      ]
     },
     "metadata": {},
     "output_type": "display_data"
    },
    {
     "name": "stdout",
     "output_type": "stream",
     "text": [
      "8.591594693660635\n"
     ]
    }
   ],
   "source": [
    "from sklearn.metrics import root_mean_squared_error\n",
    "\n",
    "plt.figure(figsize=(15,6))\n",
    "test_set = [1112.34, 1102.34, 1088.62, 1091.21, 1077.11][::-1]\n",
    "\n",
    "plt.plot(test_set, color='red', label='test')\n",
    "plt.plot(prediction_set, color='green', label='prediction')\n",
    "plt.legend()\n",
    "plt.show()\n",
    "\n",
    "print(root_mean_squared_error([prediction_set], [test_set]))"
   ]
  }
 ],
 "metadata": {
  "kernelspec": {
   "display_name": "Python 3",
   "language": "python",
   "name": "python3"
  },
  "language_info": {
   "codemirror_mode": {
    "name": "ipython",
    "version": 2
   },
   "file_extension": ".py",
   "mimetype": "text/x-python",
   "name": "python",
   "nbconvert_exporter": "python",
   "pygments_lexer": "ipython2",
   "version": "2.7.6"
  }
 },
 "nbformat": 4,
 "nbformat_minor": 5
}
