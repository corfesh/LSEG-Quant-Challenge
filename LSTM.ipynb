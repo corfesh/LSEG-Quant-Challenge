{
 "cells": [
  {
   "cell_type": "code",
   "execution_count": 297,
   "id": "initial_id",
   "metadata": {
    "collapsed": true,
    "ExecuteTime": {
     "end_time": "2024-05-06T23:51:22.069687900Z",
     "start_time": "2024-05-06T23:51:22.059034Z"
    }
   },
   "outputs": [
    {
     "name": "stdout",
     "output_type": "stream",
     "text": [
      "    Exchange Date    Close    Net        RSI         EMAF\n",
      "322    2023-01-26  1093.83  10.70  87.052956  1073.585000\n",
      "321    2023-01-27  1091.24  -2.59  78.272460  1075.939000\n",
      "320    2023-01-30  1085.48  -5.76  62.037261  1077.211133\n",
      "319    2023-01-31  1074.49 -10.99  42.441524  1076.848316\n",
      "318    2023-02-01  1085.29  10.80  57.744220  1077.973873\n"
     ]
    }
   ],
   "source": [
    "import numpy as np\n",
    "import matplotlib.pyplot as plt\n",
    "import pandas as pd\n",
    "import pandas_ta as ta\n",
    "import os\n",
    "\n",
    "csv_file_path = os.path.join(os.getcwd(), 'new_filtered_data.csv')\n",
    "data = pd.read_csv(csv_file_path).iloc[::-1]\n",
    "data['RSI'] = ta.rsi(data['Close'], length=7)\n",
    "data['EMAF'] = ta.ema(data['Close'], length=14)\n",
    "\n",
    "data.dropna(inplace=True)\n",
    "print(data.head())"
   ]
  },
  {
   "cell_type": "markdown",
   "source": [
    "## Process data "
   ],
   "metadata": {
    "collapsed": false
   },
   "id": "3219d6b9f6ad574d"
  },
  {
   "cell_type": "code",
   "execution_count": 298,
   "outputs": [
    {
     "name": "stdout",
     "output_type": "stream",
     "text": [
      "       Close    Net        RSI         EMAF\n",
      "322  1093.83  10.70  87.052956  1073.585000\n",
      "321  1091.24  -2.59  78.272460  1075.939000\n",
      "320  1085.48  -5.76  62.037261  1077.211133\n",
      "319  1074.49 -10.99  42.441524  1076.848316\n",
      "318  1085.29  10.80  57.744220  1077.973873\n"
     ]
    }
   ],
   "source": [
    "data.dropna(inplace=True)\n",
    "data.drop(['Exchange Date'], axis=1, inplace=True)\n",
    "# data.set_index('Exchange Date', inplace=True)\n",
    "print(data.head())"
   ],
   "metadata": {
    "collapsed": false,
    "ExecuteTime": {
     "end_time": "2024-05-06T23:51:23.563140700Z",
     "start_time": "2024-05-06T23:51:23.554415900Z"
    }
   },
   "id": "554a30c76395cd5a"
  },
  {
   "cell_type": "markdown",
   "source": [
    "## Scale Data"
   ],
   "metadata": {
    "collapsed": false
   },
   "id": "4a0377f4f09e950c"
  },
  {
   "cell_type": "code",
   "execution_count": 299,
   "outputs": [
    {
     "name": "stdout",
     "output_type": "stream",
     "text": [
      "       Close    Net        RSI         EMAF\n",
      "322  1093.83  10.70  87.052956  1073.585000\n",
      "321  1091.24  -2.59  78.272460  1075.939000\n",
      "320  1085.48  -5.76  62.037261  1077.211133\n",
      "319  1074.49 -10.99  42.441524  1076.848316\n",
      "318  1085.29  10.80  57.744220  1077.973873\n",
      "\n",
      "[[0.84062865 0.70763698 0.98794689 0.76508609]\n",
      " [0.82472834 0.42648614 0.86978627 0.78257325]\n",
      " [0.78936706 0.35942458 0.65130643 0.79202355]\n",
      " [0.72189821 0.24878358 0.38760327 0.78932828]\n",
      " [0.78820063 0.70975249 0.59353426 0.79768972]\n",
      " [0.79378722 0.50052888 0.60801725 0.80583764]\n",
      " [0.74424458 0.31055638 0.44293484 0.80490589]\n",
      " [0.60457978 0.         0.18805249 0.78156465]\n",
      " [0.60869298 0.49545166 0.20148207 0.76199921]\n",
      " [0.63895881 0.58557224 0.30314783 0.74992562]\n",
      " [0.66443612 0.56907129 0.38402091 0.74357239]\n",
      " [0.59438885 0.23989846 0.25238102 0.72676473]\n",
      " [0.6078949  0.52781891 0.29749547 0.71437718]\n",
      " [0.60623734 0.4755659  0.29410419 0.70337387]\n",
      " [0.55159924 0.29299767 0.19222685 0.68502227]\n",
      " [0.58192645 0.5857838  0.30993831 0.67401059]\n",
      " [0.51826386 0.26189972 0.19687438 0.65419572]\n",
      " [0.55153785 0.59593823 0.31520402 0.6423913 ]\n",
      " [0.48535822 0.25322615 0.20475589 0.62148329]\n",
      " [0.41168887 0.22741697 0.11802549 0.59147709]]\n"
     ]
    }
   ],
   "source": [
    "from sklearn.preprocessing import MinMaxScaler\n",
    "\n",
    "print(data.head(), end='\\n\\n')\n",
    "scaler = MinMaxScaler(feature_range=(0,1))\n",
    "data_set_scaled = scaler.fit_transform(data)\n",
    "\n",
    "data_set_scaled = np.array(data_set_scaled)\n",
    "print(data_set_scaled[:20])"
   ],
   "metadata": {
    "collapsed": false,
    "ExecuteTime": {
     "end_time": "2024-05-06T23:51:25.799546800Z",
     "start_time": "2024-05-06T23:51:25.793748Z"
    }
   },
   "id": "80a597db362adbde"
  },
  {
   "cell_type": "markdown",
   "source": [
    "## Separating data in batches"
   ],
   "metadata": {
    "collapsed": false
   },
   "id": "55a0493bad9b3024"
  },
  {
   "cell_type": "code",
   "execution_count": 388,
   "outputs": [],
   "source": [
    "X = []\n",
    "# how many data points to look behind at before predicting\n",
    "# 28 because its the average number of days in a month - can be modified\n",
    "lookback = 28\n",
    "\n",
    "# go trough every column \n",
    "\n",
    "for j in range(len(data_set_scaled[0])):\n",
    "    X.append([])\n",
    "    # go trough every data \n",
    "    for i in range(lookback, data_set_scaled.shape[0] - 4):\n",
    "        X[j].append(data_set_scaled[i-lookback:i, j])\n",
    "        \n",
    "Y = []\n",
    "for i in range(lookback, data_set_scaled.shape[0] - 4):\n",
    "    Y.append(data_set_scaled[i:i+5, -3])\n",
    "\n",
    "X = np.moveaxis(X, 0, 2)\n",
    "# Y = np.array(data_set_scaled[lookback:, -1])\n",
    "Y = np.array(Y)\n",
    "Y = np.reshape(Y, (len(Y), 5))\n",
    "\n",
    "# print(X[:5])\n",
    "# print(Y[:1])"
   ],
   "metadata": {
    "collapsed": false,
    "ExecuteTime": {
     "end_time": "2024-05-07T00:33:23.844120500Z",
     "start_time": "2024-05-07T00:33:23.836496700Z"
    }
   },
   "id": "1dfc174186a64c8c"
  },
  {
   "cell_type": "code",
   "execution_count": 389,
   "outputs": [
    {
     "name": "stdout",
     "output_type": "stream",
     "text": [
      "(291, 28, 4)\n",
      "(291, 5)\n"
     ]
    }
   ],
   "source": [
    "print(X.shape)\n",
    "print(Y.shape)"
   ],
   "metadata": {
    "collapsed": false,
    "ExecuteTime": {
     "end_time": "2024-05-07T00:33:24.272392200Z",
     "start_time": "2024-05-07T00:33:24.267771Z"
    }
   },
   "id": "907184b6a2d0d730"
  },
  {
   "cell_type": "markdown",
   "source": [
    "## Split data into train test sets"
   ],
   "metadata": {
    "collapsed": false
   },
   "id": "579d140362c339b8"
  },
  {
   "cell_type": "code",
   "execution_count": 390,
   "outputs": [
    {
     "name": "stdout",
     "output_type": "stream",
     "text": [
      "(232, 28, 4)\n",
      "(59, 28, 4)\n",
      "(232, 5)\n",
      "(59, 5)\n"
     ]
    }
   ],
   "source": [
    "split = int(len(X) * 0.8)\n",
    "X_train , X_test = X[:split], X[split:]\n",
    "Y_train , Y_test = Y[:split], Y[split:]\n",
    "\n",
    "print(X_train.shape)\n",
    "print(X_test.shape)\n",
    "print(Y_train.shape)\n",
    "print(Y_test.shape)"
   ],
   "metadata": {
    "collapsed": false,
    "ExecuteTime": {
     "end_time": "2024-05-07T00:33:25.988923700Z",
     "start_time": "2024-05-07T00:33:25.985883700Z"
    }
   },
   "id": "31a813bcc9fd3a9b"
  },
  {
   "cell_type": "markdown",
   "source": [
    "## LSTM Model"
   ],
   "metadata": {
    "collapsed": false
   },
   "id": "251bd46d374dfecb"
  },
  {
   "cell_type": "code",
   "execution_count": 391,
   "outputs": [
    {
     "name": "stdout",
     "output_type": "stream",
     "text": [
      "2.16.1\n",
      "[PhysicalDevice(name='/physical_device:CPU:0', device_type='CPU')]\n",
      "3.3.3\n"
     ]
    }
   ],
   "source": [
    "import tensorflow as tf\n",
    "from tensorflow import keras\n",
    "print(tf.__version__)\n",
    "print(tf.config.list_physical_devices('CPU'))\n",
    "print(keras.__version__)"
   ],
   "metadata": {
    "collapsed": false,
    "ExecuteTime": {
     "end_time": "2024-05-07T00:33:27.512524Z",
     "start_time": "2024-05-07T00:33:27.507581900Z"
    }
   },
   "id": "3a4de84ebbbe93d6"
  },
  {
   "cell_type": "code",
   "execution_count": 435,
   "outputs": [
    {
     "name": "stdout",
     "output_type": "stream",
     "text": [
      "Epoch 1/20\n",
      "\u001B[1m18/18\u001B[0m \u001B[32m━━━━━━━━━━━━━━━━━━━━\u001B[0m\u001B[37m\u001B[0m \u001B[1m7s\u001B[0m 79ms/step - loss: 0.1006 - val_loss: 0.0299\n",
      "Epoch 2/20\n",
      "\u001B[1m18/18\u001B[0m \u001B[32m━━━━━━━━━━━━━━━━━━━━\u001B[0m\u001B[37m\u001B[0m \u001B[1m1s\u001B[0m 53ms/step - loss: 0.0279 - val_loss: 0.0308\n",
      "Epoch 3/20\n",
      "\u001B[1m18/18\u001B[0m \u001B[32m━━━━━━━━━━━━━━━━━━━━\u001B[0m\u001B[37m\u001B[0m \u001B[1m1s\u001B[0m 54ms/step - loss: 0.0277 - val_loss: 0.0281\n",
      "Epoch 4/20\n",
      "\u001B[1m18/18\u001B[0m \u001B[32m━━━━━━━━━━━━━━━━━━━━\u001B[0m\u001B[37m\u001B[0m \u001B[1m1s\u001B[0m 52ms/step - loss: 0.0266 - val_loss: 0.0302\n",
      "Epoch 5/20\n",
      "\u001B[1m18/18\u001B[0m \u001B[32m━━━━━━━━━━━━━━━━━━━━\u001B[0m\u001B[37m\u001B[0m \u001B[1m1s\u001B[0m 55ms/step - loss: 0.0280 - val_loss: 0.0290\n",
      "Epoch 6/20\n",
      "\u001B[1m18/18\u001B[0m \u001B[32m━━━━━━━━━━━━━━━━━━━━\u001B[0m\u001B[37m\u001B[0m \u001B[1m1s\u001B[0m 53ms/step - loss: 0.0270 - val_loss: 0.0317\n",
      "Epoch 7/20\n",
      "\u001B[1m18/18\u001B[0m \u001B[32m━━━━━━━━━━━━━━━━━━━━\u001B[0m\u001B[37m\u001B[0m \u001B[1m1s\u001B[0m 52ms/step - loss: 0.0296 - val_loss: 0.0295\n",
      "Epoch 8/20\n",
      "\u001B[1m18/18\u001B[0m \u001B[32m━━━━━━━━━━━━━━━━━━━━\u001B[0m\u001B[37m\u001B[0m \u001B[1m1s\u001B[0m 53ms/step - loss: 0.0258 - val_loss: 0.0289\n",
      "Epoch 9/20\n",
      "\u001B[1m18/18\u001B[0m \u001B[32m━━━━━━━━━━━━━━━━━━━━\u001B[0m\u001B[37m\u001B[0m \u001B[1m1s\u001B[0m 53ms/step - loss: 0.0287 - val_loss: 0.0293\n",
      "Epoch 10/20\n",
      "\u001B[1m18/18\u001B[0m \u001B[32m━━━━━━━━━━━━━━━━━━━━\u001B[0m\u001B[37m\u001B[0m \u001B[1m1s\u001B[0m 53ms/step - loss: 0.0277 - val_loss: 0.0285\n",
      "Epoch 11/20\n",
      "\u001B[1m18/18\u001B[0m \u001B[32m━━━━━━━━━━━━━━━━━━━━\u001B[0m\u001B[37m\u001B[0m \u001B[1m1s\u001B[0m 53ms/step - loss: 0.0280 - val_loss: 0.0304\n",
      "Epoch 12/20\n",
      "\u001B[1m18/18\u001B[0m \u001B[32m━━━━━━━━━━━━━━━━━━━━\u001B[0m\u001B[37m\u001B[0m \u001B[1m1s\u001B[0m 52ms/step - loss: 0.0288 - val_loss: 0.0286\n",
      "Epoch 13/20\n",
      "\u001B[1m18/18\u001B[0m \u001B[32m━━━━━━━━━━━━━━━━━━━━\u001B[0m\u001B[37m\u001B[0m \u001B[1m1s\u001B[0m 52ms/step - loss: 0.0272 - val_loss: 0.0282\n",
      "Epoch 14/20\n",
      "\u001B[1m18/18\u001B[0m \u001B[32m━━━━━━━━━━━━━━━━━━━━\u001B[0m\u001B[37m\u001B[0m \u001B[1m1s\u001B[0m 53ms/step - loss: 0.0275 - val_loss: 0.0293\n",
      "Epoch 15/20\n",
      "\u001B[1m18/18\u001B[0m \u001B[32m━━━━━━━━━━━━━━━━━━━━\u001B[0m\u001B[37m\u001B[0m \u001B[1m1s\u001B[0m 53ms/step - loss: 0.0277 - val_loss: 0.0287\n",
      "Epoch 16/20\n",
      "\u001B[1m18/18\u001B[0m \u001B[32m━━━━━━━━━━━━━━━━━━━━\u001B[0m\u001B[37m\u001B[0m \u001B[1m1s\u001B[0m 53ms/step - loss: 0.0269 - val_loss: 0.0305\n",
      "Epoch 17/20\n",
      "\u001B[1m18/18\u001B[0m \u001B[32m━━━━━━━━━━━━━━━━━━━━\u001B[0m\u001B[37m\u001B[0m \u001B[1m1s\u001B[0m 53ms/step - loss: 0.0294 - val_loss: 0.0296\n",
      "Epoch 18/20\n",
      "\u001B[1m18/18\u001B[0m \u001B[32m━━━━━━━━━━━━━━━━━━━━\u001B[0m\u001B[37m\u001B[0m \u001B[1m1s\u001B[0m 53ms/step - loss: 0.0263 - val_loss: 0.0283\n",
      "Epoch 19/20\n",
      "\u001B[1m18/18\u001B[0m \u001B[32m━━━━━━━━━━━━━━━━━━━━\u001B[0m\u001B[37m\u001B[0m \u001B[1m1s\u001B[0m 53ms/step - loss: 0.0273 - val_loss: 0.0280\n",
      "Epoch 20/20\n",
      "\u001B[1m18/18\u001B[0m \u001B[32m━━━━━━━━━━━━━━━━━━━━\u001B[0m\u001B[37m\u001B[0m \u001B[1m1s\u001B[0m 54ms/step - loss: 0.0277 - val_loss: 0.0279\n"
     ]
    },
    {
     "data": {
      "text/plain": "<keras.src.callbacks.history.History at 0x2e532db13d0>"
     },
     "execution_count": 435,
     "metadata": {},
     "output_type": "execute_result"
    }
   ],
   "source": [
    "from keras.src.layers import BatchNormalization\n",
    "from keras.models import Sequential\n",
    "from keras.layers import LSTM\n",
    "from keras.layers import Dropout\n",
    "from keras.layers import Dense\n",
    "from keras.layers import TimeDistributed\n",
    "\n",
    "from keras import optimizers\n",
    "from keras.callbacks import History\n",
    "from keras.models import Model\n",
    "from keras.layers import Dense, Dropout, LSTM, Input, Activation, concatenate\n",
    "\n",
    "lstm_input = Input(shape=(lookback, len(data_set_scaled[0])), name='lstm_input')\n",
    "inputs = LSTM(512, name='first_layer', return_sequences=True)(lstm_input)\n",
    "# inputs = BatchNormalization()(inputs)\n",
    "# inputs = Dropout(0.2)(inputs)\n",
    "inputs = LSTM(256, name='second_layer', return_sequences=True)(inputs)\n",
    "# inputs = BatchNormalization()(inputs)\n",
    "# inputs = Dropout(0.2)(inputs)\n",
    "inputs = LSTM(128, name='third_layer', return_sequences=True)(inputs)\n",
    "# inputs = BatchNormalization()(inputs)\n",
    "# inputs = Dropout(0.2)(inputs)\n",
    "inputs = LSTM(64, name='fourth_layer', return_sequences=True)(inputs)\n",
    "# inputs = BatchNormalization()(inputs)\n",
    "# inputs = Dropout(0.2)(inputs)\n",
    "inputs = LSTM(32, name='fifth_layer')(inputs)\n",
    "inputs = Dense(5, name='dense_layer')(inputs)\n",
    "output = Activation(keras.activations.linear, name='output')(inputs)\n",
    "model = Model(inputs=lstm_input, outputs=output)\n",
    "adam = optimizers.Adam()\n",
    "model.compile(optimizer=adam, loss='mse')\n",
    "# model.fit(x=X_train, y=Y_train, batch_size=15, epochs=20, shuffle=True, validation_split=0.1)\n",
    "model.fit(x=X, y=Y, batch_size=15, epochs=20, shuffle=True, validation_split=0.1)"
   ],
   "metadata": {
    "collapsed": false,
    "ExecuteTime": {
     "end_time": "2024-05-07T00:54:53.645628800Z",
     "start_time": "2024-05-07T00:54:27.839771500Z"
    }
   },
   "id": "470b523b5c848590"
  },
  {
   "cell_type": "markdown",
   "source": [
    "## Overall RMSE "
   ],
   "metadata": {
    "collapsed": false
   },
   "id": "b9945f4a1f649b81"
  },
  {
   "cell_type": "code",
   "execution_count": 434,
   "outputs": [
    {
     "name": "stdout",
     "output_type": "stream",
     "text": [
      "\u001B[1m2/2\u001B[0m \u001B[32m━━━━━━━━━━━━━━━━━━━━\u001B[0m\u001B[37m\u001B[0m \u001B[1m1s\u001B[0m 452ms/step\n",
      "0.1551266224230137\n"
     ]
    }
   ],
   "source": [
    "from sklearn.metrics import root_mean_squared_error\n",
    "\n",
    "prediction_batch = model.predict(X_test)\n",
    "rmse = root_mean_squared_error(Y_test, prediction_batch)\n",
    "\n",
    "print(rmse)"
   ],
   "metadata": {
    "collapsed": false,
    "ExecuteTime": {
     "end_time": "2024-05-07T00:54:19.191359600Z",
     "start_time": "2024-05-07T00:54:18.101125700Z"
    }
   },
   "id": "f8558803d429eb1d"
  },
  {
   "cell_type": "markdown",
   "source": [
    "## Last 5 Days Prediction"
   ],
   "metadata": {
    "collapsed": false
   },
   "id": "3519c2e39c03004c"
  },
  {
   "cell_type": "code",
   "execution_count": 436,
   "outputs": [
    {
     "name": "stdout",
     "output_type": "stream",
     "text": [
      "\u001B[1m1/1\u001B[0m \u001B[32m━━━━━━━━━━━━━━━━━━━━\u001B[0m\u001B[37m\u001B[0m \u001B[1m1s\u001B[0m 547ms/step\n",
      "[[0.4655103  0.47441205 0.48646232 0.48561004 0.4765328 ]]\n"
     ]
    }
   ],
   "source": [
    "from sklearn.metrics import root_mean_squared_error\n",
    "\n",
    "test = np.array([X[-1]]) \n",
    "prediction = model.predict(test)\n",
    "\n",
    "print(prediction)"
   ],
   "metadata": {
    "collapsed": false,
    "ExecuteTime": {
     "end_time": "2024-05-07T00:54:56.527065Z",
     "start_time": "2024-05-07T00:54:55.940924200Z"
    }
   },
   "id": "6127bce13c2981a5"
  },
  {
   "cell_type": "code",
   "execution_count": 437,
   "outputs": [
    {
     "name": "stdout",
     "output_type": "stream",
     "text": [
      "[[ 1.09178000e+03 -7.45327706e-01  1.36387901e+01  9.70594441e+02]\n",
      " [ 9.56900000e+02 -3.24542216e-01  1.36387901e+01  9.70594441e+02]\n",
      " [ 9.56900000e+02  2.45074096e-01  1.36387901e+01  9.70594441e+02]\n",
      " [ 9.56900000e+02  2.04786498e-01  1.36387901e+01  9.70594441e+02]\n",
      " [ 9.56900000e+02 -2.24295155e-01  1.36387901e+01  9.70594441e+02]]\n",
      "[[0.4655103  0.47441205 0.48646232 0.48561004 0.4765328 ]]\n",
      "[1091.034672294259, 1090.7101300784946, 1090.9552041745187, 1091.1599906727674, 1090.9356955182554]\n"
     ]
    }
   ],
   "source": [
    "# prediction = [[0.98643256, 1., 0.98103014, 0.90066916, 0.82804346]]\n",
    "scaled_prediction = scaler.inverse_transform([[test[-1][-1][0], prediction[0][0], 0, 0],\n",
    "                          [0, prediction[0][1], 0, 0],\n",
    "                          [0, prediction[0][2], 0, 0],\n",
    "                          [0, prediction[0][3], 0, 0],\n",
    "                          [0, prediction[0][4], 0, 0]])\n",
    "\n",
    "print(scaled_prediction)\n",
    "\n",
    "last_predicted = scaled_prediction[0][0]\n",
    "prediction_set = []\n",
    "for i in range(5):\n",
    "    prediction_set.append(last_predicted + scaled_prediction[i][1])\n",
    "    last_predicted = prediction_set[-1]\n",
    "\n",
    "print(prediction)\n",
    "print(prediction_set)"
   ],
   "metadata": {
    "collapsed": false,
    "ExecuteTime": {
     "end_time": "2024-05-07T00:54:58.392964Z",
     "start_time": "2024-05-07T00:54:58.390445Z"
    }
   },
   "id": "626725f32f917d06"
  },
  {
   "cell_type": "code",
   "execution_count": 438,
   "outputs": [
    {
     "data": {
      "text/plain": "<Figure size 1500x600 with 1 Axes>",
      "image/png": "[encoded data removed]"
     },
     "metadata": {},
     "output_type": "display_data"
    },
    {
     "name": "stdout",
     "output_type": "stream",
     "text": [
      "9.829221329450638\n"
     ]
    }
   ],
   "source": [
    "plt.figure(figsize=(15,6))\n",
    "test_set = [1112.34, 1102.34, 1088.62, 1091.21, 1077.11]\n",
    "\n",
    "index = -1\n",
    "plt.plot(test_set, color='red', label='test')\n",
    "plt.plot(prediction_set, color='green', label='prediction')\n",
    "plt.legend()\n",
    "plt.show()\n",
    "\n",
    "print(root_mean_squared_error([prediction_set], [test_set]))"
   ],
   "metadata": {
    "collapsed": false,
    "ExecuteTime": {
     "end_time": "2024-05-07T00:55:00.822642900Z",
     "start_time": "2024-05-07T00:55:00.692764700Z"
    }
   },
   "id": "bc863b9e1a8b2875"
  }
 ],
 "metadata": {
  "kernelspec": {
   "display_name": "Python 3",
   "language": "python",
   "name": "python3"
  },
  "language_info": {
   "codemirror_mode": {
    "name": "ipython",
    "version": 2
   },
   "file_extension": ".py",
   "mimetype": "text/x-python",
   "name": "python",
   "nbconvert_exporter": "python",
   "pygments_lexer": "ipython2",
   "version": "2.7.6"
  }
 },
 "nbformat": 4,
 "nbformat_minor": 5
}
