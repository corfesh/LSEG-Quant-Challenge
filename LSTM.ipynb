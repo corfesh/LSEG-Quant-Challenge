{
 "cells": [
  {
   "cell_type": "code",
   "execution_count": 455,
   "id": "initial_id",
   "metadata": {
    "collapsed": true,
    "ExecuteTime": {
     "end_time": "2024-05-06T20:30:50.148224600Z",
     "start_time": "2024-05-06T20:30:50.139807100Z"
    }
   },
   "outputs": [
    {
     "name": "stdout",
     "output_type": "stream",
     "text": [
      "    Exchange Date    Close    Net        RSI         EMAF\n",
      "319    2023-01-26  1093.83  10.70  87.052956  1073.585000\n",
      "318    2023-01-27  1091.24  -2.59  78.272460  1075.939000\n",
      "317    2023-01-30  1085.48  -5.76  62.037261  1077.211133\n",
      "316    2023-01-31  1074.49 -10.99  42.441524  1076.848316\n",
      "315    2023-02-01  1085.29  10.80  57.744220  1077.973873\n"
     ]
    }
   ],
   "source": [
    "import numpy as np\n",
    "import matplotlib.pyplot as plt\n",
    "import pandas as pd\n",
    "import pandas_ta as ta\n",
    "import os\n",
    "\n",
    "csv_file_path = os.path.join(os.getcwd(), 'filtered_data.csv')\n",
    "data = pd.read_csv(csv_file_path).iloc[::-1]\n",
    "data['RSI'] = ta.rsi(data['Close'], length=7)\n",
    "data['EMAF'] = ta.ema(data['Close'], length=14)\n",
    "\n",
    "data.dropna(inplace=True)\n",
    "# data = data.drop(data.index[:19])\n",
    "print(data.head())"
   ]
  },
  {
   "cell_type": "markdown",
   "source": [
    "## Process data "
   ],
   "metadata": {
    "collapsed": false
   },
   "id": "3219d6b9f6ad574d"
  },
  {
   "cell_type": "code",
   "execution_count": 456,
   "outputs": [
    {
     "name": "stdout",
     "output_type": "stream",
     "text": [
      "                 Close    Net        RSI         EMAF\n",
      "Exchange Date                                        \n",
      "2023-01-26     1093.83  10.70  87.052956  1073.585000\n",
      "2023-01-27     1091.24  -2.59  78.272460  1075.939000\n",
      "2023-01-30     1085.48  -5.76  62.037261  1077.211133\n",
      "2023-01-31     1074.49 -10.99  42.441524  1076.848316\n",
      "2023-02-01     1085.29  10.80  57.744220  1077.973873\n"
     ]
    }
   ],
   "source": [
    "data.dropna(inplace=True)\n",
    "data.set_index('Exchange Date', inplace=True)\n",
    "print(data.head())"
   ],
   "metadata": {
    "collapsed": false,
    "ExecuteTime": {
     "end_time": "2024-05-06T20:30:50.918635700Z",
     "start_time": "2024-05-06T20:30:50.909384Z"
    }
   },
   "id": "537a43fdff43d305"
  },
  {
   "cell_type": "markdown",
   "source": [
    "## Scale Data"
   ],
   "metadata": {
    "collapsed": false
   },
   "id": "d9c267c93d613846"
  },
  {
   "cell_type": "code",
   "execution_count": 457,
   "outputs": [
    {
     "name": "stdout",
     "output_type": "stream",
     "text": [
      "                 Close    Net        RSI         EMAF\n",
      "Exchange Date                                        \n",
      "2023-01-26     1093.83  10.70  87.052956  1073.585000\n",
      "2023-01-27     1091.24  -2.59  78.272460  1075.939000\n",
      "2023-01-30     1085.48  -5.76  62.037261  1077.211133\n",
      "2023-01-31     1074.49 -10.99  42.441524  1076.848316\n",
      "2023-02-01     1085.29  10.80  57.744220  1077.973873\n",
      "\n",
      "[[0.84062865 0.70763698 0.98794689 0.76525042]\n",
      " [0.82472834 0.42648614 0.86978627 0.78274134]\n",
      " [0.78936706 0.35942458 0.65130643 0.79219366]\n",
      " [0.72189821 0.24878358 0.38760327 0.78949782]\n",
      " [0.78820063 0.70975249 0.59353426 0.79786105]\n",
      " [0.79378722 0.50052888 0.60801725 0.80601073]\n",
      " [0.74424458 0.31055638 0.44293484 0.80507878]\n",
      " [0.60457978 0.         0.18805249 0.78173252]\n",
      " [0.60869298 0.49545166 0.20148207 0.76216287]\n",
      " [0.63895881 0.58557224 0.30314783 0.7500867 ]]\n"
     ]
    }
   ],
   "source": [
    "from sklearn.preprocessing import MinMaxScaler\n",
    "\n",
    "print(data.head(), end='\\n\\n')\n",
    "scaler = MinMaxScaler(feature_range=(0,1))\n",
    "data_set_scaled = scaler.fit_transform(data)\n",
    "print(data_set_scaled[:10])"
   ],
   "metadata": {
    "collapsed": false,
    "ExecuteTime": {
     "end_time": "2024-05-06T20:30:52.081607200Z",
     "start_time": "2024-05-06T20:30:52.075001Z"
    }
   },
   "id": "cc61fca8d61f7526"
  },
  {
   "cell_type": "markdown",
   "source": [
    "## Separating data in batches"
   ],
   "metadata": {
    "collapsed": false
   },
   "id": "eb3513eb45c6e8b"
  },
  {
   "cell_type": "code",
   "execution_count": 482,
   "outputs": [
    {
     "name": "stdout",
     "output_type": "stream",
     "text": [
      "[[[0.84062865 0.70763698 0.98794689 0.76525042]\n",
      "  [0.82472834 0.42648614 0.86978627 0.78274134]\n",
      "  [0.78936706 0.35942458 0.65130643 0.79219366]\n",
      "  [0.72189821 0.24878358 0.38760327 0.78949782]\n",
      "  [0.78820063 0.70975249 0.59353426 0.79786105]\n",
      "  [0.79378722 0.50052888 0.60801725 0.80601073]\n",
      "  [0.74424458 0.31055638 0.44293484 0.80507878]\n",
      "  [0.60457978 0.         0.18805249 0.78173252]\n",
      "  [0.60869298 0.49545166 0.20148207 0.76216287]\n",
      "  [0.63895881 0.58557224 0.30314783 0.7500867 ]\n",
      "  [0.66443612 0.56907129 0.38402091 0.7437321 ]\n",
      "  [0.59438885 0.23989846 0.25238102 0.72692083]\n",
      "  [0.6078949  0.52781891 0.29749547 0.71453062]\n",
      "  [0.60623734 0.4755659  0.29410419 0.70352494]\n",
      "  [0.55159924 0.29299767 0.19222685 0.6851694 ]\n",
      "  [0.58192645 0.5857838  0.30993831 0.67415536]\n",
      "  [0.51826386 0.26189972 0.19687438 0.65433623]\n",
      "  [0.55153785 0.59593823 0.31520402 0.64252928]\n",
      "  [0.48535822 0.25322615 0.20475589 0.62161678]\n",
      "  [0.41168887 0.22741697 0.11802549 0.59160413]\n",
      "  [0.44115661 0.58282209 0.21658939 0.57034856]\n",
      "  [0.33660753 0.12100698 0.10417235 0.53505534]\n",
      "  [0.31843575 0.41865877 0.08866454 0.50153539]\n",
      "  [0.29019584 0.38396446 0.06443156 0.46792752]\n",
      "  [0.44072687 1.         0.4556102  0.46309282]\n",
      "  [0.40419915 0.35540512 0.3970398  0.45300804]\n",
      "  [0.45496961 0.65623017 0.49602783 0.45246104]\n",
      "  [0.47633372 0.5548974  0.53581038 0.45543463]\n",
      "  [0.44563816 0.37550243 0.47035217 0.45305821]\n",
      "  [0.39339432 0.30124815 0.37028288 0.44256774]\n",
      "  [0.33089815 0.26591919 0.27281485 0.4233906 ]\n",
      "  [0.24525754 0.18616459 0.17260846 0.39295007]\n",
      "  [0.26907729 0.56335942 0.23842756 0.37041221]\n",
      "  [0.17410522 0.15400889 0.13872195 0.33555318]\n",
      "  [0.17398244 0.48085466 0.13860714 0.3053222 ]\n",
      "  [0.13935785 0.36196319 0.10480945 0.27353444]\n",
      "  [0.19774081 0.68246245 0.28570224 0.25540666]\n",
      "  [0.14402357 0.29617093 0.21289977 0.23102724]\n",
      "  [0.21308859 0.71927227 0.39211224 0.22104385]\n",
      "  [0.2711032  0.68119315 0.51234023 0.22175376]\n",
      "  [0.36417214 0.80198858 0.65928847 0.23738812]\n",
      "  [0.33912456 0.39496509 0.60341362 0.24689581]\n",
      "  [0.28172386 0.28347789 0.48493023 0.24587271]\n",
      "  [0.32482043 0.62978633 0.5638394  0.25194078]\n",
      "  [0.38946528 0.70404062 0.66517788 0.26763191]\n",
      "  [0.41801216 0.57964883 0.70506411 0.28583768]\n",
      "  [0.43667506 0.54558917 0.73143084 0.30462775]\n",
      "  [0.4398674  0.4922784  0.73633269 0.32142765]\n",
      "  [0.42961508 0.4459488  0.698715   0.33433309]\n",
      "  [0.42402849 0.46202666 0.67635952 0.34461625]\n",
      "  [0.4204678  0.46900783 0.66045707 0.35295372]\n",
      "  [0.42243232 0.48804739 0.66635919 0.36049655]\n",
      "  [0.42617717 0.49418236 0.67900013 0.36763801]\n",
      "  [0.47332556 0.64374868 0.81064422 0.38143589]\n",
      "  [0.45509239 0.41844722 0.7018131  0.39045165]\n",
      "  [0.4723433  0.5407235  0.75144308 0.4010492 ]]\n",
      "\n",
      " [[0.82472834 0.42648614 0.86978627 0.78274134]\n",
      "  [0.78936706 0.35942458 0.65130643 0.79219366]\n",
      "  [0.72189821 0.24878358 0.38760327 0.78949782]\n",
      "  [0.78820063 0.70975249 0.59353426 0.79786105]\n",
      "  [0.79378722 0.50052888 0.60801725 0.80601073]\n",
      "  [0.74424458 0.31055638 0.44293484 0.80507878]\n",
      "  [0.60457978 0.         0.18805249 0.78173252]\n",
      "  [0.60869298 0.49545166 0.20148207 0.76216287]\n",
      "  [0.63895881 0.58557224 0.30314783 0.7500867 ]\n",
      "  [0.66443612 0.56907129 0.38402091 0.7437321 ]\n",
      "  [0.59438885 0.23989846 0.25238102 0.72692083]\n",
      "  [0.6078949  0.52781891 0.29749547 0.71453062]\n",
      "  [0.60623734 0.4755659  0.29410419 0.70352494]\n",
      "  [0.55159924 0.29299767 0.19222685 0.6851694 ]\n",
      "  [0.58192645 0.5857838  0.30993831 0.67415536]\n",
      "  [0.51826386 0.26189972 0.19687438 0.65433623]\n",
      "  [0.55153785 0.59593823 0.31520402 0.64252928]\n",
      "  [0.48535822 0.25322615 0.20475589 0.62161678]\n",
      "  [0.41168887 0.22741697 0.11802549 0.59160413]\n",
      "  [0.44115661 0.58282209 0.21658939 0.57034856]\n",
      "  [0.33660753 0.12100698 0.10417235 0.53505534]\n",
      "  [0.31843575 0.41865877 0.08866454 0.50153539]\n",
      "  [0.29019584 0.38396446 0.06443156 0.46792752]\n",
      "  [0.44072687 1.         0.4556102  0.46309282]\n",
      "  [0.40419915 0.35540512 0.3970398  0.45300804]\n",
      "  [0.45496961 0.65623017 0.49602783 0.45246104]\n",
      "  [0.47633372 0.5548974  0.53581038 0.45543463]\n",
      "  [0.44563816 0.37550243 0.47035217 0.45305821]\n",
      "  [0.39339432 0.30124815 0.37028288 0.44256774]\n",
      "  [0.33089815 0.26591919 0.27281485 0.4233906 ]\n",
      "  [0.24525754 0.18616459 0.17260846 0.39295007]\n",
      "  [0.26907729 0.56335942 0.23842756 0.37041221]\n",
      "  [0.17410522 0.15400889 0.13872195 0.33555318]\n",
      "  [0.17398244 0.48085466 0.13860714 0.3053222 ]\n",
      "  [0.13935785 0.36196319 0.10480945 0.27353444]\n",
      "  [0.19774081 0.68246245 0.28570224 0.25540666]\n",
      "  [0.14402357 0.29617093 0.21289977 0.23102724]\n",
      "  [0.21308859 0.71927227 0.39211224 0.22104385]\n",
      "  [0.2711032  0.68119315 0.51234023 0.22175376]\n",
      "  [0.36417214 0.80198858 0.65928847 0.23738812]\n",
      "  [0.33912456 0.39496509 0.60341362 0.24689581]\n",
      "  [0.28172386 0.28347789 0.48493023 0.24587271]\n",
      "  [0.32482043 0.62978633 0.5638394  0.25194078]\n",
      "  [0.38946528 0.70404062 0.66517788 0.26763191]\n",
      "  [0.41801216 0.57964883 0.70506411 0.28583768]\n",
      "  [0.43667506 0.54558917 0.73143084 0.30462775]\n",
      "  [0.4398674  0.4922784  0.73633269 0.32142765]\n",
      "  [0.42961508 0.4459488  0.698715   0.33433309]\n",
      "  [0.42402849 0.46202666 0.67635952 0.34461625]\n",
      "  [0.4204678  0.46900783 0.66045707 0.35295372]\n",
      "  [0.42243232 0.48804739 0.66635919 0.36049655]\n",
      "  [0.42617717 0.49418236 0.67900013 0.36763801]\n",
      "  [0.47332556 0.64374868 0.81064422 0.38143589]\n",
      "  [0.45509239 0.41844722 0.7018131  0.39045165]\n",
      "  [0.4723433  0.5407235  0.75144308 0.4010492 ]\n",
      "  [0.49076064 0.54474297 0.80006654 0.41320587]]]\n",
      "[[0.54474297]]\n"
     ]
    }
   ],
   "source": [
    "X = []\n",
    "# how many data points to look behind at before predicting\n",
    "# 28 because its the average number of days in a month - can be modified\n",
    "lookback = 28\n",
    "\n",
    "# go trough every column \n",
    "\n",
    "for j in range(len(data_set_scaled[0])):\n",
    "    X.append([])\n",
    "    # go trough every data \n",
    "    for i in range(lookback, data_set_scaled.shape[0]):\n",
    "        X[j].append(data_set_scaled[i-lookback:i, j])\n",
    "        \n",
    "X = np.moveaxis(X, [0], [2])\n",
    "Y = np.array(data_set_scaled[lookback:, -3])\n",
    "Y = np.reshape(Y, (len(Y), 1))\n",
    "\n",
    "print(X[:2])\n",
    "print(Y[:1])"
   ],
   "metadata": {
    "collapsed": false,
    "ExecuteTime": {
     "end_time": "2024-05-06T20:36:28.181639200Z",
     "start_time": "2024-05-06T20:36:28.103134300Z"
    }
   },
   "id": "4103e2d07963b630"
  },
  {
   "cell_type": "code",
   "execution_count": 483,
   "outputs": [
    {
     "name": "stdout",
     "output_type": "stream",
     "text": [
      "(264, 56, 4)\n",
      "(264, 1)\n"
     ]
    }
   ],
   "source": [
    "print(X.shape)\n",
    "print(Y.shape)"
   ],
   "metadata": {
    "collapsed": false,
    "ExecuteTime": {
     "end_time": "2024-05-06T20:36:28.588796100Z",
     "start_time": "2024-05-06T20:36:28.579901800Z"
    }
   },
   "id": "6fe06aec31baed22"
  },
  {
   "cell_type": "markdown",
   "source": [
    "## Split data into train test sets"
   ],
   "metadata": {
    "collapsed": false
   },
   "id": "4602c0a1f92c0290"
  },
  {
   "cell_type": "code",
   "execution_count": 484,
   "outputs": [
    {
     "name": "stdout",
     "output_type": "stream",
     "text": [
      "(211, 56, 4)\n",
      "(53, 56, 4)\n",
      "(211, 1)\n",
      "(53, 1)\n"
     ]
    }
   ],
   "source": [
    "split = int(len(X) * 0.8)\n",
    "X_train , X_test = X[:split], X[split:]\n",
    "Y_train , Y_test = Y[:split], Y[split:]\n",
    "\n",
    "print(X_train.shape)\n",
    "print(X_test.shape)\n",
    "print(Y_train.shape)\n",
    "print(Y_test.shape)"
   ],
   "metadata": {
    "collapsed": false,
    "ExecuteTime": {
     "end_time": "2024-05-06T20:36:29.362796700Z",
     "start_time": "2024-05-06T20:36:29.354440800Z"
    }
   },
   "id": "11c9dd15b589bd70"
  },
  {
   "cell_type": "markdown",
   "source": [
    "## LSTM Model"
   ],
   "metadata": {
    "collapsed": false
   },
   "id": "47f921f2d27d9fa8"
  },
  {
   "cell_type": "code",
   "execution_count": 485,
   "outputs": [
    {
     "name": "stdout",
     "output_type": "stream",
     "text": [
      "2.16.1\n",
      "[PhysicalDevice(name='/physical_device:CPU:0', device_type='CPU')]\n",
      "3.3.3\n"
     ]
    }
   ],
   "source": [
    "import tensorflow as tf\n",
    "from tensorflow import keras\n",
    "print(tf.__version__)\n",
    "print(tf.config.list_physical_devices('CPU'))\n",
    "print(keras.__version__)"
   ],
   "metadata": {
    "collapsed": false,
    "ExecuteTime": {
     "end_time": "2024-05-06T20:36:30.310946600Z",
     "start_time": "2024-05-06T20:36:30.307911900Z"
    }
   },
   "id": "a7da8801d3101773"
  },
  {
   "cell_type": "code",
   "execution_count": 488,
   "outputs": [
    {
     "name": "stdout",
     "output_type": "stream",
     "text": [
      "Epoch 1/100\n",
      "\u001B[1m13/13\u001B[0m \u001B[32m━━━━━━━━━━━━━━━━━━━━\u001B[0m\u001B[37m\u001B[0m \u001B[1m2s\u001B[0m 42ms/step - loss: 0.1280 - val_loss: 0.0372\n",
      "Epoch 2/100\n",
      "\u001B[1m13/13\u001B[0m \u001B[32m━━━━━━━━━━━━━━━━━━━━\u001B[0m\u001B[37m\u001B[0m \u001B[1m0s\u001B[0m 23ms/step - loss: 0.0423 - val_loss: 0.0318\n",
      "Epoch 3/100\n",
      "\u001B[1m13/13\u001B[0m \u001B[32m━━━━━━━━━━━━━━━━━━━━\u001B[0m\u001B[37m\u001B[0m \u001B[1m0s\u001B[0m 23ms/step - loss: 0.0331 - val_loss: 0.0306\n",
      "Epoch 4/100\n",
      "\u001B[1m13/13\u001B[0m \u001B[32m━━━━━━━━━━━━━━━━━━━━\u001B[0m\u001B[37m\u001B[0m \u001B[1m0s\u001B[0m 22ms/step - loss: 0.0353 - val_loss: 0.0293\n",
      "Epoch 5/100\n",
      "\u001B[1m13/13\u001B[0m \u001B[32m━━━━━━━━━━━━━━━━━━━━\u001B[0m\u001B[37m\u001B[0m \u001B[1m0s\u001B[0m 23ms/step - loss: 0.0331 - val_loss: 0.0336\n",
      "Epoch 6/100\n",
      "\u001B[1m13/13\u001B[0m \u001B[32m━━━━━━━━━━━━━━━━━━━━\u001B[0m\u001B[37m\u001B[0m \u001B[1m0s\u001B[0m 22ms/step - loss: 0.0305 - val_loss: 0.0282\n",
      "Epoch 7/100\n",
      "\u001B[1m13/13\u001B[0m \u001B[32m━━━━━━━━━━━━━━━━━━━━\u001B[0m\u001B[37m\u001B[0m \u001B[1m0s\u001B[0m 23ms/step - loss: 0.0287 - val_loss: 0.0280\n",
      "Epoch 8/100\n",
      "\u001B[1m13/13\u001B[0m \u001B[32m━━━━━━━━━━━━━━━━━━━━\u001B[0m\u001B[37m\u001B[0m \u001B[1m0s\u001B[0m 23ms/step - loss: 0.0303 - val_loss: 0.0283\n",
      "Epoch 9/100\n",
      "\u001B[1m13/13\u001B[0m \u001B[32m━━━━━━━━━━━━━━━━━━━━\u001B[0m\u001B[37m\u001B[0m \u001B[1m0s\u001B[0m 23ms/step - loss: 0.0276 - val_loss: 0.0294\n",
      "Epoch 10/100\n",
      "\u001B[1m13/13\u001B[0m \u001B[32m━━━━━━━━━━━━━━━━━━━━\u001B[0m\u001B[37m\u001B[0m \u001B[1m0s\u001B[0m 23ms/step - loss: 0.0301 - val_loss: 0.0282\n",
      "Epoch 11/100\n",
      "\u001B[1m13/13\u001B[0m \u001B[32m━━━━━━━━━━━━━━━━━━━━\u001B[0m\u001B[37m\u001B[0m \u001B[1m0s\u001B[0m 23ms/step - loss: 0.0275 - val_loss: 0.0276\n",
      "Epoch 12/100\n",
      "\u001B[1m13/13\u001B[0m \u001B[32m━━━━━━━━━━━━━━━━━━━━\u001B[0m\u001B[37m\u001B[0m \u001B[1m0s\u001B[0m 22ms/step - loss: 0.0288 - val_loss: 0.0356\n",
      "Epoch 13/100\n",
      "\u001B[1m13/13\u001B[0m \u001B[32m━━━━━━━━━━━━━━━━━━━━\u001B[0m\u001B[37m\u001B[0m \u001B[1m0s\u001B[0m 23ms/step - loss: 0.0390 - val_loss: 0.0279\n",
      "Epoch 14/100\n",
      "\u001B[1m13/13\u001B[0m \u001B[32m━━━━━━━━━━━━━━━━━━━━\u001B[0m\u001B[37m\u001B[0m \u001B[1m0s\u001B[0m 23ms/step - loss: 0.0345 - val_loss: 0.0316\n",
      "Epoch 15/100\n",
      "\u001B[1m13/13\u001B[0m \u001B[32m━━━━━━━━━━━━━━━━━━━━\u001B[0m\u001B[37m\u001B[0m \u001B[1m0s\u001B[0m 23ms/step - loss: 0.0312 - val_loss: 0.0277\n",
      "Epoch 16/100\n",
      "\u001B[1m13/13\u001B[0m \u001B[32m━━━━━━━━━━━━━━━━━━━━\u001B[0m\u001B[37m\u001B[0m \u001B[1m0s\u001B[0m 23ms/step - loss: 0.0278 - val_loss: 0.0280\n",
      "Epoch 17/100\n",
      "\u001B[1m13/13\u001B[0m \u001B[32m━━━━━━━━━━━━━━━━━━━━\u001B[0m\u001B[37m\u001B[0m \u001B[1m0s\u001B[0m 23ms/step - loss: 0.0279 - val_loss: 0.0276\n",
      "Epoch 18/100\n",
      "\u001B[1m13/13\u001B[0m \u001B[32m━━━━━━━━━━━━━━━━━━━━\u001B[0m\u001B[37m\u001B[0m \u001B[1m0s\u001B[0m 22ms/step - loss: 0.0327 - val_loss: 0.0281\n",
      "Epoch 19/100\n",
      "\u001B[1m13/13\u001B[0m \u001B[32m━━━━━━━━━━━━━━━━━━━━\u001B[0m\u001B[37m\u001B[0m \u001B[1m0s\u001B[0m 23ms/step - loss: 0.0258 - val_loss: 0.0278\n",
      "Epoch 20/100\n",
      "\u001B[1m13/13\u001B[0m \u001B[32m━━━━━━━━━━━━━━━━━━━━\u001B[0m\u001B[37m\u001B[0m \u001B[1m0s\u001B[0m 23ms/step - loss: 0.0281 - val_loss: 0.0350\n",
      "Epoch 21/100\n",
      "\u001B[1m13/13\u001B[0m \u001B[32m━━━━━━━━━━━━━━━━━━━━\u001B[0m\u001B[37m\u001B[0m \u001B[1m0s\u001B[0m 23ms/step - loss: 0.0381 - val_loss: 0.0276\n",
      "Epoch 22/100\n",
      "\u001B[1m13/13\u001B[0m \u001B[32m━━━━━━━━━━━━━━━━━━━━\u001B[0m\u001B[37m\u001B[0m \u001B[1m0s\u001B[0m 23ms/step - loss: 0.0302 - val_loss: 0.0285\n",
      "Epoch 23/100\n",
      "\u001B[1m13/13\u001B[0m \u001B[32m━━━━━━━━━━━━━━━━━━━━\u001B[0m\u001B[37m\u001B[0m \u001B[1m0s\u001B[0m 23ms/step - loss: 0.0272 - val_loss: 0.0287\n",
      "Epoch 24/100\n",
      "\u001B[1m13/13\u001B[0m \u001B[32m━━━━━━━━━━━━━━━━━━━━\u001B[0m\u001B[37m\u001B[0m \u001B[1m0s\u001B[0m 23ms/step - loss: 0.0265 - val_loss: 0.0294\n",
      "Epoch 25/100\n",
      "\u001B[1m13/13\u001B[0m \u001B[32m━━━━━━━━━━━━━━━━━━━━\u001B[0m\u001B[37m\u001B[0m \u001B[1m0s\u001B[0m 23ms/step - loss: 0.0341 - val_loss: 0.0284\n",
      "Epoch 26/100\n",
      "\u001B[1m13/13\u001B[0m \u001B[32m━━━━━━━━━━━━━━━━━━━━\u001B[0m\u001B[37m\u001B[0m \u001B[1m0s\u001B[0m 24ms/step - loss: 0.0271 - val_loss: 0.0320\n",
      "Epoch 27/100\n",
      "\u001B[1m13/13\u001B[0m \u001B[32m━━━━━━━━━━━━━━━━━━━━\u001B[0m\u001B[37m\u001B[0m \u001B[1m0s\u001B[0m 23ms/step - loss: 0.0320 - val_loss: 0.0292\n",
      "Epoch 28/100\n",
      "\u001B[1m13/13\u001B[0m \u001B[32m━━━━━━━━━━━━━━━━━━━━\u001B[0m\u001B[37m\u001B[0m \u001B[1m0s\u001B[0m 24ms/step - loss: 0.0357 - val_loss: 0.0285\n",
      "Epoch 29/100\n",
      "\u001B[1m13/13\u001B[0m \u001B[32m━━━━━━━━━━━━━━━━━━━━\u001B[0m\u001B[37m\u001B[0m \u001B[1m0s\u001B[0m 23ms/step - loss: 0.0302 - val_loss: 0.0290\n",
      "Epoch 30/100\n",
      "\u001B[1m13/13\u001B[0m \u001B[32m━━━━━━━━━━━━━━━━━━━━\u001B[0m\u001B[37m\u001B[0m \u001B[1m0s\u001B[0m 23ms/step - loss: 0.0292 - val_loss: 0.0288\n",
      "Epoch 31/100\n",
      "\u001B[1m13/13\u001B[0m \u001B[32m━━━━━━━━━━━━━━━━━━━━\u001B[0m\u001B[37m\u001B[0m \u001B[1m0s\u001B[0m 23ms/step - loss: 0.0250 - val_loss: 0.0299\n",
      "Epoch 32/100\n",
      "\u001B[1m13/13\u001B[0m \u001B[32m━━━━━━━━━━━━━━━━━━━━\u001B[0m\u001B[37m\u001B[0m \u001B[1m0s\u001B[0m 23ms/step - loss: 0.0283 - val_loss: 0.0275\n",
      "Epoch 33/100\n",
      "\u001B[1m13/13\u001B[0m \u001B[32m━━━━━━━━━━━━━━━━━━━━\u001B[0m\u001B[37m\u001B[0m \u001B[1m0s\u001B[0m 23ms/step - loss: 0.0275 - val_loss: 0.0274\n",
      "Epoch 34/100\n",
      "\u001B[1m13/13\u001B[0m \u001B[32m━━━━━━━━━━━━━━━━━━━━\u001B[0m\u001B[37m\u001B[0m \u001B[1m0s\u001B[0m 23ms/step - loss: 0.0301 - val_loss: 0.0273\n",
      "Epoch 35/100\n",
      "\u001B[1m13/13\u001B[0m \u001B[32m━━━━━━━━━━━━━━━━━━━━\u001B[0m\u001B[37m\u001B[0m \u001B[1m0s\u001B[0m 23ms/step - loss: 0.0312 - val_loss: 0.0307\n",
      "Epoch 36/100\n",
      "\u001B[1m13/13\u001B[0m \u001B[32m━━━━━━━━━━━━━━━━━━━━\u001B[0m\u001B[37m\u001B[0m \u001B[1m0s\u001B[0m 23ms/step - loss: 0.0310 - val_loss: 0.0288\n",
      "Epoch 37/100\n",
      "\u001B[1m13/13\u001B[0m \u001B[32m━━━━━━━━━━━━━━━━━━━━\u001B[0m\u001B[37m\u001B[0m \u001B[1m0s\u001B[0m 23ms/step - loss: 0.0293 - val_loss: 0.0276\n",
      "Epoch 38/100\n",
      "\u001B[1m13/13\u001B[0m \u001B[32m━━━━━━━━━━━━━━━━━━━━\u001B[0m\u001B[37m\u001B[0m \u001B[1m0s\u001B[0m 24ms/step - loss: 0.0264 - val_loss: 0.0282\n",
      "Epoch 39/100\n",
      "\u001B[1m13/13\u001B[0m \u001B[32m━━━━━━━━━━━━━━━━━━━━\u001B[0m\u001B[37m\u001B[0m \u001B[1m0s\u001B[0m 24ms/step - loss: 0.0278 - val_loss: 0.0275\n",
      "Epoch 40/100\n",
      "\u001B[1m13/13\u001B[0m \u001B[32m━━━━━━━━━━━━━━━━━━━━\u001B[0m\u001B[37m\u001B[0m \u001B[1m0s\u001B[0m 25ms/step - loss: 0.0235 - val_loss: 0.0284\n",
      "Epoch 41/100\n",
      "\u001B[1m13/13\u001B[0m \u001B[32m━━━━━━━━━━━━━━━━━━━━\u001B[0m\u001B[37m\u001B[0m \u001B[1m0s\u001B[0m 24ms/step - loss: 0.0288 - val_loss: 0.0299\n",
      "Epoch 42/100\n",
      "\u001B[1m13/13\u001B[0m \u001B[32m━━━━━━━━━━━━━━━━━━━━\u001B[0m\u001B[37m\u001B[0m \u001B[1m0s\u001B[0m 28ms/step - loss: 0.0309 - val_loss: 0.0297\n",
      "Epoch 43/100\n",
      "\u001B[1m13/13\u001B[0m \u001B[32m━━━━━━━━━━━━━━━━━━━━\u001B[0m\u001B[37m\u001B[0m \u001B[1m0s\u001B[0m 29ms/step - loss: 0.0279 - val_loss: 0.0276\n",
      "Epoch 44/100\n",
      "\u001B[1m13/13\u001B[0m \u001B[32m━━━━━━━━━━━━━━━━━━━━\u001B[0m\u001B[37m\u001B[0m \u001B[1m0s\u001B[0m 28ms/step - loss: 0.0308 - val_loss: 0.0272\n",
      "Epoch 45/100\n",
      "\u001B[1m13/13\u001B[0m \u001B[32m━━━━━━━━━━━━━━━━━━━━\u001B[0m\u001B[37m\u001B[0m \u001B[1m0s\u001B[0m 27ms/step - loss: 0.0271 - val_loss: 0.0278\n",
      "Epoch 46/100\n",
      "\u001B[1m13/13\u001B[0m \u001B[32m━━━━━━━━━━━━━━━━━━━━\u001B[0m\u001B[37m\u001B[0m \u001B[1m0s\u001B[0m 27ms/step - loss: 0.0273 - val_loss: 0.0274\n",
      "Epoch 47/100\n",
      "\u001B[1m13/13\u001B[0m \u001B[32m━━━━━━━━━━━━━━━━━━━━\u001B[0m\u001B[37m\u001B[0m \u001B[1m0s\u001B[0m 27ms/step - loss: 0.0252 - val_loss: 0.0270\n",
      "Epoch 48/100\n",
      "\u001B[1m13/13\u001B[0m \u001B[32m━━━━━━━━━━━━━━━━━━━━\u001B[0m\u001B[37m\u001B[0m \u001B[1m0s\u001B[0m 27ms/step - loss: 0.0234 - val_loss: 0.0273\n",
      "Epoch 49/100\n",
      "\u001B[1m13/13\u001B[0m \u001B[32m━━━━━━━━━━━━━━━━━━━━\u001B[0m\u001B[37m\u001B[0m \u001B[1m0s\u001B[0m 28ms/step - loss: 0.0280 - val_loss: 0.0288\n",
      "Epoch 50/100\n",
      "\u001B[1m13/13\u001B[0m \u001B[32m━━━━━━━━━━━━━━━━━━━━\u001B[0m\u001B[37m\u001B[0m \u001B[1m0s\u001B[0m 27ms/step - loss: 0.0331 - val_loss: 0.0270\n",
      "Epoch 51/100\n",
      "\u001B[1m13/13\u001B[0m \u001B[32m━━━━━━━━━━━━━━━━━━━━\u001B[0m\u001B[37m\u001B[0m \u001B[1m0s\u001B[0m 27ms/step - loss: 0.0284 - val_loss: 0.0292\n",
      "Epoch 52/100\n",
      "\u001B[1m13/13\u001B[0m \u001B[32m━━━━━━━━━━━━━━━━━━━━\u001B[0m\u001B[37m\u001B[0m \u001B[1m0s\u001B[0m 27ms/step - loss: 0.0312 - val_loss: 0.0278\n",
      "Epoch 53/100\n",
      "\u001B[1m13/13\u001B[0m \u001B[32m━━━━━━━━━━━━━━━━━━━━\u001B[0m\u001B[37m\u001B[0m \u001B[1m0s\u001B[0m 27ms/step - loss: 0.0257 - val_loss: 0.0276\n",
      "Epoch 54/100\n",
      "\u001B[1m13/13\u001B[0m \u001B[32m━━━━━━━━━━━━━━━━━━━━\u001B[0m\u001B[37m\u001B[0m \u001B[1m0s\u001B[0m 27ms/step - loss: 0.0279 - val_loss: 0.0270\n",
      "Epoch 55/100\n",
      "\u001B[1m13/13\u001B[0m \u001B[32m━━━━━━━━━━━━━━━━━━━━\u001B[0m\u001B[37m\u001B[0m \u001B[1m0s\u001B[0m 27ms/step - loss: 0.0262 - val_loss: 0.0270\n",
      "Epoch 56/100\n",
      "\u001B[1m13/13\u001B[0m \u001B[32m━━━━━━━━━━━━━━━━━━━━\u001B[0m\u001B[37m\u001B[0m \u001B[1m0s\u001B[0m 27ms/step - loss: 0.0283 - val_loss: 0.0269\n",
      "Epoch 57/100\n",
      "\u001B[1m13/13\u001B[0m \u001B[32m━━━━━━━━━━━━━━━━━━━━\u001B[0m\u001B[37m\u001B[0m \u001B[1m0s\u001B[0m 27ms/step - loss: 0.0323 - val_loss: 0.0275\n",
      "Epoch 58/100\n",
      "\u001B[1m13/13\u001B[0m \u001B[32m━━━━━━━━━━━━━━━━━━━━\u001B[0m\u001B[37m\u001B[0m \u001B[1m0s\u001B[0m 28ms/step - loss: 0.0283 - val_loss: 0.0288\n",
      "Epoch 59/100\n",
      "\u001B[1m13/13\u001B[0m \u001B[32m━━━━━━━━━━━━━━━━━━━━\u001B[0m\u001B[37m\u001B[0m \u001B[1m0s\u001B[0m 27ms/step - loss: 0.0267 - val_loss: 0.0269\n",
      "Epoch 60/100\n",
      "\u001B[1m13/13\u001B[0m \u001B[32m━━━━━━━━━━━━━━━━━━━━\u001B[0m\u001B[37m\u001B[0m \u001B[1m0s\u001B[0m 27ms/step - loss: 0.0280 - val_loss: 0.0267\n",
      "Epoch 61/100\n",
      "\u001B[1m13/13\u001B[0m \u001B[32m━━━━━━━━━━━━━━━━━━━━\u001B[0m\u001B[37m\u001B[0m \u001B[1m0s\u001B[0m 27ms/step - loss: 0.0292 - val_loss: 0.0286\n",
      "Epoch 62/100\n",
      "\u001B[1m13/13\u001B[0m \u001B[32m━━━━━━━━━━━━━━━━━━━━\u001B[0m\u001B[37m\u001B[0m \u001B[1m0s\u001B[0m 27ms/step - loss: 0.0280 - val_loss: 0.0273\n",
      "Epoch 63/100\n",
      "\u001B[1m13/13\u001B[0m \u001B[32m━━━━━━━━━━━━━━━━━━━━\u001B[0m\u001B[37m\u001B[0m \u001B[1m0s\u001B[0m 27ms/step - loss: 0.0317 - val_loss: 0.0302\n",
      "Epoch 64/100\n",
      "\u001B[1m13/13\u001B[0m \u001B[32m━━━━━━━━━━━━━━━━━━━━\u001B[0m\u001B[37m\u001B[0m \u001B[1m0s\u001B[0m 27ms/step - loss: 0.0312 - val_loss: 0.0269\n",
      "Epoch 65/100\n",
      "\u001B[1m13/13\u001B[0m \u001B[32m━━━━━━━━━━━━━━━━━━━━\u001B[0m\u001B[37m\u001B[0m \u001B[1m0s\u001B[0m 27ms/step - loss: 0.0250 - val_loss: 0.0266\n",
      "Epoch 66/100\n",
      "\u001B[1m13/13\u001B[0m \u001B[32m━━━━━━━━━━━━━━━━━━━━\u001B[0m\u001B[37m\u001B[0m \u001B[1m0s\u001B[0m 27ms/step - loss: 0.0250 - val_loss: 0.0266\n",
      "Epoch 67/100\n",
      "\u001B[1m13/13\u001B[0m \u001B[32m━━━━━━━━━━━━━━━━━━━━\u001B[0m\u001B[37m\u001B[0m \u001B[1m0s\u001B[0m 28ms/step - loss: 0.0264 - val_loss: 0.0266\n",
      "Epoch 68/100\n",
      "\u001B[1m13/13\u001B[0m \u001B[32m━━━━━━━━━━━━━━━━━━━━\u001B[0m\u001B[37m\u001B[0m \u001B[1m0s\u001B[0m 28ms/step - loss: 0.0298 - val_loss: 0.0269\n",
      "Epoch 69/100\n",
      "\u001B[1m13/13\u001B[0m \u001B[32m━━━━━━━━━━━━━━━━━━━━\u001B[0m\u001B[37m\u001B[0m \u001B[1m0s\u001B[0m 28ms/step - loss: 0.0286 - val_loss: 0.0264\n",
      "Epoch 70/100\n",
      "\u001B[1m13/13\u001B[0m \u001B[32m━━━━━━━━━━━━━━━━━━━━\u001B[0m\u001B[37m\u001B[0m \u001B[1m0s\u001B[0m 28ms/step - loss: 0.0273 - val_loss: 0.0266\n",
      "Epoch 71/100\n",
      "\u001B[1m13/13\u001B[0m \u001B[32m━━━━━━━━━━━━━━━━━━━━\u001B[0m\u001B[37m\u001B[0m \u001B[1m0s\u001B[0m 29ms/step - loss: 0.0259 - val_loss: 0.0263\n",
      "Epoch 72/100\n",
      "\u001B[1m13/13\u001B[0m \u001B[32m━━━━━━━━━━━━━━━━━━━━\u001B[0m\u001B[37m\u001B[0m \u001B[1m0s\u001B[0m 29ms/step - loss: 0.0287 - val_loss: 0.0276\n",
      "Epoch 73/100\n",
      "\u001B[1m13/13\u001B[0m \u001B[32m━━━━━━━━━━━━━━━━━━━━\u001B[0m\u001B[37m\u001B[0m \u001B[1m0s\u001B[0m 28ms/step - loss: 0.0280 - val_loss: 0.0288\n",
      "Epoch 74/100\n",
      "\u001B[1m13/13\u001B[0m \u001B[32m━━━━━━━━━━━━━━━━━━━━\u001B[0m\u001B[37m\u001B[0m \u001B[1m0s\u001B[0m 27ms/step - loss: 0.0289 - val_loss: 0.0275\n",
      "Epoch 75/100\n",
      "\u001B[1m13/13\u001B[0m \u001B[32m━━━━━━━━━━━━━━━━━━━━\u001B[0m\u001B[37m\u001B[0m \u001B[1m0s\u001B[0m 27ms/step - loss: 0.0285 - val_loss: 0.0284\n",
      "Epoch 76/100\n",
      "\u001B[1m13/13\u001B[0m \u001B[32m━━━━━━━━━━━━━━━━━━━━\u001B[0m\u001B[37m\u001B[0m \u001B[1m0s\u001B[0m 29ms/step - loss: 0.0304 - val_loss: 0.0265\n",
      "Epoch 77/100\n",
      "\u001B[1m13/13\u001B[0m \u001B[32m━━━━━━━━━━━━━━━━━━━━\u001B[0m\u001B[37m\u001B[0m \u001B[1m0s\u001B[0m 28ms/step - loss: 0.0278 - val_loss: 0.0259\n",
      "Epoch 78/100\n",
      "\u001B[1m13/13\u001B[0m \u001B[32m━━━━━━━━━━━━━━━━━━━━\u001B[0m\u001B[37m\u001B[0m \u001B[1m0s\u001B[0m 28ms/step - loss: 0.0247 - val_loss: 0.0264\n",
      "Epoch 79/100\n",
      "\u001B[1m13/13\u001B[0m \u001B[32m━━━━━━━━━━━━━━━━━━━━\u001B[0m\u001B[37m\u001B[0m \u001B[1m0s\u001B[0m 29ms/step - loss: 0.0228 - val_loss: 0.0263\n",
      "Epoch 80/100\n",
      "\u001B[1m13/13\u001B[0m \u001B[32m━━━━━━━━━━━━━━━━━━━━\u001B[0m\u001B[37m\u001B[0m \u001B[1m0s\u001B[0m 29ms/step - loss: 0.0252 - val_loss: 0.0263\n",
      "Epoch 81/100\n",
      "\u001B[1m13/13\u001B[0m \u001B[32m━━━━━━━━━━━━━━━━━━━━\u001B[0m\u001B[37m\u001B[0m \u001B[1m0s\u001B[0m 29ms/step - loss: 0.0246 - val_loss: 0.0260\n",
      "Epoch 82/100\n",
      "\u001B[1m13/13\u001B[0m \u001B[32m━━━━━━━━━━━━━━━━━━━━\u001B[0m\u001B[37m\u001B[0m \u001B[1m0s\u001B[0m 29ms/step - loss: 0.0225 - val_loss: 0.0262\n",
      "Epoch 83/100\n",
      "\u001B[1m13/13\u001B[0m \u001B[32m━━━━━━━━━━━━━━━━━━━━\u001B[0m\u001B[37m\u001B[0m \u001B[1m0s\u001B[0m 29ms/step - loss: 0.0305 - val_loss: 0.0259\n",
      "Epoch 84/100\n",
      "\u001B[1m13/13\u001B[0m \u001B[32m━━━━━━━━━━━━━━━━━━━━\u001B[0m\u001B[37m\u001B[0m \u001B[1m0s\u001B[0m 28ms/step - loss: 0.0266 - val_loss: 0.0264\n",
      "Epoch 85/100\n",
      "\u001B[1m13/13\u001B[0m \u001B[32m━━━━━━━━━━━━━━━━━━━━\u001B[0m\u001B[37m\u001B[0m \u001B[1m0s\u001B[0m 28ms/step - loss: 0.0257 - val_loss: 0.0259\n",
      "Epoch 86/100\n",
      "\u001B[1m13/13\u001B[0m \u001B[32m━━━━━━━━━━━━━━━━━━━━\u001B[0m\u001B[37m\u001B[0m \u001B[1m0s\u001B[0m 28ms/step - loss: 0.0247 - val_loss: 0.0264\n",
      "Epoch 87/100\n",
      "\u001B[1m13/13\u001B[0m \u001B[32m━━━━━━━━━━━━━━━━━━━━\u001B[0m\u001B[37m\u001B[0m \u001B[1m0s\u001B[0m 28ms/step - loss: 0.0244 - val_loss: 0.0264\n",
      "Epoch 88/100\n",
      "\u001B[1m13/13\u001B[0m \u001B[32m━━━━━━━━━━━━━━━━━━━━\u001B[0m\u001B[37m\u001B[0m \u001B[1m0s\u001B[0m 28ms/step - loss: 0.0284 - val_loss: 0.0291\n",
      "Epoch 89/100\n",
      "\u001B[1m13/13\u001B[0m \u001B[32m━━━━━━━━━━━━━━━━━━━━\u001B[0m\u001B[37m\u001B[0m \u001B[1m0s\u001B[0m 27ms/step - loss: 0.0304 - val_loss: 0.0257\n",
      "Epoch 90/100\n",
      "\u001B[1m13/13\u001B[0m \u001B[32m━━━━━━━━━━━━━━━━━━━━\u001B[0m\u001B[37m\u001B[0m \u001B[1m0s\u001B[0m 27ms/step - loss: 0.0271 - val_loss: 0.0256\n",
      "Epoch 91/100\n",
      "\u001B[1m13/13\u001B[0m \u001B[32m━━━━━━━━━━━━━━━━━━━━\u001B[0m\u001B[37m\u001B[0m \u001B[1m0s\u001B[0m 27ms/step - loss: 0.0303 - val_loss: 0.0260\n",
      "Epoch 92/100\n",
      "\u001B[1m13/13\u001B[0m \u001B[32m━━━━━━━━━━━━━━━━━━━━\u001B[0m\u001B[37m\u001B[0m \u001B[1m0s\u001B[0m 27ms/step - loss: 0.0287 - val_loss: 0.0257\n",
      "Epoch 93/100\n",
      "\u001B[1m13/13\u001B[0m \u001B[32m━━━━━━━━━━━━━━━━━━━━\u001B[0m\u001B[37m\u001B[0m \u001B[1m0s\u001B[0m 27ms/step - loss: 0.0265 - val_loss: 0.0254\n",
      "Epoch 94/100\n",
      "\u001B[1m13/13\u001B[0m \u001B[32m━━━━━━━━━━━━━━━━━━━━\u001B[0m\u001B[37m\u001B[0m \u001B[1m0s\u001B[0m 28ms/step - loss: 0.0274 - val_loss: 0.0255\n",
      "Epoch 95/100\n",
      "\u001B[1m13/13\u001B[0m \u001B[32m━━━━━━━━━━━━━━━━━━━━\u001B[0m\u001B[37m\u001B[0m \u001B[1m0s\u001B[0m 28ms/step - loss: 0.0289 - val_loss: 0.0255\n",
      "Epoch 96/100\n",
      "\u001B[1m13/13\u001B[0m \u001B[32m━━━━━━━━━━━━━━━━━━━━\u001B[0m\u001B[37m\u001B[0m \u001B[1m0s\u001B[0m 27ms/step - loss: 0.0246 - val_loss: 0.0251\n",
      "Epoch 97/100\n",
      "\u001B[1m13/13\u001B[0m \u001B[32m━━━━━━━━━━━━━━━━━━━━\u001B[0m\u001B[37m\u001B[0m \u001B[1m0s\u001B[0m 28ms/step - loss: 0.0260 - val_loss: 0.0248\n",
      "Epoch 98/100\n",
      "\u001B[1m13/13\u001B[0m \u001B[32m━━━━━━━━━━━━━━━━━━━━\u001B[0m\u001B[37m\u001B[0m \u001B[1m0s\u001B[0m 27ms/step - loss: 0.0232 - val_loss: 0.0247\n",
      "Epoch 99/100\n",
      "\u001B[1m13/13\u001B[0m \u001B[32m━━━━━━━━━━━━━━━━━━━━\u001B[0m\u001B[37m\u001B[0m \u001B[1m0s\u001B[0m 28ms/step - loss: 0.0243 - val_loss: 0.0248\n",
      "Epoch 100/100\n",
      "\u001B[1m13/13\u001B[0m \u001B[32m━━━━━━━━━━━━━━━━━━━━\u001B[0m\u001B[37m\u001B[0m \u001B[1m0s\u001B[0m 27ms/step - loss: 0.0224 - val_loss: 0.0253\n"
     ]
    },
    {
     "data": {
      "text/plain": "<keras.src.callbacks.history.History at 0x242cde67150>"
     },
     "execution_count": 488,
     "metadata": {},
     "output_type": "execute_result"
    }
   ],
   "source": [
    "from keras.models import Sequential\n",
    "from keras.layers import LSTM\n",
    "from keras.layers import Dropout\n",
    "from keras.layers import Dense\n",
    "from keras.layers import TimeDistributed\n",
    "\n",
    "from keras import optimizers\n",
    "from keras.callbacks import History\n",
    "from keras.models import Model\n",
    "from keras.layers import Dense, Dropout, LSTM, Input, Activation, concatenate\n",
    "\n",
    "lstm_input = Input(shape=(lookback, len(data_set_scaled[0])), name='lstm_input')\n",
    "inputs = LSTM(128, name='first_layer', return_sequences=True)(lstm_input)\n",
    "inputs = Dropout(0.2)(inputs)\n",
    "inputs = LSTM(64, name='second_layer')(inputs)\n",
    "inputs = Dropout(0.2)(inputs)\n",
    "inputs = Dense(1, name='dense_layer')(inputs)\n",
    "output = Activation(keras.activations.linear, name='output')(inputs)\n",
    "model = Model(inputs=lstm_input, outputs=output)\n",
    "adam = optimizers.Adam()\n",
    "model.compile(optimizer=adam, loss='mse')\n",
    "model.fit(x=X_train, y=Y_train, batch_size=15, epochs=100, shuffle=True, validation_split=0.1)"
   ],
   "metadata": {
    "collapsed": false,
    "ExecuteTime": {
     "end_time": "2024-05-06T20:38:02.464695Z",
     "start_time": "2024-05-06T20:37:24.828474300Z"
    }
   },
   "id": "ecb6aeaa1e40515e"
  },
  {
   "cell_type": "code",
   "execution_count": 489,
   "outputs": [
    {
     "name": "stdout",
     "output_type": "stream",
     "text": [
      "\u001B[1m2/2\u001B[0m \u001B[32m━━━━━━━━━━━━━━━━━━━━\u001B[0m\u001B[37m\u001B[0m \u001B[1m0s\u001B[0m 203ms/step\n",
      "0.16249260489205714\n"
     ]
    }
   ],
   "source": [
    "from sklearn.metrics import root_mean_squared_error\n",
    "\n",
    "prediction = model.predict(X_test)\n",
    "rmse = root_mean_squared_error(Y_test, prediction)\n",
    "\n",
    "print(rmse)"
   ],
   "metadata": {
    "collapsed": false,
    "ExecuteTime": {
     "end_time": "2024-05-06T20:38:10.671940300Z",
     "start_time": "2024-05-06T20:38:10.208405Z"
    }
   },
   "id": "8877533ae3da0415"
  },
  {
   "cell_type": "code",
   "execution_count": 490,
   "outputs": [
    {
     "data": {
      "text/plain": "<Figure size 1500x600 with 1 Axes>",
      "image/png": "[encoded data removed]"
     },
     "metadata": {},
     "output_type": "display_data"
    }
   ],
   "source": [
    "plt.figure(figsize=(15,6))\n",
    "plt.plot(Y_test, color='red', label='test')\n",
    "plt.plot(prediction, color='green', label='prediction')\n",
    "plt.legend()\n",
    "plt.show()"
   ],
   "metadata": {
    "collapsed": false,
    "ExecuteTime": {
     "end_time": "2024-05-06T20:38:12.769706800Z",
     "start_time": "2024-05-06T20:38:12.618139800Z"
    }
   },
   "id": "4f452e0bf55f9d38"
  },
  {
   "cell_type": "code",
   "execution_count": null,
   "outputs": [],
   "source": [],
   "metadata": {
    "collapsed": false
   },
   "id": "c934b179008ebaf0"
  }
 ],
 "metadata": {
  "kernelspec": {
   "display_name": "Python 3",
   "language": "python",
   "name": "python3"
  },
  "language_info": {
   "codemirror_mode": {
    "name": "ipython",
    "version": 2
   },
   "file_extension": ".py",
   "mimetype": "text/x-python",
   "name": "python",
   "nbconvert_exporter": "python",
   "pygments_lexer": "ipython2",
   "version": "2.7.6"
  }
 },
 "nbformat": 4,
 "nbformat_minor": 5
}
