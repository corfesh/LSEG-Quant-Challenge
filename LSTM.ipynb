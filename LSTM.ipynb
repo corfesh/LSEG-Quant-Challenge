{
 "cells": [
  {
   "cell_type": "code",
   "execution_count": 414,
   "id": "initial_id",
   "metadata": {
    "collapsed": true,
    "ExecuteTime": {
     "end_time": "2024-05-07T09:53:07.049875400Z",
     "start_time": "2024-05-07T09:53:07.036639500Z"
    }
   },
   "outputs": [
    {
     "name": "stdout",
     "output_type": "stream",
     "text": [
      "    Exchange Date    Close    Net        RSI         EMAF       MACD  \\\n",
      "302    2023-02-23  1028.76   4.80  29.733511  1047.354304 -12.048748   \n",
      "301    2023-02-24  1011.73 -17.03  21.379820  1042.604397 -13.828487   \n",
      "300    2023-02-27  1008.77  -2.96  20.227437  1038.093144 -15.301406   \n",
      "299    2023-02-28  1004.17  -4.60  18.426688  1033.570058 -16.647978   \n",
      "298    2023-03-01  1028.69  24.52  47.495107  1032.919384 -15.557253   \n",
      "\n",
      "         MACDs  \n",
      "302  -8.731913  \n",
      "301  -9.751228  \n",
      "300 -10.861263  \n",
      "299 -12.018606  \n",
      "298 -12.726336  \n"
     ]
    }
   ],
   "source": [
    "import numpy as np\n",
    "import matplotlib.pyplot as plt\n",
    "import pandas as pd\n",
    "import pandas_ta as ta\n",
    "import os\n",
    "\n",
    "# read data from new csv file containing cleaned and formatted data\n",
    "csv_file_path = os.path.join(os.getcwd(), 'new_filtered_data.csv')\n",
    "data = pd.read_csv(csv_file_path).iloc[::-1]\n",
    "\n",
    "# add more indicators to help train the model\n",
    "data['RSI'] = ta.rsi(data['Close'], length=7)\n",
    "data['EMAF'] = ta.ema(data['Close'], length=14)\n",
    "data['MACD'] = ta.macd(data['Close'])['MACD_12_26_9']\n",
    "data['MACDs'] = ta.macd(data['Close'])['MACDs_12_26_9']\n",
    "\n",
    "# remove columns with NaN values\n",
    "data.dropna(inplace=True)\n",
    "print(data.head())"
   ]
  },
  {
   "cell_type": "markdown",
   "source": [
    "## Process data "
   ],
   "metadata": {
    "collapsed": false
   },
   "id": "3219d6b9f6ad574d"
  },
  {
   "cell_type": "code",
   "execution_count": 415,
   "outputs": [
    {
     "name": "stdout",
     "output_type": "stream",
     "text": [
      "       Close    Net        RSI         EMAF       MACD      MACDs\n",
      "302  1028.76   4.80  29.733511  1047.354304 -12.048748  -8.731913\n",
      "301  1011.73 -17.03  21.379820  1042.604397 -13.828487  -9.751228\n",
      "300  1008.77  -2.96  20.227437  1038.093144 -15.301406 -10.861263\n",
      "299  1004.17  -4.60  18.426688  1033.570058 -16.647978 -12.018606\n",
      "298  1028.69  24.52  47.495107  1032.919384 -15.557253 -12.726336\n"
     ]
    }
   ],
   "source": [
    "data.drop(['Exchange Date'], axis=1, inplace=True)\n",
    "print(data.head())"
   ],
   "metadata": {
    "collapsed": false,
    "ExecuteTime": {
     "end_time": "2024-05-07T09:53:10.855375200Z",
     "start_time": "2024-05-07T09:53:10.842362900Z"
    }
   },
   "id": "554a30c76395cd5a"
  },
  {
   "cell_type": "markdown",
   "source": [
    "## Scale Data"
   ],
   "metadata": {
    "collapsed": false
   },
   "id": "4a0377f4f09e950c"
  },
  {
   "cell_type": "code",
   "execution_count": 416,
   "outputs": [
    {
     "name": "stdout",
     "output_type": "stream",
     "text": [
      "       Close    Net        RSI         EMAF       MACD      MACDs\n",
      "302  1028.76   4.80  29.733511  1047.354304 -12.048748  -8.731913\n",
      "301  1011.73 -17.03  21.379820  1042.604397 -13.828487  -9.751228\n",
      "300  1008.77  -2.96  20.227437  1038.093144 -15.301406 -10.861263\n",
      "299  1004.17  -4.60  18.426688  1033.570058 -16.647978 -12.018606\n",
      "298  1028.69  24.52  47.495107  1032.919384 -15.557253 -12.726336\n",
      "\n",
      "[[0.44115661 0.58255715 0.21658939 0.57022608 0.18935197 0.25956242]\n",
      " [0.33660753 0.12044877 0.10417235 0.53494044 0.13359646 0.22411957]\n",
      " [0.31843575 0.41828959 0.08866454 0.50142769 0.087453   0.18552224]\n",
      " [0.29019584 0.38357324 0.06443156 0.46782704 0.04526771 0.14527998]\n",
      " [0.44072687 1.         0.4556102  0.46299337 0.07943784 0.12067134]\n",
      " [0.40419915 0.35499577 0.3970398  0.45291076 0.09689385 0.10485937]\n",
      " [0.45496961 0.65601185 0.49602783 0.45236388 0.13659293 0.10102229]\n",
      " [0.47633372 0.55461473 0.53581038 0.45533683 0.18129584 0.1078759 ]\n",
      " [0.44563816 0.37510584 0.47035217 0.45296092 0.2082174  0.1193349 ]\n",
      " [0.39339432 0.3008044  0.37028288 0.4424727  0.21212908 0.12937042]\n",
      " [0.33089815 0.26545301 0.27281485 0.42329968 0.19379502 0.133329  ]\n",
      " [0.24525754 0.18564776 0.17260846 0.39286569 0.14881932 0.12651204]\n",
      " [0.26907729 0.56308213 0.23842756 0.37033267 0.1280419  0.11644625]\n",
      " [0.17410522 0.15347163 0.13872195 0.33548112 0.07810259 0.09730796]\n",
      " [0.17398244 0.48052498 0.13860714 0.30525664 0.04449572 0.07453719]\n",
      " [0.13935785 0.361558   0.10480945 0.2734757  0.01002303 0.04866823]\n",
      " [0.19774081 0.6822608  0.28570224 0.25535181 0.01312607 0.02866189]\n",
      " [0.14402357 0.29572396 0.21289977 0.23097763 0.         0.00974305]\n",
      " [0.21308859 0.71909399 0.39211224 0.22099639 0.02429025 0.        ]\n",
      " [0.2711032  0.68099069 0.51234023 0.22170614 0.07312011 0.00304493]]\n"
     ]
    }
   ],
   "source": [
    "from sklearn.preprocessing import MinMaxScaler\n",
    "\n",
    "# Scale data in range 0,1 as it is easier for the model to understand\n",
    "print(data.head(), end='\\n\\n')\n",
    "scaler = MinMaxScaler(feature_range=(0,1))\n",
    "data_set_scaled = scaler.fit_transform(data)\n",
    "\n",
    "data_set_scaled = np.array(data_set_scaled)\n",
    "print(data_set_scaled[:5])"
   ],
   "metadata": {
    "collapsed": false,
    "ExecuteTime": {
     "end_time": "2024-05-07T09:53:12.403609500Z",
     "start_time": "2024-05-07T09:53:12.394703700Z"
    }
   },
   "id": "80a597db362adbde"
  },
  {
   "cell_type": "markdown",
   "source": [
    "## Separating data in batches"
   ],
   "metadata": {
    "collapsed": false
   },
   "id": "55a0493bad9b3024"
  },
  {
   "cell_type": "markdown",
   "source": [
    "Here X vector contains 28 values of the last 28 close values, and Y contains the next true 5 day close values. The model will train on the X and Y "
   ],
   "metadata": {
    "collapsed": false
   },
   "id": "f60cb0ec8e129c1c"
  },
  {
   "cell_type": "code",
   "execution_count": 417,
   "outputs": [],
   "source": [
    "X = []\n",
    "# how many data points to look behind at before predicting\n",
    "# 28 because its the average number of days in a month - can be modified\n",
    "lookback = 28\n",
    "\n",
    "# go trough every column \n",
    "for j in range(len(data_set_scaled[0])):\n",
    "    X.append([])\n",
    "    # go trough every data \n",
    "    for i in range(lookback, data_set_scaled.shape[0] - 4):\n",
    "        X[j].append(data_set_scaled[i-lookback:i, j])\n",
    "        \n",
    "Y = []\n",
    "for i in range(lookback, data_set_scaled.shape[0] - 4):\n",
    "    Y.append(data_set_scaled[i:i+5, 1])\n",
    "\n",
    "X = np.moveaxis(X, 0, 2)\n",
    "Y = np.array(Y)\n",
    "Y = np.reshape(Y, (len(Y), 5))"
   ],
   "metadata": {
    "collapsed": false,
    "ExecuteTime": {
     "end_time": "2024-05-07T09:53:16.342623500Z",
     "start_time": "2024-05-07T09:53:16.333581400Z"
    }
   },
   "id": "1dfc174186a64c8c"
  },
  {
   "cell_type": "code",
   "execution_count": 418,
   "outputs": [
    {
     "name": "stdout",
     "output_type": "stream",
     "text": [
      "(271, 28, 6)\n",
      "(271, 5)\n"
     ]
    }
   ],
   "source": [
    "print(X.shape)\n",
    "print(Y.shape)"
   ],
   "metadata": {
    "collapsed": false,
    "ExecuteTime": {
     "end_time": "2024-05-07T09:53:17.143043500Z",
     "start_time": "2024-05-07T09:53:17.137259100Z"
    }
   },
   "id": "907184b6a2d0d730"
  },
  {
   "cell_type": "markdown",
   "source": [
    "## Split data into train test sets"
   ],
   "metadata": {
    "collapsed": false
   },
   "id": "579d140362c339b8"
  },
  {
   "cell_type": "markdown",
   "source": [
    "We chose to go with a 80% train and 20% split"
   ],
   "metadata": {
    "collapsed": false
   },
   "id": "f6f3b05b0a3eed1d"
  },
  {
   "cell_type": "code",
   "execution_count": 419,
   "outputs": [
    {
     "name": "stdout",
     "output_type": "stream",
     "text": [
      "(216, 28, 6)\n",
      "(55, 28, 6)\n",
      "(216, 5)\n",
      "(55, 5)\n"
     ]
    }
   ],
   "source": [
    "split = int(len(X) * 0.8)\n",
    "X_train , X_test = X[:split], X[split:]\n",
    "Y_train , Y_test = Y[:split], Y[split:]\n",
    "\n",
    "print(X_train.shape)\n",
    "print(X_test.shape)\n",
    "print(Y_train.shape)\n",
    "print(Y_test.shape)"
   ],
   "metadata": {
    "collapsed": false,
    "ExecuteTime": {
     "end_time": "2024-05-07T09:53:18.708972200Z",
     "start_time": "2024-05-07T09:53:18.696208900Z"
    }
   },
   "id": "31a813bcc9fd3a9b"
  },
  {
   "cell_type": "markdown",
   "source": [
    "## LSTM Model"
   ],
   "metadata": {
    "collapsed": false
   },
   "id": "251bd46d374dfecb"
  },
  {
   "cell_type": "code",
   "execution_count": 420,
   "outputs": [
    {
     "name": "stdout",
     "output_type": "stream",
     "text": [
      "2.16.1\n",
      "[PhysicalDevice(name='/physical_device:CPU:0', device_type='CPU')]\n",
      "3.3.3\n"
     ]
    }
   ],
   "source": [
    "import tensorflow as tf\n",
    "from tensorflow import keras\n",
    "print(tf.__version__)\n",
    "print(tf.config.list_physical_devices('CPU'))\n",
    "print(keras.__version__)"
   ],
   "metadata": {
    "collapsed": false,
    "ExecuteTime": {
     "end_time": "2024-05-07T09:53:20.027994200Z",
     "start_time": "2024-05-07T09:53:20.019612500Z"
    }
   },
   "id": "3a4de84ebbbe93d6"
  },
  {
   "cell_type": "code",
   "execution_count": 421,
   "outputs": [
    {
     "name": "stdout",
     "output_type": "stream",
     "text": [
      "Epoch 1/10\n",
      "\u001B[1m7/7\u001B[0m \u001B[32m━━━━━━━━━━━━━━━━━━━━\u001B[0m\u001B[37m\u001B[0m \u001B[1m2s\u001B[0m 48ms/step - loss: 0.2118 - val_loss: 0.0381\n",
      "Epoch 2/10\n",
      "\u001B[1m7/7\u001B[0m \u001B[32m━━━━━━━━━━━━━━━━━━━━\u001B[0m\u001B[37m\u001B[0m \u001B[1m0s\u001B[0m 13ms/step - loss: 0.0436 - val_loss: 0.0875\n",
      "Epoch 3/10\n",
      "\u001B[1m7/7\u001B[0m \u001B[32m━━━━━━━━━━━━━━━━━━━━\u001B[0m\u001B[37m\u001B[0m \u001B[1m0s\u001B[0m 12ms/step - loss: 0.0442 - val_loss: 0.0354\n",
      "Epoch 4/10\n",
      "\u001B[1m7/7\u001B[0m \u001B[32m━━━━━━━━━━━━━━━━━━━━\u001B[0m\u001B[37m\u001B[0m \u001B[1m0s\u001B[0m 12ms/step - loss: 0.0331 - val_loss: 0.0342\n",
      "Epoch 5/10\n",
      "\u001B[1m7/7\u001B[0m \u001B[32m━━━━━━━━━━━━━━━━━━━━\u001B[0m\u001B[37m\u001B[0m \u001B[1m0s\u001B[0m 13ms/step - loss: 0.0318 - val_loss: 0.0392\n",
      "Epoch 6/10\n",
      "\u001B[1m7/7\u001B[0m \u001B[32m━━━━━━━━━━━━━━━━━━━━\u001B[0m\u001B[37m\u001B[0m \u001B[1m0s\u001B[0m 13ms/step - loss: 0.0302 - val_loss: 0.0400\n",
      "Epoch 7/10\n",
      "\u001B[1m7/7\u001B[0m \u001B[32m━━━━━━━━━━━━━━━━━━━━\u001B[0m\u001B[37m\u001B[0m \u001B[1m0s\u001B[0m 13ms/step - loss: 0.0313 - val_loss: 0.0335\n",
      "Epoch 8/10\n",
      "\u001B[1m7/7\u001B[0m \u001B[32m━━━━━━━━━━━━━━━━━━━━\u001B[0m\u001B[37m\u001B[0m \u001B[1m0s\u001B[0m 13ms/step - loss: 0.0279 - val_loss: 0.0330\n",
      "Epoch 9/10\n",
      "\u001B[1m7/7\u001B[0m \u001B[32m━━━━━━━━━━━━━━━━━━━━\u001B[0m\u001B[37m\u001B[0m \u001B[1m0s\u001B[0m 13ms/step - loss: 0.0294 - val_loss: 0.0362\n",
      "Epoch 10/10\n",
      "\u001B[1m7/7\u001B[0m \u001B[32m━━━━━━━━━━━━━━━━━━━━\u001B[0m\u001B[37m\u001B[0m \u001B[1m0s\u001B[0m 13ms/step - loss: 0.0280 - val_loss: 0.0342\n"
     ]
    },
    {
     "data": {
      "text/plain": "<keras.src.callbacks.history.History at 0x2cc662e06d0>"
     },
     "execution_count": 421,
     "metadata": {},
     "output_type": "execute_result"
    }
   ],
   "source": [
    "from keras.src.layers import BatchNormalization\n",
    "from keras.models import Sequential\n",
    "from keras.layers import LSTM\n",
    "from keras.layers import Dropout\n",
    "from keras.layers import Dense\n",
    "from keras.layers import TimeDistributed\n",
    "\n",
    "from keras import optimizers\n",
    "from keras.callbacks import History\n",
    "from keras.models import Model\n",
    "from keras.layers import Dense, Dropout, LSTM, Input, Activation, concatenate\n",
    "\n",
    "# the first input layer of the same size as the vectors in X\n",
    "lstm_input = Input(shape=(lookback, len(data_set_scaled[0])), name='lstm_input')\n",
    "# first hidden layer of 50 units\n",
    "inputs = LSTM(50, name='first_layer', return_sequences=True)(lstm_input)\n",
    "# second hidden layer of 50 units\n",
    "inputs = LSTM(50, name='second_layer', return_sequences=False)(inputs)\n",
    "# first layer to squish data in new dimension\n",
    "inputs = Dense(25, name='third_layer')(inputs)\n",
    "# second layer to squish data to output format\n",
    "inputs = Dense(5, name='dense_layer')(inputs)\n",
    "# activation funciton used: Tanh\n",
    "output = Activation(keras.activations.tanh, name='output')(inputs)\n",
    "model = Model(inputs=lstm_input, outputs=output)\n",
    "# added Adam optimizer for the model\n",
    "adam = optimizers.Adam()\n",
    "model.compile(optimizer=adam, loss='mse')\n",
    "# model.fit(x=X_train, y=Y_train, batch_size=32, epochs=10, shuffle=True, validation_split=0.1)\n",
    "model.fit(x=X, y=Y, batch_size=32, epochs=10, validation_split=0.1)"
   ],
   "metadata": {
    "collapsed": false,
    "ExecuteTime": {
     "end_time": "2024-05-07T09:53:26.034943400Z",
     "start_time": "2024-05-07T09:53:22.651686700Z"
    }
   },
   "id": "470b523b5c848590"
  },
  {
   "cell_type": "markdown",
   "source": [
    "## Overall RMSE "
   ],
   "metadata": {
    "collapsed": false
   },
   "id": "b9945f4a1f649b81"
  },
  {
   "cell_type": "markdown",
   "source": [
    "This cell is used for calculating RMSE on train/test data sets"
   ],
   "metadata": {
    "collapsed": false
   },
   "id": "89c689404bde1f03"
  },
  {
   "cell_type": "code",
   "execution_count": 422,
   "outputs": [
    {
     "name": "stdout",
     "output_type": "stream",
     "text": [
      "\u001B[1m2/2\u001B[0m \u001B[32m━━━━━━━━━━━━━━━━━━━━\u001B[0m\u001B[37m\u001B[0m \u001B[1m0s\u001B[0m 199ms/step\n",
      "0.16211152755372138\n"
     ]
    }
   ],
   "source": [
    "from sklearn.metrics import root_mean_squared_error\n",
    "\n",
    "prediction_batch = model.predict(X_test)\n",
    "rmse = root_mean_squared_error(Y_test, prediction_batch)\n",
    "\n",
    "print(rmse)"
   ],
   "metadata": {
    "collapsed": false,
    "ExecuteTime": {
     "end_time": "2024-05-07T09:53:28.791340100Z",
     "start_time": "2024-05-07T09:53:28.332230600Z"
    }
   },
   "id": "f8558803d429eb1d"
  },
  {
   "cell_type": "markdown",
   "source": [
    "## Last 5 Days Prediction"
   ],
   "metadata": {
    "collapsed": false
   },
   "id": "3519c2e39c03004c"
  },
  {
   "cell_type": "markdown",
   "source": [
    "This block retrieves the next 5 days from our last data point"
   ],
   "metadata": {
    "collapsed": false
   },
   "id": "a4080a6e3670e39"
  },
  {
   "cell_type": "code",
   "execution_count": 424,
   "outputs": [
    {
     "name": "stdout",
     "output_type": "stream",
     "text": [
      "\u001B[1m1/1\u001B[0m \u001B[32m━━━━━━━━━━━━━━━━━━━━\u001B[0m\u001B[37m\u001B[0m \u001B[1m0s\u001B[0m 19ms/step\n",
      "[[0.53653294 0.50796014 0.49534905 0.5424767  0.58413434]]\n"
     ]
    }
   ],
   "source": [
    "test = np.array([X[-1]]) \n",
    "prediction = model.predict(test)\n",
    "\n",
    "print(prediction)"
   ],
   "metadata": {
    "collapsed": false,
    "ExecuteTime": {
     "end_time": "2024-05-07T09:54:28.565985300Z",
     "start_time": "2024-05-07T09:54:28.508722700Z"
    }
   },
   "id": "6127bce13c2981a5"
  },
  {
   "cell_type": "markdown",
   "source": [
    "Here we scale out data back up to a more human understandable format (the original format)"
   ],
   "metadata": {
    "collapsed": false
   },
   "id": "8f21ecd077d67018"
  },
  {
   "cell_type": "code",
   "execution_count": 425,
   "outputs": [
    {
     "name": "stdout",
     "output_type": "stream",
     "text": [
      "[[0.53653294 0.50796014 0.49534905 0.5424767  0.58413434]]\n",
      "[1094.4058160138131, 1095.6818530607225, 1096.3621421623232, 1099.2687421154978, 1104.1432483506205]\n"
     ]
    }
   ],
   "source": [
    "# prediction = [[0.98643256, 1., 0.98103014, 0.90066916, 0.82804346]]\n",
    "scaled_prediction = scaler.inverse_transform([[test[-1][-1][0], prediction[0][0], 0, 0, 0, 0],\n",
    "                          [0, prediction[0][1], 0, 0, 0, 0],\n",
    "                          [0, prediction[0][2], 0, 0, 0, 0],\n",
    "                          [0, prediction[0][3], 0, 0, 0, 0],\n",
    "                          [0, prediction[0][4], 0, 0, 0, 0]])\n",
    "\n",
    "last_predicted = scaled_prediction[0][0]\n",
    "prediction_set = []\n",
    "for i in range(5):\n",
    "    prediction_set.append(last_predicted + scaled_prediction[i][1])\n",
    "    last_predicted = prediction_set[-1]\n",
    "\n",
    "print(prediction)\n",
    "print(prediction_set)"
   ],
   "metadata": {
    "collapsed": false,
    "ExecuteTime": {
     "end_time": "2024-05-07T09:54:29.794358Z",
     "start_time": "2024-05-07T09:54:29.787212600Z"
    }
   },
   "id": "626725f32f917d06"
  },
  {
   "cell_type": "markdown",
   "source": [
    "Plot of the test data (the actual correct 5 days) - red vs our prediction - green.\n",
    "And calculation of RMSE"
   ],
   "metadata": {
    "collapsed": false
   },
   "id": "be9b89d9e6ddbe44"
  },
  {
   "cell_type": "code",
   "execution_count": 426,
   "outputs": [
    {
     "data": {
      "text/plain": "<Figure size 1500x600 with 1 Axes>",
      "image/png": "[encoded data removed]"
     },
     "metadata": {},
     "output_type": "display_data"
    },
    {
     "name": "stdout",
     "output_type": "stream",
     "text": [
      "8.155564154148077\n"
     ]
    }
   ],
   "source": [
    "plt.figure(figsize=(15,6))\n",
    "test_set = [1112.34, 1102.34, 1088.62, 1091.21, 1077.11][::-1]\n",
    "\n",
    "plt.plot(test_set, color='red', label='test')\n",
    "plt.plot(prediction_set, color='green', label='prediction')\n",
    "plt.legend()\n",
    "plt.show()\n",
    "\n",
    "print(root_mean_squared_error([prediction_set], [test_set]))"
   ],
   "metadata": {
    "collapsed": false,
    "ExecuteTime": {
     "end_time": "2024-05-07T09:54:30.932185600Z",
     "start_time": "2024-05-07T09:54:30.810721700Z"
    }
   },
   "id": "bc863b9e1a8b2875"
  }
 ],
 "metadata": {
  "kernelspec": {
   "display_name": "Python 3",
   "language": "python",
   "name": "python3"
  },
  "language_info": {
   "codemirror_mode": {
    "name": "ipython",
    "version": 2
   },
   "file_extension": ".py",
   "mimetype": "text/x-python",
   "name": "python",
   "nbconvert_exporter": "python",
   "pygments_lexer": "ipython2",
   "version": "2.7.6"
  }
 },
 "nbformat": 4,
 "nbformat_minor": 5
}
