{
 "cells": [
  {
   "cell_type": "code",
   "execution_count": 8,
   "metadata": {},
   "outputs": [
    {
     "data": {
      "text/html": [
       "        <script type=\"text/javascript\">\n",
       "        window.PlotlyConfig = {MathJaxConfig: 'local'};\n",
       "        if (window.MathJax && window.MathJax.Hub && window.MathJax.Hub.Config) {window.MathJax.Hub.Config({SVG: {font: \"STIX-Web\"}});}\n",
       "        if (typeof require !== 'undefined') {\n",
       "        require.undef(\"plotly\");\n",
       "        requirejs.config({\n",
       "            paths: {\n",
       "                'plotly': ['https://cdn.plot.ly/plotly-2.12.1.min']\n",
       "            }\n",
       "        });\n",
       "        require(['plotly'], function(Plotly) {\n",
       "            window._Plotly = Plotly;\n",
       "        });\n",
       "        }\n",
       "        </script>\n",
       "        "
      ]
     },
     "metadata": {},
     "output_type": "display_data"
    },
    {
     "data": {
      "text/plain": [
       "(336, 3)"
      ]
     },
     "execution_count": 8,
     "metadata": {},
     "output_type": "execute_result"
    }
   ],
   "source": [
    "import pandas as pd\n",
    "import numpy as np\n",
    "import matplotlib.pyplot as plt\n",
    "\n",
    "import xgboost as xgb\n",
    "from sklearn.metrics import mean_squared_error\n",
    "import os\n",
    "\n",
    "from plotly.offline import init_notebook_mode\n",
    "init_notebook_mode(connected=True)\n",
    "\n",
    "csv_file_path = os.path.join(os.getcwd(), 'new_filtered_data.csv')\n",
    "df = pd.read_csv(csv_file_path)\n",
    "df.shape"
   ]
  },
  {
   "cell_type": "code",
   "execution_count": 9,
   "metadata": {},
   "outputs": [],
   "source": [
    "df = df.rename(columns={'Exchange Date': 'Date'}) # rename column for easier access\n",
    "df['Date'] = pd.to_datetime(df['Date']) # convert to datetime"
   ]
  },
  {
   "cell_type": "code",
   "execution_count": 10,
   "metadata": {},
   "outputs": [],
   "source": [
    "df = df[::-1].copy(deep = True) # reverse the dataframe to make it in ascending order"
   ]
  },
  {
   "cell_type": "code",
   "execution_count": 11,
   "metadata": {},
   "outputs": [
    {
     "name": "stdout",
     "output_type": "stream",
     "text": [
      "          Date    Close    Net\n",
      "335 2023-01-09  1056.41  23.41\n",
      "334 2023-01-10  1057.60   1.19\n",
      "333 2023-01-11  1061.51   3.91\n",
      "332 2023-01-12  1063.11   1.60\n",
      "331 2023-01-13  1074.82  11.71\n"
     ]
    }
   ],
   "source": [
    "print(df.head())"
   ]
  },
  {
   "cell_type": "code",
   "execution_count": 12,
   "metadata": {},
   "outputs": [
    {
     "data": {
      "text/html": [
       "<div>\n",
       "<style scoped>\n",
       "    .dataframe tbody tr th:only-of-type {\n",
       "        vertical-align: middle;\n",
       "    }\n",
       "\n",
       "    .dataframe tbody tr th {\n",
       "        vertical-align: top;\n",
       "    }\n",
       "\n",
       "    .dataframe thead th {\n",
       "        text-align: right;\n",
       "    }\n",
       "</style>\n",
       "<table border=\"1\" class=\"dataframe\">\n",
       "  <thead>\n",
       "    <tr style=\"text-align: right;\">\n",
       "      <th></th>\n",
       "      <th>Close</th>\n",
       "      <th>Net</th>\n",
       "    </tr>\n",
       "    <tr>\n",
       "      <th>Date</th>\n",
       "      <th></th>\n",
       "      <th></th>\n",
       "    </tr>\n",
       "  </thead>\n",
       "  <tbody>\n",
       "    <tr>\n",
       "      <th>2023-01-09</th>\n",
       "      <td>1056.41</td>\n",
       "      <td>23.41</td>\n",
       "    </tr>\n",
       "    <tr>\n",
       "      <th>2023-01-10</th>\n",
       "      <td>1057.60</td>\n",
       "      <td>1.19</td>\n",
       "    </tr>\n",
       "    <tr>\n",
       "      <th>2023-01-11</th>\n",
       "      <td>1061.51</td>\n",
       "      <td>3.91</td>\n",
       "    </tr>\n",
       "    <tr>\n",
       "      <th>2023-01-12</th>\n",
       "      <td>1063.11</td>\n",
       "      <td>1.60</td>\n",
       "    </tr>\n",
       "    <tr>\n",
       "      <th>2023-01-13</th>\n",
       "      <td>1074.82</td>\n",
       "      <td>11.71</td>\n",
       "    </tr>\n",
       "  </tbody>\n",
       "</table>\n",
       "</div>"
      ],
      "text/plain": [
       "              Close    Net\n",
       "Date                      \n",
       "2023-01-09  1056.41  23.41\n",
       "2023-01-10  1057.60   1.19\n",
       "2023-01-11  1061.51   3.91\n",
       "2023-01-12  1063.11   1.60\n",
       "2023-01-13  1074.82  11.71"
      ]
     },
     "execution_count": 12,
     "metadata": {},
     "output_type": "execute_result"
    }
   ],
   "source": [
    "df.set_index('Date', inplace=True) \n",
    "df.head()\n"
   ]
  },
  {
   "cell_type": "code",
   "execution_count": 13,
   "metadata": {},
   "outputs": [
    {
     "data": {
      "text/html": [
       "<div>\n",
       "<style scoped>\n",
       "    .dataframe tbody tr th:only-of-type {\n",
       "        vertical-align: middle;\n",
       "    }\n",
       "\n",
       "    .dataframe tbody tr th {\n",
       "        vertical-align: top;\n",
       "    }\n",
       "\n",
       "    .dataframe thead th {\n",
       "        text-align: right;\n",
       "    }\n",
       "</style>\n",
       "<table border=\"1\" class=\"dataframe\">\n",
       "  <thead>\n",
       "    <tr style=\"text-align: right;\">\n",
       "      <th></th>\n",
       "      <th>Close</th>\n",
       "    </tr>\n",
       "    <tr>\n",
       "      <th>Date</th>\n",
       "      <th></th>\n",
       "    </tr>\n",
       "  </thead>\n",
       "  <tbody>\n",
       "    <tr>\n",
       "      <th>2024-04-29 00:00:00</th>\n",
       "      <td>NaN</td>\n",
       "    </tr>\n",
       "    <tr>\n",
       "      <th>2024-04-26 00:00:00</th>\n",
       "      <td>NaN</td>\n",
       "    </tr>\n",
       "    <tr>\n",
       "      <th>2024-04-25 00:00:00</th>\n",
       "      <td>NaN</td>\n",
       "    </tr>\n",
       "    <tr>\n",
       "      <th>2024-04-24 00:00:00</th>\n",
       "      <td>NaN</td>\n",
       "    </tr>\n",
       "    <tr>\n",
       "      <th>2024-04-23 00:00:00</th>\n",
       "      <td>NaN</td>\n",
       "    </tr>\n",
       "  </tbody>\n",
       "</table>\n",
       "</div>"
      ],
      "text/plain": [
       "                     Close\n",
       "Date                      \n",
       "2024-04-29 00:00:00    NaN\n",
       "2024-04-26 00:00:00    NaN\n",
       "2024-04-25 00:00:00    NaN\n",
       "2024-04-24 00:00:00    NaN\n",
       "2024-04-23 00:00:00    NaN"
      ]
     },
     "execution_count": 13,
     "metadata": {},
     "output_type": "execute_result"
    }
   ],
   "source": [
    "to_predict_csv_file_path = os.path.join(os.getcwd(), 'to_predict.csv')\n",
    "to_predict_df = pd.read_csv(to_predict_csv_file_path)\n",
    "to_predict_df = to_predict_df.rename(columns={'Exchange Date': 'Date'})\n",
    "to_predict_df.set_index('Date', inplace=True)\n",
    "to_predict_df.head()"
   ]
  },
  {
   "cell_type": "code",
   "execution_count": 14,
   "metadata": {},
   "outputs": [
    {
     "data": {
      "text/html": [
       "<div>\n",
       "<style scoped>\n",
       "    .dataframe tbody tr th:only-of-type {\n",
       "        vertical-align: middle;\n",
       "    }\n",
       "\n",
       "    .dataframe tbody tr th {\n",
       "        vertical-align: top;\n",
       "    }\n",
       "\n",
       "    .dataframe thead th {\n",
       "        text-align: right;\n",
       "    }\n",
       "</style>\n",
       "<table border=\"1\" class=\"dataframe\">\n",
       "  <thead>\n",
       "    <tr style=\"text-align: right;\">\n",
       "      <th></th>\n",
       "      <th>Close</th>\n",
       "      <th>Net</th>\n",
       "    </tr>\n",
       "    <tr>\n",
       "      <th>Date</th>\n",
       "      <th></th>\n",
       "      <th></th>\n",
       "    </tr>\n",
       "  </thead>\n",
       "  <tbody>\n",
       "    <tr>\n",
       "      <th>2024-04-29 00:00:00</th>\n",
       "      <td>NaN</td>\n",
       "      <td>NaN</td>\n",
       "    </tr>\n",
       "    <tr>\n",
       "      <th>2024-04-26 00:00:00</th>\n",
       "      <td>NaN</td>\n",
       "      <td>NaN</td>\n",
       "    </tr>\n",
       "    <tr>\n",
       "      <th>2024-04-25 00:00:00</th>\n",
       "      <td>NaN</td>\n",
       "      <td>NaN</td>\n",
       "    </tr>\n",
       "    <tr>\n",
       "      <th>2024-04-24 00:00:00</th>\n",
       "      <td>NaN</td>\n",
       "      <td>NaN</td>\n",
       "    </tr>\n",
       "    <tr>\n",
       "      <th>2024-04-23 00:00:00</th>\n",
       "      <td>NaN</td>\n",
       "      <td>NaN</td>\n",
       "    </tr>\n",
       "    <tr>\n",
       "      <th>2024-04-22 00:00:00</th>\n",
       "      <td>1067.81</td>\n",
       "      <td>5.08</td>\n",
       "    </tr>\n",
       "    <tr>\n",
       "      <th>2024-04-19 00:00:00</th>\n",
       "      <td>1062.73</td>\n",
       "      <td>-15.16</td>\n",
       "    </tr>\n",
       "    <tr>\n",
       "      <th>2024-04-18 00:00:00</th>\n",
       "      <td>1077.89</td>\n",
       "      <td>3.02</td>\n",
       "    </tr>\n",
       "    <tr>\n",
       "      <th>2024-04-17 00:00:00</th>\n",
       "      <td>1074.87</td>\n",
       "      <td>3.81</td>\n",
       "    </tr>\n",
       "    <tr>\n",
       "      <th>2024-04-16 00:00:00</th>\n",
       "      <td>1071.06</td>\n",
       "      <td>-20.72</td>\n",
       "    </tr>\n",
       "  </tbody>\n",
       "</table>\n",
       "</div>"
      ],
      "text/plain": [
       "                       Close    Net\n",
       "Date                               \n",
       "2024-04-29 00:00:00      NaN    NaN\n",
       "2024-04-26 00:00:00      NaN    NaN\n",
       "2024-04-25 00:00:00      NaN    NaN\n",
       "2024-04-24 00:00:00      NaN    NaN\n",
       "2024-04-23 00:00:00      NaN    NaN\n",
       "2024-04-22 00:00:00  1067.81   5.08\n",
       "2024-04-19 00:00:00  1062.73 -15.16\n",
       "2024-04-18 00:00:00  1077.89   3.02\n",
       "2024-04-17 00:00:00  1074.87   3.81\n",
       "2024-04-16 00:00:00  1071.06 -20.72"
      ]
     },
     "execution_count": 14,
     "metadata": {},
     "output_type": "execute_result"
    }
   ],
   "source": [
    "df = pd.concat([df, to_predict_df[::-1]])\n",
    "df[::-1].head(10)"
   ]
  },
  {
   "cell_type": "markdown",
   "metadata": {},
   "source": [
    "## Creating useful features"
   ]
  },
  {
   "cell_type": "code",
   "execution_count": 15,
   "metadata": {},
   "outputs": [],
   "source": [
    "\n",
    "df['EMA_9'] = df['Close'].ewm(9).mean().shift() \n",
    "df['SMA_5'] = df['Close'].rolling(5).mean().shift()\n",
    "df['SMA_10'] = df['Close'].rolling(10).mean().shift()\n",
    "df['SMA_15'] = df['Close'].rolling(15).mean().shift()\n",
    "df['SMA_30'] = df['Close'].rolling(30).mean().shift()\n"
   ]
  },
  {
   "cell_type": "code",
   "execution_count": 10,
   "metadata": {},
   "outputs": [
    {
     "data": {
      "text/html": [
       "<div>\n",
       "<style scoped>\n",
       "    .dataframe tbody tr th:only-of-type {\n",
       "        vertical-align: middle;\n",
       "    }\n",
       "\n",
       "    .dataframe tbody tr th {\n",
       "        vertical-align: top;\n",
       "    }\n",
       "\n",
       "    .dataframe thead th {\n",
       "        text-align: right;\n",
       "    }\n",
       "</style>\n",
       "<table border=\"1\" class=\"dataframe\">\n",
       "  <thead>\n",
       "    <tr style=\"text-align: right;\">\n",
       "      <th></th>\n",
       "      <th>Close</th>\n",
       "      <th>Net</th>\n",
       "      <th>%Chg</th>\n",
       "      <th>Open</th>\n",
       "      <th>Low</th>\n",
       "      <th>High</th>\n",
       "      <th>EMA_9</th>\n",
       "      <th>SMA_5</th>\n",
       "      <th>SMA_10</th>\n",
       "      <th>SMA_15</th>\n",
       "      <th>SMA_30</th>\n",
       "    </tr>\n",
       "    <tr>\n",
       "      <th>Date</th>\n",
       "      <th></th>\n",
       "      <th></th>\n",
       "      <th></th>\n",
       "      <th></th>\n",
       "      <th></th>\n",
       "      <th></th>\n",
       "      <th></th>\n",
       "      <th></th>\n",
       "      <th></th>\n",
       "      <th></th>\n",
       "      <th></th>\n",
       "    </tr>\n",
       "  </thead>\n",
       "  <tbody>\n",
       "    <tr>\n",
       "      <th>2024-01-01 00:00:00</th>\n",
       "      <td>1065.85</td>\n",
       "      <td>1.15</td>\n",
       "      <td>0.001500</td>\n",
       "      <td>1055.57</td>\n",
       "      <td>1055.65</td>\n",
       "      <td>1055.84</td>\n",
       "      <td>NaN</td>\n",
       "      <td>NaN</td>\n",
       "      <td>NaN</td>\n",
       "      <td>NaN</td>\n",
       "      <td>NaN</td>\n",
       "    </tr>\n",
       "    <tr>\n",
       "      <th>2024-01-02 00:00:00</th>\n",
       "      <td>1053.79</td>\n",
       "      <td>-10.09</td>\n",
       "      <td>-0.009484</td>\n",
       "      <td>1063.99</td>\n",
       "      <td>1052.33</td>\n",
       "      <td>1065.07</td>\n",
       "      <td>1065.850000</td>\n",
       "      <td>NaN</td>\n",
       "      <td>NaN</td>\n",
       "      <td>NaN</td>\n",
       "      <td>NaN</td>\n",
       "    </tr>\n",
       "    <tr>\n",
       "      <th>2024-01-03 00:00:00</th>\n",
       "      <td>1040.77</td>\n",
       "      <td>-13.02</td>\n",
       "      <td>-0.012355</td>\n",
       "      <td>1053.27</td>\n",
       "      <td>1040.29</td>\n",
       "      <td>1053.33</td>\n",
       "      <td>1059.502632</td>\n",
       "      <td>NaN</td>\n",
       "      <td>NaN</td>\n",
       "      <td>NaN</td>\n",
       "      <td>NaN</td>\n",
       "    </tr>\n",
       "    <tr>\n",
       "      <th>2024-01-04 00:00:00</th>\n",
       "      <td>1044.52</td>\n",
       "      <td>3.75</td>\n",
       "      <td>0.003603</td>\n",
       "      <td>1040.96</td>\n",
       "      <td>1038.94</td>\n",
       "      <td>1046.81</td>\n",
       "      <td>1052.590221</td>\n",
       "      <td>NaN</td>\n",
       "      <td>NaN</td>\n",
       "      <td>NaN</td>\n",
       "      <td>NaN</td>\n",
       "    </tr>\n",
       "    <tr>\n",
       "      <th>2024-01-05 00:00:00</th>\n",
       "      <td>1043.98</td>\n",
       "      <td>-0.54</td>\n",
       "      <td>-0.000517</td>\n",
       "      <td>1045.21</td>\n",
       "      <td>1038.93</td>\n",
       "      <td>1045.52</td>\n",
       "      <td>1050.243545</td>\n",
       "      <td>NaN</td>\n",
       "      <td>NaN</td>\n",
       "      <td>NaN</td>\n",
       "      <td>NaN</td>\n",
       "    </tr>\n",
       "  </tbody>\n",
       "</table>\n",
       "</div>"
      ],
      "text/plain": [
       "                       Close    Net      %Chg     Open      Low     High  \\\n",
       "Date                                                                       \n",
       "2024-01-01 00:00:00  1065.85   1.15  0.001500  1055.57  1055.65  1055.84   \n",
       "2024-01-02 00:00:00  1053.79 -10.09 -0.009484  1063.99  1052.33  1065.07   \n",
       "2024-01-03 00:00:00  1040.77 -13.02 -0.012355  1053.27  1040.29  1053.33   \n",
       "2024-01-04 00:00:00  1044.52   3.75  0.003603  1040.96  1038.94  1046.81   \n",
       "2024-01-05 00:00:00  1043.98  -0.54 -0.000517  1045.21  1038.93  1045.52   \n",
       "\n",
       "                           EMA_9  SMA_5  SMA_10  SMA_15  SMA_30  \n",
       "Date                                                             \n",
       "2024-01-01 00:00:00          NaN    NaN     NaN     NaN     NaN  \n",
       "2024-01-02 00:00:00  1065.850000    NaN     NaN     NaN     NaN  \n",
       "2024-01-03 00:00:00  1059.502632    NaN     NaN     NaN     NaN  \n",
       "2024-01-04 00:00:00  1052.590221    NaN     NaN     NaN     NaN  \n",
       "2024-01-05 00:00:00  1050.243545    NaN     NaN     NaN     NaN  "
      ]
     },
     "execution_count": 10,
     "metadata": {},
     "output_type": "execute_result"
    }
   ],
   "source": [
    "df.head()"
   ]
  },
  {
   "cell_type": "code",
   "execution_count": 17,
   "metadata": {},
   "outputs": [],
   "source": [
    "def relative_strength_idx(df, n=14):\n",
    "    close = df['Close']\n",
    "    delta = close.diff()\n",
    "    delta = delta[1:]\n",
    "    pricesUp = delta.copy()\n",
    "    pricesDown = delta.copy()\n",
    "    pricesUp[pricesUp < 0] = 0\n",
    "    pricesDown[pricesDown > 0] = 0\n",
    "    rollUp = pricesUp.rolling(n).mean()\n",
    "    rollDown = pricesDown.abs().rolling(n).mean()\n",
    "    rs = rollUp / rollDown\n",
    "    rsi = 100.0 - (100.0 / (1.0 + rs))\n",
    "    return rsi\n",
    "\n",
    "df['RSI'] = relative_strength_idx(df).fillna(0)\n",
    "\n"
   ]
  },
  {
   "cell_type": "code",
   "execution_count": 18,
   "metadata": {},
   "outputs": [],
   "source": [
    "EMA_12 = pd.Series(df['Close'].ewm(span=12, min_periods=12).mean())\n",
    "EMA_26 = pd.Series(df['Close'].ewm(span=26, min_periods=26).mean())\n"
   ]
  },
  {
   "cell_type": "code",
   "execution_count": 24,
   "metadata": {},
   "outputs": [],
   "source": [
    "\n",
    "df['MACD'] = pd.Series(EMA_12 - EMA_26)\n",
    "df['MACD_signal'] = pd.Series(df.MACD.ewm(span=9, min_periods=9).mean())\n"
   ]
  },
  {
   "cell_type": "code",
   "execution_count": 15,
   "metadata": {},
   "outputs": [
    {
     "data": {
      "text/html": [
       "<div>\n",
       "<style scoped>\n",
       "    .dataframe tbody tr th:only-of-type {\n",
       "        vertical-align: middle;\n",
       "    }\n",
       "\n",
       "    .dataframe tbody tr th {\n",
       "        vertical-align: top;\n",
       "    }\n",
       "\n",
       "    .dataframe thead th {\n",
       "        text-align: right;\n",
       "    }\n",
       "</style>\n",
       "<table border=\"1\" class=\"dataframe\">\n",
       "  <thead>\n",
       "    <tr style=\"text-align: right;\">\n",
       "      <th></th>\n",
       "      <th>Close</th>\n",
       "      <th>Net</th>\n",
       "      <th>%Chg</th>\n",
       "      <th>Open</th>\n",
       "      <th>Low</th>\n",
       "      <th>High</th>\n",
       "      <th>EMA_9</th>\n",
       "      <th>SMA_5</th>\n",
       "      <th>SMA_10</th>\n",
       "      <th>SMA_15</th>\n",
       "      <th>SMA_30</th>\n",
       "      <th>RSI</th>\n",
       "      <th>MACD</th>\n",
       "      <th>MACD_signal</th>\n",
       "    </tr>\n",
       "    <tr>\n",
       "      <th>Date</th>\n",
       "      <th></th>\n",
       "      <th></th>\n",
       "      <th></th>\n",
       "      <th></th>\n",
       "      <th></th>\n",
       "      <th></th>\n",
       "      <th></th>\n",
       "      <th></th>\n",
       "      <th></th>\n",
       "      <th></th>\n",
       "      <th></th>\n",
       "      <th></th>\n",
       "      <th></th>\n",
       "      <th></th>\n",
       "    </tr>\n",
       "  </thead>\n",
       "  <tbody>\n",
       "    <tr>\n",
       "      <th>2024-01-01 00:00:00</th>\n",
       "      <td>1065.85</td>\n",
       "      <td>1.15</td>\n",
       "      <td>0.001500</td>\n",
       "      <td>1055.57</td>\n",
       "      <td>1055.65</td>\n",
       "      <td>1055.84</td>\n",
       "      <td>NaN</td>\n",
       "      <td>NaN</td>\n",
       "      <td>NaN</td>\n",
       "      <td>NaN</td>\n",
       "      <td>NaN</td>\n",
       "      <td>NaN</td>\n",
       "      <td>NaN</td>\n",
       "      <td>NaN</td>\n",
       "    </tr>\n",
       "    <tr>\n",
       "      <th>2024-01-02 00:00:00</th>\n",
       "      <td>1053.79</td>\n",
       "      <td>-10.09</td>\n",
       "      <td>-0.009484</td>\n",
       "      <td>1063.99</td>\n",
       "      <td>1052.33</td>\n",
       "      <td>1065.07</td>\n",
       "      <td>1065.850000</td>\n",
       "      <td>NaN</td>\n",
       "      <td>NaN</td>\n",
       "      <td>NaN</td>\n",
       "      <td>NaN</td>\n",
       "      <td>0.0</td>\n",
       "      <td>NaN</td>\n",
       "      <td>NaN</td>\n",
       "    </tr>\n",
       "    <tr>\n",
       "      <th>2024-01-03 00:00:00</th>\n",
       "      <td>1040.77</td>\n",
       "      <td>-13.02</td>\n",
       "      <td>-0.012355</td>\n",
       "      <td>1053.27</td>\n",
       "      <td>1040.29</td>\n",
       "      <td>1053.33</td>\n",
       "      <td>1059.502632</td>\n",
       "      <td>NaN</td>\n",
       "      <td>NaN</td>\n",
       "      <td>NaN</td>\n",
       "      <td>NaN</td>\n",
       "      <td>0.0</td>\n",
       "      <td>NaN</td>\n",
       "      <td>NaN</td>\n",
       "    </tr>\n",
       "    <tr>\n",
       "      <th>2024-01-04 00:00:00</th>\n",
       "      <td>1044.52</td>\n",
       "      <td>3.75</td>\n",
       "      <td>0.003603</td>\n",
       "      <td>1040.96</td>\n",
       "      <td>1038.94</td>\n",
       "      <td>1046.81</td>\n",
       "      <td>1052.590221</td>\n",
       "      <td>NaN</td>\n",
       "      <td>NaN</td>\n",
       "      <td>NaN</td>\n",
       "      <td>NaN</td>\n",
       "      <td>0.0</td>\n",
       "      <td>NaN</td>\n",
       "      <td>NaN</td>\n",
       "    </tr>\n",
       "    <tr>\n",
       "      <th>2024-01-05 00:00:00</th>\n",
       "      <td>1043.98</td>\n",
       "      <td>-0.54</td>\n",
       "      <td>-0.000517</td>\n",
       "      <td>1045.21</td>\n",
       "      <td>1038.93</td>\n",
       "      <td>1045.52</td>\n",
       "      <td>1050.243545</td>\n",
       "      <td>NaN</td>\n",
       "      <td>NaN</td>\n",
       "      <td>NaN</td>\n",
       "      <td>NaN</td>\n",
       "      <td>0.0</td>\n",
       "      <td>NaN</td>\n",
       "      <td>NaN</td>\n",
       "    </tr>\n",
       "  </tbody>\n",
       "</table>\n",
       "</div>"
      ],
      "text/plain": [
       "                       Close    Net      %Chg     Open      Low     High  \\\n",
       "Date                                                                       \n",
       "2024-01-01 00:00:00  1065.85   1.15  0.001500  1055.57  1055.65  1055.84   \n",
       "2024-01-02 00:00:00  1053.79 -10.09 -0.009484  1063.99  1052.33  1065.07   \n",
       "2024-01-03 00:00:00  1040.77 -13.02 -0.012355  1053.27  1040.29  1053.33   \n",
       "2024-01-04 00:00:00  1044.52   3.75  0.003603  1040.96  1038.94  1046.81   \n",
       "2024-01-05 00:00:00  1043.98  -0.54 -0.000517  1045.21  1038.93  1045.52   \n",
       "\n",
       "                           EMA_9  SMA_5  SMA_10  SMA_15  SMA_30  RSI  MACD  \\\n",
       "Date                                                                         \n",
       "2024-01-01 00:00:00          NaN    NaN     NaN     NaN     NaN  NaN   NaN   \n",
       "2024-01-02 00:00:00  1065.850000    NaN     NaN     NaN     NaN  0.0   NaN   \n",
       "2024-01-03 00:00:00  1059.502632    NaN     NaN     NaN     NaN  0.0   NaN   \n",
       "2024-01-04 00:00:00  1052.590221    NaN     NaN     NaN     NaN  0.0   NaN   \n",
       "2024-01-05 00:00:00  1050.243545    NaN     NaN     NaN     NaN  0.0   NaN   \n",
       "\n",
       "                     MACD_signal  \n",
       "Date                              \n",
       "2024-01-01 00:00:00          NaN  \n",
       "2024-01-02 00:00:00          NaN  \n",
       "2024-01-03 00:00:00          NaN  \n",
       "2024-01-04 00:00:00          NaN  \n",
       "2024-01-05 00:00:00          NaN  "
      ]
     },
     "execution_count": 15,
     "metadata": {},
     "output_type": "execute_result"
    }
   ],
   "source": [
    "df.head()"
   ]
  },
  {
   "cell_type": "code",
   "execution_count": 16,
   "metadata": {},
   "outputs": [
    {
     "data": {
      "text/html": [
       "<div>\n",
       "<style scoped>\n",
       "    .dataframe tbody tr th:only-of-type {\n",
       "        vertical-align: middle;\n",
       "    }\n",
       "\n",
       "    .dataframe tbody tr th {\n",
       "        vertical-align: top;\n",
       "    }\n",
       "\n",
       "    .dataframe thead th {\n",
       "        text-align: right;\n",
       "    }\n",
       "</style>\n",
       "<table border=\"1\" class=\"dataframe\">\n",
       "  <thead>\n",
       "    <tr style=\"text-align: right;\">\n",
       "      <th></th>\n",
       "      <th>Close</th>\n",
       "      <th>Net</th>\n",
       "      <th>%Chg</th>\n",
       "      <th>Open</th>\n",
       "      <th>Low</th>\n",
       "      <th>High</th>\n",
       "      <th>EMA_9</th>\n",
       "      <th>SMA_5</th>\n",
       "      <th>SMA_10</th>\n",
       "      <th>SMA_15</th>\n",
       "      <th>SMA_30</th>\n",
       "      <th>RSI</th>\n",
       "      <th>MACD</th>\n",
       "      <th>MACD_signal</th>\n",
       "    </tr>\n",
       "    <tr>\n",
       "      <th>Date</th>\n",
       "      <th></th>\n",
       "      <th></th>\n",
       "      <th></th>\n",
       "      <th></th>\n",
       "      <th></th>\n",
       "      <th></th>\n",
       "      <th></th>\n",
       "      <th></th>\n",
       "      <th></th>\n",
       "      <th></th>\n",
       "      <th></th>\n",
       "      <th></th>\n",
       "      <th></th>\n",
       "      <th></th>\n",
       "    </tr>\n",
       "  </thead>\n",
       "  <tbody>\n",
       "    <tr>\n",
       "      <th>2024-04-29 00:00:00</th>\n",
       "      <td>NaN</td>\n",
       "      <td>NaN</td>\n",
       "      <td>NaN</td>\n",
       "      <td>NaN</td>\n",
       "      <td>NaN</td>\n",
       "      <td>NaN</td>\n",
       "      <td>1089.130915</td>\n",
       "      <td>NaN</td>\n",
       "      <td>NaN</td>\n",
       "      <td>NaN</td>\n",
       "      <td>NaN</td>\n",
       "      <td>0.000000</td>\n",
       "      <td>-3.516424</td>\n",
       "      <td>-1.643612</td>\n",
       "    </tr>\n",
       "    <tr>\n",
       "      <th>2024-04-26 00:00:00</th>\n",
       "      <td>NaN</td>\n",
       "      <td>NaN</td>\n",
       "      <td>NaN</td>\n",
       "      <td>NaN</td>\n",
       "      <td>NaN</td>\n",
       "      <td>NaN</td>\n",
       "      <td>1089.130915</td>\n",
       "      <td>NaN</td>\n",
       "      <td>NaN</td>\n",
       "      <td>NaN</td>\n",
       "      <td>NaN</td>\n",
       "      <td>0.000000</td>\n",
       "      <td>-3.516424</td>\n",
       "      <td>-1.175407</td>\n",
       "    </tr>\n",
       "    <tr>\n",
       "      <th>2024-04-25 00:00:00</th>\n",
       "      <td>NaN</td>\n",
       "      <td>NaN</td>\n",
       "      <td>NaN</td>\n",
       "      <td>NaN</td>\n",
       "      <td>NaN</td>\n",
       "      <td>NaN</td>\n",
       "      <td>1089.130915</td>\n",
       "      <td>NaN</td>\n",
       "      <td>NaN</td>\n",
       "      <td>NaN</td>\n",
       "      <td>NaN</td>\n",
       "      <td>0.000000</td>\n",
       "      <td>-3.516424</td>\n",
       "      <td>-0.590151</td>\n",
       "    </tr>\n",
       "    <tr>\n",
       "      <th>2024-04-24 00:00:00</th>\n",
       "      <td>NaN</td>\n",
       "      <td>NaN</td>\n",
       "      <td>NaN</td>\n",
       "      <td>NaN</td>\n",
       "      <td>NaN</td>\n",
       "      <td>NaN</td>\n",
       "      <td>1089.130915</td>\n",
       "      <td>NaN</td>\n",
       "      <td>NaN</td>\n",
       "      <td>NaN</td>\n",
       "      <td>NaN</td>\n",
       "      <td>0.000000</td>\n",
       "      <td>-3.516424</td>\n",
       "      <td>0.141421</td>\n",
       "    </tr>\n",
       "    <tr>\n",
       "      <th>2024-04-23 00:00:00</th>\n",
       "      <td>NaN</td>\n",
       "      <td>NaN</td>\n",
       "      <td>NaN</td>\n",
       "      <td>NaN</td>\n",
       "      <td>NaN</td>\n",
       "      <td>NaN</td>\n",
       "      <td>1089.130915</td>\n",
       "      <td>1070.872</td>\n",
       "      <td>1091.955</td>\n",
       "      <td>1095.051333</td>\n",
       "      <td>1095.275333</td>\n",
       "      <td>0.000000</td>\n",
       "      <td>-3.516424</td>\n",
       "      <td>1.055887</td>\n",
       "    </tr>\n",
       "    <tr>\n",
       "      <th>2024-04-22 00:00:00</th>\n",
       "      <td>1067.81</td>\n",
       "      <td>5.08</td>\n",
       "      <td>0.004780</td>\n",
       "      <td>1063.63</td>\n",
       "      <td>1061.95</td>\n",
       "      <td>1069.61</td>\n",
       "      <td>1091.500615</td>\n",
       "      <td>1078.032</td>\n",
       "      <td>1095.442</td>\n",
       "      <td>1096.970667</td>\n",
       "      <td>1096.042000</td>\n",
       "      <td>37.806587</td>\n",
       "      <td>-3.516424</td>\n",
       "      <td>2.198973</td>\n",
       "    </tr>\n",
       "    <tr>\n",
       "      <th>2024-04-19 00:00:00</th>\n",
       "      <td>1062.73</td>\n",
       "      <td>-15.16</td>\n",
       "      <td>-0.014065</td>\n",
       "      <td>1077.39</td>\n",
       "      <td>1054.16</td>\n",
       "      <td>1077.51</td>\n",
       "      <td>1094.698415</td>\n",
       "      <td>1088.826</td>\n",
       "      <td>1099.544</td>\n",
       "      <td>1099.049333</td>\n",
       "      <td>1096.866333</td>\n",
       "      <td>34.608743</td>\n",
       "      <td>-1.970002</td>\n",
       "      <td>3.627835</td>\n",
       "    </tr>\n",
       "    <tr>\n",
       "      <th>2024-04-18 00:00:00</th>\n",
       "      <td>1077.89</td>\n",
       "      <td>3.02</td>\n",
       "      <td>0.002810</td>\n",
       "      <td>1076.24</td>\n",
       "      <td>1072.81</td>\n",
       "      <td>1083.88</td>\n",
       "      <td>1096.566708</td>\n",
       "      <td>1097.206</td>\n",
       "      <td>1101.660</td>\n",
       "      <td>1099.838000</td>\n",
       "      <td>1096.906667</td>\n",
       "      <td>41.789668</td>\n",
       "      <td>0.548585</td>\n",
       "      <td>5.027311</td>\n",
       "    </tr>\n",
       "    <tr>\n",
       "      <th>2024-04-17 00:00:00</th>\n",
       "      <td>1074.87</td>\n",
       "      <td>3.81</td>\n",
       "      <td>0.003557</td>\n",
       "      <td>1070.80</td>\n",
       "      <td>1070.46</td>\n",
       "      <td>1076.86</td>\n",
       "      <td>1098.978445</td>\n",
       "      <td>1105.748</td>\n",
       "      <td>1104.682</td>\n",
       "      <td>1100.948000</td>\n",
       "      <td>1097.275000</td>\n",
       "      <td>42.479490</td>\n",
       "      <td>2.215554</td>\n",
       "      <td>6.147008</td>\n",
       "    </tr>\n",
       "    <tr>\n",
       "      <th>2024-04-16 00:00:00</th>\n",
       "      <td>1071.06</td>\n",
       "      <td>-20.72</td>\n",
       "      <td>-0.018978</td>\n",
       "      <td>1091.60</td>\n",
       "      <td>1070.13</td>\n",
       "      <td>1091.64</td>\n",
       "      <td>1102.081912</td>\n",
       "      <td>1113.038</td>\n",
       "      <td>1107.141</td>\n",
       "      <td>1102.230000</td>\n",
       "      <td>1097.560333</td>\n",
       "      <td>39.423077</td>\n",
       "      <td>4.617726</td>\n",
       "      <td>7.129889</td>\n",
       "    </tr>\n",
       "  </tbody>\n",
       "</table>\n",
       "</div>"
      ],
      "text/plain": [
       "                       Close    Net      %Chg     Open      Low     High  \\\n",
       "Date                                                                       \n",
       "2024-04-29 00:00:00      NaN    NaN       NaN      NaN      NaN      NaN   \n",
       "2024-04-26 00:00:00      NaN    NaN       NaN      NaN      NaN      NaN   \n",
       "2024-04-25 00:00:00      NaN    NaN       NaN      NaN      NaN      NaN   \n",
       "2024-04-24 00:00:00      NaN    NaN       NaN      NaN      NaN      NaN   \n",
       "2024-04-23 00:00:00      NaN    NaN       NaN      NaN      NaN      NaN   \n",
       "2024-04-22 00:00:00  1067.81   5.08  0.004780  1063.63  1061.95  1069.61   \n",
       "2024-04-19 00:00:00  1062.73 -15.16 -0.014065  1077.39  1054.16  1077.51   \n",
       "2024-04-18 00:00:00  1077.89   3.02  0.002810  1076.24  1072.81  1083.88   \n",
       "2024-04-17 00:00:00  1074.87   3.81  0.003557  1070.80  1070.46  1076.86   \n",
       "2024-04-16 00:00:00  1071.06 -20.72 -0.018978  1091.60  1070.13  1091.64   \n",
       "\n",
       "                           EMA_9     SMA_5    SMA_10       SMA_15  \\\n",
       "Date                                                                \n",
       "2024-04-29 00:00:00  1089.130915       NaN       NaN          NaN   \n",
       "2024-04-26 00:00:00  1089.130915       NaN       NaN          NaN   \n",
       "2024-04-25 00:00:00  1089.130915       NaN       NaN          NaN   \n",
       "2024-04-24 00:00:00  1089.130915       NaN       NaN          NaN   \n",
       "2024-04-23 00:00:00  1089.130915  1070.872  1091.955  1095.051333   \n",
       "2024-04-22 00:00:00  1091.500615  1078.032  1095.442  1096.970667   \n",
       "2024-04-19 00:00:00  1094.698415  1088.826  1099.544  1099.049333   \n",
       "2024-04-18 00:00:00  1096.566708  1097.206  1101.660  1099.838000   \n",
       "2024-04-17 00:00:00  1098.978445  1105.748  1104.682  1100.948000   \n",
       "2024-04-16 00:00:00  1102.081912  1113.038  1107.141  1102.230000   \n",
       "\n",
       "                          SMA_30        RSI      MACD  MACD_signal  \n",
       "Date                                                                \n",
       "2024-04-29 00:00:00          NaN   0.000000 -3.516424    -1.643612  \n",
       "2024-04-26 00:00:00          NaN   0.000000 -3.516424    -1.175407  \n",
       "2024-04-25 00:00:00          NaN   0.000000 -3.516424    -0.590151  \n",
       "2024-04-24 00:00:00          NaN   0.000000 -3.516424     0.141421  \n",
       "2024-04-23 00:00:00  1095.275333   0.000000 -3.516424     1.055887  \n",
       "2024-04-22 00:00:00  1096.042000  37.806587 -3.516424     2.198973  \n",
       "2024-04-19 00:00:00  1096.866333  34.608743 -1.970002     3.627835  \n",
       "2024-04-18 00:00:00  1096.906667  41.789668  0.548585     5.027311  \n",
       "2024-04-17 00:00:00  1097.275000  42.479490  2.215554     6.147008  \n",
       "2024-04-16 00:00:00  1097.560333  39.423077  4.617726     7.129889  "
      ]
     },
     "execution_count": 16,
     "metadata": {},
     "output_type": "execute_result"
    }
   ],
   "source": [
    "df[::-1].head(10)"
   ]
  },
  {
   "cell_type": "code",
   "execution_count": 25,
   "metadata": {},
   "outputs": [
    {
     "name": "stderr",
     "output_type": "stream",
     "text": [
      "c:\\Users\\anaro\\miniconda3\\envs\\lseg\\Lib\\site-packages\\pandas\\core\\indexing.py:2421: FutureWarning:\n",
      "\n",
      "Dtype inference on a pandas object (Series, Index, ExtensionArray) is deprecated. The Index constructor will keep the original dtype in the future. Call `infer_objects` on the result to get the old behavior.\n",
      "\n"
     ]
    }
   ],
   "source": [
    "df.loc[df.index[:-5], 'Close'] = df['Close'].shift(-5) # shift the close price 5 days ahead to predict the future price"
   ]
  },
  {
   "cell_type": "code",
   "execution_count": 18,
   "metadata": {},
   "outputs": [
    {
     "data": {
      "text/html": [
       "<div>\n",
       "<style scoped>\n",
       "    .dataframe tbody tr th:only-of-type {\n",
       "        vertical-align: middle;\n",
       "    }\n",
       "\n",
       "    .dataframe tbody tr th {\n",
       "        vertical-align: top;\n",
       "    }\n",
       "\n",
       "    .dataframe thead th {\n",
       "        text-align: right;\n",
       "    }\n",
       "</style>\n",
       "<table border=\"1\" class=\"dataframe\">\n",
       "  <thead>\n",
       "    <tr style=\"text-align: right;\">\n",
       "      <th></th>\n",
       "      <th>Close</th>\n",
       "      <th>Net</th>\n",
       "      <th>%Chg</th>\n",
       "      <th>Open</th>\n",
       "      <th>Low</th>\n",
       "      <th>High</th>\n",
       "      <th>EMA_9</th>\n",
       "      <th>SMA_5</th>\n",
       "      <th>SMA_10</th>\n",
       "      <th>SMA_15</th>\n",
       "      <th>SMA_30</th>\n",
       "      <th>RSI</th>\n",
       "      <th>MACD</th>\n",
       "      <th>MACD_signal</th>\n",
       "    </tr>\n",
       "    <tr>\n",
       "      <th>Date</th>\n",
       "      <th></th>\n",
       "      <th></th>\n",
       "      <th></th>\n",
       "      <th></th>\n",
       "      <th></th>\n",
       "      <th></th>\n",
       "      <th></th>\n",
       "      <th></th>\n",
       "      <th></th>\n",
       "      <th></th>\n",
       "      <th></th>\n",
       "      <th></th>\n",
       "      <th></th>\n",
       "      <th></th>\n",
       "    </tr>\n",
       "  </thead>\n",
       "  <tbody>\n",
       "    <tr>\n",
       "      <th>2024-04-29 00:00:00</th>\n",
       "      <td>NaN</td>\n",
       "      <td>NaN</td>\n",
       "      <td>NaN</td>\n",
       "      <td>NaN</td>\n",
       "      <td>NaN</td>\n",
       "      <td>NaN</td>\n",
       "      <td>1089.130915</td>\n",
       "      <td>NaN</td>\n",
       "      <td>NaN</td>\n",
       "      <td>NaN</td>\n",
       "      <td>NaN</td>\n",
       "      <td>0.000000</td>\n",
       "      <td>-3.516424</td>\n",
       "      <td>-1.643612</td>\n",
       "    </tr>\n",
       "    <tr>\n",
       "      <th>2024-04-26 00:00:00</th>\n",
       "      <td>NaN</td>\n",
       "      <td>NaN</td>\n",
       "      <td>NaN</td>\n",
       "      <td>NaN</td>\n",
       "      <td>NaN</td>\n",
       "      <td>NaN</td>\n",
       "      <td>1089.130915</td>\n",
       "      <td>NaN</td>\n",
       "      <td>NaN</td>\n",
       "      <td>NaN</td>\n",
       "      <td>NaN</td>\n",
       "      <td>0.000000</td>\n",
       "      <td>-3.516424</td>\n",
       "      <td>-1.175407</td>\n",
       "    </tr>\n",
       "    <tr>\n",
       "      <th>2024-04-25 00:00:00</th>\n",
       "      <td>NaN</td>\n",
       "      <td>NaN</td>\n",
       "      <td>NaN</td>\n",
       "      <td>NaN</td>\n",
       "      <td>NaN</td>\n",
       "      <td>NaN</td>\n",
       "      <td>1089.130915</td>\n",
       "      <td>NaN</td>\n",
       "      <td>NaN</td>\n",
       "      <td>NaN</td>\n",
       "      <td>NaN</td>\n",
       "      <td>0.000000</td>\n",
       "      <td>-3.516424</td>\n",
       "      <td>-0.590151</td>\n",
       "    </tr>\n",
       "    <tr>\n",
       "      <th>2024-04-24 00:00:00</th>\n",
       "      <td>NaN</td>\n",
       "      <td>NaN</td>\n",
       "      <td>NaN</td>\n",
       "      <td>NaN</td>\n",
       "      <td>NaN</td>\n",
       "      <td>NaN</td>\n",
       "      <td>1089.130915</td>\n",
       "      <td>NaN</td>\n",
       "      <td>NaN</td>\n",
       "      <td>NaN</td>\n",
       "      <td>NaN</td>\n",
       "      <td>0.000000</td>\n",
       "      <td>-3.516424</td>\n",
       "      <td>0.141421</td>\n",
       "    </tr>\n",
       "    <tr>\n",
       "      <th>2024-04-23 00:00:00</th>\n",
       "      <td>NaN</td>\n",
       "      <td>NaN</td>\n",
       "      <td>NaN</td>\n",
       "      <td>NaN</td>\n",
       "      <td>NaN</td>\n",
       "      <td>NaN</td>\n",
       "      <td>1089.130915</td>\n",
       "      <td>1070.872</td>\n",
       "      <td>1091.955</td>\n",
       "      <td>1095.051333</td>\n",
       "      <td>1095.275333</td>\n",
       "      <td>0.000000</td>\n",
       "      <td>-3.516424</td>\n",
       "      <td>1.055887</td>\n",
       "    </tr>\n",
       "    <tr>\n",
       "      <th>2024-04-22 00:00:00</th>\n",
       "      <td>NaN</td>\n",
       "      <td>5.08</td>\n",
       "      <td>0.004780</td>\n",
       "      <td>1063.63</td>\n",
       "      <td>1061.95</td>\n",
       "      <td>1069.61</td>\n",
       "      <td>1091.500615</td>\n",
       "      <td>1078.032</td>\n",
       "      <td>1095.442</td>\n",
       "      <td>1096.970667</td>\n",
       "      <td>1096.042000</td>\n",
       "      <td>37.806587</td>\n",
       "      <td>-3.516424</td>\n",
       "      <td>2.198973</td>\n",
       "    </tr>\n",
       "    <tr>\n",
       "      <th>2024-04-19 00:00:00</th>\n",
       "      <td>NaN</td>\n",
       "      <td>-15.16</td>\n",
       "      <td>-0.014065</td>\n",
       "      <td>1077.39</td>\n",
       "      <td>1054.16</td>\n",
       "      <td>1077.51</td>\n",
       "      <td>1094.698415</td>\n",
       "      <td>1088.826</td>\n",
       "      <td>1099.544</td>\n",
       "      <td>1099.049333</td>\n",
       "      <td>1096.866333</td>\n",
       "      <td>34.608743</td>\n",
       "      <td>-1.970002</td>\n",
       "      <td>3.627835</td>\n",
       "    </tr>\n",
       "    <tr>\n",
       "      <th>2024-04-18 00:00:00</th>\n",
       "      <td>NaN</td>\n",
       "      <td>3.02</td>\n",
       "      <td>0.002810</td>\n",
       "      <td>1076.24</td>\n",
       "      <td>1072.81</td>\n",
       "      <td>1083.88</td>\n",
       "      <td>1096.566708</td>\n",
       "      <td>1097.206</td>\n",
       "      <td>1101.660</td>\n",
       "      <td>1099.838000</td>\n",
       "      <td>1096.906667</td>\n",
       "      <td>41.789668</td>\n",
       "      <td>0.548585</td>\n",
       "      <td>5.027311</td>\n",
       "    </tr>\n",
       "    <tr>\n",
       "      <th>2024-04-17 00:00:00</th>\n",
       "      <td>NaN</td>\n",
       "      <td>3.81</td>\n",
       "      <td>0.003557</td>\n",
       "      <td>1070.80</td>\n",
       "      <td>1070.46</td>\n",
       "      <td>1076.86</td>\n",
       "      <td>1098.978445</td>\n",
       "      <td>1105.748</td>\n",
       "      <td>1104.682</td>\n",
       "      <td>1100.948000</td>\n",
       "      <td>1097.275000</td>\n",
       "      <td>42.479490</td>\n",
       "      <td>2.215554</td>\n",
       "      <td>6.147008</td>\n",
       "    </tr>\n",
       "    <tr>\n",
       "      <th>2024-04-16 00:00:00</th>\n",
       "      <td>NaN</td>\n",
       "      <td>-20.72</td>\n",
       "      <td>-0.018978</td>\n",
       "      <td>1091.60</td>\n",
       "      <td>1070.13</td>\n",
       "      <td>1091.64</td>\n",
       "      <td>1102.081912</td>\n",
       "      <td>1113.038</td>\n",
       "      <td>1107.141</td>\n",
       "      <td>1102.230000</td>\n",
       "      <td>1097.560333</td>\n",
       "      <td>39.423077</td>\n",
       "      <td>4.617726</td>\n",
       "      <td>7.129889</td>\n",
       "    </tr>\n",
       "    <tr>\n",
       "      <th>2024-04-12 00:00:00</th>\n",
       "      <td>1067.81</td>\n",
       "      <td>-13.09</td>\n",
       "      <td>-0.011722</td>\n",
       "      <td>1116.74</td>\n",
       "      <td>1103.61</td>\n",
       "      <td>1117.06</td>\n",
       "      <td>1101.912038</td>\n",
       "      <td>1112.852</td>\n",
       "      <td>1106.440</td>\n",
       "      <td>1101.451333</td>\n",
       "      <td>1096.635000</td>\n",
       "      <td>60.183486</td>\n",
       "      <td>8.003508</td>\n",
       "      <td>7.757944</td>\n",
       "    </tr>\n",
       "    <tr>\n",
       "      <th>2024-04-11 00:00:00</th>\n",
       "      <td>1062.73</td>\n",
       "      <td>-3.09</td>\n",
       "      <td>-0.002759</td>\n",
       "      <td>1117.28</td>\n",
       "      <td>1112.68</td>\n",
       "      <td>1118.30</td>\n",
       "      <td>1100.268004</td>\n",
       "      <td>1110.262</td>\n",
       "      <td>1104.161</td>\n",
       "      <td>1100.372000</td>\n",
       "      <td>1095.196333</td>\n",
       "      <td>72.956441</td>\n",
       "      <td>8.904734</td>\n",
       "      <td>7.696551</td>\n",
       "    </tr>\n",
       "    <tr>\n",
       "      <th>2024-04-10 00:00:00</th>\n",
       "      <td>1077.89</td>\n",
       "      <td>2.21</td>\n",
       "      <td>0.001977</td>\n",
       "      <td>1119.16</td>\n",
       "      <td>1116.54</td>\n",
       "      <td>1125.90</td>\n",
       "      <td>1098.097534</td>\n",
       "      <td>1106.114</td>\n",
       "      <td>1101.154</td>\n",
       "      <td>1098.101333</td>\n",
       "      <td>1094.013667</td>\n",
       "      <td>66.218035</td>\n",
       "      <td>8.597115</td>\n",
       "      <td>7.394495</td>\n",
       "    </tr>\n",
       "    <tr>\n",
       "      <th>2024-04-09 00:00:00</th>\n",
       "      <td>1074.87</td>\n",
       "      <td>10.07</td>\n",
       "      <td>0.009092</td>\n",
       "      <td>1108.37</td>\n",
       "      <td>1108.14</td>\n",
       "      <td>1120.14</td>\n",
       "      <td>1095.931307</td>\n",
       "      <td>1103.616</td>\n",
       "      <td>1098.548</td>\n",
       "      <td>1095.926000</td>\n",
       "      <td>1092.724667</td>\n",
       "      <td>72.114984</td>\n",
       "      <td>7.765848</td>\n",
       "      <td>7.093826</td>\n",
       "    </tr>\n",
       "    <tr>\n",
       "      <th>2024-04-08 00:00:00</th>\n",
       "      <td>1071.06</td>\n",
       "      <td>4.83</td>\n",
       "      <td>0.004380</td>\n",
       "      <td>1102.26</td>\n",
       "      <td>1101.73</td>\n",
       "      <td>1108.51</td>\n",
       "      <td>1094.643790</td>\n",
       "      <td>1101.244</td>\n",
       "      <td>1096.826</td>\n",
       "      <td>1095.064000</td>\n",
       "      <td>1091.871667</td>\n",
       "      <td>67.984694</td>\n",
       "      <td>6.815902</td>\n",
       "      <td>6.925812</td>\n",
       "    </tr>\n",
       "  </tbody>\n",
       "</table>\n",
       "</div>"
      ],
      "text/plain": [
       "                       Close    Net      %Chg     Open      Low     High  \\\n",
       "Date                                                                       \n",
       "2024-04-29 00:00:00      NaN    NaN       NaN      NaN      NaN      NaN   \n",
       "2024-04-26 00:00:00      NaN    NaN       NaN      NaN      NaN      NaN   \n",
       "2024-04-25 00:00:00      NaN    NaN       NaN      NaN      NaN      NaN   \n",
       "2024-04-24 00:00:00      NaN    NaN       NaN      NaN      NaN      NaN   \n",
       "2024-04-23 00:00:00      NaN    NaN       NaN      NaN      NaN      NaN   \n",
       "2024-04-22 00:00:00      NaN   5.08  0.004780  1063.63  1061.95  1069.61   \n",
       "2024-04-19 00:00:00      NaN -15.16 -0.014065  1077.39  1054.16  1077.51   \n",
       "2024-04-18 00:00:00      NaN   3.02  0.002810  1076.24  1072.81  1083.88   \n",
       "2024-04-17 00:00:00      NaN   3.81  0.003557  1070.80  1070.46  1076.86   \n",
       "2024-04-16 00:00:00      NaN -20.72 -0.018978  1091.60  1070.13  1091.64   \n",
       "2024-04-12 00:00:00  1067.81 -13.09 -0.011722  1116.74  1103.61  1117.06   \n",
       "2024-04-11 00:00:00  1062.73  -3.09 -0.002759  1117.28  1112.68  1118.30   \n",
       "2024-04-10 00:00:00  1077.89   2.21  0.001977  1119.16  1116.54  1125.90   \n",
       "2024-04-09 00:00:00  1074.87  10.07  0.009092  1108.37  1108.14  1120.14   \n",
       "2024-04-08 00:00:00  1071.06   4.83  0.004380  1102.26  1101.73  1108.51   \n",
       "\n",
       "                           EMA_9     SMA_5    SMA_10       SMA_15  \\\n",
       "Date                                                                \n",
       "2024-04-29 00:00:00  1089.130915       NaN       NaN          NaN   \n",
       "2024-04-26 00:00:00  1089.130915       NaN       NaN          NaN   \n",
       "2024-04-25 00:00:00  1089.130915       NaN       NaN          NaN   \n",
       "2024-04-24 00:00:00  1089.130915       NaN       NaN          NaN   \n",
       "2024-04-23 00:00:00  1089.130915  1070.872  1091.955  1095.051333   \n",
       "2024-04-22 00:00:00  1091.500615  1078.032  1095.442  1096.970667   \n",
       "2024-04-19 00:00:00  1094.698415  1088.826  1099.544  1099.049333   \n",
       "2024-04-18 00:00:00  1096.566708  1097.206  1101.660  1099.838000   \n",
       "2024-04-17 00:00:00  1098.978445  1105.748  1104.682  1100.948000   \n",
       "2024-04-16 00:00:00  1102.081912  1113.038  1107.141  1102.230000   \n",
       "2024-04-12 00:00:00  1101.912038  1112.852  1106.440  1101.451333   \n",
       "2024-04-11 00:00:00  1100.268004  1110.262  1104.161  1100.372000   \n",
       "2024-04-10 00:00:00  1098.097534  1106.114  1101.154  1098.101333   \n",
       "2024-04-09 00:00:00  1095.931307  1103.616  1098.548  1095.926000   \n",
       "2024-04-08 00:00:00  1094.643790  1101.244  1096.826  1095.064000   \n",
       "\n",
       "                          SMA_30        RSI      MACD  MACD_signal  \n",
       "Date                                                                \n",
       "2024-04-29 00:00:00          NaN   0.000000 -3.516424    -1.643612  \n",
       "2024-04-26 00:00:00          NaN   0.000000 -3.516424    -1.175407  \n",
       "2024-04-25 00:00:00          NaN   0.000000 -3.516424    -0.590151  \n",
       "2024-04-24 00:00:00          NaN   0.000000 -3.516424     0.141421  \n",
       "2024-04-23 00:00:00  1095.275333   0.000000 -3.516424     1.055887  \n",
       "2024-04-22 00:00:00  1096.042000  37.806587 -3.516424     2.198973  \n",
       "2024-04-19 00:00:00  1096.866333  34.608743 -1.970002     3.627835  \n",
       "2024-04-18 00:00:00  1096.906667  41.789668  0.548585     5.027311  \n",
       "2024-04-17 00:00:00  1097.275000  42.479490  2.215554     6.147008  \n",
       "2024-04-16 00:00:00  1097.560333  39.423077  4.617726     7.129889  \n",
       "2024-04-12 00:00:00  1096.635000  60.183486  8.003508     7.757944  \n",
       "2024-04-11 00:00:00  1095.196333  72.956441  8.904734     7.696551  \n",
       "2024-04-10 00:00:00  1094.013667  66.218035  8.597115     7.394495  \n",
       "2024-04-09 00:00:00  1092.724667  72.114984  7.765848     7.093826  \n",
       "2024-04-08 00:00:00  1091.871667  67.984694  6.815902     6.925812  "
      ]
     },
     "execution_count": 18,
     "metadata": {},
     "output_type": "execute_result"
    }
   ],
   "source": [
    "df[::-1].head(15)"
   ]
  },
  {
   "cell_type": "code",
   "execution_count": 26,
   "metadata": {},
   "outputs": [],
   "source": [
    "df = df.iloc[33:] # because of moving averages and MACD line\n",
    "df = df[:-5] # because of shift"
   ]
  },
  {
   "cell_type": "code",
   "execution_count": 27,
   "metadata": {},
   "outputs": [
    {
     "data": {
      "text/plain": [
       "303"
      ]
     },
     "execution_count": 27,
     "metadata": {},
     "output_type": "execute_result"
    }
   ],
   "source": [
    "len(df)"
   ]
  },
  {
   "cell_type": "code",
   "execution_count": 20,
   "metadata": {},
   "outputs": [
    {
     "data": {
      "text/html": [
       "<div>\n",
       "<style scoped>\n",
       "    .dataframe tbody tr th:only-of-type {\n",
       "        vertical-align: middle;\n",
       "    }\n",
       "\n",
       "    .dataframe tbody tr th {\n",
       "        vertical-align: top;\n",
       "    }\n",
       "\n",
       "    .dataframe thead th {\n",
       "        text-align: right;\n",
       "    }\n",
       "</style>\n",
       "<table border=\"1\" class=\"dataframe\">\n",
       "  <thead>\n",
       "    <tr style=\"text-align: right;\">\n",
       "      <th></th>\n",
       "      <th>Close</th>\n",
       "      <th>Net</th>\n",
       "      <th>%Chg</th>\n",
       "      <th>Open</th>\n",
       "      <th>Low</th>\n",
       "      <th>High</th>\n",
       "      <th>EMA_9</th>\n",
       "      <th>SMA_5</th>\n",
       "      <th>SMA_10</th>\n",
       "      <th>SMA_15</th>\n",
       "      <th>SMA_30</th>\n",
       "      <th>RSI</th>\n",
       "      <th>MACD</th>\n",
       "      <th>MACD_signal</th>\n",
       "    </tr>\n",
       "    <tr>\n",
       "      <th>Date</th>\n",
       "      <th></th>\n",
       "      <th></th>\n",
       "      <th></th>\n",
       "      <th></th>\n",
       "      <th></th>\n",
       "      <th></th>\n",
       "      <th></th>\n",
       "      <th></th>\n",
       "      <th></th>\n",
       "      <th></th>\n",
       "      <th></th>\n",
       "      <th></th>\n",
       "      <th></th>\n",
       "      <th></th>\n",
       "    </tr>\n",
       "  </thead>\n",
       "  <tbody>\n",
       "    <tr>\n",
       "      <th>2024-04-22 00:00:00</th>\n",
       "      <td>NaN</td>\n",
       "      <td>5.08</td>\n",
       "      <td>0.004780</td>\n",
       "      <td>1063.63</td>\n",
       "      <td>1061.95</td>\n",
       "      <td>1069.61</td>\n",
       "      <td>1091.500615</td>\n",
       "      <td>1078.032</td>\n",
       "      <td>1095.442</td>\n",
       "      <td>1096.970667</td>\n",
       "      <td>1096.042000</td>\n",
       "      <td>37.806587</td>\n",
       "      <td>-3.516424</td>\n",
       "      <td>2.198973</td>\n",
       "    </tr>\n",
       "    <tr>\n",
       "      <th>2024-04-19 00:00:00</th>\n",
       "      <td>NaN</td>\n",
       "      <td>-15.16</td>\n",
       "      <td>-0.014065</td>\n",
       "      <td>1077.39</td>\n",
       "      <td>1054.16</td>\n",
       "      <td>1077.51</td>\n",
       "      <td>1094.698415</td>\n",
       "      <td>1088.826</td>\n",
       "      <td>1099.544</td>\n",
       "      <td>1099.049333</td>\n",
       "      <td>1096.866333</td>\n",
       "      <td>34.608743</td>\n",
       "      <td>-1.970002</td>\n",
       "      <td>3.627835</td>\n",
       "    </tr>\n",
       "    <tr>\n",
       "      <th>2024-04-18 00:00:00</th>\n",
       "      <td>NaN</td>\n",
       "      <td>3.02</td>\n",
       "      <td>0.002810</td>\n",
       "      <td>1076.24</td>\n",
       "      <td>1072.81</td>\n",
       "      <td>1083.88</td>\n",
       "      <td>1096.566708</td>\n",
       "      <td>1097.206</td>\n",
       "      <td>1101.660</td>\n",
       "      <td>1099.838000</td>\n",
       "      <td>1096.906667</td>\n",
       "      <td>41.789668</td>\n",
       "      <td>0.548585</td>\n",
       "      <td>5.027311</td>\n",
       "    </tr>\n",
       "    <tr>\n",
       "      <th>2024-04-17 00:00:00</th>\n",
       "      <td>NaN</td>\n",
       "      <td>3.81</td>\n",
       "      <td>0.003557</td>\n",
       "      <td>1070.80</td>\n",
       "      <td>1070.46</td>\n",
       "      <td>1076.86</td>\n",
       "      <td>1098.978445</td>\n",
       "      <td>1105.748</td>\n",
       "      <td>1104.682</td>\n",
       "      <td>1100.948000</td>\n",
       "      <td>1097.275000</td>\n",
       "      <td>42.479490</td>\n",
       "      <td>2.215554</td>\n",
       "      <td>6.147008</td>\n",
       "    </tr>\n",
       "    <tr>\n",
       "      <th>2024-04-16 00:00:00</th>\n",
       "      <td>NaN</td>\n",
       "      <td>-20.72</td>\n",
       "      <td>-0.018978</td>\n",
       "      <td>1091.60</td>\n",
       "      <td>1070.13</td>\n",
       "      <td>1091.64</td>\n",
       "      <td>1102.081912</td>\n",
       "      <td>1113.038</td>\n",
       "      <td>1107.141</td>\n",
       "      <td>1102.230000</td>\n",
       "      <td>1097.560333</td>\n",
       "      <td>39.423077</td>\n",
       "      <td>4.617726</td>\n",
       "      <td>7.129889</td>\n",
       "    </tr>\n",
       "  </tbody>\n",
       "</table>\n",
       "</div>"
      ],
      "text/plain": [
       "                     Close    Net      %Chg     Open      Low     High  \\\n",
       "Date                                                                     \n",
       "2024-04-22 00:00:00    NaN   5.08  0.004780  1063.63  1061.95  1069.61   \n",
       "2024-04-19 00:00:00    NaN -15.16 -0.014065  1077.39  1054.16  1077.51   \n",
       "2024-04-18 00:00:00    NaN   3.02  0.002810  1076.24  1072.81  1083.88   \n",
       "2024-04-17 00:00:00    NaN   3.81  0.003557  1070.80  1070.46  1076.86   \n",
       "2024-04-16 00:00:00    NaN -20.72 -0.018978  1091.60  1070.13  1091.64   \n",
       "\n",
       "                           EMA_9     SMA_5    SMA_10       SMA_15  \\\n",
       "Date                                                                \n",
       "2024-04-22 00:00:00  1091.500615  1078.032  1095.442  1096.970667   \n",
       "2024-04-19 00:00:00  1094.698415  1088.826  1099.544  1099.049333   \n",
       "2024-04-18 00:00:00  1096.566708  1097.206  1101.660  1099.838000   \n",
       "2024-04-17 00:00:00  1098.978445  1105.748  1104.682  1100.948000   \n",
       "2024-04-16 00:00:00  1102.081912  1113.038  1107.141  1102.230000   \n",
       "\n",
       "                          SMA_30        RSI      MACD  MACD_signal  \n",
       "Date                                                                \n",
       "2024-04-22 00:00:00  1096.042000  37.806587 -3.516424     2.198973  \n",
       "2024-04-19 00:00:00  1096.866333  34.608743 -1.970002     3.627835  \n",
       "2024-04-18 00:00:00  1096.906667  41.789668  0.548585     5.027311  \n",
       "2024-04-17 00:00:00  1097.275000  42.479490  2.215554     6.147008  \n",
       "2024-04-16 00:00:00  1097.560333  39.423077  4.617726     7.129889  "
      ]
     },
     "execution_count": 20,
     "metadata": {},
     "output_type": "execute_result"
    }
   ],
   "source": [
    "df[::-1].head()"
   ]
  },
  {
   "cell_type": "code",
   "execution_count": 52,
   "metadata": {},
   "outputs": [],
   "source": [
    "FEATURES = ['EMA_9', 'SMA_5',\n",
    "       'SMA_10', 'SMA_15', 'SMA_30', \n",
    "       'RSI', 'MACD', 'MACD_signal'\n",
    "       ]\n",
    "TARGET = 'Close'"
   ]
  },
  {
   "cell_type": "markdown",
   "metadata": {},
   "source": [
    "## Train Split"
   ]
  },
  {
   "cell_type": "code",
   "execution_count": 53,
   "metadata": {},
   "outputs": [],
   "source": [
    "x_train_15 = df[len(df)-20:-5].copy()\n",
    "x_train_20 = df[len(df)-25:-5].copy()\n",
    "x_train_30 = df[len(df)-35:-5].copy()\n",
    "x_train_45 = df[len(df)-50:-5].copy()\n",
    "x_train_60 = df[len(df)-65:-5].copy()\n",
    "x_train_75 = df[len(df)-75:-5].copy()\n",
    "x_train_90 = df[len(df)-90:-5].copy()\n",
    "\n",
    "y_train_15 = x_train_15[TARGET]\n",
    "y_train_20 = x_train_20[TARGET]\n",
    "y_train_30 = x_train_30[TARGET]\n",
    "y_train_45 = x_train_45[TARGET]\n",
    "y_train_60 = x_train_60[TARGET]\n",
    "y_train_75 = x_train_75[TARGET]\n",
    "y_train_90 = x_train_90[TARGET]\n",
    "\n",
    "x_train_15 = x_train_15[FEATURES]\n",
    "x_train_20 = x_train_20[FEATURES]\n",
    "x_train_30 = x_train_30[FEATURES]\n",
    "x_train_45 = x_train_45[FEATURES]\n",
    "x_train_60 = x_train_60[FEATURES]\n",
    "x_train_75 = x_train_75[FEATURES]\n",
    "x_train_90 = x_train_90[FEATURES]"
   ]
  },
  {
   "cell_type": "code",
   "execution_count": 48,
   "metadata": {},
   "outputs": [
    {
     "data": {
      "text/html": [
       "<div>\n",
       "<style scoped>\n",
       "    .dataframe tbody tr th:only-of-type {\n",
       "        vertical-align: middle;\n",
       "    }\n",
       "\n",
       "    .dataframe tbody tr th {\n",
       "        vertical-align: top;\n",
       "    }\n",
       "\n",
       "    .dataframe thead th {\n",
       "        text-align: right;\n",
       "    }\n",
       "</style>\n",
       "<table border=\"1\" class=\"dataframe\">\n",
       "  <thead>\n",
       "    <tr style=\"text-align: right;\">\n",
       "      <th></th>\n",
       "      <th>Close</th>\n",
       "      <th>Net</th>\n",
       "      <th>EMA_9</th>\n",
       "      <th>SMA_5</th>\n",
       "      <th>SMA_10</th>\n",
       "      <th>SMA_15</th>\n",
       "      <th>SMA_30</th>\n",
       "      <th>RSI</th>\n",
       "      <th>MACD</th>\n",
       "      <th>MACD_signal</th>\n",
       "    </tr>\n",
       "    <tr>\n",
       "      <th>Date</th>\n",
       "      <th></th>\n",
       "      <th></th>\n",
       "      <th></th>\n",
       "      <th></th>\n",
       "      <th></th>\n",
       "      <th></th>\n",
       "      <th></th>\n",
       "      <th></th>\n",
       "      <th></th>\n",
       "      <th></th>\n",
       "    </tr>\n",
       "  </thead>\n",
       "  <tbody>\n",
       "    <tr>\n",
       "      <th>2024-03-26 00:00:00</th>\n",
       "      <td>1105.09</td>\n",
       "      <td>1.23</td>\n",
       "      <td>1088.561918</td>\n",
       "      <td>1090.682</td>\n",
       "      <td>1095.717</td>\n",
       "      <td>1094.056000</td>\n",
       "      <td>1082.806333</td>\n",
       "      <td>52.641853</td>\n",
       "      <td>7.165192</td>\n",
       "      <td>9.429624</td>\n",
       "    </tr>\n",
       "    <tr>\n",
       "      <th>2024-03-27 00:00:00</th>\n",
       "      <td>1099.05</td>\n",
       "      <td>-1.80</td>\n",
       "      <td>1088.857726</td>\n",
       "      <td>1091.996</td>\n",
       "      <td>1094.129</td>\n",
       "      <td>1094.884000</td>\n",
       "      <td>1084.449333</td>\n",
       "      <td>49.276132</td>\n",
       "      <td>6.460129</td>\n",
       "      <td>8.835725</td>\n",
       "    </tr>\n",
       "    <tr>\n",
       "      <th>2024-03-28 00:00:00</th>\n",
       "      <td>1103.75</td>\n",
       "      <td>4.19</td>\n",
       "      <td>1088.943953</td>\n",
       "      <td>1092.794</td>\n",
       "      <td>1092.742</td>\n",
       "      <td>1095.034667</td>\n",
       "      <td>1085.881667</td>\n",
       "      <td>47.432897</td>\n",
       "      <td>6.168354</td>\n",
       "      <td>8.302251</td>\n",
       "    </tr>\n",
       "    <tr>\n",
       "      <th>2024-03-29 00:00:00</th>\n",
       "      <td>1102.68</td>\n",
       "      <td>2.69</td>\n",
       "      <td>1089.440558</td>\n",
       "      <td>1091.474</td>\n",
       "      <td>1091.587</td>\n",
       "      <td>1095.241333</td>\n",
       "      <td>1087.018333</td>\n",
       "      <td>48.614101</td>\n",
       "      <td>6.084048</td>\n",
       "      <td>7.858610</td>\n",
       "    </tr>\n",
       "    <tr>\n",
       "      <th>2024-04-01 00:00:00</th>\n",
       "      <td>1107.51</td>\n",
       "      <td>-0.95</td>\n",
       "      <td>1090.156502</td>\n",
       "      <td>1092.408</td>\n",
       "      <td>1091.974</td>\n",
       "      <td>1095.172000</td>\n",
       "      <td>1087.964333</td>\n",
       "      <td>41.169397</td>\n",
       "      <td>5.872879</td>\n",
       "      <td>7.461464</td>\n",
       "    </tr>\n",
       "    <tr>\n",
       "      <th>2024-04-02 00:00:00</th>\n",
       "      <td>1117.58</td>\n",
       "      <td>9.44</td>\n",
       "      <td>1090.705852</td>\n",
       "      <td>1093.480</td>\n",
       "      <td>1092.081</td>\n",
       "      <td>1094.971333</td>\n",
       "      <td>1088.931667</td>\n",
       "      <td>51.039357</td>\n",
       "      <td>6.393554</td>\n",
       "      <td>7.247882</td>\n",
       "    </tr>\n",
       "    <tr>\n",
       "      <th>2024-04-03 00:00:00</th>\n",
       "      <td>1119.79</td>\n",
       "      <td>-6.04</td>\n",
       "      <td>1092.144267</td>\n",
       "      <td>1096.194</td>\n",
       "      <td>1094.095</td>\n",
       "      <td>1094.817333</td>\n",
       "      <td>1090.023000</td>\n",
       "      <td>45.801127</td>\n",
       "      <td>6.246806</td>\n",
       "      <td>7.047667</td>\n",
       "    </tr>\n",
       "    <tr>\n",
       "      <th>2024-04-04 00:00:00</th>\n",
       "      <td>1116.70</td>\n",
       "      <td>4.70</td>\n",
       "      <td>1092.834840</td>\n",
       "      <td>1098.060</td>\n",
       "      <td>1095.427</td>\n",
       "      <td>1094.514667</td>\n",
       "      <td>1090.843333</td>\n",
       "      <td>58.067350</td>\n",
       "      <td>6.435573</td>\n",
       "      <td>6.925248</td>\n",
       "    </tr>\n",
       "    <tr>\n",
       "      <th>2024-04-05 00:00:00</th>\n",
       "      <td>1103.61</td>\n",
       "      <td>-1.07</td>\n",
       "      <td>1093.926356</td>\n",
       "      <td>1100.028</td>\n",
       "      <td>1095.751</td>\n",
       "      <td>1094.400667</td>\n",
       "      <td>1091.540000</td>\n",
       "      <td>55.998223</td>\n",
       "      <td>6.424771</td>\n",
       "      <td>6.825152</td>\n",
       "    </tr>\n",
       "    <tr>\n",
       "      <th>2024-04-08 00:00:00</th>\n",
       "      <td>1091.78</td>\n",
       "      <td>4.83</td>\n",
       "      <td>1094.801721</td>\n",
       "      <td>1101.244</td>\n",
       "      <td>1096.826</td>\n",
       "      <td>1095.064000</td>\n",
       "      <td>1092.232000</td>\n",
       "      <td>67.984694</td>\n",
       "      <td>6.728390</td>\n",
       "      <td>6.805800</td>\n",
       "    </tr>\n",
       "    <tr>\n",
       "      <th>2024-04-09 00:00:00</th>\n",
       "      <td>1071.06</td>\n",
       "      <td>10.07</td>\n",
       "      <td>1096.072548</td>\n",
       "      <td>1103.616</td>\n",
       "      <td>1098.548</td>\n",
       "      <td>1095.926000</td>\n",
       "      <td>1093.185333</td>\n",
       "      <td>72.114984</td>\n",
       "      <td>7.692896</td>\n",
       "      <td>6.983219</td>\n",
       "    </tr>\n",
       "    <tr>\n",
       "      <th>2024-04-10 00:00:00</th>\n",
       "      <td>1074.87</td>\n",
       "      <td>2.21</td>\n",
       "      <td>1098.223294</td>\n",
       "      <td>1106.114</td>\n",
       "      <td>1101.154</td>\n",
       "      <td>1098.101333</td>\n",
       "      <td>1094.294333</td>\n",
       "      <td>66.218035</td>\n",
       "      <td>8.537192</td>\n",
       "      <td>7.294014</td>\n",
       "    </tr>\n",
       "    <tr>\n",
       "      <th>2024-04-11 00:00:00</th>\n",
       "      <td>1077.89</td>\n",
       "      <td>-3.09</td>\n",
       "      <td>1100.379964</td>\n",
       "      <td>1110.262</td>\n",
       "      <td>1104.161</td>\n",
       "      <td>1100.372000</td>\n",
       "      <td>1095.836000</td>\n",
       "      <td>72.956441</td>\n",
       "      <td>8.854891</td>\n",
       "      <td>7.606189</td>\n",
       "    </tr>\n",
       "    <tr>\n",
       "      <th>2024-04-12 00:00:00</th>\n",
       "      <td>1062.73</td>\n",
       "      <td>-13.09</td>\n",
       "      <td>1102.011968</td>\n",
       "      <td>1112.852</td>\n",
       "      <td>1106.440</td>\n",
       "      <td>1101.451333</td>\n",
       "      <td>1097.197667</td>\n",
       "      <td>60.183486</td>\n",
       "      <td>7.958674</td>\n",
       "      <td>7.676686</td>\n",
       "    </tr>\n",
       "    <tr>\n",
       "      <th>2024-04-15 00:00:00</th>\n",
       "      <td>1067.81</td>\n",
       "      <td>-11.83</td>\n",
       "      <td>1102.171771</td>\n",
       "      <td>1113.038</td>\n",
       "      <td>1107.141</td>\n",
       "      <td>1102.230000</td>\n",
       "      <td>1097.997333</td>\n",
       "      <td>50.171053</td>\n",
       "      <td>6.222108</td>\n",
       "      <td>7.385771</td>\n",
       "    </tr>\n",
       "  </tbody>\n",
       "</table>\n",
       "</div>"
      ],
      "text/plain": [
       "                       Close    Net        EMA_9     SMA_5    SMA_10  \\\n",
       "Date                                                                   \n",
       "2024-03-26 00:00:00  1105.09   1.23  1088.561918  1090.682  1095.717   \n",
       "2024-03-27 00:00:00  1099.05  -1.80  1088.857726  1091.996  1094.129   \n",
       "2024-03-28 00:00:00  1103.75   4.19  1088.943953  1092.794  1092.742   \n",
       "2024-03-29 00:00:00  1102.68   2.69  1089.440558  1091.474  1091.587   \n",
       "2024-04-01 00:00:00  1107.51  -0.95  1090.156502  1092.408  1091.974   \n",
       "2024-04-02 00:00:00  1117.58   9.44  1090.705852  1093.480  1092.081   \n",
       "2024-04-03 00:00:00  1119.79  -6.04  1092.144267  1096.194  1094.095   \n",
       "2024-04-04 00:00:00  1116.70   4.70  1092.834840  1098.060  1095.427   \n",
       "2024-04-05 00:00:00  1103.61  -1.07  1093.926356  1100.028  1095.751   \n",
       "2024-04-08 00:00:00  1091.78   4.83  1094.801721  1101.244  1096.826   \n",
       "2024-04-09 00:00:00  1071.06  10.07  1096.072548  1103.616  1098.548   \n",
       "2024-04-10 00:00:00  1074.87   2.21  1098.223294  1106.114  1101.154   \n",
       "2024-04-11 00:00:00  1077.89  -3.09  1100.379964  1110.262  1104.161   \n",
       "2024-04-12 00:00:00  1062.73 -13.09  1102.011968  1112.852  1106.440   \n",
       "2024-04-15 00:00:00  1067.81 -11.83  1102.171771  1113.038  1107.141   \n",
       "\n",
       "                          SMA_15       SMA_30        RSI      MACD  \\\n",
       "Date                                                                 \n",
       "2024-03-26 00:00:00  1094.056000  1082.806333  52.641853  7.165192   \n",
       "2024-03-27 00:00:00  1094.884000  1084.449333  49.276132  6.460129   \n",
       "2024-03-28 00:00:00  1095.034667  1085.881667  47.432897  6.168354   \n",
       "2024-03-29 00:00:00  1095.241333  1087.018333  48.614101  6.084048   \n",
       "2024-04-01 00:00:00  1095.172000  1087.964333  41.169397  5.872879   \n",
       "2024-04-02 00:00:00  1094.971333  1088.931667  51.039357  6.393554   \n",
       "2024-04-03 00:00:00  1094.817333  1090.023000  45.801127  6.246806   \n",
       "2024-04-04 00:00:00  1094.514667  1090.843333  58.067350  6.435573   \n",
       "2024-04-05 00:00:00  1094.400667  1091.540000  55.998223  6.424771   \n",
       "2024-04-08 00:00:00  1095.064000  1092.232000  67.984694  6.728390   \n",
       "2024-04-09 00:00:00  1095.926000  1093.185333  72.114984  7.692896   \n",
       "2024-04-10 00:00:00  1098.101333  1094.294333  66.218035  8.537192   \n",
       "2024-04-11 00:00:00  1100.372000  1095.836000  72.956441  8.854891   \n",
       "2024-04-12 00:00:00  1101.451333  1097.197667  60.183486  7.958674   \n",
       "2024-04-15 00:00:00  1102.230000  1097.997333  50.171053  6.222108   \n",
       "\n",
       "                     MACD_signal  \n",
       "Date                              \n",
       "2024-03-26 00:00:00     9.429624  \n",
       "2024-03-27 00:00:00     8.835725  \n",
       "2024-03-28 00:00:00     8.302251  \n",
       "2024-03-29 00:00:00     7.858610  \n",
       "2024-04-01 00:00:00     7.461464  \n",
       "2024-04-02 00:00:00     7.247882  \n",
       "2024-04-03 00:00:00     7.047667  \n",
       "2024-04-04 00:00:00     6.925248  \n",
       "2024-04-05 00:00:00     6.825152  \n",
       "2024-04-08 00:00:00     6.805800  \n",
       "2024-04-09 00:00:00     6.983219  \n",
       "2024-04-10 00:00:00     7.294014  \n",
       "2024-04-11 00:00:00     7.606189  \n",
       "2024-04-12 00:00:00     7.676686  \n",
       "2024-04-15 00:00:00     7.385771  "
      ]
     },
     "execution_count": 48,
     "metadata": {},
     "output_type": "execute_result"
    }
   ],
   "source": [
    "x_train_15.head(20)"
   ]
  },
  {
   "cell_type": "markdown",
   "metadata": {},
   "source": [
    "## Fine-tune XGBoostRegressor"
   ]
  },
  {
   "cell_type": "code",
   "execution_count": 64,
   "metadata": {},
   "outputs": [
    {
     "name": "stdout",
     "output_type": "stream",
     "text": [
      "Best params: {'gamma': 0.02, 'learning_rate': 0.05, 'max_depth': 6, 'n_estimators': 300, 'random_state': 42}\n",
      "Best validation score = -2.4931828627358303\n"
     ]
    }
   ],
   "source": [
    "from sklearn.model_selection import GridSearchCV\n",
    "parameters = {\n",
    "    'n_estimators': [100, 200, 300, 400],\n",
    "    'learning_rate': [0.001, 0.005, 0.01, 0.05],\n",
    "    'max_depth': [6, 8, 10, 12],\n",
    "    'gamma': [0.001, 0.005, 0.01, 0.02],\n",
    "    'random_state': [42]\n",
    "}\n",
    "\n",
    "model = xgb.XGBRegressor(objective='reg:squarederror')\n",
    "clf = GridSearchCV(model, parameters)"
   ]
  },
  {
   "cell_type": "code",
   "execution_count": 57,
   "metadata": {},
   "outputs": [
    {
     "data": {
      "text/html": [
       "<div>\n",
       "<style scoped>\n",
       "    .dataframe tbody tr th:only-of-type {\n",
       "        vertical-align: middle;\n",
       "    }\n",
       "\n",
       "    .dataframe tbody tr th {\n",
       "        vertical-align: top;\n",
       "    }\n",
       "\n",
       "    .dataframe thead th {\n",
       "        text-align: right;\n",
       "    }\n",
       "</style>\n",
       "<table border=\"1\" class=\"dataframe\">\n",
       "  <thead>\n",
       "    <tr style=\"text-align: right;\">\n",
       "      <th></th>\n",
       "      <th>Close</th>\n",
       "      <th>Net</th>\n",
       "      <th>EMA_9</th>\n",
       "      <th>SMA_5</th>\n",
       "      <th>SMA_10</th>\n",
       "      <th>SMA_15</th>\n",
       "      <th>SMA_30</th>\n",
       "      <th>RSI</th>\n",
       "      <th>MACD</th>\n",
       "      <th>MACD_signal</th>\n",
       "    </tr>\n",
       "    <tr>\n",
       "      <th>Date</th>\n",
       "      <th></th>\n",
       "      <th></th>\n",
       "      <th></th>\n",
       "      <th></th>\n",
       "      <th></th>\n",
       "      <th></th>\n",
       "      <th></th>\n",
       "      <th></th>\n",
       "      <th></th>\n",
       "      <th></th>\n",
       "    </tr>\n",
       "  </thead>\n",
       "  <tbody>\n",
       "    <tr>\n",
       "      <th>2024-04-16 00:00:00</th>\n",
       "      <td>NaN</td>\n",
       "      <td>-20.72</td>\n",
       "      <td>1101.132594</td>\n",
       "      <td>1109.892</td>\n",
       "      <td>1106.754</td>\n",
       "      <td>1102.329333</td>\n",
       "      <td>1098.192667</td>\n",
       "      <td>40.170670</td>\n",
       "      <td>3.137767</td>\n",
       "      <td>6.536170</td>\n",
       "    </tr>\n",
       "    <tr>\n",
       "      <th>2024-04-17 00:00:00</th>\n",
       "      <td>NaN</td>\n",
       "      <td>3.81</td>\n",
       "      <td>1098.125335</td>\n",
       "      <td>1100.588</td>\n",
       "      <td>1103.351</td>\n",
       "      <td>1100.965333</td>\n",
       "      <td>1097.924667</td>\n",
       "      <td>39.930188</td>\n",
       "      <td>0.989434</td>\n",
       "      <td>5.426823</td>\n",
       "    </tr>\n",
       "    <tr>\n",
       "      <th>2024-04-18 00:00:00</th>\n",
       "      <td>NaN</td>\n",
       "      <td>3.02</td>\n",
       "      <td>1095.799801</td>\n",
       "      <td>1091.604</td>\n",
       "      <td>1100.933</td>\n",
       "      <td>1099.975333</td>\n",
       "      <td>1097.505000</td>\n",
       "      <td>40.139138</td>\n",
       "      <td>-0.464098</td>\n",
       "      <td>4.248639</td>\n",
       "    </tr>\n",
       "    <tr>\n",
       "      <th>2024-04-19 00:00:00</th>\n",
       "      <td>NaN</td>\n",
       "      <td>-15.16</td>\n",
       "      <td>1094.008821</td>\n",
       "      <td>1083.842</td>\n",
       "      <td>1098.347</td>\n",
       "      <td>1098.907333</td>\n",
       "      <td>1097.074333</td>\n",
       "      <td>34.910158</td>\n",
       "      <td>-2.806960</td>\n",
       "      <td>2.837519</td>\n",
       "    </tr>\n",
       "    <tr>\n",
       "      <th>2024-04-22 00:00:00</th>\n",
       "      <td>NaN</td>\n",
       "      <td>5.08</td>\n",
       "      <td>1090.880939</td>\n",
       "      <td>1075.666</td>\n",
       "      <td>1094.352</td>\n",
       "      <td>1096.649333</td>\n",
       "      <td>1095.910667</td>\n",
       "      <td>32.200153</td>\n",
       "      <td>-4.205305</td>\n",
       "      <td>1.428954</td>\n",
       "    </tr>\n",
       "  </tbody>\n",
       "</table>\n",
       "</div>"
      ],
      "text/plain": [
       "                     Close    Net        EMA_9     SMA_5    SMA_10  \\\n",
       "Date                                                                 \n",
       "2024-04-16 00:00:00    NaN -20.72  1101.132594  1109.892  1106.754   \n",
       "2024-04-17 00:00:00    NaN   3.81  1098.125335  1100.588  1103.351   \n",
       "2024-04-18 00:00:00    NaN   3.02  1095.799801  1091.604  1100.933   \n",
       "2024-04-19 00:00:00    NaN -15.16  1094.008821  1083.842  1098.347   \n",
       "2024-04-22 00:00:00    NaN   5.08  1090.880939  1075.666  1094.352   \n",
       "\n",
       "                          SMA_15       SMA_30        RSI      MACD  \\\n",
       "Date                                                                 \n",
       "2024-04-16 00:00:00  1102.329333  1098.192667  40.170670  3.137767   \n",
       "2024-04-17 00:00:00  1100.965333  1097.924667  39.930188  0.989434   \n",
       "2024-04-18 00:00:00  1099.975333  1097.505000  40.139138 -0.464098   \n",
       "2024-04-19 00:00:00  1098.907333  1097.074333  34.910158 -2.806960   \n",
       "2024-04-22 00:00:00  1096.649333  1095.910667  32.200153 -4.205305   \n",
       "\n",
       "                     MACD_signal  \n",
       "Date                              \n",
       "2024-04-16 00:00:00     6.536170  \n",
       "2024-04-17 00:00:00     5.426823  \n",
       "2024-04-18 00:00:00     4.248639  \n",
       "2024-04-19 00:00:00     2.837519  \n",
       "2024-04-22 00:00:00     1.428954  "
      ]
     },
     "execution_count": 57,
     "metadata": {},
     "output_type": "execute_result"
    }
   ],
   "source": [
    "test = df[-5:].copy()\n",
    "\n",
    "test.head()"
   ]
  },
  {
   "cell_type": "code",
   "execution_count": 66,
   "metadata": {},
   "outputs": [],
   "source": [
    "x_test = test[FEATURES]"
   ]
  },
  {
   "cell_type": "code",
   "execution_count": 58,
   "metadata": {},
   "outputs": [],
   "source": [
    "csv_file_path = os.path.join(os.getcwd(), 'test.csv')\n",
    "truth_df = pd.read_csv(csv_file_path)\n",
    "truth_df = truth_df[::-1]\n",
    "y_true = np.array(truth_df['Close'])"
   ]
  },
  {
   "cell_type": "code",
   "execution_count": null,
   "metadata": {},
   "outputs": [],
   "source": [
    "clf.fit(x_train_15, y_train_15)\n",
    "print(f'Best params: {clf.best_params_}')\n",
    "print(f'Best validation score = {clf.best_score_}')"
   ]
  },
  {
   "cell_type": "code",
   "execution_count": 63,
   "metadata": {},
   "outputs": [
    {
     "name": "stdout",
     "output_type": "stream",
     "text": [
      "y_true = [1077.11 1091.21 1088.62 1102.34 1112.34]\n",
      "y_pred = [1071.7775 1071.7775 1092.077  1102.8798 1116.3583]\n",
      "9.321461509308444\n"
     ]
    }
   ],
   "source": [
    "best_params_15 = clf.best_params_\n",
    "\n",
    "model = xgb.XGBRegressor(**best_params_15, objective='reg:squarederror')\n",
    "model.fit(x_train_15, y_train_15, verbose=True)\n",
    "y_pred = model.predict(x_test)\n",
    "print(f'y_true = {y_true}')\n",
    "print(f'y_pred = {y_pred}')\n",
    "mse = mean_squared_error(y_true, y_pred)\n",
    "rmse = np.sqrt(mse)\n",
    "print(rmse)"
   ]
  },
  {
   "cell_type": "code",
   "execution_count": null,
   "metadata": {},
   "outputs": [],
   "source": [
    "clf.fit(x_train_20, y_train_20)\n",
    "print(f'Best params: {clf.best_params_}')\n",
    "print(f'Best validation score = {clf.best_score_}')"
   ]
  },
  {
   "cell_type": "code",
   "execution_count": 67,
   "metadata": {},
   "outputs": [
    {
     "name": "stdout",
     "output_type": "stream",
     "text": [
      "y_true = [1077.11 1091.21 1088.62 1102.34 1112.34]\n",
      "y_pred = [1073.4722 1073.4722 1104.7933 1104.535  1117.9025]\n",
      "11.182132818628626\n"
     ]
    }
   ],
   "source": [
    "best_params_20 = clf.best_params_\n",
    "\n",
    "\n",
    "model = xgb.XGBRegressor(**best_params_20, objective='reg:squarederror')\n",
    "model.fit(x_train_20, y_train_20, verbose=True)\n",
    "y_pred = model.predict(x_test)\n",
    "csv_file_path = os.path.join(os.getcwd(), 'test.csv')\n",
    "truth_df = pd.read_csv(csv_file_path)\n",
    "truth_df = truth_df[::-1]\n",
    "y_true = np.array(truth_df['Close'])\n",
    "print(f'y_true = {y_true}')\n",
    "print(f'y_pred = {y_pred}')\n",
    "mse = mean_squared_error(y_true, y_pred)\n",
    "rmse = np.sqrt(mse)\n",
    "print(rmse)"
   ]
  },
  {
   "cell_type": "code",
   "execution_count": 68,
   "metadata": {},
   "outputs": [
    {
     "name": "stdout",
     "output_type": "stream",
     "text": [
      "Best params: {'gamma': 0.02, 'learning_rate': 0.01, 'max_depth': 6, 'n_estimators': 100, 'random_state': 42}\n",
      "Best validation score = -2.7299491481622797\n"
     ]
    }
   ],
   "source": [
    "clf.fit(x_train_30, y_train_30)\n",
    "print(f'Best params: {clf.best_params_}')\n",
    "print(f'Best validation score = {clf.best_score_}')"
   ]
  },
  {
   "cell_type": "code",
   "execution_count": 69,
   "metadata": {},
   "outputs": [
    {
     "name": "stdout",
     "output_type": "stream",
     "text": [
      "y_true = [1077.11 1091.21 1088.62 1102.34 1112.34]\n",
      "y_pred = [1080.9259 1080.9259 1093.6593 1093.6593 1106.9073]\n",
      "7.07935798957427\n"
     ]
    }
   ],
   "source": [
    "best_params_30 = clf.best_params_\n",
    "model = xgb.XGBRegressor(**best_params_30, objective='reg:squarederror')\n",
    "model.fit(x_train_30, y_train_30, verbose=True)\n",
    "y_pred = model.predict(x_test)\n",
    "\n",
    "print(f'y_true = {y_true}')\n",
    "print(f'y_pred = {y_pred}')\n",
    "mse = mean_squared_error(y_true, y_pred)\n",
    "rmse = np.sqrt(mse)\n",
    "print(rmse)"
   ]
  },
  {
   "cell_type": "code",
   "execution_count": 70,
   "metadata": {},
   "outputs": [
    {
     "name": "stdout",
     "output_type": "stream",
     "text": [
      "Best params: {'gamma': 0.02, 'learning_rate': 0.001, 'max_depth': 6, 'n_estimators': 300, 'random_state': 42}\n",
      "Best validation score = -3.772213705031845\n"
     ]
    }
   ],
   "source": [
    "clf.fit(x_train_45, y_train_45)\n",
    "print(f'Best params: {clf.best_params_}')\n",
    "print(f'Best validation score = {clf.best_score_}')"
   ]
  },
  {
   "cell_type": "code",
   "execution_count": 71,
   "metadata": {},
   "outputs": [
    {
     "name": "stdout",
     "output_type": "stream",
     "text": [
      "y_true = [1077.11 1091.21 1088.62 1102.34 1112.34]\n",
      "y_pred = [1086.4573 1086.4573 1094.7118 1094.7118 1095.6469]\n",
      "9.837892791522906\n"
     ]
    }
   ],
   "source": [
    "best_params_45 = clf.best_params_\n",
    "model = xgb.XGBRegressor(**best_params_45, objective='reg:squarederror')\n",
    "model.fit(x_train_45, y_train_45, verbose=True)\n",
    "y_pred = model.predict(x_test)\n",
    "\n",
    "print(f'y_true = {y_true}')\n",
    "print(f'y_pred = {y_pred}')\n",
    "mse = mean_squared_error(y_true, y_pred)\n",
    "rmse = np.sqrt(mse)\n",
    "print(rmse)"
   ]
  },
  {
   "cell_type": "code",
   "execution_count": 72,
   "metadata": {},
   "outputs": [
    {
     "name": "stdout",
     "output_type": "stream",
     "text": [
      "Best params: {'gamma': 0.005, 'learning_rate': 0.05, 'max_depth': 12, 'n_estimators': 300, 'random_state': 42}\n",
      "Best validation score = -5.253776687776917\n"
     ]
    }
   ],
   "source": [
    "clf.fit(x_train_60, y_train_60)\n",
    "print(f'Best params: {clf.best_params_}')\n",
    "print(f'Best validation score = {clf.best_score_}')"
   ]
  },
  {
   "cell_type": "code",
   "execution_count": 73,
   "metadata": {},
   "outputs": [
    {
     "name": "stdout",
     "output_type": "stream",
     "text": [
      "y_true = [1077.11 1091.21 1088.62 1102.34 1112.34]\n",
      "y_pred = [1074.6897 1073.5034 1098.5925 1099.772  1112.2374]\n",
      "9.224289011524972\n"
     ]
    }
   ],
   "source": [
    "best_params_60 = clf.best_params_\n",
    "model = xgb.XGBRegressor(**best_params_60, objective='reg:squarederror')\n",
    "model.fit(x_train_60, y_train_60, verbose=True)\n",
    "y_pred = model.predict(x_test)\n",
    "\n",
    "print(f'y_true = {y_true}')\n",
    "print(f'y_pred = {y_pred}')\n",
    "mse = mean_squared_error(y_true, y_pred)\n",
    "rmse = np.sqrt(mse)\n",
    "print(rmse)"
   ]
  },
  {
   "cell_type": "code",
   "execution_count": 74,
   "metadata": {},
   "outputs": [
    {
     "name": "stdout",
     "output_type": "stream",
     "text": [
      "Best params: {'gamma': 0.01, 'learning_rate': 0.005, 'max_depth': 6, 'n_estimators': 300, 'random_state': 42}\n",
      "Best validation score = -3.419360991194234\n"
     ]
    }
   ],
   "source": [
    "clf.fit(x_train_75, y_train_75)\n",
    "print(f'Best params: {clf.best_params_}')\n",
    "print(f'Best validation score = {clf.best_score_}')"
   ]
  },
  {
   "cell_type": "code",
   "execution_count": 75,
   "metadata": {},
   "outputs": [
    {
     "name": "stdout",
     "output_type": "stream",
     "text": [
      "y_true = [1077.11 1091.21 1088.62 1102.34 1112.34]\n",
      "y_pred = [1070.5277 1071.393  1089.8029 1092.4058 1100.5737]\n",
      "11.615296600877501\n"
     ]
    }
   ],
   "source": [
    "best_params_75 = clf.best_params_\n",
    "model = xgb.XGBRegressor(**best_params_75, objective='reg:squarederror')\n",
    "model.fit(x_train_75, y_train_75, verbose=True)\n",
    "y_pred = model.predict(x_test)\n",
    "\n",
    "print(f'y_true = {y_true}')\n",
    "print(f'y_pred = {y_pred}')\n",
    "mse = mean_squared_error(y_true, y_pred)\n",
    "rmse = np.sqrt(mse)\n",
    "print(rmse)"
   ]
  },
  {
   "cell_type": "code",
   "execution_count": 76,
   "metadata": {},
   "outputs": [
    {
     "name": "stdout",
     "output_type": "stream",
     "text": [
      "Best params: {'gamma': 0.01, 'learning_rate': 0.05, 'max_depth': 6, 'n_estimators': 300, 'random_state': 42}\n",
      "Best validation score = -3.066584961547167\n"
     ]
    }
   ],
   "source": [
    "clf.fit(x_train_90, y_train_90)\n",
    "print(f'Best params: {clf.best_params_}')\n",
    "print(f'Best validation score = {clf.best_score_}')"
   ]
  },
  {
   "cell_type": "code",
   "execution_count": 77,
   "metadata": {},
   "outputs": [
    {
     "name": "stdout",
     "output_type": "stream",
     "text": [
      "y_true = [1077.11 1091.21 1088.62 1102.34 1112.34]\n",
      "y_pred = [1077.1189 1075.4811 1097.5243 1099.4379 1113.9271]\n",
      "8.217381466796661\n"
     ]
    }
   ],
   "source": [
    "best_params_90 = clf.best_params_\n",
    "model = xgb.XGBRegressor(**best_params_90, objective='reg:squarederror')\n",
    "model.fit(x_train_90, y_train_90, verbose=True)\n",
    "y_pred = model.predict(x_test)\n",
    "\n",
    "print(f'y_true = {y_true}')\n",
    "print(f'y_pred = {y_pred}')\n",
    "mse = mean_squared_error(y_true, y_pred)\n",
    "rmse = np.sqrt(mse)\n",
    "print(rmse)"
   ]
  },
  {
   "cell_type": "markdown",
   "metadata": {},
   "source": [
    "Plotting the best predictions"
   ]
  },
  {
   "cell_type": "code",
   "execution_count": 78,
   "metadata": {},
   "outputs": [],
   "source": [
    "import plotly.graph_objects as go\n",
    "from plotly.subplots import make_subplots"
   ]
  },
  {
   "cell_type": "code",
   "execution_count": 80,
   "metadata": {},
   "outputs": [
    {
     "data": {
      "application/vnd.plotly.v1+json": {
       "config": {
        "plotlyServerURL": "https://plot.ly"
       },
       "data": [
        {
         "name": "Truth",
         "type": "scatter",
         "x": [
          "2024-04-23 00:00:00",
          "2024-04-24 00:00:00",
          "2024-04-25 00:00:00",
          "2024-04-26 00:00:00",
          "2024-04-29 00:00:00"
         ],
         "y": [
          1077.11,
          1091.21,
          1088.62,
          1102.34,
          1112.34
         ]
        },
        {
         "name": "Prediction",
         "type": "scatter",
         "x": [
          "2024-04-23 00:00:00",
          "2024-04-24 00:00:00",
          "2024-04-25 00:00:00",
          "2024-04-26 00:00:00",
          "2024-04-29 00:00:00"
         ],
         "y": [
          "1080.9259",
          "1080.9259",
          "1093.6593",
          "1093.6593",
          "1106.9073"
         ]
        }
       ],
       "layout": {
        "template": {
         "data": {
          "bar": [
           {
            "error_x": {
             "color": "#2a3f5f"
            },
            "error_y": {
             "color": "#2a3f5f"
            },
            "marker": {
             "line": {
              "color": "#E5ECF6",
              "width": 0.5
             },
             "pattern": {
              "fillmode": "overlay",
              "size": 10,
              "solidity": 0.2
             }
            },
            "type": "bar"
           }
          ],
          "barpolar": [
           {
            "marker": {
             "line": {
              "color": "#E5ECF6",
              "width": 0.5
             },
             "pattern": {
              "fillmode": "overlay",
              "size": 10,
              "solidity": 0.2
             }
            },
            "type": "barpolar"
           }
          ],
          "carpet": [
           {
            "aaxis": {
             "endlinecolor": "#2a3f5f",
             "gridcolor": "white",
             "linecolor": "white",
             "minorgridcolor": "white",
             "startlinecolor": "#2a3f5f"
            },
            "baxis": {
             "endlinecolor": "#2a3f5f",
             "gridcolor": "white",
             "linecolor": "white",
             "minorgridcolor": "white",
             "startlinecolor": "#2a3f5f"
            },
            "type": "carpet"
           }
          ],
          "choropleth": [
           {
            "colorbar": {
             "outlinewidth": 0,
             "ticks": ""
            },
            "type": "choropleth"
           }
          ],
          "contour": [
           {
            "colorbar": {
             "outlinewidth": 0,
             "ticks": ""
            },
            "colorscale": [
             [
              0,
              "#0d0887"
             ],
             [
              0.1111111111111111,
              "#46039f"
             ],
             [
              0.2222222222222222,
              "#7201a8"
             ],
             [
              0.3333333333333333,
              "#9c179e"
             ],
             [
              0.4444444444444444,
              "#bd3786"
             ],
             [
              0.5555555555555556,
              "#d8576b"
             ],
             [
              0.6666666666666666,
              "#ed7953"
             ],
             [
              0.7777777777777778,
              "#fb9f3a"
             ],
             [
              0.8888888888888888,
              "#fdca26"
             ],
             [
              1,
              "#f0f921"
             ]
            ],
            "type": "contour"
           }
          ],
          "contourcarpet": [
           {
            "colorbar": {
             "outlinewidth": 0,
             "ticks": ""
            },
            "type": "contourcarpet"
           }
          ],
          "heatmap": [
           {
            "colorbar": {
             "outlinewidth": 0,
             "ticks": ""
            },
            "colorscale": [
             [
              0,
              "#0d0887"
             ],
             [
              0.1111111111111111,
              "#46039f"
             ],
             [
              0.2222222222222222,
              "#7201a8"
             ],
             [
              0.3333333333333333,
              "#9c179e"
             ],
             [
              0.4444444444444444,
              "#bd3786"
             ],
             [
              0.5555555555555556,
              "#d8576b"
             ],
             [
              0.6666666666666666,
              "#ed7953"
             ],
             [
              0.7777777777777778,
              "#fb9f3a"
             ],
             [
              0.8888888888888888,
              "#fdca26"
             ],
             [
              1,
              "#f0f921"
             ]
            ],
            "type": "heatmap"
           }
          ],
          "heatmapgl": [
           {
            "colorbar": {
             "outlinewidth": 0,
             "ticks": ""
            },
            "colorscale": [
             [
              0,
              "#0d0887"
             ],
             [
              0.1111111111111111,
              "#46039f"
             ],
             [
              0.2222222222222222,
              "#7201a8"
             ],
             [
              0.3333333333333333,
              "#9c179e"
             ],
             [
              0.4444444444444444,
              "#bd3786"
             ],
             [
              0.5555555555555556,
              "#d8576b"
             ],
             [
              0.6666666666666666,
              "#ed7953"
             ],
             [
              0.7777777777777778,
              "#fb9f3a"
             ],
             [
              0.8888888888888888,
              "#fdca26"
             ],
             [
              1,
              "#f0f921"
             ]
            ],
            "type": "heatmapgl"
           }
          ],
          "histogram": [
           {
            "marker": {
             "pattern": {
              "fillmode": "overlay",
              "size": 10,
              "solidity": 0.2
             }
            },
            "type": "histogram"
           }
          ],
          "histogram2d": [
           {
            "colorbar": {
             "outlinewidth": 0,
             "ticks": ""
            },
            "colorscale": [
             [
              0,
              "#0d0887"
             ],
             [
              0.1111111111111111,
              "#46039f"
             ],
             [
              0.2222222222222222,
              "#7201a8"
             ],
             [
              0.3333333333333333,
              "#9c179e"
             ],
             [
              0.4444444444444444,
              "#bd3786"
             ],
             [
              0.5555555555555556,
              "#d8576b"
             ],
             [
              0.6666666666666666,
              "#ed7953"
             ],
             [
              0.7777777777777778,
              "#fb9f3a"
             ],
             [
              0.8888888888888888,
              "#fdca26"
             ],
             [
              1,
              "#f0f921"
             ]
            ],
            "type": "histogram2d"
           }
          ],
          "histogram2dcontour": [
           {
            "colorbar": {
             "outlinewidth": 0,
             "ticks": ""
            },
            "colorscale": [
             [
              0,
              "#0d0887"
             ],
             [
              0.1111111111111111,
              "#46039f"
             ],
             [
              0.2222222222222222,
              "#7201a8"
             ],
             [
              0.3333333333333333,
              "#9c179e"
             ],
             [
              0.4444444444444444,
              "#bd3786"
             ],
             [
              0.5555555555555556,
              "#d8576b"
             ],
             [
              0.6666666666666666,
              "#ed7953"
             ],
             [
              0.7777777777777778,
              "#fb9f3a"
             ],
             [
              0.8888888888888888,
              "#fdca26"
             ],
             [
              1,
              "#f0f921"
             ]
            ],
            "type": "histogram2dcontour"
           }
          ],
          "mesh3d": [
           {
            "colorbar": {
             "outlinewidth": 0,
             "ticks": ""
            },
            "type": "mesh3d"
           }
          ],
          "parcoords": [
           {
            "line": {
             "colorbar": {
              "outlinewidth": 0,
              "ticks": ""
             }
            },
            "type": "parcoords"
           }
          ],
          "pie": [
           {
            "automargin": true,
            "type": "pie"
           }
          ],
          "scatter": [
           {
            "fillpattern": {
             "fillmode": "overlay",
             "size": 10,
             "solidity": 0.2
            },
            "type": "scatter"
           }
          ],
          "scatter3d": [
           {
            "line": {
             "colorbar": {
              "outlinewidth": 0,
              "ticks": ""
             }
            },
            "marker": {
             "colorbar": {
              "outlinewidth": 0,
              "ticks": ""
             }
            },
            "type": "scatter3d"
           }
          ],
          "scattercarpet": [
           {
            "marker": {
             "colorbar": {
              "outlinewidth": 0,
              "ticks": ""
             }
            },
            "type": "scattercarpet"
           }
          ],
          "scattergeo": [
           {
            "marker": {
             "colorbar": {
              "outlinewidth": 0,
              "ticks": ""
             }
            },
            "type": "scattergeo"
           }
          ],
          "scattergl": [
           {
            "marker": {
             "colorbar": {
              "outlinewidth": 0,
              "ticks": ""
             }
            },
            "type": "scattergl"
           }
          ],
          "scattermapbox": [
           {
            "marker": {
             "colorbar": {
              "outlinewidth": 0,
              "ticks": ""
             }
            },
            "type": "scattermapbox"
           }
          ],
          "scatterpolar": [
           {
            "marker": {
             "colorbar": {
              "outlinewidth": 0,
              "ticks": ""
             }
            },
            "type": "scatterpolar"
           }
          ],
          "scatterpolargl": [
           {
            "marker": {
             "colorbar": {
              "outlinewidth": 0,
              "ticks": ""
             }
            },
            "type": "scatterpolargl"
           }
          ],
          "scatterternary": [
           {
            "marker": {
             "colorbar": {
              "outlinewidth": 0,
              "ticks": ""
             }
            },
            "type": "scatterternary"
           }
          ],
          "surface": [
           {
            "colorbar": {
             "outlinewidth": 0,
             "ticks": ""
            },
            "colorscale": [
             [
              0,
              "#0d0887"
             ],
             [
              0.1111111111111111,
              "#46039f"
             ],
             [
              0.2222222222222222,
              "#7201a8"
             ],
             [
              0.3333333333333333,
              "#9c179e"
             ],
             [
              0.4444444444444444,
              "#bd3786"
             ],
             [
              0.5555555555555556,
              "#d8576b"
             ],
             [
              0.6666666666666666,
              "#ed7953"
             ],
             [
              0.7777777777777778,
              "#fb9f3a"
             ],
             [
              0.8888888888888888,
              "#fdca26"
             ],
             [
              1,
              "#f0f921"
             ]
            ],
            "type": "surface"
           }
          ],
          "table": [
           {
            "cells": {
             "fill": {
              "color": "#EBF0F8"
             },
             "line": {
              "color": "white"
             }
            },
            "header": {
             "fill": {
              "color": "#C8D4E3"
             },
             "line": {
              "color": "white"
             }
            },
            "type": "table"
           }
          ]
         },
         "layout": {
          "annotationdefaults": {
           "arrowcolor": "#2a3f5f",
           "arrowhead": 0,
           "arrowwidth": 1
          },
          "autotypenumbers": "strict",
          "coloraxis": {
           "colorbar": {
            "outlinewidth": 0,
            "ticks": ""
           }
          },
          "colorscale": {
           "diverging": [
            [
             0,
             "#8e0152"
            ],
            [
             0.1,
             "#c51b7d"
            ],
            [
             0.2,
             "#de77ae"
            ],
            [
             0.3,
             "#f1b6da"
            ],
            [
             0.4,
             "#fde0ef"
            ],
            [
             0.5,
             "#f7f7f7"
            ],
            [
             0.6,
             "#e6f5d0"
            ],
            [
             0.7,
             "#b8e186"
            ],
            [
             0.8,
             "#7fbc41"
            ],
            [
             0.9,
             "#4d9221"
            ],
            [
             1,
             "#276419"
            ]
           ],
           "sequential": [
            [
             0,
             "#0d0887"
            ],
            [
             0.1111111111111111,
             "#46039f"
            ],
            [
             0.2222222222222222,
             "#7201a8"
            ],
            [
             0.3333333333333333,
             "#9c179e"
            ],
            [
             0.4444444444444444,
             "#bd3786"
            ],
            [
             0.5555555555555556,
             "#d8576b"
            ],
            [
             0.6666666666666666,
             "#ed7953"
            ],
            [
             0.7777777777777778,
             "#fb9f3a"
            ],
            [
             0.8888888888888888,
             "#fdca26"
            ],
            [
             1,
             "#f0f921"
            ]
           ],
           "sequentialminus": [
            [
             0,
             "#0d0887"
            ],
            [
             0.1111111111111111,
             "#46039f"
            ],
            [
             0.2222222222222222,
             "#7201a8"
            ],
            [
             0.3333333333333333,
             "#9c179e"
            ],
            [
             0.4444444444444444,
             "#bd3786"
            ],
            [
             0.5555555555555556,
             "#d8576b"
            ],
            [
             0.6666666666666666,
             "#ed7953"
            ],
            [
             0.7777777777777778,
             "#fb9f3a"
            ],
            [
             0.8888888888888888,
             "#fdca26"
            ],
            [
             1,
             "#f0f921"
            ]
           ]
          },
          "colorway": [
           "#636efa",
           "#EF553B",
           "#00cc96",
           "#ab63fa",
           "#FFA15A",
           "#19d3f3",
           "#FF6692",
           "#B6E880",
           "#FF97FF",
           "#FECB52"
          ],
          "font": {
           "color": "#2a3f5f"
          },
          "geo": {
           "bgcolor": "white",
           "lakecolor": "white",
           "landcolor": "#E5ECF6",
           "showlakes": true,
           "showland": true,
           "subunitcolor": "white"
          },
          "hoverlabel": {
           "align": "left"
          },
          "hovermode": "closest",
          "mapbox": {
           "style": "light"
          },
          "paper_bgcolor": "white",
          "plot_bgcolor": "#E5ECF6",
          "polar": {
           "angularaxis": {
            "gridcolor": "white",
            "linecolor": "white",
            "ticks": ""
           },
           "bgcolor": "#E5ECF6",
           "radialaxis": {
            "gridcolor": "white",
            "linecolor": "white",
            "ticks": ""
           }
          },
          "scene": {
           "xaxis": {
            "backgroundcolor": "#E5ECF6",
            "gridcolor": "white",
            "gridwidth": 2,
            "linecolor": "white",
            "showbackground": true,
            "ticks": "",
            "zerolinecolor": "white"
           },
           "yaxis": {
            "backgroundcolor": "#E5ECF6",
            "gridcolor": "white",
            "gridwidth": 2,
            "linecolor": "white",
            "showbackground": true,
            "ticks": "",
            "zerolinecolor": "white"
           },
           "zaxis": {
            "backgroundcolor": "#E5ECF6",
            "gridcolor": "white",
            "gridwidth": 2,
            "linecolor": "white",
            "showbackground": true,
            "ticks": "",
            "zerolinecolor": "white"
           }
          },
          "shapedefaults": {
           "line": {
            "color": "#2a3f5f"
           }
          },
          "ternary": {
           "aaxis": {
            "gridcolor": "white",
            "linecolor": "white",
            "ticks": ""
           },
           "baxis": {
            "gridcolor": "white",
            "linecolor": "white",
            "ticks": ""
           },
           "bgcolor": "#E5ECF6",
           "caxis": {
            "gridcolor": "white",
            "linecolor": "white",
            "ticks": ""
           }
          },
          "title": {
           "x": 0.05
          },
          "xaxis": {
           "automargin": true,
           "gridcolor": "white",
           "linecolor": "white",
           "ticks": "",
           "title": {
            "standoff": 15
           },
           "zerolinecolor": "white",
           "zerolinewidth": 2
          },
          "yaxis": {
           "automargin": true,
           "gridcolor": "white",
           "linecolor": "white",
           "ticks": "",
           "title": {
            "standoff": 15
           },
           "zerolinecolor": "white",
           "zerolinewidth": 2
          }
         }
        },
        "xaxis": {
         "anchor": "y",
         "domain": [
          0,
          1
         ]
        },
        "yaxis": {
         "anchor": "x",
         "domain": [
          0,
          1
         ]
        }
       }
      },
      "text/html": [
       "<div>                            <div id=\"146cec1d-9982-4672-9031-ef4af882494f\" class=\"plotly-graph-div\" style=\"height:525px; width:100%;\"></div>            <script type=\"text/javascript\">                require([\"plotly\"], function(Plotly) {                    window.PLOTLYENV=window.PLOTLYENV || {};                                    if (document.getElementById(\"146cec1d-9982-4672-9031-ef4af882494f\")) {                    Plotly.newPlot(                        \"146cec1d-9982-4672-9031-ef4af882494f\",                        [{\"name\":\"Truth\",\"x\":[\"2024-04-23 00:00:00\",\"2024-04-24 00:00:00\",\"2024-04-25 00:00:00\",\"2024-04-26 00:00:00\",\"2024-04-29 00:00:00\"],\"y\":[1077.11,1091.21,1088.62,1102.34,1112.34],\"type\":\"scatter\"},{\"name\":\"Prediction\",\"x\":[\"2024-04-23 00:00:00\",\"2024-04-24 00:00:00\",\"2024-04-25 00:00:00\",\"2024-04-26 00:00:00\",\"2024-04-29 00:00:00\"],\"y\":[\"1080.9259\",\"1080.9259\",\"1093.6593\",\"1093.6593\",\"1106.9073\"],\"type\":\"scatter\"}],                        {\"template\":{\"data\":{\"histogram2dcontour\":[{\"type\":\"histogram2dcontour\",\"colorbar\":{\"outlinewidth\":0,\"ticks\":\"\"},\"colorscale\":[[0.0,\"#0d0887\"],[0.1111111111111111,\"#46039f\"],[0.2222222222222222,\"#7201a8\"],[0.3333333333333333,\"#9c179e\"],[0.4444444444444444,\"#bd3786\"],[0.5555555555555556,\"#d8576b\"],[0.6666666666666666,\"#ed7953\"],[0.7777777777777778,\"#fb9f3a\"],[0.8888888888888888,\"#fdca26\"],[1.0,\"#f0f921\"]]}],\"choropleth\":[{\"type\":\"choropleth\",\"colorbar\":{\"outlinewidth\":0,\"ticks\":\"\"}}],\"histogram2d\":[{\"type\":\"histogram2d\",\"colorbar\":{\"outlinewidth\":0,\"ticks\":\"\"},\"colorscale\":[[0.0,\"#0d0887\"],[0.1111111111111111,\"#46039f\"],[0.2222222222222222,\"#7201a8\"],[0.3333333333333333,\"#9c179e\"],[0.4444444444444444,\"#bd3786\"],[0.5555555555555556,\"#d8576b\"],[0.6666666666666666,\"#ed7953\"],[0.7777777777777778,\"#fb9f3a\"],[0.8888888888888888,\"#fdca26\"],[1.0,\"#f0f921\"]]}],\"heatmap\":[{\"type\":\"heatmap\",\"colorbar\":{\"outlinewidth\":0,\"ticks\":\"\"},\"colorscale\":[[0.0,\"#0d0887\"],[0.1111111111111111,\"#46039f\"],[0.2222222222222222,\"#7201a8\"],[0.3333333333333333,\"#9c179e\"],[0.4444444444444444,\"#bd3786\"],[0.5555555555555556,\"#d8576b\"],[0.6666666666666666,\"#ed7953\"],[0.7777777777777778,\"#fb9f3a\"],[0.8888888888888888,\"#fdca26\"],[1.0,\"#f0f921\"]]}],\"heatmapgl\":[{\"type\":\"heatmapgl\",\"colorbar\":{\"outlinewidth\":0,\"ticks\":\"\"},\"colorscale\":[[0.0,\"#0d0887\"],[0.1111111111111111,\"#46039f\"],[0.2222222222222222,\"#7201a8\"],[0.3333333333333333,\"#9c179e\"],[0.4444444444444444,\"#bd3786\"],[0.5555555555555556,\"#d8576b\"],[0.6666666666666666,\"#ed7953\"],[0.7777777777777778,\"#fb9f3a\"],[0.8888888888888888,\"#fdca26\"],[1.0,\"#f0f921\"]]}],\"contourcarpet\":[{\"type\":\"contourcarpet\",\"colorbar\":{\"outlinewidth\":0,\"ticks\":\"\"}}],\"contour\":[{\"type\":\"contour\",\"colorbar\":{\"outlinewidth\":0,\"ticks\":\"\"},\"colorscale\":[[0.0,\"#0d0887\"],[0.1111111111111111,\"#46039f\"],[0.2222222222222222,\"#7201a8\"],[0.3333333333333333,\"#9c179e\"],[0.4444444444444444,\"#bd3786\"],[0.5555555555555556,\"#d8576b\"],[0.6666666666666666,\"#ed7953\"],[0.7777777777777778,\"#fb9f3a\"],[0.8888888888888888,\"#fdca26\"],[1.0,\"#f0f921\"]]}],\"surface\":[{\"type\":\"surface\",\"colorbar\":{\"outlinewidth\":0,\"ticks\":\"\"},\"colorscale\":[[0.0,\"#0d0887\"],[0.1111111111111111,\"#46039f\"],[0.2222222222222222,\"#7201a8\"],[0.3333333333333333,\"#9c179e\"],[0.4444444444444444,\"#bd3786\"],[0.5555555555555556,\"#d8576b\"],[0.6666666666666666,\"#ed7953\"],[0.7777777777777778,\"#fb9f3a\"],[0.8888888888888888,\"#fdca26\"],[1.0,\"#f0f921\"]]}],\"mesh3d\":[{\"type\":\"mesh3d\",\"colorbar\":{\"outlinewidth\":0,\"ticks\":\"\"}}],\"scatter\":[{\"fillpattern\":{\"fillmode\":\"overlay\",\"size\":10,\"solidity\":0.2},\"type\":\"scatter\"}],\"parcoords\":[{\"type\":\"parcoords\",\"line\":{\"colorbar\":{\"outlinewidth\":0,\"ticks\":\"\"}}}],\"scatterpolargl\":[{\"type\":\"scatterpolargl\",\"marker\":{\"colorbar\":{\"outlinewidth\":0,\"ticks\":\"\"}}}],\"bar\":[{\"error_x\":{\"color\":\"#2a3f5f\"},\"error_y\":{\"color\":\"#2a3f5f\"},\"marker\":{\"line\":{\"color\":\"#E5ECF6\",\"width\":0.5},\"pattern\":{\"fillmode\":\"overlay\",\"size\":10,\"solidity\":0.2}},\"type\":\"bar\"}],\"scattergeo\":[{\"type\":\"scattergeo\",\"marker\":{\"colorbar\":{\"outlinewidth\":0,\"ticks\":\"\"}}}],\"scatterpolar\":[{\"type\":\"scatterpolar\",\"marker\":{\"colorbar\":{\"outlinewidth\":0,\"ticks\":\"\"}}}],\"histogram\":[{\"marker\":{\"pattern\":{\"fillmode\":\"overlay\",\"size\":10,\"solidity\":0.2}},\"type\":\"histogram\"}],\"scattergl\":[{\"type\":\"scattergl\",\"marker\":{\"colorbar\":{\"outlinewidth\":0,\"ticks\":\"\"}}}],\"scatter3d\":[{\"type\":\"scatter3d\",\"line\":{\"colorbar\":{\"outlinewidth\":0,\"ticks\":\"\"}},\"marker\":{\"colorbar\":{\"outlinewidth\":0,\"ticks\":\"\"}}}],\"scattermapbox\":[{\"type\":\"scattermapbox\",\"marker\":{\"colorbar\":{\"outlinewidth\":0,\"ticks\":\"\"}}}],\"scatterternary\":[{\"type\":\"scatterternary\",\"marker\":{\"colorbar\":{\"outlinewidth\":0,\"ticks\":\"\"}}}],\"scattercarpet\":[{\"type\":\"scattercarpet\",\"marker\":{\"colorbar\":{\"outlinewidth\":0,\"ticks\":\"\"}}}],\"carpet\":[{\"aaxis\":{\"endlinecolor\":\"#2a3f5f\",\"gridcolor\":\"white\",\"linecolor\":\"white\",\"minorgridcolor\":\"white\",\"startlinecolor\":\"#2a3f5f\"},\"baxis\":{\"endlinecolor\":\"#2a3f5f\",\"gridcolor\":\"white\",\"linecolor\":\"white\",\"minorgridcolor\":\"white\",\"startlinecolor\":\"#2a3f5f\"},\"type\":\"carpet\"}],\"table\":[{\"cells\":{\"fill\":{\"color\":\"#EBF0F8\"},\"line\":{\"color\":\"white\"}},\"header\":{\"fill\":{\"color\":\"#C8D4E3\"},\"line\":{\"color\":\"white\"}},\"type\":\"table\"}],\"barpolar\":[{\"marker\":{\"line\":{\"color\":\"#E5ECF6\",\"width\":0.5},\"pattern\":{\"fillmode\":\"overlay\",\"size\":10,\"solidity\":0.2}},\"type\":\"barpolar\"}],\"pie\":[{\"automargin\":true,\"type\":\"pie\"}]},\"layout\":{\"autotypenumbers\":\"strict\",\"colorway\":[\"#636efa\",\"#EF553B\",\"#00cc96\",\"#ab63fa\",\"#FFA15A\",\"#19d3f3\",\"#FF6692\",\"#B6E880\",\"#FF97FF\",\"#FECB52\"],\"font\":{\"color\":\"#2a3f5f\"},\"hovermode\":\"closest\",\"hoverlabel\":{\"align\":\"left\"},\"paper_bgcolor\":\"white\",\"plot_bgcolor\":\"#E5ECF6\",\"polar\":{\"bgcolor\":\"#E5ECF6\",\"angularaxis\":{\"gridcolor\":\"white\",\"linecolor\":\"white\",\"ticks\":\"\"},\"radialaxis\":{\"gridcolor\":\"white\",\"linecolor\":\"white\",\"ticks\":\"\"}},\"ternary\":{\"bgcolor\":\"#E5ECF6\",\"aaxis\":{\"gridcolor\":\"white\",\"linecolor\":\"white\",\"ticks\":\"\"},\"baxis\":{\"gridcolor\":\"white\",\"linecolor\":\"white\",\"ticks\":\"\"},\"caxis\":{\"gridcolor\":\"white\",\"linecolor\":\"white\",\"ticks\":\"\"}},\"coloraxis\":{\"colorbar\":{\"outlinewidth\":0,\"ticks\":\"\"}},\"colorscale\":{\"sequential\":[[0.0,\"#0d0887\"],[0.1111111111111111,\"#46039f\"],[0.2222222222222222,\"#7201a8\"],[0.3333333333333333,\"#9c179e\"],[0.4444444444444444,\"#bd3786\"],[0.5555555555555556,\"#d8576b\"],[0.6666666666666666,\"#ed7953\"],[0.7777777777777778,\"#fb9f3a\"],[0.8888888888888888,\"#fdca26\"],[1.0,\"#f0f921\"]],\"sequentialminus\":[[0.0,\"#0d0887\"],[0.1111111111111111,\"#46039f\"],[0.2222222222222222,\"#7201a8\"],[0.3333333333333333,\"#9c179e\"],[0.4444444444444444,\"#bd3786\"],[0.5555555555555556,\"#d8576b\"],[0.6666666666666666,\"#ed7953\"],[0.7777777777777778,\"#fb9f3a\"],[0.8888888888888888,\"#fdca26\"],[1.0,\"#f0f921\"]],\"diverging\":[[0,\"#8e0152\"],[0.1,\"#c51b7d\"],[0.2,\"#de77ae\"],[0.3,\"#f1b6da\"],[0.4,\"#fde0ef\"],[0.5,\"#f7f7f7\"],[0.6,\"#e6f5d0\"],[0.7,\"#b8e186\"],[0.8,\"#7fbc41\"],[0.9,\"#4d9221\"],[1,\"#276419\"]]},\"xaxis\":{\"gridcolor\":\"white\",\"linecolor\":\"white\",\"ticks\":\"\",\"title\":{\"standoff\":15},\"zerolinecolor\":\"white\",\"automargin\":true,\"zerolinewidth\":2},\"yaxis\":{\"gridcolor\":\"white\",\"linecolor\":\"white\",\"ticks\":\"\",\"title\":{\"standoff\":15},\"zerolinecolor\":\"white\",\"automargin\":true,\"zerolinewidth\":2},\"scene\":{\"xaxis\":{\"backgroundcolor\":\"#E5ECF6\",\"gridcolor\":\"white\",\"linecolor\":\"white\",\"showbackground\":true,\"ticks\":\"\",\"zerolinecolor\":\"white\",\"gridwidth\":2},\"yaxis\":{\"backgroundcolor\":\"#E5ECF6\",\"gridcolor\":\"white\",\"linecolor\":\"white\",\"showbackground\":true,\"ticks\":\"\",\"zerolinecolor\":\"white\",\"gridwidth\":2},\"zaxis\":{\"backgroundcolor\":\"#E5ECF6\",\"gridcolor\":\"white\",\"linecolor\":\"white\",\"showbackground\":true,\"ticks\":\"\",\"zerolinecolor\":\"white\",\"gridwidth\":2}},\"shapedefaults\":{\"line\":{\"color\":\"#2a3f5f\"}},\"annotationdefaults\":{\"arrowcolor\":\"#2a3f5f\",\"arrowhead\":0,\"arrowwidth\":1},\"geo\":{\"bgcolor\":\"white\",\"landcolor\":\"#E5ECF6\",\"subunitcolor\":\"white\",\"showland\":true,\"showlakes\":true,\"lakecolor\":\"white\"},\"title\":{\"x\":0.05},\"mapbox\":{\"style\":\"light\"}}},\"xaxis\":{\"anchor\":\"y\",\"domain\":[0.0,1.0]},\"yaxis\":{\"anchor\":\"x\",\"domain\":[0.0,1.0]}},                        {\"responsive\": true}                    ).then(function(){\n",
       "                            \n",
       "var gd = document.getElementById('146cec1d-9982-4672-9031-ef4af882494f');\n",
       "var x = new MutationObserver(function (mutations, observer) {{\n",
       "        var display = window.getComputedStyle(gd).display;\n",
       "        if (!display || display === 'none') {{\n",
       "            console.log([gd, 'removed!']);\n",
       "            Plotly.purge(gd);\n",
       "            observer.disconnect();\n",
       "        }}\n",
       "}});\n",
       "\n",
       "// Listen for the removal of the full notebook cells\n",
       "var notebookContainer = gd.closest('#notebook-container');\n",
       "if (notebookContainer) {{\n",
       "    x.observe(notebookContainer, {childList: true});\n",
       "}}\n",
       "\n",
       "// Listen for the clearing of the current output cell\n",
       "var outputEl = gd.closest('.output');\n",
       "if (outputEl) {{\n",
       "    x.observe(outputEl, {childList: true});\n",
       "}}\n",
       "\n",
       "                        })                };                });            </script>        </div>"
      ]
     },
     "metadata": {},
     "output_type": "display_data"
    }
   ],
   "source": [
    "y_pred = ['1080.9259', '1080.9259', '1093.6593','1093.6593', '1106.9073']\n",
    "predictions = pd.DataFrame(truth_df)\n",
    "predictions['Close'] = y_pred\n",
    "\n",
    "fig = make_subplots(rows=1, cols=1)\n",
    "fig.add_trace(go.Scatter(x=truth_df['Exchange Date'], \n",
    "                         y=truth_df['Close'],\n",
    "                         name='Truth'))\n",
    "\n",
    "fig.add_trace(go.Scatter(x=predictions['Exchange Date'],\n",
    "                         y=predictions['Close'],\n",
    "                         name='Prediction'))\n",
    "fig.show()"
   ]
  }
 ],
 "metadata": {
  "kernelspec": {
   "display_name": "lseg",
   "language": "python",
   "name": "python3"
  },
  "language_info": {
   "codemirror_mode": {
    "name": "ipython",
    "version": 3
   },
   "file_extension": ".py",
   "mimetype": "text/x-python",
   "name": "python",
   "nbconvert_exporter": "python",
   "pygments_lexer": "ipython3",
   "version": "3.12.3"
  }
 },
 "nbformat": 4,
 "nbformat_minor": 2
}
