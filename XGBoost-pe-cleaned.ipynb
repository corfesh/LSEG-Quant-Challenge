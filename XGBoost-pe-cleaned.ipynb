{
 "cells": [
  {
   "cell_type": "code",
   "execution_count": 8,
   "metadata": {},
   "outputs": [
    {
     "data": {
      "text/html": [
       "        <script type=\"text/javascript\">\n",
       "        window.PlotlyConfig = {MathJaxConfig: 'local'};\n",
       "        if (window.MathJax && window.MathJax.Hub && window.MathJax.Hub.Config) {window.MathJax.Hub.Config({SVG: {font: \"STIX-Web\"}});}\n",
       "        if (typeof require !== 'undefined') {\n",
       "        require.undef(\"plotly\");\n",
       "        requirejs.config({\n",
       "            paths: {\n",
       "                'plotly': ['https://cdn.plot.ly/plotly-2.12.1.min']\n",
       "            }\n",
       "        });\n",
       "        require(['plotly'], function(Plotly) {\n",
       "            window._Plotly = Plotly;\n",
       "        });\n",
       "        }\n",
       "        </script>\n",
       "        "
      ]
     },
     "metadata": {},
     "output_type": "display_data"
    },
    {
     "data": {
      "text/plain": [
       "(336, 3)"
      ]
     },
     "execution_count": 8,
     "metadata": {},
     "output_type": "execute_result"
    }
   ],
   "source": [
    "import pandas as pd\n",
    "import numpy as np\n",
    "import matplotlib.pyplot as plt\n",
    "\n",
    "import xgboost as xgb\n",
    "from sklearn.metrics import mean_squared_error\n",
    "import os\n",
    "\n",
    "from plotly.offline import init_notebook_mode\n",
    "init_notebook_mode(connected=True)\n",
    "\n",
    "csv_file_path = os.path.join(os.getcwd(), 'new_filtered_data.csv')\n",
    "df = pd.read_csv(csv_file_path)\n",
    "df.shape"
   ]
  },
  {
   "cell_type": "code",
   "execution_count": 9,
   "metadata": {},
   "outputs": [],
   "source": [
    "df = df.rename(columns={'Exchange Date': 'Date'})\n",
    "df['Date'] = pd.to_datetime(df['Date'])"
   ]
  },
  {
   "cell_type": "code",
   "execution_count": 10,
   "metadata": {},
   "outputs": [],
   "source": [
    "df = df[::-1].copy(deep = True)"
   ]
  },
  {
   "cell_type": "code",
   "execution_count": 11,
   "metadata": {},
   "outputs": [
    {
     "name": "stdout",
     "output_type": "stream",
     "text": [
      "          Date    Close    Net\n",
      "335 2023-01-09  1056.41  23.41\n",
      "334 2023-01-10  1057.60   1.19\n",
      "333 2023-01-11  1061.51   3.91\n",
      "332 2023-01-12  1063.11   1.60\n",
      "331 2023-01-13  1074.82  11.71\n"
     ]
    }
   ],
   "source": [
    "print(df.head())"
   ]
  },
  {
   "cell_type": "code",
   "execution_count": 12,
   "metadata": {},
   "outputs": [
    {
     "data": {
      "text/html": [
       "<div>\n",
       "<style scoped>\n",
       "    .dataframe tbody tr th:only-of-type {\n",
       "        vertical-align: middle;\n",
       "    }\n",
       "\n",
       "    .dataframe tbody tr th {\n",
       "        vertical-align: top;\n",
       "    }\n",
       "\n",
       "    .dataframe thead th {\n",
       "        text-align: right;\n",
       "    }\n",
       "</style>\n",
       "<table border=\"1\" class=\"dataframe\">\n",
       "  <thead>\n",
       "    <tr style=\"text-align: right;\">\n",
       "      <th></th>\n",
       "      <th>Close</th>\n",
       "      <th>Net</th>\n",
       "    </tr>\n",
       "    <tr>\n",
       "      <th>Date</th>\n",
       "      <th></th>\n",
       "      <th></th>\n",
       "    </tr>\n",
       "  </thead>\n",
       "  <tbody>\n",
       "    <tr>\n",
       "      <th>2023-01-09</th>\n",
       "      <td>1056.41</td>\n",
       "      <td>23.41</td>\n",
       "    </tr>\n",
       "    <tr>\n",
       "      <th>2023-01-10</th>\n",
       "      <td>1057.60</td>\n",
       "      <td>1.19</td>\n",
       "    </tr>\n",
       "    <tr>\n",
       "      <th>2023-01-11</th>\n",
       "      <td>1061.51</td>\n",
       "      <td>3.91</td>\n",
       "    </tr>\n",
       "    <tr>\n",
       "      <th>2023-01-12</th>\n",
       "      <td>1063.11</td>\n",
       "      <td>1.60</td>\n",
       "    </tr>\n",
       "    <tr>\n",
       "      <th>2023-01-13</th>\n",
       "      <td>1074.82</td>\n",
       "      <td>11.71</td>\n",
       "    </tr>\n",
       "  </tbody>\n",
       "</table>\n",
       "</div>"
      ],
      "text/plain": [
       "              Close    Net\n",
       "Date                      \n",
       "2023-01-09  1056.41  23.41\n",
       "2023-01-10  1057.60   1.19\n",
       "2023-01-11  1061.51   3.91\n",
       "2023-01-12  1063.11   1.60\n",
       "2023-01-13  1074.82  11.71"
      ]
     },
     "execution_count": 12,
     "metadata": {},
     "output_type": "execute_result"
    }
   ],
   "source": [
    "# df = df[(df['Date'] >= '2024-01-01')].copy()\n",
    "df.set_index('Date', inplace=True)\n",
    "df.head()\n"
   ]
  },
  {
   "cell_type": "code",
   "execution_count": 13,
   "metadata": {},
   "outputs": [
    {
     "data": {
      "text/html": [
       "<div>\n",
       "<style scoped>\n",
       "    .dataframe tbody tr th:only-of-type {\n",
       "        vertical-align: middle;\n",
       "    }\n",
       "\n",
       "    .dataframe tbody tr th {\n",
       "        vertical-align: top;\n",
       "    }\n",
       "\n",
       "    .dataframe thead th {\n",
       "        text-align: right;\n",
       "    }\n",
       "</style>\n",
       "<table border=\"1\" class=\"dataframe\">\n",
       "  <thead>\n",
       "    <tr style=\"text-align: right;\">\n",
       "      <th></th>\n",
       "      <th>Close</th>\n",
       "    </tr>\n",
       "    <tr>\n",
       "      <th>Date</th>\n",
       "      <th></th>\n",
       "    </tr>\n",
       "  </thead>\n",
       "  <tbody>\n",
       "    <tr>\n",
       "      <th>2024-04-29 00:00:00</th>\n",
       "      <td>NaN</td>\n",
       "    </tr>\n",
       "    <tr>\n",
       "      <th>2024-04-26 00:00:00</th>\n",
       "      <td>NaN</td>\n",
       "    </tr>\n",
       "    <tr>\n",
       "      <th>2024-04-25 00:00:00</th>\n",
       "      <td>NaN</td>\n",
       "    </tr>\n",
       "    <tr>\n",
       "      <th>2024-04-24 00:00:00</th>\n",
       "      <td>NaN</td>\n",
       "    </tr>\n",
       "    <tr>\n",
       "      <th>2024-04-23 00:00:00</th>\n",
       "      <td>NaN</td>\n",
       "    </tr>\n",
       "  </tbody>\n",
       "</table>\n",
       "</div>"
      ],
      "text/plain": [
       "                     Close\n",
       "Date                      \n",
       "2024-04-29 00:00:00    NaN\n",
       "2024-04-26 00:00:00    NaN\n",
       "2024-04-25 00:00:00    NaN\n",
       "2024-04-24 00:00:00    NaN\n",
       "2024-04-23 00:00:00    NaN"
      ]
     },
     "execution_count": 13,
     "metadata": {},
     "output_type": "execute_result"
    }
   ],
   "source": [
    "to_predict_csv_file_path = os.path.join(os.getcwd(), 'to_predict.csv')\n",
    "to_predict_df = pd.read_csv(to_predict_csv_file_path)\n",
    "to_predict_df = to_predict_df.rename(columns={'Exchange Date': 'Date'})\n",
    "to_predict_df.set_index('Date', inplace=True)\n",
    "to_predict_df.head()"
   ]
  },
  {
   "cell_type": "code",
   "execution_count": 14,
   "metadata": {},
   "outputs": [
    {
     "data": {
      "text/html": [
       "<div>\n",
       "<style scoped>\n",
       "    .dataframe tbody tr th:only-of-type {\n",
       "        vertical-align: middle;\n",
       "    }\n",
       "\n",
       "    .dataframe tbody tr th {\n",
       "        vertical-align: top;\n",
       "    }\n",
       "\n",
       "    .dataframe thead th {\n",
       "        text-align: right;\n",
       "    }\n",
       "</style>\n",
       "<table border=\"1\" class=\"dataframe\">\n",
       "  <thead>\n",
       "    <tr style=\"text-align: right;\">\n",
       "      <th></th>\n",
       "      <th>Close</th>\n",
       "      <th>Net</th>\n",
       "    </tr>\n",
       "    <tr>\n",
       "      <th>Date</th>\n",
       "      <th></th>\n",
       "      <th></th>\n",
       "    </tr>\n",
       "  </thead>\n",
       "  <tbody>\n",
       "    <tr>\n",
       "      <th>2024-04-29 00:00:00</th>\n",
       "      <td>NaN</td>\n",
       "      <td>NaN</td>\n",
       "    </tr>\n",
       "    <tr>\n",
       "      <th>2024-04-26 00:00:00</th>\n",
       "      <td>NaN</td>\n",
       "      <td>NaN</td>\n",
       "    </tr>\n",
       "    <tr>\n",
       "      <th>2024-04-25 00:00:00</th>\n",
       "      <td>NaN</td>\n",
       "      <td>NaN</td>\n",
       "    </tr>\n",
       "    <tr>\n",
       "      <th>2024-04-24 00:00:00</th>\n",
       "      <td>NaN</td>\n",
       "      <td>NaN</td>\n",
       "    </tr>\n",
       "    <tr>\n",
       "      <th>2024-04-23 00:00:00</th>\n",
       "      <td>NaN</td>\n",
       "      <td>NaN</td>\n",
       "    </tr>\n",
       "    <tr>\n",
       "      <th>2024-04-22 00:00:00</th>\n",
       "      <td>1067.81</td>\n",
       "      <td>5.08</td>\n",
       "    </tr>\n",
       "    <tr>\n",
       "      <th>2024-04-19 00:00:00</th>\n",
       "      <td>1062.73</td>\n",
       "      <td>-15.16</td>\n",
       "    </tr>\n",
       "    <tr>\n",
       "      <th>2024-04-18 00:00:00</th>\n",
       "      <td>1077.89</td>\n",
       "      <td>3.02</td>\n",
       "    </tr>\n",
       "    <tr>\n",
       "      <th>2024-04-17 00:00:00</th>\n",
       "      <td>1074.87</td>\n",
       "      <td>3.81</td>\n",
       "    </tr>\n",
       "    <tr>\n",
       "      <th>2024-04-16 00:00:00</th>\n",
       "      <td>1071.06</td>\n",
       "      <td>-20.72</td>\n",
       "    </tr>\n",
       "  </tbody>\n",
       "</table>\n",
       "</div>"
      ],
      "text/plain": [
       "                       Close    Net\n",
       "Date                               \n",
       "2024-04-29 00:00:00      NaN    NaN\n",
       "2024-04-26 00:00:00      NaN    NaN\n",
       "2024-04-25 00:00:00      NaN    NaN\n",
       "2024-04-24 00:00:00      NaN    NaN\n",
       "2024-04-23 00:00:00      NaN    NaN\n",
       "2024-04-22 00:00:00  1067.81   5.08\n",
       "2024-04-19 00:00:00  1062.73 -15.16\n",
       "2024-04-18 00:00:00  1077.89   3.02\n",
       "2024-04-17 00:00:00  1074.87   3.81\n",
       "2024-04-16 00:00:00  1071.06 -20.72"
      ]
     },
     "execution_count": 14,
     "metadata": {},
     "output_type": "execute_result"
    }
   ],
   "source": [
    "df = pd.concat([df, to_predict_df[::-1]])\n",
    "df[::-1].head(10)"
   ]
  },
  {
   "cell_type": "code",
   "execution_count": 15,
   "metadata": {},
   "outputs": [],
   "source": [
    "df['EMA_9'] = df['Close'].ewm(9).mean().shift()\n",
    "df['SMA_5'] = df['Close'].rolling(5).mean().shift()\n",
    "df['SMA_10'] = df['Close'].rolling(10).mean().shift()\n",
    "df['SMA_15'] = df['Close'].rolling(15).mean().shift()\n",
    "df['SMA_30'] = df['Close'].rolling(30).mean().shift()\n"
   ]
  },
  {
   "cell_type": "code",
   "execution_count": 10,
   "metadata": {},
   "outputs": [
    {
     "data": {
      "text/html": [
       "<div>\n",
       "<style scoped>\n",
       "    .dataframe tbody tr th:only-of-type {\n",
       "        vertical-align: middle;\n",
       "    }\n",
       "\n",
       "    .dataframe tbody tr th {\n",
       "        vertical-align: top;\n",
       "    }\n",
       "\n",
       "    .dataframe thead th {\n",
       "        text-align: right;\n",
       "    }\n",
       "</style>\n",
       "<table border=\"1\" class=\"dataframe\">\n",
       "  <thead>\n",
       "    <tr style=\"text-align: right;\">\n",
       "      <th></th>\n",
       "      <th>Close</th>\n",
       "      <th>Net</th>\n",
       "      <th>%Chg</th>\n",
       "      <th>Open</th>\n",
       "      <th>Low</th>\n",
       "      <th>High</th>\n",
       "      <th>EMA_9</th>\n",
       "      <th>SMA_5</th>\n",
       "      <th>SMA_10</th>\n",
       "      <th>SMA_15</th>\n",
       "      <th>SMA_30</th>\n",
       "    </tr>\n",
       "    <tr>\n",
       "      <th>Date</th>\n",
       "      <th></th>\n",
       "      <th></th>\n",
       "      <th></th>\n",
       "      <th></th>\n",
       "      <th></th>\n",
       "      <th></th>\n",
       "      <th></th>\n",
       "      <th></th>\n",
       "      <th></th>\n",
       "      <th></th>\n",
       "      <th></th>\n",
       "    </tr>\n",
       "  </thead>\n",
       "  <tbody>\n",
       "    <tr>\n",
       "      <th>2024-01-01 00:00:00</th>\n",
       "      <td>1065.85</td>\n",
       "      <td>1.15</td>\n",
       "      <td>0.001500</td>\n",
       "      <td>1055.57</td>\n",
       "      <td>1055.65</td>\n",
       "      <td>1055.84</td>\n",
       "      <td>NaN</td>\n",
       "      <td>NaN</td>\n",
       "      <td>NaN</td>\n",
       "      <td>NaN</td>\n",
       "      <td>NaN</td>\n",
       "    </tr>\n",
       "    <tr>\n",
       "      <th>2024-01-02 00:00:00</th>\n",
       "      <td>1053.79</td>\n",
       "      <td>-10.09</td>\n",
       "      <td>-0.009484</td>\n",
       "      <td>1063.99</td>\n",
       "      <td>1052.33</td>\n",
       "      <td>1065.07</td>\n",
       "      <td>1065.850000</td>\n",
       "      <td>NaN</td>\n",
       "      <td>NaN</td>\n",
       "      <td>NaN</td>\n",
       "      <td>NaN</td>\n",
       "    </tr>\n",
       "    <tr>\n",
       "      <th>2024-01-03 00:00:00</th>\n",
       "      <td>1040.77</td>\n",
       "      <td>-13.02</td>\n",
       "      <td>-0.012355</td>\n",
       "      <td>1053.27</td>\n",
       "      <td>1040.29</td>\n",
       "      <td>1053.33</td>\n",
       "      <td>1059.502632</td>\n",
       "      <td>NaN</td>\n",
       "      <td>NaN</td>\n",
       "      <td>NaN</td>\n",
       "      <td>NaN</td>\n",
       "    </tr>\n",
       "    <tr>\n",
       "      <th>2024-01-04 00:00:00</th>\n",
       "      <td>1044.52</td>\n",
       "      <td>3.75</td>\n",
       "      <td>0.003603</td>\n",
       "      <td>1040.96</td>\n",
       "      <td>1038.94</td>\n",
       "      <td>1046.81</td>\n",
       "      <td>1052.590221</td>\n",
       "      <td>NaN</td>\n",
       "      <td>NaN</td>\n",
       "      <td>NaN</td>\n",
       "      <td>NaN</td>\n",
       "    </tr>\n",
       "    <tr>\n",
       "      <th>2024-01-05 00:00:00</th>\n",
       "      <td>1043.98</td>\n",
       "      <td>-0.54</td>\n",
       "      <td>-0.000517</td>\n",
       "      <td>1045.21</td>\n",
       "      <td>1038.93</td>\n",
       "      <td>1045.52</td>\n",
       "      <td>1050.243545</td>\n",
       "      <td>NaN</td>\n",
       "      <td>NaN</td>\n",
       "      <td>NaN</td>\n",
       "      <td>NaN</td>\n",
       "    </tr>\n",
       "  </tbody>\n",
       "</table>\n",
       "</div>"
      ],
      "text/plain": [
       "                       Close    Net      %Chg     Open      Low     High  \\\n",
       "Date                                                                       \n",
       "2024-01-01 00:00:00  1065.85   1.15  0.001500  1055.57  1055.65  1055.84   \n",
       "2024-01-02 00:00:00  1053.79 -10.09 -0.009484  1063.99  1052.33  1065.07   \n",
       "2024-01-03 00:00:00  1040.77 -13.02 -0.012355  1053.27  1040.29  1053.33   \n",
       "2024-01-04 00:00:00  1044.52   3.75  0.003603  1040.96  1038.94  1046.81   \n",
       "2024-01-05 00:00:00  1043.98  -0.54 -0.000517  1045.21  1038.93  1045.52   \n",
       "\n",
       "                           EMA_9  SMA_5  SMA_10  SMA_15  SMA_30  \n",
       "Date                                                             \n",
       "2024-01-01 00:00:00          NaN    NaN     NaN     NaN     NaN  \n",
       "2024-01-02 00:00:00  1065.850000    NaN     NaN     NaN     NaN  \n",
       "2024-01-03 00:00:00  1059.502632    NaN     NaN     NaN     NaN  \n",
       "2024-01-04 00:00:00  1052.590221    NaN     NaN     NaN     NaN  \n",
       "2024-01-05 00:00:00  1050.243545    NaN     NaN     NaN     NaN  "
      ]
     },
     "execution_count": 10,
     "metadata": {},
     "output_type": "execute_result"
    }
   ],
   "source": [
    "df.head()"
   ]
  },
  {
   "cell_type": "code",
   "execution_count": 17,
   "metadata": {},
   "outputs": [],
   "source": [
    "def relative_strength_idx(df, n=14):\n",
    "    close = df['Close']\n",
    "    delta = close.diff()\n",
    "    delta = delta[1:]\n",
    "    pricesUp = delta.copy()\n",
    "    pricesDown = delta.copy()\n",
    "    pricesUp[pricesUp < 0] = 0\n",
    "    pricesDown[pricesDown > 0] = 0\n",
    "    rollUp = pricesUp.rolling(n).mean()\n",
    "    rollDown = pricesDown.abs().rolling(n).mean()\n",
    "    rs = rollUp / rollDown\n",
    "    rsi = 100.0 - (100.0 / (1.0 + rs))\n",
    "    return rsi\n",
    "\n",
    "df['RSI'] = relative_strength_idx(df).fillna(0)\n",
    "\n"
   ]
  },
  {
   "cell_type": "code",
   "execution_count": 18,
   "metadata": {},
   "outputs": [],
   "source": [
    "EMA_12 = pd.Series(df['Close'].ewm(span=12, min_periods=12).mean())\n",
    "EMA_26 = pd.Series(df['Close'].ewm(span=26, min_periods=26).mean())\n"
   ]
  },
  {
   "cell_type": "code",
   "execution_count": 24,
   "metadata": {},
   "outputs": [],
   "source": [
    "df['MACD'] = pd.Series(EMA_12 - EMA_26)\n",
    "df['MACD_signal'] = pd.Series(df.MACD.ewm(span=9, min_periods=9).mean())\n"
   ]
  },
  {
   "cell_type": "code",
   "execution_count": 15,
   "metadata": {},
   "outputs": [
    {
     "data": {
      "text/html": [
       "<div>\n",
       "<style scoped>\n",
       "    .dataframe tbody tr th:only-of-type {\n",
       "        vertical-align: middle;\n",
       "    }\n",
       "\n",
       "    .dataframe tbody tr th {\n",
       "        vertical-align: top;\n",
       "    }\n",
       "\n",
       "    .dataframe thead th {\n",
       "        text-align: right;\n",
       "    }\n",
       "</style>\n",
       "<table border=\"1\" class=\"dataframe\">\n",
       "  <thead>\n",
       "    <tr style=\"text-align: right;\">\n",
       "      <th></th>\n",
       "      <th>Close</th>\n",
       "      <th>Net</th>\n",
       "      <th>%Chg</th>\n",
       "      <th>Open</th>\n",
       "      <th>Low</th>\n",
       "      <th>High</th>\n",
       "      <th>EMA_9</th>\n",
       "      <th>SMA_5</th>\n",
       "      <th>SMA_10</th>\n",
       "      <th>SMA_15</th>\n",
       "      <th>SMA_30</th>\n",
       "      <th>RSI</th>\n",
       "      <th>MACD</th>\n",
       "      <th>MACD_signal</th>\n",
       "    </tr>\n",
       "    <tr>\n",
       "      <th>Date</th>\n",
       "      <th></th>\n",
       "      <th></th>\n",
       "      <th></th>\n",
       "      <th></th>\n",
       "      <th></th>\n",
       "      <th></th>\n",
       "      <th></th>\n",
       "      <th></th>\n",
       "      <th></th>\n",
       "      <th></th>\n",
       "      <th></th>\n",
       "      <th></th>\n",
       "      <th></th>\n",
       "      <th></th>\n",
       "    </tr>\n",
       "  </thead>\n",
       "  <tbody>\n",
       "    <tr>\n",
       "      <th>2024-01-01 00:00:00</th>\n",
       "      <td>1065.85</td>\n",
       "      <td>1.15</td>\n",
       "      <td>0.001500</td>\n",
       "      <td>1055.57</td>\n",
       "      <td>1055.65</td>\n",
       "      <td>1055.84</td>\n",
       "      <td>NaN</td>\n",
       "      <td>NaN</td>\n",
       "      <td>NaN</td>\n",
       "      <td>NaN</td>\n",
       "      <td>NaN</td>\n",
       "      <td>NaN</td>\n",
       "      <td>NaN</td>\n",
       "      <td>NaN</td>\n",
       "    </tr>\n",
       "    <tr>\n",
       "      <th>2024-01-02 00:00:00</th>\n",
       "      <td>1053.79</td>\n",
       "      <td>-10.09</td>\n",
       "      <td>-0.009484</td>\n",
       "      <td>1063.99</td>\n",
       "      <td>1052.33</td>\n",
       "      <td>1065.07</td>\n",
       "      <td>1065.850000</td>\n",
       "      <td>NaN</td>\n",
       "      <td>NaN</td>\n",
       "      <td>NaN</td>\n",
       "      <td>NaN</td>\n",
       "      <td>0.0</td>\n",
       "      <td>NaN</td>\n",
       "      <td>NaN</td>\n",
       "    </tr>\n",
       "    <tr>\n",
       "      <th>2024-01-03 00:00:00</th>\n",
       "      <td>1040.77</td>\n",
       "      <td>-13.02</td>\n",
       "      <td>-0.012355</td>\n",
       "      <td>1053.27</td>\n",
       "      <td>1040.29</td>\n",
       "      <td>1053.33</td>\n",
       "      <td>1059.502632</td>\n",
       "      <td>NaN</td>\n",
       "      <td>NaN</td>\n",
       "      <td>NaN</td>\n",
       "      <td>NaN</td>\n",
       "      <td>0.0</td>\n",
       "      <td>NaN</td>\n",
       "      <td>NaN</td>\n",
       "    </tr>\n",
       "    <tr>\n",
       "      <th>2024-01-04 00:00:00</th>\n",
       "      <td>1044.52</td>\n",
       "      <td>3.75</td>\n",
       "      <td>0.003603</td>\n",
       "      <td>1040.96</td>\n",
       "      <td>1038.94</td>\n",
       "      <td>1046.81</td>\n",
       "      <td>1052.590221</td>\n",
       "      <td>NaN</td>\n",
       "      <td>NaN</td>\n",
       "      <td>NaN</td>\n",
       "      <td>NaN</td>\n",
       "      <td>0.0</td>\n",
       "      <td>NaN</td>\n",
       "      <td>NaN</td>\n",
       "    </tr>\n",
       "    <tr>\n",
       "      <th>2024-01-05 00:00:00</th>\n",
       "      <td>1043.98</td>\n",
       "      <td>-0.54</td>\n",
       "      <td>-0.000517</td>\n",
       "      <td>1045.21</td>\n",
       "      <td>1038.93</td>\n",
       "      <td>1045.52</td>\n",
       "      <td>1050.243545</td>\n",
       "      <td>NaN</td>\n",
       "      <td>NaN</td>\n",
       "      <td>NaN</td>\n",
       "      <td>NaN</td>\n",
       "      <td>0.0</td>\n",
       "      <td>NaN</td>\n",
       "      <td>NaN</td>\n",
       "    </tr>\n",
       "  </tbody>\n",
       "</table>\n",
       "</div>"
      ],
      "text/plain": [
       "                       Close    Net      %Chg     Open      Low     High  \\\n",
       "Date                                                                       \n",
       "2024-01-01 00:00:00  1065.85   1.15  0.001500  1055.57  1055.65  1055.84   \n",
       "2024-01-02 00:00:00  1053.79 -10.09 -0.009484  1063.99  1052.33  1065.07   \n",
       "2024-01-03 00:00:00  1040.77 -13.02 -0.012355  1053.27  1040.29  1053.33   \n",
       "2024-01-04 00:00:00  1044.52   3.75  0.003603  1040.96  1038.94  1046.81   \n",
       "2024-01-05 00:00:00  1043.98  -0.54 -0.000517  1045.21  1038.93  1045.52   \n",
       "\n",
       "                           EMA_9  SMA_5  SMA_10  SMA_15  SMA_30  RSI  MACD  \\\n",
       "Date                                                                         \n",
       "2024-01-01 00:00:00          NaN    NaN     NaN     NaN     NaN  NaN   NaN   \n",
       "2024-01-02 00:00:00  1065.850000    NaN     NaN     NaN     NaN  0.0   NaN   \n",
       "2024-01-03 00:00:00  1059.502632    NaN     NaN     NaN     NaN  0.0   NaN   \n",
       "2024-01-04 00:00:00  1052.590221    NaN     NaN     NaN     NaN  0.0   NaN   \n",
       "2024-01-05 00:00:00  1050.243545    NaN     NaN     NaN     NaN  0.0   NaN   \n",
       "\n",
       "                     MACD_signal  \n",
       "Date                              \n",
       "2024-01-01 00:00:00          NaN  \n",
       "2024-01-02 00:00:00          NaN  \n",
       "2024-01-03 00:00:00          NaN  \n",
       "2024-01-04 00:00:00          NaN  \n",
       "2024-01-05 00:00:00          NaN  "
      ]
     },
     "execution_count": 15,
     "metadata": {},
     "output_type": "execute_result"
    }
   ],
   "source": [
    "df.head()"
   ]
  },
  {
   "cell_type": "code",
   "execution_count": 16,
   "metadata": {},
   "outputs": [
    {
     "data": {
      "text/html": [
       "<div>\n",
       "<style scoped>\n",
       "    .dataframe tbody tr th:only-of-type {\n",
       "        vertical-align: middle;\n",
       "    }\n",
       "\n",
       "    .dataframe tbody tr th {\n",
       "        vertical-align: top;\n",
       "    }\n",
       "\n",
       "    .dataframe thead th {\n",
       "        text-align: right;\n",
       "    }\n",
       "</style>\n",
       "<table border=\"1\" class=\"dataframe\">\n",
       "  <thead>\n",
       "    <tr style=\"text-align: right;\">\n",
       "      <th></th>\n",
       "      <th>Close</th>\n",
       "      <th>Net</th>\n",
       "      <th>%Chg</th>\n",
       "      <th>Open</th>\n",
       "      <th>Low</th>\n",
       "      <th>High</th>\n",
       "      <th>EMA_9</th>\n",
       "      <th>SMA_5</th>\n",
       "      <th>SMA_10</th>\n",
       "      <th>SMA_15</th>\n",
       "      <th>SMA_30</th>\n",
       "      <th>RSI</th>\n",
       "      <th>MACD</th>\n",
       "      <th>MACD_signal</th>\n",
       "    </tr>\n",
       "    <tr>\n",
       "      <th>Date</th>\n",
       "      <th></th>\n",
       "      <th></th>\n",
       "      <th></th>\n",
       "      <th></th>\n",
       "      <th></th>\n",
       "      <th></th>\n",
       "      <th></th>\n",
       "      <th></th>\n",
       "      <th></th>\n",
       "      <th></th>\n",
       "      <th></th>\n",
       "      <th></th>\n",
       "      <th></th>\n",
       "      <th></th>\n",
       "    </tr>\n",
       "  </thead>\n",
       "  <tbody>\n",
       "    <tr>\n",
       "      <th>2024-04-29 00:00:00</th>\n",
       "      <td>NaN</td>\n",
       "      <td>NaN</td>\n",
       "      <td>NaN</td>\n",
       "      <td>NaN</td>\n",
       "      <td>NaN</td>\n",
       "      <td>NaN</td>\n",
       "      <td>1089.130915</td>\n",
       "      <td>NaN</td>\n",
       "      <td>NaN</td>\n",
       "      <td>NaN</td>\n",
       "      <td>NaN</td>\n",
       "      <td>0.000000</td>\n",
       "      <td>-3.516424</td>\n",
       "      <td>-1.643612</td>\n",
       "    </tr>\n",
       "    <tr>\n",
       "      <th>2024-04-26 00:00:00</th>\n",
       "      <td>NaN</td>\n",
       "      <td>NaN</td>\n",
       "      <td>NaN</td>\n",
       "      <td>NaN</td>\n",
       "      <td>NaN</td>\n",
       "      <td>NaN</td>\n",
       "      <td>1089.130915</td>\n",
       "      <td>NaN</td>\n",
       "      <td>NaN</td>\n",
       "      <td>NaN</td>\n",
       "      <td>NaN</td>\n",
       "      <td>0.000000</td>\n",
       "      <td>-3.516424</td>\n",
       "      <td>-1.175407</td>\n",
       "    </tr>\n",
       "    <tr>\n",
       "      <th>2024-04-25 00:00:00</th>\n",
       "      <td>NaN</td>\n",
       "      <td>NaN</td>\n",
       "      <td>NaN</td>\n",
       "      <td>NaN</td>\n",
       "      <td>NaN</td>\n",
       "      <td>NaN</td>\n",
       "      <td>1089.130915</td>\n",
       "      <td>NaN</td>\n",
       "      <td>NaN</td>\n",
       "      <td>NaN</td>\n",
       "      <td>NaN</td>\n",
       "      <td>0.000000</td>\n",
       "      <td>-3.516424</td>\n",
       "      <td>-0.590151</td>\n",
       "    </tr>\n",
       "    <tr>\n",
       "      <th>2024-04-24 00:00:00</th>\n",
       "      <td>NaN</td>\n",
       "      <td>NaN</td>\n",
       "      <td>NaN</td>\n",
       "      <td>NaN</td>\n",
       "      <td>NaN</td>\n",
       "      <td>NaN</td>\n",
       "      <td>1089.130915</td>\n",
       "      <td>NaN</td>\n",
       "      <td>NaN</td>\n",
       "      <td>NaN</td>\n",
       "      <td>NaN</td>\n",
       "      <td>0.000000</td>\n",
       "      <td>-3.516424</td>\n",
       "      <td>0.141421</td>\n",
       "    </tr>\n",
       "    <tr>\n",
       "      <th>2024-04-23 00:00:00</th>\n",
       "      <td>NaN</td>\n",
       "      <td>NaN</td>\n",
       "      <td>NaN</td>\n",
       "      <td>NaN</td>\n",
       "      <td>NaN</td>\n",
       "      <td>NaN</td>\n",
       "      <td>1089.130915</td>\n",
       "      <td>1070.872</td>\n",
       "      <td>1091.955</td>\n",
       "      <td>1095.051333</td>\n",
       "      <td>1095.275333</td>\n",
       "      <td>0.000000</td>\n",
       "      <td>-3.516424</td>\n",
       "      <td>1.055887</td>\n",
       "    </tr>\n",
       "    <tr>\n",
       "      <th>2024-04-22 00:00:00</th>\n",
       "      <td>1067.81</td>\n",
       "      <td>5.08</td>\n",
       "      <td>0.004780</td>\n",
       "      <td>1063.63</td>\n",
       "      <td>1061.95</td>\n",
       "      <td>1069.61</td>\n",
       "      <td>1091.500615</td>\n",
       "      <td>1078.032</td>\n",
       "      <td>1095.442</td>\n",
       "      <td>1096.970667</td>\n",
       "      <td>1096.042000</td>\n",
       "      <td>37.806587</td>\n",
       "      <td>-3.516424</td>\n",
       "      <td>2.198973</td>\n",
       "    </tr>\n",
       "    <tr>\n",
       "      <th>2024-04-19 00:00:00</th>\n",
       "      <td>1062.73</td>\n",
       "      <td>-15.16</td>\n",
       "      <td>-0.014065</td>\n",
       "      <td>1077.39</td>\n",
       "      <td>1054.16</td>\n",
       "      <td>1077.51</td>\n",
       "      <td>1094.698415</td>\n",
       "      <td>1088.826</td>\n",
       "      <td>1099.544</td>\n",
       "      <td>1099.049333</td>\n",
       "      <td>1096.866333</td>\n",
       "      <td>34.608743</td>\n",
       "      <td>-1.970002</td>\n",
       "      <td>3.627835</td>\n",
       "    </tr>\n",
       "    <tr>\n",
       "      <th>2024-04-18 00:00:00</th>\n",
       "      <td>1077.89</td>\n",
       "      <td>3.02</td>\n",
       "      <td>0.002810</td>\n",
       "      <td>1076.24</td>\n",
       "      <td>1072.81</td>\n",
       "      <td>1083.88</td>\n",
       "      <td>1096.566708</td>\n",
       "      <td>1097.206</td>\n",
       "      <td>1101.660</td>\n",
       "      <td>1099.838000</td>\n",
       "      <td>1096.906667</td>\n",
       "      <td>41.789668</td>\n",
       "      <td>0.548585</td>\n",
       "      <td>5.027311</td>\n",
       "    </tr>\n",
       "    <tr>\n",
       "      <th>2024-04-17 00:00:00</th>\n",
       "      <td>1074.87</td>\n",
       "      <td>3.81</td>\n",
       "      <td>0.003557</td>\n",
       "      <td>1070.80</td>\n",
       "      <td>1070.46</td>\n",
       "      <td>1076.86</td>\n",
       "      <td>1098.978445</td>\n",
       "      <td>1105.748</td>\n",
       "      <td>1104.682</td>\n",
       "      <td>1100.948000</td>\n",
       "      <td>1097.275000</td>\n",
       "      <td>42.479490</td>\n",
       "      <td>2.215554</td>\n",
       "      <td>6.147008</td>\n",
       "    </tr>\n",
       "    <tr>\n",
       "      <th>2024-04-16 00:00:00</th>\n",
       "      <td>1071.06</td>\n",
       "      <td>-20.72</td>\n",
       "      <td>-0.018978</td>\n",
       "      <td>1091.60</td>\n",
       "      <td>1070.13</td>\n",
       "      <td>1091.64</td>\n",
       "      <td>1102.081912</td>\n",
       "      <td>1113.038</td>\n",
       "      <td>1107.141</td>\n",
       "      <td>1102.230000</td>\n",
       "      <td>1097.560333</td>\n",
       "      <td>39.423077</td>\n",
       "      <td>4.617726</td>\n",
       "      <td>7.129889</td>\n",
       "    </tr>\n",
       "  </tbody>\n",
       "</table>\n",
       "</div>"
      ],
      "text/plain": [
       "                       Close    Net      %Chg     Open      Low     High  \\\n",
       "Date                                                                       \n",
       "2024-04-29 00:00:00      NaN    NaN       NaN      NaN      NaN      NaN   \n",
       "2024-04-26 00:00:00      NaN    NaN       NaN      NaN      NaN      NaN   \n",
       "2024-04-25 00:00:00      NaN    NaN       NaN      NaN      NaN      NaN   \n",
       "2024-04-24 00:00:00      NaN    NaN       NaN      NaN      NaN      NaN   \n",
       "2024-04-23 00:00:00      NaN    NaN       NaN      NaN      NaN      NaN   \n",
       "2024-04-22 00:00:00  1067.81   5.08  0.004780  1063.63  1061.95  1069.61   \n",
       "2024-04-19 00:00:00  1062.73 -15.16 -0.014065  1077.39  1054.16  1077.51   \n",
       "2024-04-18 00:00:00  1077.89   3.02  0.002810  1076.24  1072.81  1083.88   \n",
       "2024-04-17 00:00:00  1074.87   3.81  0.003557  1070.80  1070.46  1076.86   \n",
       "2024-04-16 00:00:00  1071.06 -20.72 -0.018978  1091.60  1070.13  1091.64   \n",
       "\n",
       "                           EMA_9     SMA_5    SMA_10       SMA_15  \\\n",
       "Date                                                                \n",
       "2024-04-29 00:00:00  1089.130915       NaN       NaN          NaN   \n",
       "2024-04-26 00:00:00  1089.130915       NaN       NaN          NaN   \n",
       "2024-04-25 00:00:00  1089.130915       NaN       NaN          NaN   \n",
       "2024-04-24 00:00:00  1089.130915       NaN       NaN          NaN   \n",
       "2024-04-23 00:00:00  1089.130915  1070.872  1091.955  1095.051333   \n",
       "2024-04-22 00:00:00  1091.500615  1078.032  1095.442  1096.970667   \n",
       "2024-04-19 00:00:00  1094.698415  1088.826  1099.544  1099.049333   \n",
       "2024-04-18 00:00:00  1096.566708  1097.206  1101.660  1099.838000   \n",
       "2024-04-17 00:00:00  1098.978445  1105.748  1104.682  1100.948000   \n",
       "2024-04-16 00:00:00  1102.081912  1113.038  1107.141  1102.230000   \n",
       "\n",
       "                          SMA_30        RSI      MACD  MACD_signal  \n",
       "Date                                                                \n",
       "2024-04-29 00:00:00          NaN   0.000000 -3.516424    -1.643612  \n",
       "2024-04-26 00:00:00          NaN   0.000000 -3.516424    -1.175407  \n",
       "2024-04-25 00:00:00          NaN   0.000000 -3.516424    -0.590151  \n",
       "2024-04-24 00:00:00          NaN   0.000000 -3.516424     0.141421  \n",
       "2024-04-23 00:00:00  1095.275333   0.000000 -3.516424     1.055887  \n",
       "2024-04-22 00:00:00  1096.042000  37.806587 -3.516424     2.198973  \n",
       "2024-04-19 00:00:00  1096.866333  34.608743 -1.970002     3.627835  \n",
       "2024-04-18 00:00:00  1096.906667  41.789668  0.548585     5.027311  \n",
       "2024-04-17 00:00:00  1097.275000  42.479490  2.215554     6.147008  \n",
       "2024-04-16 00:00:00  1097.560333  39.423077  4.617726     7.129889  "
      ]
     },
     "execution_count": 16,
     "metadata": {},
     "output_type": "execute_result"
    }
   ],
   "source": [
    "df[::-1].head(10)"
   ]
  },
  {
   "cell_type": "code",
   "execution_count": 25,
   "metadata": {},
   "outputs": [
    {
     "name": "stderr",
     "output_type": "stream",
     "text": [
      "c:\\Users\\anaro\\miniconda3\\envs\\lseg\\Lib\\site-packages\\pandas\\core\\indexing.py:2421: FutureWarning:\n",
      "\n",
      "Dtype inference on a pandas object (Series, Index, ExtensionArray) is deprecated. The Index constructor will keep the original dtype in the future. Call `infer_objects` on the result to get the old behavior.\n",
      "\n"
     ]
    }
   ],
   "source": [
    "df.loc[df.index[:-5], 'Close'] = df['Close'].shift(-5)"
   ]
  },
  {
   "cell_type": "code",
   "execution_count": 18,
   "metadata": {},
   "outputs": [
    {
     "data": {
      "text/html": [
       "<div>\n",
       "<style scoped>\n",
       "    .dataframe tbody tr th:only-of-type {\n",
       "        vertical-align: middle;\n",
       "    }\n",
       "\n",
       "    .dataframe tbody tr th {\n",
       "        vertical-align: top;\n",
       "    }\n",
       "\n",
       "    .dataframe thead th {\n",
       "        text-align: right;\n",
       "    }\n",
       "</style>\n",
       "<table border=\"1\" class=\"dataframe\">\n",
       "  <thead>\n",
       "    <tr style=\"text-align: right;\">\n",
       "      <th></th>\n",
       "      <th>Close</th>\n",
       "      <th>Net</th>\n",
       "      <th>%Chg</th>\n",
       "      <th>Open</th>\n",
       "      <th>Low</th>\n",
       "      <th>High</th>\n",
       "      <th>EMA_9</th>\n",
       "      <th>SMA_5</th>\n",
       "      <th>SMA_10</th>\n",
       "      <th>SMA_15</th>\n",
       "      <th>SMA_30</th>\n",
       "      <th>RSI</th>\n",
       "      <th>MACD</th>\n",
       "      <th>MACD_signal</th>\n",
       "    </tr>\n",
       "    <tr>\n",
       "      <th>Date</th>\n",
       "      <th></th>\n",
       "      <th></th>\n",
       "      <th></th>\n",
       "      <th></th>\n",
       "      <th></th>\n",
       "      <th></th>\n",
       "      <th></th>\n",
       "      <th></th>\n",
       "      <th></th>\n",
       "      <th></th>\n",
       "      <th></th>\n",
       "      <th></th>\n",
       "      <th></th>\n",
       "      <th></th>\n",
       "    </tr>\n",
       "  </thead>\n",
       "  <tbody>\n",
       "    <tr>\n",
       "      <th>2024-04-29 00:00:00</th>\n",
       "      <td>NaN</td>\n",
       "      <td>NaN</td>\n",
       "      <td>NaN</td>\n",
       "      <td>NaN</td>\n",
       "      <td>NaN</td>\n",
       "      <td>NaN</td>\n",
       "      <td>1089.130915</td>\n",
       "      <td>NaN</td>\n",
       "      <td>NaN</td>\n",
       "      <td>NaN</td>\n",
       "      <td>NaN</td>\n",
       "      <td>0.000000</td>\n",
       "      <td>-3.516424</td>\n",
       "      <td>-1.643612</td>\n",
       "    </tr>\n",
       "    <tr>\n",
       "      <th>2024-04-26 00:00:00</th>\n",
       "      <td>NaN</td>\n",
       "      <td>NaN</td>\n",
       "      <td>NaN</td>\n",
       "      <td>NaN</td>\n",
       "      <td>NaN</td>\n",
       "      <td>NaN</td>\n",
       "      <td>1089.130915</td>\n",
       "      <td>NaN</td>\n",
       "      <td>NaN</td>\n",
       "      <td>NaN</td>\n",
       "      <td>NaN</td>\n",
       "      <td>0.000000</td>\n",
       "      <td>-3.516424</td>\n",
       "      <td>-1.175407</td>\n",
       "    </tr>\n",
       "    <tr>\n",
       "      <th>2024-04-25 00:00:00</th>\n",
       "      <td>NaN</td>\n",
       "      <td>NaN</td>\n",
       "      <td>NaN</td>\n",
       "      <td>NaN</td>\n",
       "      <td>NaN</td>\n",
       "      <td>NaN</td>\n",
       "      <td>1089.130915</td>\n",
       "      <td>NaN</td>\n",
       "      <td>NaN</td>\n",
       "      <td>NaN</td>\n",
       "      <td>NaN</td>\n",
       "      <td>0.000000</td>\n",
       "      <td>-3.516424</td>\n",
       "      <td>-0.590151</td>\n",
       "    </tr>\n",
       "    <tr>\n",
       "      <th>2024-04-24 00:00:00</th>\n",
       "      <td>NaN</td>\n",
       "      <td>NaN</td>\n",
       "      <td>NaN</td>\n",
       "      <td>NaN</td>\n",
       "      <td>NaN</td>\n",
       "      <td>NaN</td>\n",
       "      <td>1089.130915</td>\n",
       "      <td>NaN</td>\n",
       "      <td>NaN</td>\n",
       "      <td>NaN</td>\n",
       "      <td>NaN</td>\n",
       "      <td>0.000000</td>\n",
       "      <td>-3.516424</td>\n",
       "      <td>0.141421</td>\n",
       "    </tr>\n",
       "    <tr>\n",
       "      <th>2024-04-23 00:00:00</th>\n",
       "      <td>NaN</td>\n",
       "      <td>NaN</td>\n",
       "      <td>NaN</td>\n",
       "      <td>NaN</td>\n",
       "      <td>NaN</td>\n",
       "      <td>NaN</td>\n",
       "      <td>1089.130915</td>\n",
       "      <td>1070.872</td>\n",
       "      <td>1091.955</td>\n",
       "      <td>1095.051333</td>\n",
       "      <td>1095.275333</td>\n",
       "      <td>0.000000</td>\n",
       "      <td>-3.516424</td>\n",
       "      <td>1.055887</td>\n",
       "    </tr>\n",
       "    <tr>\n",
       "      <th>2024-04-22 00:00:00</th>\n",
       "      <td>NaN</td>\n",
       "      <td>5.08</td>\n",
       "      <td>0.004780</td>\n",
       "      <td>1063.63</td>\n",
       "      <td>1061.95</td>\n",
       "      <td>1069.61</td>\n",
       "      <td>1091.500615</td>\n",
       "      <td>1078.032</td>\n",
       "      <td>1095.442</td>\n",
       "      <td>1096.970667</td>\n",
       "      <td>1096.042000</td>\n",
       "      <td>37.806587</td>\n",
       "      <td>-3.516424</td>\n",
       "      <td>2.198973</td>\n",
       "    </tr>\n",
       "    <tr>\n",
       "      <th>2024-04-19 00:00:00</th>\n",
       "      <td>NaN</td>\n",
       "      <td>-15.16</td>\n",
       "      <td>-0.014065</td>\n",
       "      <td>1077.39</td>\n",
       "      <td>1054.16</td>\n",
       "      <td>1077.51</td>\n",
       "      <td>1094.698415</td>\n",
       "      <td>1088.826</td>\n",
       "      <td>1099.544</td>\n",
       "      <td>1099.049333</td>\n",
       "      <td>1096.866333</td>\n",
       "      <td>34.608743</td>\n",
       "      <td>-1.970002</td>\n",
       "      <td>3.627835</td>\n",
       "    </tr>\n",
       "    <tr>\n",
       "      <th>2024-04-18 00:00:00</th>\n",
       "      <td>NaN</td>\n",
       "      <td>3.02</td>\n",
       "      <td>0.002810</td>\n",
       "      <td>1076.24</td>\n",
       "      <td>1072.81</td>\n",
       "      <td>1083.88</td>\n",
       "      <td>1096.566708</td>\n",
       "      <td>1097.206</td>\n",
       "      <td>1101.660</td>\n",
       "      <td>1099.838000</td>\n",
       "      <td>1096.906667</td>\n",
       "      <td>41.789668</td>\n",
       "      <td>0.548585</td>\n",
       "      <td>5.027311</td>\n",
       "    </tr>\n",
       "    <tr>\n",
       "      <th>2024-04-17 00:00:00</th>\n",
       "      <td>NaN</td>\n",
       "      <td>3.81</td>\n",
       "      <td>0.003557</td>\n",
       "      <td>1070.80</td>\n",
       "      <td>1070.46</td>\n",
       "      <td>1076.86</td>\n",
       "      <td>1098.978445</td>\n",
       "      <td>1105.748</td>\n",
       "      <td>1104.682</td>\n",
       "      <td>1100.948000</td>\n",
       "      <td>1097.275000</td>\n",
       "      <td>42.479490</td>\n",
       "      <td>2.215554</td>\n",
       "      <td>6.147008</td>\n",
       "    </tr>\n",
       "    <tr>\n",
       "      <th>2024-04-16 00:00:00</th>\n",
       "      <td>NaN</td>\n",
       "      <td>-20.72</td>\n",
       "      <td>-0.018978</td>\n",
       "      <td>1091.60</td>\n",
       "      <td>1070.13</td>\n",
       "      <td>1091.64</td>\n",
       "      <td>1102.081912</td>\n",
       "      <td>1113.038</td>\n",
       "      <td>1107.141</td>\n",
       "      <td>1102.230000</td>\n",
       "      <td>1097.560333</td>\n",
       "      <td>39.423077</td>\n",
       "      <td>4.617726</td>\n",
       "      <td>7.129889</td>\n",
       "    </tr>\n",
       "    <tr>\n",
       "      <th>2024-04-12 00:00:00</th>\n",
       "      <td>1067.81</td>\n",
       "      <td>-13.09</td>\n",
       "      <td>-0.011722</td>\n",
       "      <td>1116.74</td>\n",
       "      <td>1103.61</td>\n",
       "      <td>1117.06</td>\n",
       "      <td>1101.912038</td>\n",
       "      <td>1112.852</td>\n",
       "      <td>1106.440</td>\n",
       "      <td>1101.451333</td>\n",
       "      <td>1096.635000</td>\n",
       "      <td>60.183486</td>\n",
       "      <td>8.003508</td>\n",
       "      <td>7.757944</td>\n",
       "    </tr>\n",
       "    <tr>\n",
       "      <th>2024-04-11 00:00:00</th>\n",
       "      <td>1062.73</td>\n",
       "      <td>-3.09</td>\n",
       "      <td>-0.002759</td>\n",
       "      <td>1117.28</td>\n",
       "      <td>1112.68</td>\n",
       "      <td>1118.30</td>\n",
       "      <td>1100.268004</td>\n",
       "      <td>1110.262</td>\n",
       "      <td>1104.161</td>\n",
       "      <td>1100.372000</td>\n",
       "      <td>1095.196333</td>\n",
       "      <td>72.956441</td>\n",
       "      <td>8.904734</td>\n",
       "      <td>7.696551</td>\n",
       "    </tr>\n",
       "    <tr>\n",
       "      <th>2024-04-10 00:00:00</th>\n",
       "      <td>1077.89</td>\n",
       "      <td>2.21</td>\n",
       "      <td>0.001977</td>\n",
       "      <td>1119.16</td>\n",
       "      <td>1116.54</td>\n",
       "      <td>1125.90</td>\n",
       "      <td>1098.097534</td>\n",
       "      <td>1106.114</td>\n",
       "      <td>1101.154</td>\n",
       "      <td>1098.101333</td>\n",
       "      <td>1094.013667</td>\n",
       "      <td>66.218035</td>\n",
       "      <td>8.597115</td>\n",
       "      <td>7.394495</td>\n",
       "    </tr>\n",
       "    <tr>\n",
       "      <th>2024-04-09 00:00:00</th>\n",
       "      <td>1074.87</td>\n",
       "      <td>10.07</td>\n",
       "      <td>0.009092</td>\n",
       "      <td>1108.37</td>\n",
       "      <td>1108.14</td>\n",
       "      <td>1120.14</td>\n",
       "      <td>1095.931307</td>\n",
       "      <td>1103.616</td>\n",
       "      <td>1098.548</td>\n",
       "      <td>1095.926000</td>\n",
       "      <td>1092.724667</td>\n",
       "      <td>72.114984</td>\n",
       "      <td>7.765848</td>\n",
       "      <td>7.093826</td>\n",
       "    </tr>\n",
       "    <tr>\n",
       "      <th>2024-04-08 00:00:00</th>\n",
       "      <td>1071.06</td>\n",
       "      <td>4.83</td>\n",
       "      <td>0.004380</td>\n",
       "      <td>1102.26</td>\n",
       "      <td>1101.73</td>\n",
       "      <td>1108.51</td>\n",
       "      <td>1094.643790</td>\n",
       "      <td>1101.244</td>\n",
       "      <td>1096.826</td>\n",
       "      <td>1095.064000</td>\n",
       "      <td>1091.871667</td>\n",
       "      <td>67.984694</td>\n",
       "      <td>6.815902</td>\n",
       "      <td>6.925812</td>\n",
       "    </tr>\n",
       "  </tbody>\n",
       "</table>\n",
       "</div>"
      ],
      "text/plain": [
       "                       Close    Net      %Chg     Open      Low     High  \\\n",
       "Date                                                                       \n",
       "2024-04-29 00:00:00      NaN    NaN       NaN      NaN      NaN      NaN   \n",
       "2024-04-26 00:00:00      NaN    NaN       NaN      NaN      NaN      NaN   \n",
       "2024-04-25 00:00:00      NaN    NaN       NaN      NaN      NaN      NaN   \n",
       "2024-04-24 00:00:00      NaN    NaN       NaN      NaN      NaN      NaN   \n",
       "2024-04-23 00:00:00      NaN    NaN       NaN      NaN      NaN      NaN   \n",
       "2024-04-22 00:00:00      NaN   5.08  0.004780  1063.63  1061.95  1069.61   \n",
       "2024-04-19 00:00:00      NaN -15.16 -0.014065  1077.39  1054.16  1077.51   \n",
       "2024-04-18 00:00:00      NaN   3.02  0.002810  1076.24  1072.81  1083.88   \n",
       "2024-04-17 00:00:00      NaN   3.81  0.003557  1070.80  1070.46  1076.86   \n",
       "2024-04-16 00:00:00      NaN -20.72 -0.018978  1091.60  1070.13  1091.64   \n",
       "2024-04-12 00:00:00  1067.81 -13.09 -0.011722  1116.74  1103.61  1117.06   \n",
       "2024-04-11 00:00:00  1062.73  -3.09 -0.002759  1117.28  1112.68  1118.30   \n",
       "2024-04-10 00:00:00  1077.89   2.21  0.001977  1119.16  1116.54  1125.90   \n",
       "2024-04-09 00:00:00  1074.87  10.07  0.009092  1108.37  1108.14  1120.14   \n",
       "2024-04-08 00:00:00  1071.06   4.83  0.004380  1102.26  1101.73  1108.51   \n",
       "\n",
       "                           EMA_9     SMA_5    SMA_10       SMA_15  \\\n",
       "Date                                                                \n",
       "2024-04-29 00:00:00  1089.130915       NaN       NaN          NaN   \n",
       "2024-04-26 00:00:00  1089.130915       NaN       NaN          NaN   \n",
       "2024-04-25 00:00:00  1089.130915       NaN       NaN          NaN   \n",
       "2024-04-24 00:00:00  1089.130915       NaN       NaN          NaN   \n",
       "2024-04-23 00:00:00  1089.130915  1070.872  1091.955  1095.051333   \n",
       "2024-04-22 00:00:00  1091.500615  1078.032  1095.442  1096.970667   \n",
       "2024-04-19 00:00:00  1094.698415  1088.826  1099.544  1099.049333   \n",
       "2024-04-18 00:00:00  1096.566708  1097.206  1101.660  1099.838000   \n",
       "2024-04-17 00:00:00  1098.978445  1105.748  1104.682  1100.948000   \n",
       "2024-04-16 00:00:00  1102.081912  1113.038  1107.141  1102.230000   \n",
       "2024-04-12 00:00:00  1101.912038  1112.852  1106.440  1101.451333   \n",
       "2024-04-11 00:00:00  1100.268004  1110.262  1104.161  1100.372000   \n",
       "2024-04-10 00:00:00  1098.097534  1106.114  1101.154  1098.101333   \n",
       "2024-04-09 00:00:00  1095.931307  1103.616  1098.548  1095.926000   \n",
       "2024-04-08 00:00:00  1094.643790  1101.244  1096.826  1095.064000   \n",
       "\n",
       "                          SMA_30        RSI      MACD  MACD_signal  \n",
       "Date                                                                \n",
       "2024-04-29 00:00:00          NaN   0.000000 -3.516424    -1.643612  \n",
       "2024-04-26 00:00:00          NaN   0.000000 -3.516424    -1.175407  \n",
       "2024-04-25 00:00:00          NaN   0.000000 -3.516424    -0.590151  \n",
       "2024-04-24 00:00:00          NaN   0.000000 -3.516424     0.141421  \n",
       "2024-04-23 00:00:00  1095.275333   0.000000 -3.516424     1.055887  \n",
       "2024-04-22 00:00:00  1096.042000  37.806587 -3.516424     2.198973  \n",
       "2024-04-19 00:00:00  1096.866333  34.608743 -1.970002     3.627835  \n",
       "2024-04-18 00:00:00  1096.906667  41.789668  0.548585     5.027311  \n",
       "2024-04-17 00:00:00  1097.275000  42.479490  2.215554     6.147008  \n",
       "2024-04-16 00:00:00  1097.560333  39.423077  4.617726     7.129889  \n",
       "2024-04-12 00:00:00  1096.635000  60.183486  8.003508     7.757944  \n",
       "2024-04-11 00:00:00  1095.196333  72.956441  8.904734     7.696551  \n",
       "2024-04-10 00:00:00  1094.013667  66.218035  8.597115     7.394495  \n",
       "2024-04-09 00:00:00  1092.724667  72.114984  7.765848     7.093826  \n",
       "2024-04-08 00:00:00  1091.871667  67.984694  6.815902     6.925812  "
      ]
     },
     "execution_count": 18,
     "metadata": {},
     "output_type": "execute_result"
    }
   ],
   "source": [
    "df[::-1].head(15)"
   ]
  },
  {
   "cell_type": "code",
   "execution_count": 26,
   "metadata": {},
   "outputs": [],
   "source": [
    "df = df.iloc[33:] # because of moving averages and MACD line\n",
    "df = df[:-5] # because of shift"
   ]
  },
  {
   "cell_type": "code",
   "execution_count": 27,
   "metadata": {},
   "outputs": [
    {
     "data": {
      "text/plain": [
       "303"
      ]
     },
     "execution_count": 27,
     "metadata": {},
     "output_type": "execute_result"
    }
   ],
   "source": [
    "len(df)"
   ]
  },
  {
   "cell_type": "code",
   "execution_count": null,
   "metadata": {},
   "outputs": [],
   "source": []
  },
  {
   "cell_type": "code",
   "execution_count": 20,
   "metadata": {},
   "outputs": [
    {
     "data": {
      "text/html": [
       "<div>\n",
       "<style scoped>\n",
       "    .dataframe tbody tr th:only-of-type {\n",
       "        vertical-align: middle;\n",
       "    }\n",
       "\n",
       "    .dataframe tbody tr th {\n",
       "        vertical-align: top;\n",
       "    }\n",
       "\n",
       "    .dataframe thead th {\n",
       "        text-align: right;\n",
       "    }\n",
       "</style>\n",
       "<table border=\"1\" class=\"dataframe\">\n",
       "  <thead>\n",
       "    <tr style=\"text-align: right;\">\n",
       "      <th></th>\n",
       "      <th>Close</th>\n",
       "      <th>Net</th>\n",
       "      <th>%Chg</th>\n",
       "      <th>Open</th>\n",
       "      <th>Low</th>\n",
       "      <th>High</th>\n",
       "      <th>EMA_9</th>\n",
       "      <th>SMA_5</th>\n",
       "      <th>SMA_10</th>\n",
       "      <th>SMA_15</th>\n",
       "      <th>SMA_30</th>\n",
       "      <th>RSI</th>\n",
       "      <th>MACD</th>\n",
       "      <th>MACD_signal</th>\n",
       "    </tr>\n",
       "    <tr>\n",
       "      <th>Date</th>\n",
       "      <th></th>\n",
       "      <th></th>\n",
       "      <th></th>\n",
       "      <th></th>\n",
       "      <th></th>\n",
       "      <th></th>\n",
       "      <th></th>\n",
       "      <th></th>\n",
       "      <th></th>\n",
       "      <th></th>\n",
       "      <th></th>\n",
       "      <th></th>\n",
       "      <th></th>\n",
       "      <th></th>\n",
       "    </tr>\n",
       "  </thead>\n",
       "  <tbody>\n",
       "    <tr>\n",
       "      <th>2024-04-22 00:00:00</th>\n",
       "      <td>NaN</td>\n",
       "      <td>5.08</td>\n",
       "      <td>0.004780</td>\n",
       "      <td>1063.63</td>\n",
       "      <td>1061.95</td>\n",
       "      <td>1069.61</td>\n",
       "      <td>1091.500615</td>\n",
       "      <td>1078.032</td>\n",
       "      <td>1095.442</td>\n",
       "      <td>1096.970667</td>\n",
       "      <td>1096.042000</td>\n",
       "      <td>37.806587</td>\n",
       "      <td>-3.516424</td>\n",
       "      <td>2.198973</td>\n",
       "    </tr>\n",
       "    <tr>\n",
       "      <th>2024-04-19 00:00:00</th>\n",
       "      <td>NaN</td>\n",
       "      <td>-15.16</td>\n",
       "      <td>-0.014065</td>\n",
       "      <td>1077.39</td>\n",
       "      <td>1054.16</td>\n",
       "      <td>1077.51</td>\n",
       "      <td>1094.698415</td>\n",
       "      <td>1088.826</td>\n",
       "      <td>1099.544</td>\n",
       "      <td>1099.049333</td>\n",
       "      <td>1096.866333</td>\n",
       "      <td>34.608743</td>\n",
       "      <td>-1.970002</td>\n",
       "      <td>3.627835</td>\n",
       "    </tr>\n",
       "    <tr>\n",
       "      <th>2024-04-18 00:00:00</th>\n",
       "      <td>NaN</td>\n",
       "      <td>3.02</td>\n",
       "      <td>0.002810</td>\n",
       "      <td>1076.24</td>\n",
       "      <td>1072.81</td>\n",
       "      <td>1083.88</td>\n",
       "      <td>1096.566708</td>\n",
       "      <td>1097.206</td>\n",
       "      <td>1101.660</td>\n",
       "      <td>1099.838000</td>\n",
       "      <td>1096.906667</td>\n",
       "      <td>41.789668</td>\n",
       "      <td>0.548585</td>\n",
       "      <td>5.027311</td>\n",
       "    </tr>\n",
       "    <tr>\n",
       "      <th>2024-04-17 00:00:00</th>\n",
       "      <td>NaN</td>\n",
       "      <td>3.81</td>\n",
       "      <td>0.003557</td>\n",
       "      <td>1070.80</td>\n",
       "      <td>1070.46</td>\n",
       "      <td>1076.86</td>\n",
       "      <td>1098.978445</td>\n",
       "      <td>1105.748</td>\n",
       "      <td>1104.682</td>\n",
       "      <td>1100.948000</td>\n",
       "      <td>1097.275000</td>\n",
       "      <td>42.479490</td>\n",
       "      <td>2.215554</td>\n",
       "      <td>6.147008</td>\n",
       "    </tr>\n",
       "    <tr>\n",
       "      <th>2024-04-16 00:00:00</th>\n",
       "      <td>NaN</td>\n",
       "      <td>-20.72</td>\n",
       "      <td>-0.018978</td>\n",
       "      <td>1091.60</td>\n",
       "      <td>1070.13</td>\n",
       "      <td>1091.64</td>\n",
       "      <td>1102.081912</td>\n",
       "      <td>1113.038</td>\n",
       "      <td>1107.141</td>\n",
       "      <td>1102.230000</td>\n",
       "      <td>1097.560333</td>\n",
       "      <td>39.423077</td>\n",
       "      <td>4.617726</td>\n",
       "      <td>7.129889</td>\n",
       "    </tr>\n",
       "  </tbody>\n",
       "</table>\n",
       "</div>"
      ],
      "text/plain": [
       "                     Close    Net      %Chg     Open      Low     High  \\\n",
       "Date                                                                     \n",
       "2024-04-22 00:00:00    NaN   5.08  0.004780  1063.63  1061.95  1069.61   \n",
       "2024-04-19 00:00:00    NaN -15.16 -0.014065  1077.39  1054.16  1077.51   \n",
       "2024-04-18 00:00:00    NaN   3.02  0.002810  1076.24  1072.81  1083.88   \n",
       "2024-04-17 00:00:00    NaN   3.81  0.003557  1070.80  1070.46  1076.86   \n",
       "2024-04-16 00:00:00    NaN -20.72 -0.018978  1091.60  1070.13  1091.64   \n",
       "\n",
       "                           EMA_9     SMA_5    SMA_10       SMA_15  \\\n",
       "Date                                                                \n",
       "2024-04-22 00:00:00  1091.500615  1078.032  1095.442  1096.970667   \n",
       "2024-04-19 00:00:00  1094.698415  1088.826  1099.544  1099.049333   \n",
       "2024-04-18 00:00:00  1096.566708  1097.206  1101.660  1099.838000   \n",
       "2024-04-17 00:00:00  1098.978445  1105.748  1104.682  1100.948000   \n",
       "2024-04-16 00:00:00  1102.081912  1113.038  1107.141  1102.230000   \n",
       "\n",
       "                          SMA_30        RSI      MACD  MACD_signal  \n",
       "Date                                                                \n",
       "2024-04-22 00:00:00  1096.042000  37.806587 -3.516424     2.198973  \n",
       "2024-04-19 00:00:00  1096.866333  34.608743 -1.970002     3.627835  \n",
       "2024-04-18 00:00:00  1096.906667  41.789668  0.548585     5.027311  \n",
       "2024-04-17 00:00:00  1097.275000  42.479490  2.215554     6.147008  \n",
       "2024-04-16 00:00:00  1097.560333  39.423077  4.617726     7.129889  "
      ]
     },
     "execution_count": 20,
     "metadata": {},
     "output_type": "execute_result"
    }
   ],
   "source": [
    "df[::-1].head()"
   ]
  },
  {
   "cell_type": "code",
   "execution_count": 37,
   "metadata": {},
   "outputs": [],
   "source": [
    "x_train_15 = df[len(df)-20:-5].copy()\n",
    "x_train_20 = df[len(df)-25:-5].copy()\n",
    "x_train_30 = df[len(df)-35:-5].copy()\n",
    "x_train_45 = df[len(df)-50:-5].copy()\n",
    "x_train_60 = df[len(df)-65:-5].copy()\n"
   ]
  },
  {
   "cell_type": "code",
   "execution_count": 38,
   "metadata": {},
   "outputs": [
    {
     "data": {
      "text/html": [
       "<div>\n",
       "<style scoped>\n",
       "    .dataframe tbody tr th:only-of-type {\n",
       "        vertical-align: middle;\n",
       "    }\n",
       "\n",
       "    .dataframe tbody tr th {\n",
       "        vertical-align: top;\n",
       "    }\n",
       "\n",
       "    .dataframe thead th {\n",
       "        text-align: right;\n",
       "    }\n",
       "</style>\n",
       "<table border=\"1\" class=\"dataframe\">\n",
       "  <thead>\n",
       "    <tr style=\"text-align: right;\">\n",
       "      <th></th>\n",
       "      <th>Close</th>\n",
       "      <th>Net</th>\n",
       "      <th>EMA_9</th>\n",
       "      <th>SMA_5</th>\n",
       "      <th>SMA_10</th>\n",
       "      <th>SMA_15</th>\n",
       "      <th>SMA_30</th>\n",
       "      <th>RSI</th>\n",
       "      <th>MACD</th>\n",
       "      <th>MACD_signal</th>\n",
       "    </tr>\n",
       "    <tr>\n",
       "      <th>Date</th>\n",
       "      <th></th>\n",
       "      <th></th>\n",
       "      <th></th>\n",
       "      <th></th>\n",
       "      <th></th>\n",
       "      <th></th>\n",
       "      <th></th>\n",
       "      <th></th>\n",
       "      <th></th>\n",
       "      <th></th>\n",
       "    </tr>\n",
       "  </thead>\n",
       "  <tbody>\n",
       "    <tr>\n",
       "      <th>2024-03-26 00:00:00</th>\n",
       "      <td>1105.09</td>\n",
       "      <td>1.23</td>\n",
       "      <td>1088.561918</td>\n",
       "      <td>1090.682</td>\n",
       "      <td>1095.717</td>\n",
       "      <td>1094.056000</td>\n",
       "      <td>1082.806333</td>\n",
       "      <td>52.641853</td>\n",
       "      <td>7.165192</td>\n",
       "      <td>9.429624</td>\n",
       "    </tr>\n",
       "    <tr>\n",
       "      <th>2024-03-27 00:00:00</th>\n",
       "      <td>1099.05</td>\n",
       "      <td>-1.80</td>\n",
       "      <td>1088.857726</td>\n",
       "      <td>1091.996</td>\n",
       "      <td>1094.129</td>\n",
       "      <td>1094.884000</td>\n",
       "      <td>1084.449333</td>\n",
       "      <td>49.276132</td>\n",
       "      <td>6.460129</td>\n",
       "      <td>8.835725</td>\n",
       "    </tr>\n",
       "    <tr>\n",
       "      <th>2024-03-28 00:00:00</th>\n",
       "      <td>1103.75</td>\n",
       "      <td>4.19</td>\n",
       "      <td>1088.943953</td>\n",
       "      <td>1092.794</td>\n",
       "      <td>1092.742</td>\n",
       "      <td>1095.034667</td>\n",
       "      <td>1085.881667</td>\n",
       "      <td>47.432897</td>\n",
       "      <td>6.168354</td>\n",
       "      <td>8.302251</td>\n",
       "    </tr>\n",
       "    <tr>\n",
       "      <th>2024-03-29 00:00:00</th>\n",
       "      <td>1102.68</td>\n",
       "      <td>2.69</td>\n",
       "      <td>1089.440558</td>\n",
       "      <td>1091.474</td>\n",
       "      <td>1091.587</td>\n",
       "      <td>1095.241333</td>\n",
       "      <td>1087.018333</td>\n",
       "      <td>48.614101</td>\n",
       "      <td>6.084048</td>\n",
       "      <td>7.858610</td>\n",
       "    </tr>\n",
       "    <tr>\n",
       "      <th>2024-04-01 00:00:00</th>\n",
       "      <td>1107.51</td>\n",
       "      <td>-0.95</td>\n",
       "      <td>1090.156502</td>\n",
       "      <td>1092.408</td>\n",
       "      <td>1091.974</td>\n",
       "      <td>1095.172000</td>\n",
       "      <td>1087.964333</td>\n",
       "      <td>41.169397</td>\n",
       "      <td>5.872879</td>\n",
       "      <td>7.461464</td>\n",
       "    </tr>\n",
       "    <tr>\n",
       "      <th>2024-04-02 00:00:00</th>\n",
       "      <td>1117.58</td>\n",
       "      <td>9.44</td>\n",
       "      <td>1090.705852</td>\n",
       "      <td>1093.480</td>\n",
       "      <td>1092.081</td>\n",
       "      <td>1094.971333</td>\n",
       "      <td>1088.931667</td>\n",
       "      <td>51.039357</td>\n",
       "      <td>6.393554</td>\n",
       "      <td>7.247882</td>\n",
       "    </tr>\n",
       "    <tr>\n",
       "      <th>2024-04-03 00:00:00</th>\n",
       "      <td>1119.79</td>\n",
       "      <td>-6.04</td>\n",
       "      <td>1092.144267</td>\n",
       "      <td>1096.194</td>\n",
       "      <td>1094.095</td>\n",
       "      <td>1094.817333</td>\n",
       "      <td>1090.023000</td>\n",
       "      <td>45.801127</td>\n",
       "      <td>6.246806</td>\n",
       "      <td>7.047667</td>\n",
       "    </tr>\n",
       "    <tr>\n",
       "      <th>2024-04-04 00:00:00</th>\n",
       "      <td>1116.70</td>\n",
       "      <td>4.70</td>\n",
       "      <td>1092.834840</td>\n",
       "      <td>1098.060</td>\n",
       "      <td>1095.427</td>\n",
       "      <td>1094.514667</td>\n",
       "      <td>1090.843333</td>\n",
       "      <td>58.067350</td>\n",
       "      <td>6.435573</td>\n",
       "      <td>6.925248</td>\n",
       "    </tr>\n",
       "    <tr>\n",
       "      <th>2024-04-05 00:00:00</th>\n",
       "      <td>1103.61</td>\n",
       "      <td>-1.07</td>\n",
       "      <td>1093.926356</td>\n",
       "      <td>1100.028</td>\n",
       "      <td>1095.751</td>\n",
       "      <td>1094.400667</td>\n",
       "      <td>1091.540000</td>\n",
       "      <td>55.998223</td>\n",
       "      <td>6.424771</td>\n",
       "      <td>6.825152</td>\n",
       "    </tr>\n",
       "    <tr>\n",
       "      <th>2024-04-08 00:00:00</th>\n",
       "      <td>1091.78</td>\n",
       "      <td>4.83</td>\n",
       "      <td>1094.801721</td>\n",
       "      <td>1101.244</td>\n",
       "      <td>1096.826</td>\n",
       "      <td>1095.064000</td>\n",
       "      <td>1092.232000</td>\n",
       "      <td>67.984694</td>\n",
       "      <td>6.728390</td>\n",
       "      <td>6.805800</td>\n",
       "    </tr>\n",
       "    <tr>\n",
       "      <th>2024-04-09 00:00:00</th>\n",
       "      <td>1071.06</td>\n",
       "      <td>10.07</td>\n",
       "      <td>1096.072548</td>\n",
       "      <td>1103.616</td>\n",
       "      <td>1098.548</td>\n",
       "      <td>1095.926000</td>\n",
       "      <td>1093.185333</td>\n",
       "      <td>72.114984</td>\n",
       "      <td>7.692896</td>\n",
       "      <td>6.983219</td>\n",
       "    </tr>\n",
       "    <tr>\n",
       "      <th>2024-04-10 00:00:00</th>\n",
       "      <td>1074.87</td>\n",
       "      <td>2.21</td>\n",
       "      <td>1098.223294</td>\n",
       "      <td>1106.114</td>\n",
       "      <td>1101.154</td>\n",
       "      <td>1098.101333</td>\n",
       "      <td>1094.294333</td>\n",
       "      <td>66.218035</td>\n",
       "      <td>8.537192</td>\n",
       "      <td>7.294014</td>\n",
       "    </tr>\n",
       "    <tr>\n",
       "      <th>2024-04-11 00:00:00</th>\n",
       "      <td>1077.89</td>\n",
       "      <td>-3.09</td>\n",
       "      <td>1100.379964</td>\n",
       "      <td>1110.262</td>\n",
       "      <td>1104.161</td>\n",
       "      <td>1100.372000</td>\n",
       "      <td>1095.836000</td>\n",
       "      <td>72.956441</td>\n",
       "      <td>8.854891</td>\n",
       "      <td>7.606189</td>\n",
       "    </tr>\n",
       "    <tr>\n",
       "      <th>2024-04-12 00:00:00</th>\n",
       "      <td>1062.73</td>\n",
       "      <td>-13.09</td>\n",
       "      <td>1102.011968</td>\n",
       "      <td>1112.852</td>\n",
       "      <td>1106.440</td>\n",
       "      <td>1101.451333</td>\n",
       "      <td>1097.197667</td>\n",
       "      <td>60.183486</td>\n",
       "      <td>7.958674</td>\n",
       "      <td>7.676686</td>\n",
       "    </tr>\n",
       "    <tr>\n",
       "      <th>2024-04-15 00:00:00</th>\n",
       "      <td>1067.81</td>\n",
       "      <td>-11.83</td>\n",
       "      <td>1102.171771</td>\n",
       "      <td>1113.038</td>\n",
       "      <td>1107.141</td>\n",
       "      <td>1102.230000</td>\n",
       "      <td>1097.997333</td>\n",
       "      <td>50.171053</td>\n",
       "      <td>6.222108</td>\n",
       "      <td>7.385771</td>\n",
       "    </tr>\n",
       "  </tbody>\n",
       "</table>\n",
       "</div>"
      ],
      "text/plain": [
       "                       Close    Net        EMA_9     SMA_5    SMA_10  \\\n",
       "Date                                                                   \n",
       "2024-03-26 00:00:00  1105.09   1.23  1088.561918  1090.682  1095.717   \n",
       "2024-03-27 00:00:00  1099.05  -1.80  1088.857726  1091.996  1094.129   \n",
       "2024-03-28 00:00:00  1103.75   4.19  1088.943953  1092.794  1092.742   \n",
       "2024-03-29 00:00:00  1102.68   2.69  1089.440558  1091.474  1091.587   \n",
       "2024-04-01 00:00:00  1107.51  -0.95  1090.156502  1092.408  1091.974   \n",
       "2024-04-02 00:00:00  1117.58   9.44  1090.705852  1093.480  1092.081   \n",
       "2024-04-03 00:00:00  1119.79  -6.04  1092.144267  1096.194  1094.095   \n",
       "2024-04-04 00:00:00  1116.70   4.70  1092.834840  1098.060  1095.427   \n",
       "2024-04-05 00:00:00  1103.61  -1.07  1093.926356  1100.028  1095.751   \n",
       "2024-04-08 00:00:00  1091.78   4.83  1094.801721  1101.244  1096.826   \n",
       "2024-04-09 00:00:00  1071.06  10.07  1096.072548  1103.616  1098.548   \n",
       "2024-04-10 00:00:00  1074.87   2.21  1098.223294  1106.114  1101.154   \n",
       "2024-04-11 00:00:00  1077.89  -3.09  1100.379964  1110.262  1104.161   \n",
       "2024-04-12 00:00:00  1062.73 -13.09  1102.011968  1112.852  1106.440   \n",
       "2024-04-15 00:00:00  1067.81 -11.83  1102.171771  1113.038  1107.141   \n",
       "\n",
       "                          SMA_15       SMA_30        RSI      MACD  \\\n",
       "Date                                                                 \n",
       "2024-03-26 00:00:00  1094.056000  1082.806333  52.641853  7.165192   \n",
       "2024-03-27 00:00:00  1094.884000  1084.449333  49.276132  6.460129   \n",
       "2024-03-28 00:00:00  1095.034667  1085.881667  47.432897  6.168354   \n",
       "2024-03-29 00:00:00  1095.241333  1087.018333  48.614101  6.084048   \n",
       "2024-04-01 00:00:00  1095.172000  1087.964333  41.169397  5.872879   \n",
       "2024-04-02 00:00:00  1094.971333  1088.931667  51.039357  6.393554   \n",
       "2024-04-03 00:00:00  1094.817333  1090.023000  45.801127  6.246806   \n",
       "2024-04-04 00:00:00  1094.514667  1090.843333  58.067350  6.435573   \n",
       "2024-04-05 00:00:00  1094.400667  1091.540000  55.998223  6.424771   \n",
       "2024-04-08 00:00:00  1095.064000  1092.232000  67.984694  6.728390   \n",
       "2024-04-09 00:00:00  1095.926000  1093.185333  72.114984  7.692896   \n",
       "2024-04-10 00:00:00  1098.101333  1094.294333  66.218035  8.537192   \n",
       "2024-04-11 00:00:00  1100.372000  1095.836000  72.956441  8.854891   \n",
       "2024-04-12 00:00:00  1101.451333  1097.197667  60.183486  7.958674   \n",
       "2024-04-15 00:00:00  1102.230000  1097.997333  50.171053  6.222108   \n",
       "\n",
       "                     MACD_signal  \n",
       "Date                              \n",
       "2024-03-26 00:00:00     9.429624  \n",
       "2024-03-27 00:00:00     8.835725  \n",
       "2024-03-28 00:00:00     8.302251  \n",
       "2024-03-29 00:00:00     7.858610  \n",
       "2024-04-01 00:00:00     7.461464  \n",
       "2024-04-02 00:00:00     7.247882  \n",
       "2024-04-03 00:00:00     7.047667  \n",
       "2024-04-04 00:00:00     6.925248  \n",
       "2024-04-05 00:00:00     6.825152  \n",
       "2024-04-08 00:00:00     6.805800  \n",
       "2024-04-09 00:00:00     6.983219  \n",
       "2024-04-10 00:00:00     7.294014  \n",
       "2024-04-11 00:00:00     7.606189  \n",
       "2024-04-12 00:00:00     7.676686  \n",
       "2024-04-15 00:00:00     7.385771  "
      ]
     },
     "execution_count": 38,
     "metadata": {},
     "output_type": "execute_result"
    }
   ],
   "source": [
    "x_train_15.head(15)"
   ]
  },
  {
   "cell_type": "code",
   "execution_count": 29,
   "metadata": {},
   "outputs": [],
   "source": [
    "split = int(len(df[:-5]) * 0.75)\n",
    "\n",
    "train  = df[:split].copy()\n",
    "valid  = df[split:-5].copy()\n",
    "test   = df[-5:].copy()"
   ]
  },
  {
   "cell_type": "code",
   "execution_count": 22,
   "metadata": {},
   "outputs": [
    {
     "data": {
      "text/html": [
       "<div>\n",
       "<style scoped>\n",
       "    .dataframe tbody tr th:only-of-type {\n",
       "        vertical-align: middle;\n",
       "    }\n",
       "\n",
       "    .dataframe tbody tr th {\n",
       "        vertical-align: top;\n",
       "    }\n",
       "\n",
       "    .dataframe thead th {\n",
       "        text-align: right;\n",
       "    }\n",
       "</style>\n",
       "<table border=\"1\" class=\"dataframe\">\n",
       "  <thead>\n",
       "    <tr style=\"text-align: right;\">\n",
       "      <th></th>\n",
       "      <th>Close</th>\n",
       "      <th>Net</th>\n",
       "      <th>%Chg</th>\n",
       "      <th>Open</th>\n",
       "      <th>Low</th>\n",
       "      <th>High</th>\n",
       "      <th>EMA_9</th>\n",
       "      <th>SMA_5</th>\n",
       "      <th>SMA_10</th>\n",
       "      <th>SMA_15</th>\n",
       "      <th>SMA_30</th>\n",
       "      <th>RSI</th>\n",
       "      <th>MACD</th>\n",
       "      <th>MACD_signal</th>\n",
       "    </tr>\n",
       "    <tr>\n",
       "      <th>Date</th>\n",
       "      <th></th>\n",
       "      <th></th>\n",
       "      <th></th>\n",
       "      <th></th>\n",
       "      <th></th>\n",
       "      <th></th>\n",
       "      <th></th>\n",
       "      <th></th>\n",
       "      <th></th>\n",
       "      <th></th>\n",
       "      <th></th>\n",
       "      <th></th>\n",
       "      <th></th>\n",
       "      <th></th>\n",
       "    </tr>\n",
       "  </thead>\n",
       "  <tbody>\n",
       "    <tr>\n",
       "      <th>2024-04-16 00:00:00</th>\n",
       "      <td>NaN</td>\n",
       "      <td>-20.72</td>\n",
       "      <td>-0.018978</td>\n",
       "      <td>1091.60</td>\n",
       "      <td>1070.13</td>\n",
       "      <td>1091.64</td>\n",
       "      <td>1102.081912</td>\n",
       "      <td>1113.038</td>\n",
       "      <td>1107.141</td>\n",
       "      <td>1102.230000</td>\n",
       "      <td>1097.560333</td>\n",
       "      <td>39.423077</td>\n",
       "      <td>4.617726</td>\n",
       "      <td>7.129889</td>\n",
       "    </tr>\n",
       "    <tr>\n",
       "      <th>2024-04-17 00:00:00</th>\n",
       "      <td>NaN</td>\n",
       "      <td>3.81</td>\n",
       "      <td>0.003557</td>\n",
       "      <td>1070.80</td>\n",
       "      <td>1070.46</td>\n",
       "      <td>1076.86</td>\n",
       "      <td>1098.978445</td>\n",
       "      <td>1105.748</td>\n",
       "      <td>1104.682</td>\n",
       "      <td>1100.948000</td>\n",
       "      <td>1097.275000</td>\n",
       "      <td>42.479490</td>\n",
       "      <td>2.215554</td>\n",
       "      <td>6.147008</td>\n",
       "    </tr>\n",
       "    <tr>\n",
       "      <th>2024-04-18 00:00:00</th>\n",
       "      <td>NaN</td>\n",
       "      <td>3.02</td>\n",
       "      <td>0.002810</td>\n",
       "      <td>1076.24</td>\n",
       "      <td>1072.81</td>\n",
       "      <td>1083.88</td>\n",
       "      <td>1096.566708</td>\n",
       "      <td>1097.206</td>\n",
       "      <td>1101.660</td>\n",
       "      <td>1099.838000</td>\n",
       "      <td>1096.906667</td>\n",
       "      <td>41.789668</td>\n",
       "      <td>0.548585</td>\n",
       "      <td>5.027311</td>\n",
       "    </tr>\n",
       "    <tr>\n",
       "      <th>2024-04-19 00:00:00</th>\n",
       "      <td>NaN</td>\n",
       "      <td>-15.16</td>\n",
       "      <td>-0.014065</td>\n",
       "      <td>1077.39</td>\n",
       "      <td>1054.16</td>\n",
       "      <td>1077.51</td>\n",
       "      <td>1094.698415</td>\n",
       "      <td>1088.826</td>\n",
       "      <td>1099.544</td>\n",
       "      <td>1099.049333</td>\n",
       "      <td>1096.866333</td>\n",
       "      <td>34.608743</td>\n",
       "      <td>-1.970002</td>\n",
       "      <td>3.627835</td>\n",
       "    </tr>\n",
       "    <tr>\n",
       "      <th>2024-04-22 00:00:00</th>\n",
       "      <td>NaN</td>\n",
       "      <td>5.08</td>\n",
       "      <td>0.004780</td>\n",
       "      <td>1063.63</td>\n",
       "      <td>1061.95</td>\n",
       "      <td>1069.61</td>\n",
       "      <td>1091.500615</td>\n",
       "      <td>1078.032</td>\n",
       "      <td>1095.442</td>\n",
       "      <td>1096.970667</td>\n",
       "      <td>1096.042000</td>\n",
       "      <td>37.806587</td>\n",
       "      <td>-3.516424</td>\n",
       "      <td>2.198973</td>\n",
       "    </tr>\n",
       "  </tbody>\n",
       "</table>\n",
       "</div>"
      ],
      "text/plain": [
       "                     Close    Net      %Chg     Open      Low     High  \\\n",
       "Date                                                                     \n",
       "2024-04-16 00:00:00    NaN -20.72 -0.018978  1091.60  1070.13  1091.64   \n",
       "2024-04-17 00:00:00    NaN   3.81  0.003557  1070.80  1070.46  1076.86   \n",
       "2024-04-18 00:00:00    NaN   3.02  0.002810  1076.24  1072.81  1083.88   \n",
       "2024-04-19 00:00:00    NaN -15.16 -0.014065  1077.39  1054.16  1077.51   \n",
       "2024-04-22 00:00:00    NaN   5.08  0.004780  1063.63  1061.95  1069.61   \n",
       "\n",
       "                           EMA_9     SMA_5    SMA_10       SMA_15  \\\n",
       "Date                                                                \n",
       "2024-04-16 00:00:00  1102.081912  1113.038  1107.141  1102.230000   \n",
       "2024-04-17 00:00:00  1098.978445  1105.748  1104.682  1100.948000   \n",
       "2024-04-18 00:00:00  1096.566708  1097.206  1101.660  1099.838000   \n",
       "2024-04-19 00:00:00  1094.698415  1088.826  1099.544  1099.049333   \n",
       "2024-04-22 00:00:00  1091.500615  1078.032  1095.442  1096.970667   \n",
       "\n",
       "                          SMA_30        RSI      MACD  MACD_signal  \n",
       "Date                                                                \n",
       "2024-04-16 00:00:00  1097.560333  39.423077  4.617726     7.129889  \n",
       "2024-04-17 00:00:00  1097.275000  42.479490  2.215554     6.147008  \n",
       "2024-04-18 00:00:00  1096.906667  41.789668  0.548585     5.027311  \n",
       "2024-04-19 00:00:00  1096.866333  34.608743 -1.970002     3.627835  \n",
       "2024-04-22 00:00:00  1096.042000  37.806587 -3.516424     2.198973  "
      ]
     },
     "execution_count": 22,
     "metadata": {},
     "output_type": "execute_result"
    }
   ],
   "source": [
    "test.head() # days to predict now have an offset"
   ]
  },
  {
   "cell_type": "code",
   "execution_count": 30,
   "metadata": {},
   "outputs": [],
   "source": [
    "FEATURES = ['EMA_9', 'SMA_5',\n",
    "       'SMA_10', 'SMA_15', 'SMA_30', \n",
    "       'RSI', 'MACD', 'MACD_signal'\n",
    "       ]\n",
    "TARGET = 'Close'"
   ]
  },
  {
   "cell_type": "code",
   "execution_count": 31,
   "metadata": {},
   "outputs": [],
   "source": [
    "x_train = train[FEATURES]\n",
    "x_valid = valid[FEATURES]\n",
    "x_test = test[FEATURES]\n",
    "\n",
    "y_train = train[TARGET]\n",
    "y_valid = valid[TARGET]"
   ]
  },
  {
   "cell_type": "code",
   "execution_count": 25,
   "metadata": {},
   "outputs": [],
   "source": [
    "from sklearn.preprocessing import StandardScaler\n",
    "scaler = StandardScaler()\n",
    "X_train_scaled = scaler.fit_transform(x_train)\n",
    "X_valid_scaled = scaler.transform(x_valid)\n",
    "X_test_scaled = scaler.transform(x_test)"
   ]
  },
  {
   "cell_type": "code",
   "execution_count": 30,
   "metadata": {},
   "outputs": [
    {
     "data": {
      "text/plain": [
       "array([-1.98440974, -2.50976681, -2.11003338, -1.8374784 , -1.46658404,\n",
       "        0.18995346, -2.25548249, -2.49889147])"
      ]
     },
     "execution_count": 30,
     "metadata": {},
     "output_type": "execute_result"
    }
   ],
   "source": [
    "X_train_scaled[0, :]"
   ]
  },
  {
   "cell_type": "markdown",
   "metadata": {},
   "source": [
    "Fine-tune XGBoostRegressor"
   ]
  },
  {
   "cell_type": "code",
   "execution_count": 44,
   "metadata": {},
   "outputs": [
    {
     "ename": "ValueError",
     "evalue": "Found input variables with inconsistent numbers of samples: [15, 45]",
     "output_type": "error",
     "traceback": [
      "\u001b[1;31m---------------------------------------------------------------------------\u001b[0m",
      "\u001b[1;31mValueError\u001b[0m                                Traceback (most recent call last)",
      "Cell \u001b[1;32mIn[44], line 13\u001b[0m\n\u001b[0;32m     10\u001b[0m model \u001b[38;5;241m=\u001b[39m xgb\u001b[38;5;241m.\u001b[39mXGBRegressor(objective\u001b[38;5;241m=\u001b[39m\u001b[38;5;124m'\u001b[39m\u001b[38;5;124mreg:squarederror\u001b[39m\u001b[38;5;124m'\u001b[39m)\n\u001b[0;32m     11\u001b[0m clf \u001b[38;5;241m=\u001b[39m GridSearchCV(model, parameters)\n\u001b[1;32m---> 13\u001b[0m clf\u001b[38;5;241m.\u001b[39mfit(x_train_15, y_train)\n\u001b[0;32m     15\u001b[0m \u001b[38;5;28mprint\u001b[39m(\u001b[38;5;124mf\u001b[39m\u001b[38;5;124m'\u001b[39m\u001b[38;5;124mBest params: \u001b[39m\u001b[38;5;132;01m{\u001b[39;00mclf\u001b[38;5;241m.\u001b[39mbest_params_\u001b[38;5;132;01m}\u001b[39;00m\u001b[38;5;124m'\u001b[39m)\n\u001b[0;32m     16\u001b[0m \u001b[38;5;28mprint\u001b[39m(\u001b[38;5;124mf\u001b[39m\u001b[38;5;124m'\u001b[39m\u001b[38;5;124mBest validation score = \u001b[39m\u001b[38;5;132;01m{\u001b[39;00mclf\u001b[38;5;241m.\u001b[39mbest_score_\u001b[38;5;132;01m}\u001b[39;00m\u001b[38;5;124m'\u001b[39m)\n",
      "File \u001b[1;32mc:\\Users\\anaro\\miniconda3\\envs\\lseg\\Lib\\site-packages\\sklearn\\base.py:1474\u001b[0m, in \u001b[0;36m_fit_context.<locals>.decorator.<locals>.wrapper\u001b[1;34m(estimator, *args, **kwargs)\u001b[0m\n\u001b[0;32m   1467\u001b[0m     estimator\u001b[38;5;241m.\u001b[39m_validate_params()\n\u001b[0;32m   1469\u001b[0m \u001b[38;5;28;01mwith\u001b[39;00m config_context(\n\u001b[0;32m   1470\u001b[0m     skip_parameter_validation\u001b[38;5;241m=\u001b[39m(\n\u001b[0;32m   1471\u001b[0m         prefer_skip_nested_validation \u001b[38;5;129;01mor\u001b[39;00m global_skip_validation\n\u001b[0;32m   1472\u001b[0m     )\n\u001b[0;32m   1473\u001b[0m ):\n\u001b[1;32m-> 1474\u001b[0m     \u001b[38;5;28;01mreturn\u001b[39;00m fit_method(estimator, \u001b[38;5;241m*\u001b[39margs, \u001b[38;5;241m*\u001b[39m\u001b[38;5;241m*\u001b[39mkwargs)\n",
      "File \u001b[1;32mc:\\Users\\anaro\\miniconda3\\envs\\lseg\\Lib\\site-packages\\sklearn\\model_selection\\_search.py:874\u001b[0m, in \u001b[0;36mBaseSearchCV.fit\u001b[1;34m(self, X, y, **params)\u001b[0m\n\u001b[0;32m    869\u001b[0m \u001b[38;5;66;03m# Here we keep a dict of scorers as is, and only convert to a\u001b[39;00m\n\u001b[0;32m    870\u001b[0m \u001b[38;5;66;03m# _MultimetricScorer at a later stage. Issue:\u001b[39;00m\n\u001b[0;32m    871\u001b[0m \u001b[38;5;66;03m# https://github.com/scikit-learn/scikit-learn/issues/27001\u001b[39;00m\n\u001b[0;32m    872\u001b[0m scorers, refit_metric \u001b[38;5;241m=\u001b[39m \u001b[38;5;28mself\u001b[39m\u001b[38;5;241m.\u001b[39m_get_scorers(convert_multimetric\u001b[38;5;241m=\u001b[39m\u001b[38;5;28;01mFalse\u001b[39;00m)\n\u001b[1;32m--> 874\u001b[0m X, y \u001b[38;5;241m=\u001b[39m indexable(X, y)\n\u001b[0;32m    875\u001b[0m params \u001b[38;5;241m=\u001b[39m _check_method_params(X, params\u001b[38;5;241m=\u001b[39mparams)\n\u001b[0;32m    877\u001b[0m routed_params \u001b[38;5;241m=\u001b[39m \u001b[38;5;28mself\u001b[39m\u001b[38;5;241m.\u001b[39m_get_routed_params_for_fit(params)\n",
      "File \u001b[1;32mc:\\Users\\anaro\\miniconda3\\envs\\lseg\\Lib\\site-packages\\sklearn\\utils\\validation.py:514\u001b[0m, in \u001b[0;36mindexable\u001b[1;34m(*iterables)\u001b[0m\n\u001b[0;32m    484\u001b[0m \u001b[38;5;250m\u001b[39m\u001b[38;5;124;03m\"\"\"Make arrays indexable for cross-validation.\u001b[39;00m\n\u001b[0;32m    485\u001b[0m \n\u001b[0;32m    486\u001b[0m \u001b[38;5;124;03mChecks consistent length, passes through None, and ensures that everything\u001b[39;00m\n\u001b[1;32m   (...)\u001b[0m\n\u001b[0;32m    510\u001b[0m \u001b[38;5;124;03m[[1, 2, 3], array([2, 3, 4]), None, <3x1 sparse matrix ...>]\u001b[39;00m\n\u001b[0;32m    511\u001b[0m \u001b[38;5;124;03m\"\"\"\u001b[39;00m\n\u001b[0;32m    513\u001b[0m result \u001b[38;5;241m=\u001b[39m [_make_indexable(X) \u001b[38;5;28;01mfor\u001b[39;00m X \u001b[38;5;129;01min\u001b[39;00m iterables]\n\u001b[1;32m--> 514\u001b[0m check_consistent_length(\u001b[38;5;241m*\u001b[39mresult)\n\u001b[0;32m    515\u001b[0m \u001b[38;5;28;01mreturn\u001b[39;00m result\n",
      "File \u001b[1;32mc:\\Users\\anaro\\miniconda3\\envs\\lseg\\Lib\\site-packages\\sklearn\\utils\\validation.py:457\u001b[0m, in \u001b[0;36mcheck_consistent_length\u001b[1;34m(*arrays)\u001b[0m\n\u001b[0;32m    455\u001b[0m uniques \u001b[38;5;241m=\u001b[39m np\u001b[38;5;241m.\u001b[39munique(lengths)\n\u001b[0;32m    456\u001b[0m \u001b[38;5;28;01mif\u001b[39;00m \u001b[38;5;28mlen\u001b[39m(uniques) \u001b[38;5;241m>\u001b[39m \u001b[38;5;241m1\u001b[39m:\n\u001b[1;32m--> 457\u001b[0m     \u001b[38;5;28;01mraise\u001b[39;00m \u001b[38;5;167;01mValueError\u001b[39;00m(\n\u001b[0;32m    458\u001b[0m         \u001b[38;5;124m\"\u001b[39m\u001b[38;5;124mFound input variables with inconsistent numbers of samples: \u001b[39m\u001b[38;5;132;01m%r\u001b[39;00m\u001b[38;5;124m\"\u001b[39m\n\u001b[0;32m    459\u001b[0m         \u001b[38;5;241m%\u001b[39m [\u001b[38;5;28mint\u001b[39m(l) \u001b[38;5;28;01mfor\u001b[39;00m l \u001b[38;5;129;01min\u001b[39;00m lengths]\n\u001b[0;32m    460\u001b[0m     )\n",
      "\u001b[1;31mValueError\u001b[0m: Found input variables with inconsistent numbers of samples: [15, 45]"
     ]
    }
   ],
   "source": [
    "from sklearn.model_selection import GridSearchCV\n",
    "parameters = {\n",
    "    'n_estimators': [100, 200, 300, 400],\n",
    "    'learning_rate': [0.001, 0.005, 0.01, 0.05],\n",
    "    'max_depth': [6, 8, 10, 12],\n",
    "    'gamma': [0.001, 0.005, 0.01, 0.02],\n",
    "    'random_state': [42]\n",
    "}\n",
    "\n",
    "model = xgb.XGBRegressor(objective='reg:squarederror')\n",
    "clf = GridSearchCV(model, parameters)\n",
    "\n",
    "clf.fit(x_train_15, y_train)\n",
    "\n",
    "print(f'Best params: {clf.best_params_}')\n",
    "print(f'Best validation score = {clf.best_score_}')"
   ]
  },
  {
   "cell_type": "code",
   "execution_count": 32,
   "metadata": {},
   "outputs": [],
   "source": [
    "best = {\n",
    "    'gamma': 0.01,\n",
    "    'learning_rate': 0.05,\n",
    "    'max_depth': 10,\n",
    "    'n_estimators': 200,\n",
    "    'random_state': 42\n",
    "}"
   ]
  },
  {
   "cell_type": "code",
   "execution_count": 46,
   "metadata": {},
   "outputs": [
    {
     "ename": "KeyError",
     "evalue": "'Close'",
     "output_type": "error",
     "traceback": [
      "\u001b[1;31m---------------------------------------------------------------------------\u001b[0m",
      "\u001b[1;31mKeyError\u001b[0m                                  Traceback (most recent call last)",
      "File \u001b[1;32mc:\\Users\\anaro\\miniconda3\\envs\\lseg\\Lib\\site-packages\\pandas\\core\\indexes\\base.py:3805\u001b[0m, in \u001b[0;36mIndex.get_loc\u001b[1;34m(self, key)\u001b[0m\n\u001b[0;32m   3804\u001b[0m \u001b[38;5;28;01mtry\u001b[39;00m:\n\u001b[1;32m-> 3805\u001b[0m     \u001b[38;5;28;01mreturn\u001b[39;00m \u001b[38;5;28mself\u001b[39m\u001b[38;5;241m.\u001b[39m_engine\u001b[38;5;241m.\u001b[39mget_loc(casted_key)\n\u001b[0;32m   3806\u001b[0m \u001b[38;5;28;01mexcept\u001b[39;00m \u001b[38;5;167;01mKeyError\u001b[39;00m \u001b[38;5;28;01mas\u001b[39;00m err:\n",
      "File \u001b[1;32mindex.pyx:167\u001b[0m, in \u001b[0;36mpandas._libs.index.IndexEngine.get_loc\u001b[1;34m()\u001b[0m\n",
      "File \u001b[1;32mindex.pyx:196\u001b[0m, in \u001b[0;36mpandas._libs.index.IndexEngine.get_loc\u001b[1;34m()\u001b[0m\n",
      "File \u001b[1;32mpandas\\\\_libs\\\\hashtable_class_helper.pxi:7081\u001b[0m, in \u001b[0;36mpandas._libs.hashtable.PyObjectHashTable.get_item\u001b[1;34m()\u001b[0m\n",
      "File \u001b[1;32mpandas\\\\_libs\\\\hashtable_class_helper.pxi:7089\u001b[0m, in \u001b[0;36mpandas._libs.hashtable.PyObjectHashTable.get_item\u001b[1;34m()\u001b[0m\n",
      "\u001b[1;31mKeyError\u001b[0m: 'Close'",
      "\nThe above exception was the direct cause of the following exception:\n",
      "\u001b[1;31mKeyError\u001b[0m                                  Traceback (most recent call last)",
      "Cell \u001b[1;32mIn[46], line 3\u001b[0m\n\u001b[0;32m      1\u001b[0m x_train_15 \u001b[38;5;241m=\u001b[39m x_train_15[FEATURES]\n\u001b[0;32m      2\u001b[0m x_test \u001b[38;5;241m=\u001b[39m test[FEATURES]\n\u001b[1;32m----> 3\u001b[0m y_train_15 \u001b[38;5;241m=\u001b[39m x_train_15[TARGET]\n\u001b[0;32m      5\u001b[0m model \u001b[38;5;241m=\u001b[39m xgb\u001b[38;5;241m.\u001b[39mXGBRegressor(\u001b[38;5;241m*\u001b[39m\u001b[38;5;241m*\u001b[39mbest, objective\u001b[38;5;241m=\u001b[39m\u001b[38;5;124m'\u001b[39m\u001b[38;5;124mreg:squarederror\u001b[39m\u001b[38;5;124m'\u001b[39m)\n\u001b[0;32m      6\u001b[0m model\u001b[38;5;241m.\u001b[39mfit(x_train_15, y_train_15, verbose\u001b[38;5;241m=\u001b[39m\u001b[38;5;28;01mTrue\u001b[39;00m)\n",
      "File \u001b[1;32mc:\\Users\\anaro\\miniconda3\\envs\\lseg\\Lib\\site-packages\\pandas\\core\\frame.py:4090\u001b[0m, in \u001b[0;36mDataFrame.__getitem__\u001b[1;34m(self, key)\u001b[0m\n\u001b[0;32m   4088\u001b[0m \u001b[38;5;28;01mif\u001b[39;00m \u001b[38;5;28mself\u001b[39m\u001b[38;5;241m.\u001b[39mcolumns\u001b[38;5;241m.\u001b[39mnlevels \u001b[38;5;241m>\u001b[39m \u001b[38;5;241m1\u001b[39m:\n\u001b[0;32m   4089\u001b[0m     \u001b[38;5;28;01mreturn\u001b[39;00m \u001b[38;5;28mself\u001b[39m\u001b[38;5;241m.\u001b[39m_getitem_multilevel(key)\n\u001b[1;32m-> 4090\u001b[0m indexer \u001b[38;5;241m=\u001b[39m \u001b[38;5;28mself\u001b[39m\u001b[38;5;241m.\u001b[39mcolumns\u001b[38;5;241m.\u001b[39mget_loc(key)\n\u001b[0;32m   4091\u001b[0m \u001b[38;5;28;01mif\u001b[39;00m is_integer(indexer):\n\u001b[0;32m   4092\u001b[0m     indexer \u001b[38;5;241m=\u001b[39m [indexer]\n",
      "File \u001b[1;32mc:\\Users\\anaro\\miniconda3\\envs\\lseg\\Lib\\site-packages\\pandas\\core\\indexes\\base.py:3812\u001b[0m, in \u001b[0;36mIndex.get_loc\u001b[1;34m(self, key)\u001b[0m\n\u001b[0;32m   3807\u001b[0m     \u001b[38;5;28;01mif\u001b[39;00m \u001b[38;5;28misinstance\u001b[39m(casted_key, \u001b[38;5;28mslice\u001b[39m) \u001b[38;5;129;01mor\u001b[39;00m (\n\u001b[0;32m   3808\u001b[0m         \u001b[38;5;28misinstance\u001b[39m(casted_key, abc\u001b[38;5;241m.\u001b[39mIterable)\n\u001b[0;32m   3809\u001b[0m         \u001b[38;5;129;01mand\u001b[39;00m \u001b[38;5;28many\u001b[39m(\u001b[38;5;28misinstance\u001b[39m(x, \u001b[38;5;28mslice\u001b[39m) \u001b[38;5;28;01mfor\u001b[39;00m x \u001b[38;5;129;01min\u001b[39;00m casted_key)\n\u001b[0;32m   3810\u001b[0m     ):\n\u001b[0;32m   3811\u001b[0m         \u001b[38;5;28;01mraise\u001b[39;00m InvalidIndexError(key)\n\u001b[1;32m-> 3812\u001b[0m     \u001b[38;5;28;01mraise\u001b[39;00m \u001b[38;5;167;01mKeyError\u001b[39;00m(key) \u001b[38;5;28;01mfrom\u001b[39;00m \u001b[38;5;21;01merr\u001b[39;00m\n\u001b[0;32m   3813\u001b[0m \u001b[38;5;28;01mexcept\u001b[39;00m \u001b[38;5;167;01mTypeError\u001b[39;00m:\n\u001b[0;32m   3814\u001b[0m     \u001b[38;5;66;03m# If we have a listlike key, _check_indexing_error will raise\u001b[39;00m\n\u001b[0;32m   3815\u001b[0m     \u001b[38;5;66;03m#  InvalidIndexError. Otherwise we fall through and re-raise\u001b[39;00m\n\u001b[0;32m   3816\u001b[0m     \u001b[38;5;66;03m#  the TypeError.\u001b[39;00m\n\u001b[0;32m   3817\u001b[0m     \u001b[38;5;28mself\u001b[39m\u001b[38;5;241m.\u001b[39m_check_indexing_error(key)\n",
      "\u001b[1;31mKeyError\u001b[0m: 'Close'"
     ]
    }
   ],
   "source": [
    "x_train_15 = x_train_15[FEATURES]\n",
    "x_test = test[FEATURES]\n",
    "y_train_15 = x_train_15[TARGET]\n",
    "\n",
    "model = xgb.XGBRegressor(**best, objective='reg:squarederror')\n",
    "model.fit(x_train_15, y_train_15, verbose=True)\n",
    "y_pred = model.predict(x_test)\n",
    "csv_file_path = os.path.join(os.getcwd(), 'test.csv')\n",
    "truth_df = pd.read_csv(csv_file_path)\n",
    "truth_df = truth_df[::-1]\n",
    "y_true = np.array(truth_df['Close'])\n",
    "print(f'y_true = {y_true}')\n",
    "print(f'y_pred = {y_pred}')\n",
    "mse = mean_squared_error(y_true, y_pred)\n",
    "rmse = np.sqrt(mse)\n",
    "print(rmse)"
   ]
  },
  {
   "cell_type": "code",
   "execution_count": 41,
   "metadata": {},
   "outputs": [
    {
     "name": "stdout",
     "output_type": "stream",
     "text": [
      "y_true = [1077.11 1091.21 1088.62 1102.34 1112.34]\n",
      "y_pred = [1073.4492 1073.4492 1104.7667 1104.503  1117.8939]\n",
      "11.181128604020355\n"
     ]
    }
   ],
   "source": [
    "x_train = x_train_20[FEATURES]\n",
    "x_test = test[FEATURES]\n",
    "y_train = x_train_20[TARGET]\n",
    "\n",
    "model = xgb.XGBRegressor(**best, objective='reg:squarederror')\n",
    "model.fit(x_train, y_train, verbose=True)\n",
    "y_pred = model.predict(x_test)\n",
    "csv_file_path = os.path.join(os.getcwd(), 'test.csv')\n",
    "truth_df = pd.read_csv(csv_file_path)\n",
    "truth_df = truth_df[::-1]\n",
    "y_true = np.array(truth_df['Close'])\n",
    "print(f'y_true = {y_true}')\n",
    "print(f'y_pred = {y_pred}')\n",
    "mse = mean_squared_error(y_true, y_pred)\n",
    "rmse = np.sqrt(mse)\n",
    "print(rmse)"
   ]
  },
  {
   "cell_type": "code",
   "execution_count": 42,
   "metadata": {},
   "outputs": [
    {
     "name": "stdout",
     "output_type": "stream",
     "text": [
      "y_true = [1077.11 1091.21 1088.62 1102.34 1112.34]\n",
      "y_pred = [1074.5428 1074.5428 1095.3456 1095.3456 1118.4277]\n",
      "9.117018401857836\n"
     ]
    }
   ],
   "source": [
    "x_train = x_train_30[FEATURES]\n",
    "y_train = x_train_30[TARGET]\n",
    "x_test = test[FEATURES]\n",
    "\n",
    "model = xgb.XGBRegressor(**best, objective='reg:squarederror')\n",
    "model.fit(x_train, y_train, verbose=True)\n",
    "y_pred = model.predict(x_test)\n",
    "csv_file_path = os.path.join(os.getcwd(), 'test.csv')\n",
    "truth_df = pd.read_csv(csv_file_path)\n",
    "truth_df = truth_df[::-1]\n",
    "y_true = np.array(truth_df['Close'])\n",
    "print(f'y_true = {y_true}')\n",
    "print(f'y_pred = {y_pred}')\n",
    "mse = mean_squared_error(y_true, y_pred)\n",
    "rmse = np.sqrt(mse)\n",
    "print(rmse)"
   ]
  },
  {
   "cell_type": "code",
   "execution_count": 43,
   "metadata": {},
   "outputs": [
    {
     "name": "stdout",
     "output_type": "stream",
     "text": [
      "y_true = [1077.11 1091.21 1088.62 1102.34 1112.34]\n",
      "y_pred = [1075.2048 1075.2048 1105.9751 1105.3633 1118.9081]\n",
      "11.07496573042406\n"
     ]
    }
   ],
   "source": [
    "x_train = x_train_45[FEATURES]\n",
    "x_test = test[FEATURES]\n",
    "y_train = x_train_45[TARGET]\n",
    "\n",
    "model = xgb.XGBRegressor(**best, objective='reg:squarederror')\n",
    "model.fit(x_train, y_train, verbose=True)\n",
    "y_pred = model.predict(x_test)\n",
    "csv_file_path = os.path.join(os.getcwd(), 'test.csv')\n",
    "truth_df = pd.read_csv(csv_file_path)\n",
    "truth_df = truth_df[::-1]\n",
    "y_true = np.array(truth_df['Close'])\n",
    "print(f'y_true = {y_true}')\n",
    "print(f'y_pred = {y_pred}')\n",
    "mse = mean_squared_error(y_true, y_pred)\n",
    "rmse = np.sqrt(mse)\n",
    "print(rmse)"
   ]
  },
  {
   "cell_type": "markdown",
   "metadata": {},
   "source": [
    "or train on all data (does not perform better)"
   ]
  },
  {
   "cell_type": "code",
   "execution_count": 37,
   "metadata": {},
   "outputs": [],
   "source": [
    "x_all = df[FEATURES]\n",
    "y_all = df[TARGET]\n",
    "x_all = x_all[:-5]\n",
    "y_all = y_all[:-5]"
   ]
  },
  {
   "cell_type": "code",
   "execution_count": 39,
   "metadata": {},
   "outputs": [
    {
     "name": "stdout",
     "output_type": "stream",
     "text": [
      "[0]\tvalidation_0-rmse:13.08812\n",
      "[1]\tvalidation_0-rmse:12.58274\n",
      "[2]\tvalidation_0-rmse:12.09995\n",
      "[3]\tvalidation_0-rmse:11.64129\n",
      "[4]\tvalidation_0-rmse:11.19641\n",
      "[5]\tvalidation_0-rmse:10.77346\n",
      "[6]\tvalidation_0-rmse:10.36917\n",
      "[7]\tvalidation_0-rmse:9.97782\n",
      "[8]\tvalidation_0-rmse:9.60798\n",
      "[9]\tvalidation_0-rmse:9.24978\n",
      "[10]\tvalidation_0-rmse:8.90968\n",
      "[11]\tvalidation_0-rmse:8.58092\n",
      "[12]\tvalidation_0-rmse:8.27273\n",
      "[13]\tvalidation_0-rmse:7.97117\n",
      "[14]\tvalidation_0-rmse:7.68611\n",
      "[15]\tvalidation_0-rmse:7.41220\n",
      "[16]\tvalidation_0-rmse:7.14954\n",
      "[17]\tvalidation_0-rmse:6.89780\n",
      "[18]\tvalidation_0-rmse:6.65568\n",
      "[19]\tvalidation_0-rmse:6.42256\n",
      "[20]\tvalidation_0-rmse:6.19978\n",
      "[21]\tvalidation_0-rmse:5.98426\n",
      "[22]\tvalidation_0-rmse:5.78047\n",
      "[23]\tvalidation_0-rmse:5.58136\n",
      "[24]\tvalidation_0-rmse:5.39355\n",
      "[25]\tvalidation_0-rmse:5.20931\n",
      "[26]\tvalidation_0-rmse:5.03378\n",
      "[27]\tvalidation_0-rmse:4.86353\n",
      "[28]\tvalidation_0-rmse:4.70153\n",
      "[29]\tvalidation_0-rmse:4.54749\n",
      "[30]\tvalidation_0-rmse:4.39596\n",
      "[31]\tvalidation_0-rmse:4.25243\n",
      "[32]\tvalidation_0-rmse:4.11087\n",
      "[33]\tvalidation_0-rmse:3.97450\n",
      "[34]\tvalidation_0-rmse:3.84428\n",
      "[35]\tvalidation_0-rmse:3.71909\n",
      "[36]\tvalidation_0-rmse:3.59770\n",
      "[37]\tvalidation_0-rmse:3.47956\n",
      "[38]\tvalidation_0-rmse:3.37135\n",
      "[39]\tvalidation_0-rmse:3.26221\n",
      "[40]\tvalidation_0-rmse:3.15725\n",
      "[41]\tvalidation_0-rmse:3.05546\n",
      "[42]\tvalidation_0-rmse:2.95851\n",
      "[43]\tvalidation_0-rmse:2.86688\n",
      "[44]\tvalidation_0-rmse:2.77611\n",
      "[45]\tvalidation_0-rmse:2.69027\n",
      "[46]\tvalidation_0-rmse:2.60818\n",
      "[47]\tvalidation_0-rmse:2.52981\n",
      "[48]\tvalidation_0-rmse:2.45328\n",
      "[49]\tvalidation_0-rmse:2.38028\n",
      "[50]\tvalidation_0-rmse:2.30957\n",
      "[51]\tvalidation_0-rmse:2.24051\n",
      "[52]\tvalidation_0-rmse:2.17463\n",
      "[53]\tvalidation_0-rmse:2.11240\n",
      "[54]\tvalidation_0-rmse:2.05023\n",
      "[55]\tvalidation_0-rmse:1.99040\n",
      "[56]\tvalidation_0-rmse:1.93259\n",
      "[57]\tvalidation_0-rmse:1.87784\n",
      "[58]\tvalidation_0-rmse:1.82568\n",
      "[59]\tvalidation_0-rmse:1.77347\n",
      "[60]\tvalidation_0-rmse:1.72316\n",
      "[61]\tvalidation_0-rmse:1.67447\n",
      "[62]\tvalidation_0-rmse:1.62736\n",
      "[63]\tvalidation_0-rmse:1.58179\n",
      "[64]\tvalidation_0-rmse:1.53774\n",
      "[65]\tvalidation_0-rmse:1.49505\n",
      "[66]\tvalidation_0-rmse:1.45377\n",
      "[67]\tvalidation_0-rmse:1.41383\n",
      "[68]\tvalidation_0-rmse:1.37518\n",
      "[69]\tvalidation_0-rmse:1.33791\n",
      "[70]\tvalidation_0-rmse:1.30187\n",
      "[71]\tvalidation_0-rmse:1.26701\n",
      "[72]\tvalidation_0-rmse:1.23338\n",
      "[73]\tvalidation_0-rmse:1.20013\n",
      "[74]\tvalidation_0-rmse:1.16815\n",
      "[75]\tvalidation_0-rmse:1.13716\n",
      "[76]\tvalidation_0-rmse:1.10703\n",
      "[77]\tvalidation_0-rmse:1.07816\n",
      "[78]\tvalidation_0-rmse:1.04973\n",
      "[79]\tvalidation_0-rmse:1.02212\n",
      "[80]\tvalidation_0-rmse:0.99511\n",
      "[81]\tvalidation_0-rmse:0.96891\n",
      "[82]\tvalidation_0-rmse:0.94354\n",
      "[83]\tvalidation_0-rmse:0.91892\n",
      "[84]\tvalidation_0-rmse:0.89498\n",
      "[85]\tvalidation_0-rmse:0.87169\n",
      "[86]\tvalidation_0-rmse:0.84903\n",
      "[87]\tvalidation_0-rmse:0.82701\n",
      "[88]\tvalidation_0-rmse:0.80573\n",
      "[89]\tvalidation_0-rmse:0.78491\n",
      "[90]\tvalidation_0-rmse:0.76451\n",
      "[91]\tvalidation_0-rmse:0.74466\n",
      "[92]\tvalidation_0-rmse:0.72516\n",
      "[93]\tvalidation_0-rmse:0.70650\n",
      "[94]\tvalidation_0-rmse:0.68834\n",
      "[95]\tvalidation_0-rmse:0.67054\n",
      "[96]\tvalidation_0-rmse:0.65334\n",
      "[97]\tvalidation_0-rmse:0.63650\n",
      "[98]\tvalidation_0-rmse:0.62011\n",
      "[99]\tvalidation_0-rmse:0.60430\n",
      "[100]\tvalidation_0-rmse:0.58886\n",
      "[101]\tvalidation_0-rmse:0.57393\n",
      "[102]\tvalidation_0-rmse:0.55921\n",
      "[103]\tvalidation_0-rmse:0.54490\n",
      "[104]\tvalidation_0-rmse:0.53103\n",
      "[105]\tvalidation_0-rmse:0.51746\n",
      "[106]\tvalidation_0-rmse:0.50432\n",
      "[107]\tvalidation_0-rmse:0.49156\n",
      "[108]\tvalidation_0-rmse:0.47909\n",
      "[109]\tvalidation_0-rmse:0.46696\n",
      "[110]\tvalidation_0-rmse:0.45503\n",
      "[111]\tvalidation_0-rmse:0.44364\n",
      "[112]\tvalidation_0-rmse:0.43250\n",
      "[113]\tvalidation_0-rmse:0.42162\n",
      "[114]\tvalidation_0-rmse:0.41115\n",
      "[115]\tvalidation_0-rmse:0.40091\n",
      "[116]\tvalidation_0-rmse:0.39087\n",
      "[117]\tvalidation_0-rmse:0.38109\n",
      "[118]\tvalidation_0-rmse:0.37158\n",
      "[119]\tvalidation_0-rmse:0.36226\n",
      "[120]\tvalidation_0-rmse:0.35331\n",
      "[121]\tvalidation_0-rmse:0.34465\n",
      "[122]\tvalidation_0-rmse:0.33609\n",
      "[123]\tvalidation_0-rmse:0.32769\n",
      "[124]\tvalidation_0-rmse:0.31958\n",
      "[125]\tvalidation_0-rmse:0.31157\n",
      "[126]\tvalidation_0-rmse:0.30389\n",
      "[127]\tvalidation_0-rmse:0.29633\n",
      "[128]\tvalidation_0-rmse:0.28909\n",
      "[129]\tvalidation_0-rmse:0.28188\n",
      "[130]\tvalidation_0-rmse:0.27506\n",
      "[131]\tvalidation_0-rmse:0.26822\n",
      "[132]\tvalidation_0-rmse:0.26206\n",
      "[133]\tvalidation_0-rmse:0.25565\n",
      "[134]\tvalidation_0-rmse:0.24954\n",
      "[135]\tvalidation_0-rmse:0.24332\n",
      "[136]\tvalidation_0-rmse:0.23753\n",
      "[137]\tvalidation_0-rmse:0.23221\n",
      "[138]\tvalidation_0-rmse:0.22670\n",
      "[139]\tvalidation_0-rmse:0.22145\n",
      "[140]\tvalidation_0-rmse:0.21583\n",
      "[141]\tvalidation_0-rmse:0.21038\n",
      "[142]\tvalidation_0-rmse:0.20505\n",
      "[143]\tvalidation_0-rmse:0.20015\n",
      "[144]\tvalidation_0-rmse:0.19504\n",
      "[145]\tvalidation_0-rmse:0.19040\n",
      "[146]\tvalidation_0-rmse:0.18596\n",
      "[147]\tvalidation_0-rmse:0.18158\n",
      "[148]\tvalidation_0-rmse:0.17734\n",
      "[149]\tvalidation_0-rmse:0.17328\n",
      "[150]\tvalidation_0-rmse:0.16944\n",
      "[151]\tvalidation_0-rmse:0.16565\n",
      "[152]\tvalidation_0-rmse:0.16195\n",
      "[153]\tvalidation_0-rmse:0.15839\n",
      "[154]\tvalidation_0-rmse:0.15494\n",
      "[155]\tvalidation_0-rmse:0.15159\n",
      "[156]\tvalidation_0-rmse:0.14843\n",
      "[157]\tvalidation_0-rmse:0.14525\n",
      "[158]\tvalidation_0-rmse:0.14221\n",
      "[159]\tvalidation_0-rmse:0.13946\n",
      "[160]\tvalidation_0-rmse:0.13670\n",
      "[161]\tvalidation_0-rmse:0.13324\n",
      "[162]\tvalidation_0-rmse:0.13074\n",
      "[163]\tvalidation_0-rmse:0.12881\n",
      "[164]\tvalidation_0-rmse:0.12681\n",
      "[165]\tvalidation_0-rmse:0.12502\n",
      "[166]\tvalidation_0-rmse:0.12308\n",
      "[167]\tvalidation_0-rmse:0.12143\n",
      "[168]\tvalidation_0-rmse:0.11904\n",
      "[169]\tvalidation_0-rmse:0.11725\n",
      "[170]\tvalidation_0-rmse:0.11578\n",
      "[171]\tvalidation_0-rmse:0.11447\n",
      "[172]\tvalidation_0-rmse:0.11221\n",
      "[173]\tvalidation_0-rmse:0.11064\n",
      "[174]\tvalidation_0-rmse:0.10948\n",
      "[175]\tvalidation_0-rmse:0.10825\n",
      "[176]\tvalidation_0-rmse:0.10635\n",
      "[177]\tvalidation_0-rmse:0.10496\n",
      "[178]\tvalidation_0-rmse:0.10316\n",
      "[179]\tvalidation_0-rmse:0.10148\n",
      "[180]\tvalidation_0-rmse:0.10056\n",
      "[181]\tvalidation_0-rmse:0.09894\n",
      "[182]\tvalidation_0-rmse:0.09717\n",
      "[183]\tvalidation_0-rmse:0.09546\n",
      "[184]\tvalidation_0-rmse:0.09479\n",
      "[185]\tvalidation_0-rmse:0.09398\n",
      "[186]\tvalidation_0-rmse:0.09245\n",
      "[187]\tvalidation_0-rmse:0.09170\n",
      "[188]\tvalidation_0-rmse:0.09099\n",
      "[189]\tvalidation_0-rmse:0.08949\n",
      "[190]\tvalidation_0-rmse:0.08883\n",
      "[191]\tvalidation_0-rmse:0.08819\n",
      "[192]\tvalidation_0-rmse:0.08690\n",
      "[193]\tvalidation_0-rmse:0.08596\n",
      "[194]\tvalidation_0-rmse:0.08488\n",
      "[195]\tvalidation_0-rmse:0.08443\n",
      "[196]\tvalidation_0-rmse:0.08343\n",
      "[197]\tvalidation_0-rmse:0.08304\n",
      "[198]\tvalidation_0-rmse:0.08211\n",
      "[199]\tvalidation_0-rmse:0.08137\n"
     ]
    },
    {
     "data": {
      "text/html": [
       "<style>#sk-container-id-1 {\n",
       "  /* Definition of color scheme common for light and dark mode */\n",
       "  --sklearn-color-text: black;\n",
       "  --sklearn-color-line: gray;\n",
       "  /* Definition of color scheme for unfitted estimators */\n",
       "  --sklearn-color-unfitted-level-0: #fff5e6;\n",
       "  --sklearn-color-unfitted-level-1: #f6e4d2;\n",
       "  --sklearn-color-unfitted-level-2: #ffe0b3;\n",
       "  --sklearn-color-unfitted-level-3: chocolate;\n",
       "  /* Definition of color scheme for fitted estimators */\n",
       "  --sklearn-color-fitted-level-0: #f0f8ff;\n",
       "  --sklearn-color-fitted-level-1: #d4ebff;\n",
       "  --sklearn-color-fitted-level-2: #b3dbfd;\n",
       "  --sklearn-color-fitted-level-3: cornflowerblue;\n",
       "\n",
       "  /* Specific color for light theme */\n",
       "  --sklearn-color-text-on-default-background: var(--sg-text-color, var(--theme-code-foreground, var(--jp-content-font-color1, black)));\n",
       "  --sklearn-color-background: var(--sg-background-color, var(--theme-background, var(--jp-layout-color0, white)));\n",
       "  --sklearn-color-border-box: var(--sg-text-color, var(--theme-code-foreground, var(--jp-content-font-color1, black)));\n",
       "  --sklearn-color-icon: #696969;\n",
       "\n",
       "  @media (prefers-color-scheme: dark) {\n",
       "    /* Redefinition of color scheme for dark theme */\n",
       "    --sklearn-color-text-on-default-background: var(--sg-text-color, var(--theme-code-foreground, var(--jp-content-font-color1, white)));\n",
       "    --sklearn-color-background: var(--sg-background-color, var(--theme-background, var(--jp-layout-color0, #111)));\n",
       "    --sklearn-color-border-box: var(--sg-text-color, var(--theme-code-foreground, var(--jp-content-font-color1, white)));\n",
       "    --sklearn-color-icon: #878787;\n",
       "  }\n",
       "}\n",
       "\n",
       "#sk-container-id-1 {\n",
       "  color: var(--sklearn-color-text);\n",
       "}\n",
       "\n",
       "#sk-container-id-1 pre {\n",
       "  padding: 0;\n",
       "}\n",
       "\n",
       "#sk-container-id-1 input.sk-hidden--visually {\n",
       "  border: 0;\n",
       "  clip: rect(1px 1px 1px 1px);\n",
       "  clip: rect(1px, 1px, 1px, 1px);\n",
       "  height: 1px;\n",
       "  margin: -1px;\n",
       "  overflow: hidden;\n",
       "  padding: 0;\n",
       "  position: absolute;\n",
       "  width: 1px;\n",
       "}\n",
       "\n",
       "#sk-container-id-1 div.sk-dashed-wrapped {\n",
       "  border: 1px dashed var(--sklearn-color-line);\n",
       "  margin: 0 0.4em 0.5em 0.4em;\n",
       "  box-sizing: border-box;\n",
       "  padding-bottom: 0.4em;\n",
       "  background-color: var(--sklearn-color-background);\n",
       "}\n",
       "\n",
       "#sk-container-id-1 div.sk-container {\n",
       "  /* jupyter's `normalize.less` sets `[hidden] { display: none; }`\n",
       "     but bootstrap.min.css set `[hidden] { display: none !important; }`\n",
       "     so we also need the `!important` here to be able to override the\n",
       "     default hidden behavior on the sphinx rendered scikit-learn.org.\n",
       "     See: https://github.com/scikit-learn/scikit-learn/issues/21755 */\n",
       "  display: inline-block !important;\n",
       "  position: relative;\n",
       "}\n",
       "\n",
       "#sk-container-id-1 div.sk-text-repr-fallback {\n",
       "  display: none;\n",
       "}\n",
       "\n",
       "div.sk-parallel-item,\n",
       "div.sk-serial,\n",
       "div.sk-item {\n",
       "  /* draw centered vertical line to link estimators */\n",
       "  background-image: linear-gradient(var(--sklearn-color-text-on-default-background), var(--sklearn-color-text-on-default-background));\n",
       "  background-size: 2px 100%;\n",
       "  background-repeat: no-repeat;\n",
       "  background-position: center center;\n",
       "}\n",
       "\n",
       "/* Parallel-specific style estimator block */\n",
       "\n",
       "#sk-container-id-1 div.sk-parallel-item::after {\n",
       "  content: \"\";\n",
       "  width: 100%;\n",
       "  border-bottom: 2px solid var(--sklearn-color-text-on-default-background);\n",
       "  flex-grow: 1;\n",
       "}\n",
       "\n",
       "#sk-container-id-1 div.sk-parallel {\n",
       "  display: flex;\n",
       "  align-items: stretch;\n",
       "  justify-content: center;\n",
       "  background-color: var(--sklearn-color-background);\n",
       "  position: relative;\n",
       "}\n",
       "\n",
       "#sk-container-id-1 div.sk-parallel-item {\n",
       "  display: flex;\n",
       "  flex-direction: column;\n",
       "}\n",
       "\n",
       "#sk-container-id-1 div.sk-parallel-item:first-child::after {\n",
       "  align-self: flex-end;\n",
       "  width: 50%;\n",
       "}\n",
       "\n",
       "#sk-container-id-1 div.sk-parallel-item:last-child::after {\n",
       "  align-self: flex-start;\n",
       "  width: 50%;\n",
       "}\n",
       "\n",
       "#sk-container-id-1 div.sk-parallel-item:only-child::after {\n",
       "  width: 0;\n",
       "}\n",
       "\n",
       "/* Serial-specific style estimator block */\n",
       "\n",
       "#sk-container-id-1 div.sk-serial {\n",
       "  display: flex;\n",
       "  flex-direction: column;\n",
       "  align-items: center;\n",
       "  background-color: var(--sklearn-color-background);\n",
       "  padding-right: 1em;\n",
       "  padding-left: 1em;\n",
       "}\n",
       "\n",
       "\n",
       "/* Toggleable style: style used for estimator/Pipeline/ColumnTransformer box that is\n",
       "clickable and can be expanded/collapsed.\n",
       "- Pipeline and ColumnTransformer use this feature and define the default style\n",
       "- Estimators will overwrite some part of the style using the `sk-estimator` class\n",
       "*/\n",
       "\n",
       "/* Pipeline and ColumnTransformer style (default) */\n",
       "\n",
       "#sk-container-id-1 div.sk-toggleable {\n",
       "  /* Default theme specific background. It is overwritten whether we have a\n",
       "  specific estimator or a Pipeline/ColumnTransformer */\n",
       "  background-color: var(--sklearn-color-background);\n",
       "}\n",
       "\n",
       "/* Toggleable label */\n",
       "#sk-container-id-1 label.sk-toggleable__label {\n",
       "  cursor: pointer;\n",
       "  display: block;\n",
       "  width: 100%;\n",
       "  margin-bottom: 0;\n",
       "  padding: 0.5em;\n",
       "  box-sizing: border-box;\n",
       "  text-align: center;\n",
       "}\n",
       "\n",
       "#sk-container-id-1 label.sk-toggleable__label-arrow:before {\n",
       "  /* Arrow on the left of the label */\n",
       "  content: \"▸\";\n",
       "  float: left;\n",
       "  margin-right: 0.25em;\n",
       "  color: var(--sklearn-color-icon);\n",
       "}\n",
       "\n",
       "#sk-container-id-1 label.sk-toggleable__label-arrow:hover:before {\n",
       "  color: var(--sklearn-color-text);\n",
       "}\n",
       "\n",
       "/* Toggleable content - dropdown */\n",
       "\n",
       "#sk-container-id-1 div.sk-toggleable__content {\n",
       "  max-height: 0;\n",
       "  max-width: 0;\n",
       "  overflow: hidden;\n",
       "  text-align: left;\n",
       "  /* unfitted */\n",
       "  background-color: var(--sklearn-color-unfitted-level-0);\n",
       "}\n",
       "\n",
       "#sk-container-id-1 div.sk-toggleable__content.fitted {\n",
       "  /* fitted */\n",
       "  background-color: var(--sklearn-color-fitted-level-0);\n",
       "}\n",
       "\n",
       "#sk-container-id-1 div.sk-toggleable__content pre {\n",
       "  margin: 0.2em;\n",
       "  border-radius: 0.25em;\n",
       "  color: var(--sklearn-color-text);\n",
       "  /* unfitted */\n",
       "  background-color: var(--sklearn-color-unfitted-level-0);\n",
       "}\n",
       "\n",
       "#sk-container-id-1 div.sk-toggleable__content.fitted pre {\n",
       "  /* unfitted */\n",
       "  background-color: var(--sklearn-color-fitted-level-0);\n",
       "}\n",
       "\n",
       "#sk-container-id-1 input.sk-toggleable__control:checked~div.sk-toggleable__content {\n",
       "  /* Expand drop-down */\n",
       "  max-height: 200px;\n",
       "  max-width: 100%;\n",
       "  overflow: auto;\n",
       "}\n",
       "\n",
       "#sk-container-id-1 input.sk-toggleable__control:checked~label.sk-toggleable__label-arrow:before {\n",
       "  content: \"▾\";\n",
       "}\n",
       "\n",
       "/* Pipeline/ColumnTransformer-specific style */\n",
       "\n",
       "#sk-container-id-1 div.sk-label input.sk-toggleable__control:checked~label.sk-toggleable__label {\n",
       "  color: var(--sklearn-color-text);\n",
       "  background-color: var(--sklearn-color-unfitted-level-2);\n",
       "}\n",
       "\n",
       "#sk-container-id-1 div.sk-label.fitted input.sk-toggleable__control:checked~label.sk-toggleable__label {\n",
       "  background-color: var(--sklearn-color-fitted-level-2);\n",
       "}\n",
       "\n",
       "/* Estimator-specific style */\n",
       "\n",
       "/* Colorize estimator box */\n",
       "#sk-container-id-1 div.sk-estimator input.sk-toggleable__control:checked~label.sk-toggleable__label {\n",
       "  /* unfitted */\n",
       "  background-color: var(--sklearn-color-unfitted-level-2);\n",
       "}\n",
       "\n",
       "#sk-container-id-1 div.sk-estimator.fitted input.sk-toggleable__control:checked~label.sk-toggleable__label {\n",
       "  /* fitted */\n",
       "  background-color: var(--sklearn-color-fitted-level-2);\n",
       "}\n",
       "\n",
       "#sk-container-id-1 div.sk-label label.sk-toggleable__label,\n",
       "#sk-container-id-1 div.sk-label label {\n",
       "  /* The background is the default theme color */\n",
       "  color: var(--sklearn-color-text-on-default-background);\n",
       "}\n",
       "\n",
       "/* On hover, darken the color of the background */\n",
       "#sk-container-id-1 div.sk-label:hover label.sk-toggleable__label {\n",
       "  color: var(--sklearn-color-text);\n",
       "  background-color: var(--sklearn-color-unfitted-level-2);\n",
       "}\n",
       "\n",
       "/* Label box, darken color on hover, fitted */\n",
       "#sk-container-id-1 div.sk-label.fitted:hover label.sk-toggleable__label.fitted {\n",
       "  color: var(--sklearn-color-text);\n",
       "  background-color: var(--sklearn-color-fitted-level-2);\n",
       "}\n",
       "\n",
       "/* Estimator label */\n",
       "\n",
       "#sk-container-id-1 div.sk-label label {\n",
       "  font-family: monospace;\n",
       "  font-weight: bold;\n",
       "  display: inline-block;\n",
       "  line-height: 1.2em;\n",
       "}\n",
       "\n",
       "#sk-container-id-1 div.sk-label-container {\n",
       "  text-align: center;\n",
       "}\n",
       "\n",
       "/* Estimator-specific */\n",
       "#sk-container-id-1 div.sk-estimator {\n",
       "  font-family: monospace;\n",
       "  border: 1px dotted var(--sklearn-color-border-box);\n",
       "  border-radius: 0.25em;\n",
       "  box-sizing: border-box;\n",
       "  margin-bottom: 0.5em;\n",
       "  /* unfitted */\n",
       "  background-color: var(--sklearn-color-unfitted-level-0);\n",
       "}\n",
       "\n",
       "#sk-container-id-1 div.sk-estimator.fitted {\n",
       "  /* fitted */\n",
       "  background-color: var(--sklearn-color-fitted-level-0);\n",
       "}\n",
       "\n",
       "/* on hover */\n",
       "#sk-container-id-1 div.sk-estimator:hover {\n",
       "  /* unfitted */\n",
       "  background-color: var(--sklearn-color-unfitted-level-2);\n",
       "}\n",
       "\n",
       "#sk-container-id-1 div.sk-estimator.fitted:hover {\n",
       "  /* fitted */\n",
       "  background-color: var(--sklearn-color-fitted-level-2);\n",
       "}\n",
       "\n",
       "/* Specification for estimator info (e.g. \"i\" and \"?\") */\n",
       "\n",
       "/* Common style for \"i\" and \"?\" */\n",
       "\n",
       ".sk-estimator-doc-link,\n",
       "a:link.sk-estimator-doc-link,\n",
       "a:visited.sk-estimator-doc-link {\n",
       "  float: right;\n",
       "  font-size: smaller;\n",
       "  line-height: 1em;\n",
       "  font-family: monospace;\n",
       "  background-color: var(--sklearn-color-background);\n",
       "  border-radius: 1em;\n",
       "  height: 1em;\n",
       "  width: 1em;\n",
       "  text-decoration: none !important;\n",
       "  margin-left: 1ex;\n",
       "  /* unfitted */\n",
       "  border: var(--sklearn-color-unfitted-level-1) 1pt solid;\n",
       "  color: var(--sklearn-color-unfitted-level-1);\n",
       "}\n",
       "\n",
       ".sk-estimator-doc-link.fitted,\n",
       "a:link.sk-estimator-doc-link.fitted,\n",
       "a:visited.sk-estimator-doc-link.fitted {\n",
       "  /* fitted */\n",
       "  border: var(--sklearn-color-fitted-level-1) 1pt solid;\n",
       "  color: var(--sklearn-color-fitted-level-1);\n",
       "}\n",
       "\n",
       "/* On hover */\n",
       "div.sk-estimator:hover .sk-estimator-doc-link:hover,\n",
       ".sk-estimator-doc-link:hover,\n",
       "div.sk-label-container:hover .sk-estimator-doc-link:hover,\n",
       ".sk-estimator-doc-link:hover {\n",
       "  /* unfitted */\n",
       "  background-color: var(--sklearn-color-unfitted-level-3);\n",
       "  color: var(--sklearn-color-background);\n",
       "  text-decoration: none;\n",
       "}\n",
       "\n",
       "div.sk-estimator.fitted:hover .sk-estimator-doc-link.fitted:hover,\n",
       ".sk-estimator-doc-link.fitted:hover,\n",
       "div.sk-label-container:hover .sk-estimator-doc-link.fitted:hover,\n",
       ".sk-estimator-doc-link.fitted:hover {\n",
       "  /* fitted */\n",
       "  background-color: var(--sklearn-color-fitted-level-3);\n",
       "  color: var(--sklearn-color-background);\n",
       "  text-decoration: none;\n",
       "}\n",
       "\n",
       "/* Span, style for the box shown on hovering the info icon */\n",
       ".sk-estimator-doc-link span {\n",
       "  display: none;\n",
       "  z-index: 9999;\n",
       "  position: relative;\n",
       "  font-weight: normal;\n",
       "  right: .2ex;\n",
       "  padding: .5ex;\n",
       "  margin: .5ex;\n",
       "  width: min-content;\n",
       "  min-width: 20ex;\n",
       "  max-width: 50ex;\n",
       "  color: var(--sklearn-color-text);\n",
       "  box-shadow: 2pt 2pt 4pt #999;\n",
       "  /* unfitted */\n",
       "  background: var(--sklearn-color-unfitted-level-0);\n",
       "  border: .5pt solid var(--sklearn-color-unfitted-level-3);\n",
       "}\n",
       "\n",
       ".sk-estimator-doc-link.fitted span {\n",
       "  /* fitted */\n",
       "  background: var(--sklearn-color-fitted-level-0);\n",
       "  border: var(--sklearn-color-fitted-level-3);\n",
       "}\n",
       "\n",
       ".sk-estimator-doc-link:hover span {\n",
       "  display: block;\n",
       "}\n",
       "\n",
       "/* \"?\"-specific style due to the `<a>` HTML tag */\n",
       "\n",
       "#sk-container-id-1 a.estimator_doc_link {\n",
       "  float: right;\n",
       "  font-size: 1rem;\n",
       "  line-height: 1em;\n",
       "  font-family: monospace;\n",
       "  background-color: var(--sklearn-color-background);\n",
       "  border-radius: 1rem;\n",
       "  height: 1rem;\n",
       "  width: 1rem;\n",
       "  text-decoration: none;\n",
       "  /* unfitted */\n",
       "  color: var(--sklearn-color-unfitted-level-1);\n",
       "  border: var(--sklearn-color-unfitted-level-1) 1pt solid;\n",
       "}\n",
       "\n",
       "#sk-container-id-1 a.estimator_doc_link.fitted {\n",
       "  /* fitted */\n",
       "  border: var(--sklearn-color-fitted-level-1) 1pt solid;\n",
       "  color: var(--sklearn-color-fitted-level-1);\n",
       "}\n",
       "\n",
       "/* On hover */\n",
       "#sk-container-id-1 a.estimator_doc_link:hover {\n",
       "  /* unfitted */\n",
       "  background-color: var(--sklearn-color-unfitted-level-3);\n",
       "  color: var(--sklearn-color-background);\n",
       "  text-decoration: none;\n",
       "}\n",
       "\n",
       "#sk-container-id-1 a.estimator_doc_link.fitted:hover {\n",
       "  /* fitted */\n",
       "  background-color: var(--sklearn-color-fitted-level-3);\n",
       "}\n",
       "</style><div id=\"sk-container-id-1\" class=\"sk-top-container\"><div class=\"sk-text-repr-fallback\"><pre>XGBRegressor(base_score=None, booster=None, callbacks=None,\n",
       "             colsample_bylevel=None, colsample_bynode=None,\n",
       "             colsample_bytree=None, device=None, early_stopping_rounds=None,\n",
       "             enable_categorical=False, eval_metric=None, feature_types=None,\n",
       "             gamma=0.01, grow_policy=None, importance_type=None,\n",
       "             interaction_constraints=None, learning_rate=0.05, max_bin=None,\n",
       "             max_cat_threshold=None, max_cat_to_onehot=None,\n",
       "             max_delta_step=None, max_depth=10, max_leaves=None,\n",
       "             min_child_weight=None, missing=nan, monotone_constraints=None,\n",
       "             multi_strategy=None, n_estimators=200, n_jobs=None,\n",
       "             num_parallel_tree=None, random_state=42, ...)</pre><b>In a Jupyter environment, please rerun this cell to show the HTML representation or trust the notebook. <br />On GitHub, the HTML representation is unable to render, please try loading this page with nbviewer.org.</b></div><div class=\"sk-container\" hidden><div class=\"sk-item\"><div class=\"sk-estimator fitted sk-toggleable\"><input class=\"sk-toggleable__control sk-hidden--visually\" id=\"sk-estimator-id-1\" type=\"checkbox\" checked><label for=\"sk-estimator-id-1\" class=\"sk-toggleable__label fitted sk-toggleable__label-arrow fitted\">&nbsp;XGBRegressor<span class=\"sk-estimator-doc-link fitted\">i<span>Fitted</span></span></label><div class=\"sk-toggleable__content fitted\"><pre>XGBRegressor(base_score=None, booster=None, callbacks=None,\n",
       "             colsample_bylevel=None, colsample_bynode=None,\n",
       "             colsample_bytree=None, device=None, early_stopping_rounds=None,\n",
       "             enable_categorical=False, eval_metric=None, feature_types=None,\n",
       "             gamma=0.01, grow_policy=None, importance_type=None,\n",
       "             interaction_constraints=None, learning_rate=0.05, max_bin=None,\n",
       "             max_cat_threshold=None, max_cat_to_onehot=None,\n",
       "             max_delta_step=None, max_depth=10, max_leaves=None,\n",
       "             min_child_weight=None, missing=nan, monotone_constraints=None,\n",
       "             multi_strategy=None, n_estimators=200, n_jobs=None,\n",
       "             num_parallel_tree=None, random_state=42, ...)</pre></div> </div></div></div></div>"
      ],
      "text/plain": [
       "XGBRegressor(base_score=None, booster=None, callbacks=None,\n",
       "             colsample_bylevel=None, colsample_bynode=None,\n",
       "             colsample_bytree=None, device=None, early_stopping_rounds=None,\n",
       "             enable_categorical=False, eval_metric=None, feature_types=None,\n",
       "             gamma=0.01, grow_policy=None, importance_type=None,\n",
       "             interaction_constraints=None, learning_rate=0.05, max_bin=None,\n",
       "             max_cat_threshold=None, max_cat_to_onehot=None,\n",
       "             max_delta_step=None, max_depth=10, max_leaves=None,\n",
       "             min_child_weight=None, missing=nan, monotone_constraints=None,\n",
       "             multi_strategy=None, n_estimators=200, n_jobs=None,\n",
       "             num_parallel_tree=None, random_state=42, ...)"
      ]
     },
     "execution_count": 39,
     "metadata": {},
     "output_type": "execute_result"
    }
   ],
   "source": [
    "model = xgb.XGBRegressor(**best, objective='reg:squarederror')\n",
    "model.fit(x_all, y_all, eval_set=[(x_all, y_all)], verbose=True)"
   ]
  },
  {
   "cell_type": "code",
   "execution_count": 32,
   "metadata": {},
   "outputs": [
    {
     "ename": "AttributeError",
     "evalue": "`feature_names_in_` is defined only when `X` has feature names that are all strings.",
     "output_type": "error",
     "traceback": [
      "\u001b[1;31m---------------------------------------------------------------------------\u001b[0m",
      "\u001b[1;31mAttributeError\u001b[0m                            Traceback (most recent call last)",
      "Cell \u001b[1;32mIn[32], line 2\u001b[0m\n\u001b[0;32m      1\u001b[0m fi \u001b[38;5;241m=\u001b[39m pd\u001b[38;5;241m.\u001b[39mDataFrame(data\u001b[38;5;241m=\u001b[39mmodel\u001b[38;5;241m.\u001b[39mfeature_importances_,\n\u001b[1;32m----> 2\u001b[0m              index\u001b[38;5;241m=\u001b[39mmodel\u001b[38;5;241m.\u001b[39mfeature_names_in_,\n\u001b[0;32m      3\u001b[0m              columns\u001b[38;5;241m=\u001b[39m[\u001b[38;5;124m'\u001b[39m\u001b[38;5;124mimportance\u001b[39m\u001b[38;5;124m'\u001b[39m])\n\u001b[0;32m      4\u001b[0m fi\u001b[38;5;241m.\u001b[39msort_values(\u001b[38;5;124m'\u001b[39m\u001b[38;5;124mimportance\u001b[39m\u001b[38;5;124m'\u001b[39m)\u001b[38;5;241m.\u001b[39mplot(kind\u001b[38;5;241m=\u001b[39m\u001b[38;5;124m'\u001b[39m\u001b[38;5;124mbarh\u001b[39m\u001b[38;5;124m'\u001b[39m, title\u001b[38;5;241m=\u001b[39m\u001b[38;5;124m'\u001b[39m\u001b[38;5;124mFeature Importance\u001b[39m\u001b[38;5;124m'\u001b[39m)\n\u001b[0;32m      5\u001b[0m plt\u001b[38;5;241m.\u001b[39mshow()\n",
      "File \u001b[1;32mc:\\Users\\anaro\\miniconda3\\envs\\lseg\\Lib\\site-packages\\xgboost\\sklearn.py:1280\u001b[0m, in \u001b[0;36mXGBModel.feature_names_in_\u001b[1;34m(self)\u001b[0m\n\u001b[0;32m   1278\u001b[0m feature_names \u001b[38;5;241m=\u001b[39m \u001b[38;5;28mself\u001b[39m\u001b[38;5;241m.\u001b[39mget_booster()\u001b[38;5;241m.\u001b[39mfeature_names\n\u001b[0;32m   1279\u001b[0m \u001b[38;5;28;01mif\u001b[39;00m feature_names \u001b[38;5;129;01mis\u001b[39;00m \u001b[38;5;28;01mNone\u001b[39;00m:\n\u001b[1;32m-> 1280\u001b[0m     \u001b[38;5;28;01mraise\u001b[39;00m \u001b[38;5;167;01mAttributeError\u001b[39;00m(\n\u001b[0;32m   1281\u001b[0m         \u001b[38;5;124m\"\u001b[39m\u001b[38;5;124m`feature_names_in_` is defined only when `X` has feature names that \u001b[39m\u001b[38;5;124m\"\u001b[39m\n\u001b[0;32m   1282\u001b[0m         \u001b[38;5;124m\"\u001b[39m\u001b[38;5;124mare all strings.\u001b[39m\u001b[38;5;124m\"\u001b[39m\n\u001b[0;32m   1283\u001b[0m     )\n\u001b[0;32m   1284\u001b[0m \u001b[38;5;28;01mreturn\u001b[39;00m np\u001b[38;5;241m.\u001b[39marray(feature_names)\n",
      "\u001b[1;31mAttributeError\u001b[0m: `feature_names_in_` is defined only when `X` has feature names that are all strings."
     ]
    }
   ],
   "source": [
    "fi = pd.DataFrame(data=model.feature_importances_,\n",
    "             index=model.feature_names_in_,\n",
    "             columns=['importance'])\n",
    "fi.sort_values('importance').plot(kind='barh', title='Feature Importance')\n",
    "plt.show()"
   ]
  },
  {
   "cell_type": "code",
   "execution_count": 77,
   "metadata": {},
   "outputs": [
    {
     "data": {
      "text/html": [
       "<div>\n",
       "<style scoped>\n",
       "    .dataframe tbody tr th:only-of-type {\n",
       "        vertical-align: middle;\n",
       "    }\n",
       "\n",
       "    .dataframe tbody tr th {\n",
       "        vertical-align: top;\n",
       "    }\n",
       "\n",
       "    .dataframe thead th {\n",
       "        text-align: right;\n",
       "    }\n",
       "</style>\n",
       "<table border=\"1\" class=\"dataframe\">\n",
       "  <thead>\n",
       "    <tr style=\"text-align: right;\">\n",
       "      <th></th>\n",
       "      <th>EMA_9</th>\n",
       "      <th>SMA_5</th>\n",
       "      <th>SMA_10</th>\n",
       "      <th>SMA_15</th>\n",
       "      <th>SMA_30</th>\n",
       "      <th>RSI</th>\n",
       "      <th>MACD</th>\n",
       "      <th>MACD_signal</th>\n",
       "    </tr>\n",
       "    <tr>\n",
       "      <th>Date</th>\n",
       "      <th></th>\n",
       "      <th></th>\n",
       "      <th></th>\n",
       "      <th></th>\n",
       "      <th></th>\n",
       "      <th></th>\n",
       "      <th></th>\n",
       "      <th></th>\n",
       "    </tr>\n",
       "  </thead>\n",
       "  <tbody>\n",
       "    <tr>\n",
       "      <th>2024-04-16 00:00:00</th>\n",
       "      <td>1102.081912</td>\n",
       "      <td>1113.038</td>\n",
       "      <td>1107.141</td>\n",
       "      <td>1102.230000</td>\n",
       "      <td>1097.560333</td>\n",
       "      <td>39.423077</td>\n",
       "      <td>4.617726</td>\n",
       "      <td>7.129889</td>\n",
       "    </tr>\n",
       "    <tr>\n",
       "      <th>2024-04-17 00:00:00</th>\n",
       "      <td>1098.978445</td>\n",
       "      <td>1105.748</td>\n",
       "      <td>1104.682</td>\n",
       "      <td>1100.948000</td>\n",
       "      <td>1097.275000</td>\n",
       "      <td>42.479490</td>\n",
       "      <td>2.215554</td>\n",
       "      <td>6.147008</td>\n",
       "    </tr>\n",
       "    <tr>\n",
       "      <th>2024-04-18 00:00:00</th>\n",
       "      <td>1096.566708</td>\n",
       "      <td>1097.206</td>\n",
       "      <td>1101.660</td>\n",
       "      <td>1099.838000</td>\n",
       "      <td>1096.906667</td>\n",
       "      <td>41.789668</td>\n",
       "      <td>0.548585</td>\n",
       "      <td>5.027311</td>\n",
       "    </tr>\n",
       "    <tr>\n",
       "      <th>2024-04-19 00:00:00</th>\n",
       "      <td>1094.698415</td>\n",
       "      <td>1088.826</td>\n",
       "      <td>1099.544</td>\n",
       "      <td>1099.049333</td>\n",
       "      <td>1096.866333</td>\n",
       "      <td>34.608743</td>\n",
       "      <td>-1.970002</td>\n",
       "      <td>3.627835</td>\n",
       "    </tr>\n",
       "    <tr>\n",
       "      <th>2024-04-22 00:00:00</th>\n",
       "      <td>1091.500615</td>\n",
       "      <td>1078.032</td>\n",
       "      <td>1095.442</td>\n",
       "      <td>1096.970667</td>\n",
       "      <td>1096.042000</td>\n",
       "      <td>37.806587</td>\n",
       "      <td>-3.516424</td>\n",
       "      <td>2.198973</td>\n",
       "    </tr>\n",
       "  </tbody>\n",
       "</table>\n",
       "</div>"
      ],
      "text/plain": [
       "                           EMA_9     SMA_5    SMA_10       SMA_15  \\\n",
       "Date                                                                \n",
       "2024-04-16 00:00:00  1102.081912  1113.038  1107.141  1102.230000   \n",
       "2024-04-17 00:00:00  1098.978445  1105.748  1104.682  1100.948000   \n",
       "2024-04-18 00:00:00  1096.566708  1097.206  1101.660  1099.838000   \n",
       "2024-04-19 00:00:00  1094.698415  1088.826  1099.544  1099.049333   \n",
       "2024-04-22 00:00:00  1091.500615  1078.032  1095.442  1096.970667   \n",
       "\n",
       "                          SMA_30        RSI      MACD  MACD_signal  \n",
       "Date                                                                \n",
       "2024-04-16 00:00:00  1097.560333  39.423077  4.617726     7.129889  \n",
       "2024-04-17 00:00:00  1097.275000  42.479490  2.215554     6.147008  \n",
       "2024-04-18 00:00:00  1096.906667  41.789668  0.548585     5.027311  \n",
       "2024-04-19 00:00:00  1096.866333  34.608743 -1.970002     3.627835  \n",
       "2024-04-22 00:00:00  1096.042000  37.806587 -3.516424     2.198973  "
      ]
     },
     "execution_count": 77,
     "metadata": {},
     "output_type": "execute_result"
    }
   ],
   "source": [
    "x_test.head()"
   ]
  },
  {
   "cell_type": "code",
   "execution_count": 34,
   "metadata": {},
   "outputs": [
    {
     "data": {
      "text/html": [
       "<div>\n",
       "<style scoped>\n",
       "    .dataframe tbody tr th:only-of-type {\n",
       "        vertical-align: middle;\n",
       "    }\n",
       "\n",
       "    .dataframe tbody tr th {\n",
       "        vertical-align: top;\n",
       "    }\n",
       "\n",
       "    .dataframe thead th {\n",
       "        text-align: right;\n",
       "    }\n",
       "</style>\n",
       "<table border=\"1\" class=\"dataframe\">\n",
       "  <thead>\n",
       "    <tr style=\"text-align: right;\">\n",
       "      <th></th>\n",
       "      <th>Exchange Date</th>\n",
       "      <th>Close</th>\n",
       "    </tr>\n",
       "  </thead>\n",
       "  <tbody>\n",
       "    <tr>\n",
       "      <th>4</th>\n",
       "      <td>2024-04-23 00:00:00</td>\n",
       "      <td>1077.11</td>\n",
       "    </tr>\n",
       "    <tr>\n",
       "      <th>3</th>\n",
       "      <td>2024-04-24 00:00:00</td>\n",
       "      <td>1091.21</td>\n",
       "    </tr>\n",
       "    <tr>\n",
       "      <th>2</th>\n",
       "      <td>2024-04-25 00:00:00</td>\n",
       "      <td>1088.62</td>\n",
       "    </tr>\n",
       "    <tr>\n",
       "      <th>1</th>\n",
       "      <td>2024-04-26 00:00:00</td>\n",
       "      <td>1102.34</td>\n",
       "    </tr>\n",
       "    <tr>\n",
       "      <th>0</th>\n",
       "      <td>2024-04-29 00:00:00</td>\n",
       "      <td>1112.34</td>\n",
       "    </tr>\n",
       "  </tbody>\n",
       "</table>\n",
       "</div>"
      ],
      "text/plain": [
       "         Exchange Date    Close\n",
       "4  2024-04-23 00:00:00  1077.11\n",
       "3  2024-04-24 00:00:00  1091.21\n",
       "2  2024-04-25 00:00:00  1088.62\n",
       "1  2024-04-26 00:00:00  1102.34\n",
       "0  2024-04-29 00:00:00  1112.34"
      ]
     },
     "execution_count": 34,
     "metadata": {},
     "output_type": "execute_result"
    }
   ],
   "source": [
    "csv_file_path = os.path.join(os.getcwd(), 'test.csv')\n",
    "truth_df = pd.read_csv(csv_file_path)\n",
    "truth_df = truth_df[::-1]\n",
    "truth_df.head()"
   ]
  },
  {
   "cell_type": "code",
   "execution_count": 36,
   "metadata": {},
   "outputs": [
    {
     "name": "stdout",
     "output_type": "stream",
     "text": [
      "y_true = [1077.11 1091.21 1088.62 1102.34 1112.34]\n",
      "y_pred = [1025.4602  1028.9984  1029.0642  1013.47504 1013.4826 ]\n",
      "74.50455203773316\n"
     ]
    }
   ],
   "source": [
    "y_true = np.array(truth_df['Close'])\n",
    "y_pred = model.predict(x_test)\n",
    "print(f'y_true = {y_true}')\n",
    "print(f'y_pred = {y_pred}')\n",
    "mse = mean_squared_error(y_true, y_pred)\n",
    "rmse = np.sqrt(mse)\n",
    "print(rmse)"
   ]
  },
  {
   "cell_type": "code",
   "execution_count": 36,
   "metadata": {},
   "outputs": [
    {
     "data": {
      "application/vnd.plotly.v1+json": {
       "config": {
        "plotlyServerURL": "https://plot.ly"
       },
       "data": [
        {
         "name": "Truth",
         "type": "scatter",
         "x": [
          "2024-04-23 00:00:00",
          "2024-04-24 00:00:00",
          "2024-04-25 00:00:00",
          "2024-04-26 00:00:00",
          "2024-04-29 00:00:00"
         ],
         "y": [
          1077.11,
          1091.21,
          1088.62,
          1102.34,
          1112.34
         ]
        },
        {
         "name": "Prediction",
         "type": "scatter",
         "x": [
          "2024-04-23 00:00:00",
          "2024-04-24 00:00:00",
          "2024-04-25 00:00:00",
          "2024-04-26 00:00:00",
          "2024-04-29 00:00:00"
         ],
         "y": [
          1094.629638671875,
          1094.629638671875,
          1095.070068359375,
          1097.0745849609375,
          1101.841796875
         ]
        }
       ],
       "layout": {
        "template": {
         "data": {
          "bar": [
           {
            "error_x": {
             "color": "#2a3f5f"
            },
            "error_y": {
             "color": "#2a3f5f"
            },
            "marker": {
             "line": {
              "color": "#E5ECF6",
              "width": 0.5
             },
             "pattern": {
              "fillmode": "overlay",
              "size": 10,
              "solidity": 0.2
             }
            },
            "type": "bar"
           }
          ],
          "barpolar": [
           {
            "marker": {
             "line": {
              "color": "#E5ECF6",
              "width": 0.5
             },
             "pattern": {
              "fillmode": "overlay",
              "size": 10,
              "solidity": 0.2
             }
            },
            "type": "barpolar"
           }
          ],
          "carpet": [
           {
            "aaxis": {
             "endlinecolor": "#2a3f5f",
             "gridcolor": "white",
             "linecolor": "white",
             "minorgridcolor": "white",
             "startlinecolor": "#2a3f5f"
            },
            "baxis": {
             "endlinecolor": "#2a3f5f",
             "gridcolor": "white",
             "linecolor": "white",
             "minorgridcolor": "white",
             "startlinecolor": "#2a3f5f"
            },
            "type": "carpet"
           }
          ],
          "choropleth": [
           {
            "colorbar": {
             "outlinewidth": 0,
             "ticks": ""
            },
            "type": "choropleth"
           }
          ],
          "contour": [
           {
            "colorbar": {
             "outlinewidth": 0,
             "ticks": ""
            },
            "colorscale": [
             [
              0,
              "#0d0887"
             ],
             [
              0.1111111111111111,
              "#46039f"
             ],
             [
              0.2222222222222222,
              "#7201a8"
             ],
             [
              0.3333333333333333,
              "#9c179e"
             ],
             [
              0.4444444444444444,
              "#bd3786"
             ],
             [
              0.5555555555555556,
              "#d8576b"
             ],
             [
              0.6666666666666666,
              "#ed7953"
             ],
             [
              0.7777777777777778,
              "#fb9f3a"
             ],
             [
              0.8888888888888888,
              "#fdca26"
             ],
             [
              1,
              "#f0f921"
             ]
            ],
            "type": "contour"
           }
          ],
          "contourcarpet": [
           {
            "colorbar": {
             "outlinewidth": 0,
             "ticks": ""
            },
            "type": "contourcarpet"
           }
          ],
          "heatmap": [
           {
            "colorbar": {
             "outlinewidth": 0,
             "ticks": ""
            },
            "colorscale": [
             [
              0,
              "#0d0887"
             ],
             [
              0.1111111111111111,
              "#46039f"
             ],
             [
              0.2222222222222222,
              "#7201a8"
             ],
             [
              0.3333333333333333,
              "#9c179e"
             ],
             [
              0.4444444444444444,
              "#bd3786"
             ],
             [
              0.5555555555555556,
              "#d8576b"
             ],
             [
              0.6666666666666666,
              "#ed7953"
             ],
             [
              0.7777777777777778,
              "#fb9f3a"
             ],
             [
              0.8888888888888888,
              "#fdca26"
             ],
             [
              1,
              "#f0f921"
             ]
            ],
            "type": "heatmap"
           }
          ],
          "heatmapgl": [
           {
            "colorbar": {
             "outlinewidth": 0,
             "ticks": ""
            },
            "colorscale": [
             [
              0,
              "#0d0887"
             ],
             [
              0.1111111111111111,
              "#46039f"
             ],
             [
              0.2222222222222222,
              "#7201a8"
             ],
             [
              0.3333333333333333,
              "#9c179e"
             ],
             [
              0.4444444444444444,
              "#bd3786"
             ],
             [
              0.5555555555555556,
              "#d8576b"
             ],
             [
              0.6666666666666666,
              "#ed7953"
             ],
             [
              0.7777777777777778,
              "#fb9f3a"
             ],
             [
              0.8888888888888888,
              "#fdca26"
             ],
             [
              1,
              "#f0f921"
             ]
            ],
            "type": "heatmapgl"
           }
          ],
          "histogram": [
           {
            "marker": {
             "pattern": {
              "fillmode": "overlay",
              "size": 10,
              "solidity": 0.2
             }
            },
            "type": "histogram"
           }
          ],
          "histogram2d": [
           {
            "colorbar": {
             "outlinewidth": 0,
             "ticks": ""
            },
            "colorscale": [
             [
              0,
              "#0d0887"
             ],
             [
              0.1111111111111111,
              "#46039f"
             ],
             [
              0.2222222222222222,
              "#7201a8"
             ],
             [
              0.3333333333333333,
              "#9c179e"
             ],
             [
              0.4444444444444444,
              "#bd3786"
             ],
             [
              0.5555555555555556,
              "#d8576b"
             ],
             [
              0.6666666666666666,
              "#ed7953"
             ],
             [
              0.7777777777777778,
              "#fb9f3a"
             ],
             [
              0.8888888888888888,
              "#fdca26"
             ],
             [
              1,
              "#f0f921"
             ]
            ],
            "type": "histogram2d"
           }
          ],
          "histogram2dcontour": [
           {
            "colorbar": {
             "outlinewidth": 0,
             "ticks": ""
            },
            "colorscale": [
             [
              0,
              "#0d0887"
             ],
             [
              0.1111111111111111,
              "#46039f"
             ],
             [
              0.2222222222222222,
              "#7201a8"
             ],
             [
              0.3333333333333333,
              "#9c179e"
             ],
             [
              0.4444444444444444,
              "#bd3786"
             ],
             [
              0.5555555555555556,
              "#d8576b"
             ],
             [
              0.6666666666666666,
              "#ed7953"
             ],
             [
              0.7777777777777778,
              "#fb9f3a"
             ],
             [
              0.8888888888888888,
              "#fdca26"
             ],
             [
              1,
              "#f0f921"
             ]
            ],
            "type": "histogram2dcontour"
           }
          ],
          "mesh3d": [
           {
            "colorbar": {
             "outlinewidth": 0,
             "ticks": ""
            },
            "type": "mesh3d"
           }
          ],
          "parcoords": [
           {
            "line": {
             "colorbar": {
              "outlinewidth": 0,
              "ticks": ""
             }
            },
            "type": "parcoords"
           }
          ],
          "pie": [
           {
            "automargin": true,
            "type": "pie"
           }
          ],
          "scatter": [
           {
            "fillpattern": {
             "fillmode": "overlay",
             "size": 10,
             "solidity": 0.2
            },
            "type": "scatter"
           }
          ],
          "scatter3d": [
           {
            "line": {
             "colorbar": {
              "outlinewidth": 0,
              "ticks": ""
             }
            },
            "marker": {
             "colorbar": {
              "outlinewidth": 0,
              "ticks": ""
             }
            },
            "type": "scatter3d"
           }
          ],
          "scattercarpet": [
           {
            "marker": {
             "colorbar": {
              "outlinewidth": 0,
              "ticks": ""
             }
            },
            "type": "scattercarpet"
           }
          ],
          "scattergeo": [
           {
            "marker": {
             "colorbar": {
              "outlinewidth": 0,
              "ticks": ""
             }
            },
            "type": "scattergeo"
           }
          ],
          "scattergl": [
           {
            "marker": {
             "colorbar": {
              "outlinewidth": 0,
              "ticks": ""
             }
            },
            "type": "scattergl"
           }
          ],
          "scattermapbox": [
           {
            "marker": {
             "colorbar": {
              "outlinewidth": 0,
              "ticks": ""
             }
            },
            "type": "scattermapbox"
           }
          ],
          "scatterpolar": [
           {
            "marker": {
             "colorbar": {
              "outlinewidth": 0,
              "ticks": ""
             }
            },
            "type": "scatterpolar"
           }
          ],
          "scatterpolargl": [
           {
            "marker": {
             "colorbar": {
              "outlinewidth": 0,
              "ticks": ""
             }
            },
            "type": "scatterpolargl"
           }
          ],
          "scatterternary": [
           {
            "marker": {
             "colorbar": {
              "outlinewidth": 0,
              "ticks": ""
             }
            },
            "type": "scatterternary"
           }
          ],
          "surface": [
           {
            "colorbar": {
             "outlinewidth": 0,
             "ticks": ""
            },
            "colorscale": [
             [
              0,
              "#0d0887"
             ],
             [
              0.1111111111111111,
              "#46039f"
             ],
             [
              0.2222222222222222,
              "#7201a8"
             ],
             [
              0.3333333333333333,
              "#9c179e"
             ],
             [
              0.4444444444444444,
              "#bd3786"
             ],
             [
              0.5555555555555556,
              "#d8576b"
             ],
             [
              0.6666666666666666,
              "#ed7953"
             ],
             [
              0.7777777777777778,
              "#fb9f3a"
             ],
             [
              0.8888888888888888,
              "#fdca26"
             ],
             [
              1,
              "#f0f921"
             ]
            ],
            "type": "surface"
           }
          ],
          "table": [
           {
            "cells": {
             "fill": {
              "color": "#EBF0F8"
             },
             "line": {
              "color": "white"
             }
            },
            "header": {
             "fill": {
              "color": "#C8D4E3"
             },
             "line": {
              "color": "white"
             }
            },
            "type": "table"
           }
          ]
         },
         "layout": {
          "annotationdefaults": {
           "arrowcolor": "#2a3f5f",
           "arrowhead": 0,
           "arrowwidth": 1
          },
          "autotypenumbers": "strict",
          "coloraxis": {
           "colorbar": {
            "outlinewidth": 0,
            "ticks": ""
           }
          },
          "colorscale": {
           "diverging": [
            [
             0,
             "#8e0152"
            ],
            [
             0.1,
             "#c51b7d"
            ],
            [
             0.2,
             "#de77ae"
            ],
            [
             0.3,
             "#f1b6da"
            ],
            [
             0.4,
             "#fde0ef"
            ],
            [
             0.5,
             "#f7f7f7"
            ],
            [
             0.6,
             "#e6f5d0"
            ],
            [
             0.7,
             "#b8e186"
            ],
            [
             0.8,
             "#7fbc41"
            ],
            [
             0.9,
             "#4d9221"
            ],
            [
             1,
             "#276419"
            ]
           ],
           "sequential": [
            [
             0,
             "#0d0887"
            ],
            [
             0.1111111111111111,
             "#46039f"
            ],
            [
             0.2222222222222222,
             "#7201a8"
            ],
            [
             0.3333333333333333,
             "#9c179e"
            ],
            [
             0.4444444444444444,
             "#bd3786"
            ],
            [
             0.5555555555555556,
             "#d8576b"
            ],
            [
             0.6666666666666666,
             "#ed7953"
            ],
            [
             0.7777777777777778,
             "#fb9f3a"
            ],
            [
             0.8888888888888888,
             "#fdca26"
            ],
            [
             1,
             "#f0f921"
            ]
           ],
           "sequentialminus": [
            [
             0,
             "#0d0887"
            ],
            [
             0.1111111111111111,
             "#46039f"
            ],
            [
             0.2222222222222222,
             "#7201a8"
            ],
            [
             0.3333333333333333,
             "#9c179e"
            ],
            [
             0.4444444444444444,
             "#bd3786"
            ],
            [
             0.5555555555555556,
             "#d8576b"
            ],
            [
             0.6666666666666666,
             "#ed7953"
            ],
            [
             0.7777777777777778,
             "#fb9f3a"
            ],
            [
             0.8888888888888888,
             "#fdca26"
            ],
            [
             1,
             "#f0f921"
            ]
           ]
          },
          "colorway": [
           "#636efa",
           "#EF553B",
           "#00cc96",
           "#ab63fa",
           "#FFA15A",
           "#19d3f3",
           "#FF6692",
           "#B6E880",
           "#FF97FF",
           "#FECB52"
          ],
          "font": {
           "color": "#2a3f5f"
          },
          "geo": {
           "bgcolor": "white",
           "lakecolor": "white",
           "landcolor": "#E5ECF6",
           "showlakes": true,
           "showland": true,
           "subunitcolor": "white"
          },
          "hoverlabel": {
           "align": "left"
          },
          "hovermode": "closest",
          "mapbox": {
           "style": "light"
          },
          "paper_bgcolor": "white",
          "plot_bgcolor": "#E5ECF6",
          "polar": {
           "angularaxis": {
            "gridcolor": "white",
            "linecolor": "white",
            "ticks": ""
           },
           "bgcolor": "#E5ECF6",
           "radialaxis": {
            "gridcolor": "white",
            "linecolor": "white",
            "ticks": ""
           }
          },
          "scene": {
           "xaxis": {
            "backgroundcolor": "#E5ECF6",
            "gridcolor": "white",
            "gridwidth": 2,
            "linecolor": "white",
            "showbackground": true,
            "ticks": "",
            "zerolinecolor": "white"
           },
           "yaxis": {
            "backgroundcolor": "#E5ECF6",
            "gridcolor": "white",
            "gridwidth": 2,
            "linecolor": "white",
            "showbackground": true,
            "ticks": "",
            "zerolinecolor": "white"
           },
           "zaxis": {
            "backgroundcolor": "#E5ECF6",
            "gridcolor": "white",
            "gridwidth": 2,
            "linecolor": "white",
            "showbackground": true,
            "ticks": "",
            "zerolinecolor": "white"
           }
          },
          "shapedefaults": {
           "line": {
            "color": "#2a3f5f"
           }
          },
          "ternary": {
           "aaxis": {
            "gridcolor": "white",
            "linecolor": "white",
            "ticks": ""
           },
           "baxis": {
            "gridcolor": "white",
            "linecolor": "white",
            "ticks": ""
           },
           "bgcolor": "#E5ECF6",
           "caxis": {
            "gridcolor": "white",
            "linecolor": "white",
            "ticks": ""
           }
          },
          "title": {
           "x": 0.05
          },
          "xaxis": {
           "automargin": true,
           "gridcolor": "white",
           "linecolor": "white",
           "ticks": "",
           "title": {
            "standoff": 15
           },
           "zerolinecolor": "white",
           "zerolinewidth": 2
          },
          "yaxis": {
           "automargin": true,
           "gridcolor": "white",
           "linecolor": "white",
           "ticks": "",
           "title": {
            "standoff": 15
           },
           "zerolinecolor": "white",
           "zerolinewidth": 2
          }
         }
        },
        "xaxis": {
         "anchor": "y",
         "domain": [
          0,
          1
         ]
        },
        "yaxis": {
         "anchor": "x",
         "domain": [
          0,
          1
         ]
        }
       }
      },
      "text/html": [
       "<div>                            <div id=\"31f9b1a4-43de-4f5a-ac7a-66d5d741f575\" class=\"plotly-graph-div\" style=\"height:525px; width:100%;\"></div>            <script type=\"text/javascript\">                require([\"plotly\"], function(Plotly) {                    window.PLOTLYENV=window.PLOTLYENV || {};                                    if (document.getElementById(\"31f9b1a4-43de-4f5a-ac7a-66d5d741f575\")) {                    Plotly.newPlot(                        \"31f9b1a4-43de-4f5a-ac7a-66d5d741f575\",                        [{\"name\":\"Truth\",\"x\":[\"2024-04-23 00:00:00\",\"2024-04-24 00:00:00\",\"2024-04-25 00:00:00\",\"2024-04-26 00:00:00\",\"2024-04-29 00:00:00\"],\"y\":[1077.11,1091.21,1088.62,1102.34,1112.34],\"type\":\"scatter\"},{\"name\":\"Prediction\",\"x\":[\"2024-04-23 00:00:00\",\"2024-04-24 00:00:00\",\"2024-04-25 00:00:00\",\"2024-04-26 00:00:00\",\"2024-04-29 00:00:00\"],\"y\":[1094.629638671875,1094.629638671875,1095.070068359375,1097.0745849609375,1101.841796875],\"type\":\"scatter\"}],                        {\"template\":{\"data\":{\"histogram2dcontour\":[{\"type\":\"histogram2dcontour\",\"colorbar\":{\"outlinewidth\":0,\"ticks\":\"\"},\"colorscale\":[[0.0,\"#0d0887\"],[0.1111111111111111,\"#46039f\"],[0.2222222222222222,\"#7201a8\"],[0.3333333333333333,\"#9c179e\"],[0.4444444444444444,\"#bd3786\"],[0.5555555555555556,\"#d8576b\"],[0.6666666666666666,\"#ed7953\"],[0.7777777777777778,\"#fb9f3a\"],[0.8888888888888888,\"#fdca26\"],[1.0,\"#f0f921\"]]}],\"choropleth\":[{\"type\":\"choropleth\",\"colorbar\":{\"outlinewidth\":0,\"ticks\":\"\"}}],\"histogram2d\":[{\"type\":\"histogram2d\",\"colorbar\":{\"outlinewidth\":0,\"ticks\":\"\"},\"colorscale\":[[0.0,\"#0d0887\"],[0.1111111111111111,\"#46039f\"],[0.2222222222222222,\"#7201a8\"],[0.3333333333333333,\"#9c179e\"],[0.4444444444444444,\"#bd3786\"],[0.5555555555555556,\"#d8576b\"],[0.6666666666666666,\"#ed7953\"],[0.7777777777777778,\"#fb9f3a\"],[0.8888888888888888,\"#fdca26\"],[1.0,\"#f0f921\"]]}],\"heatmap\":[{\"type\":\"heatmap\",\"colorbar\":{\"outlinewidth\":0,\"ticks\":\"\"},\"colorscale\":[[0.0,\"#0d0887\"],[0.1111111111111111,\"#46039f\"],[0.2222222222222222,\"#7201a8\"],[0.3333333333333333,\"#9c179e\"],[0.4444444444444444,\"#bd3786\"],[0.5555555555555556,\"#d8576b\"],[0.6666666666666666,\"#ed7953\"],[0.7777777777777778,\"#fb9f3a\"],[0.8888888888888888,\"#fdca26\"],[1.0,\"#f0f921\"]]}],\"heatmapgl\":[{\"type\":\"heatmapgl\",\"colorbar\":{\"outlinewidth\":0,\"ticks\":\"\"},\"colorscale\":[[0.0,\"#0d0887\"],[0.1111111111111111,\"#46039f\"],[0.2222222222222222,\"#7201a8\"],[0.3333333333333333,\"#9c179e\"],[0.4444444444444444,\"#bd3786\"],[0.5555555555555556,\"#d8576b\"],[0.6666666666666666,\"#ed7953\"],[0.7777777777777778,\"#fb9f3a\"],[0.8888888888888888,\"#fdca26\"],[1.0,\"#f0f921\"]]}],\"contourcarpet\":[{\"type\":\"contourcarpet\",\"colorbar\":{\"outlinewidth\":0,\"ticks\":\"\"}}],\"contour\":[{\"type\":\"contour\",\"colorbar\":{\"outlinewidth\":0,\"ticks\":\"\"},\"colorscale\":[[0.0,\"#0d0887\"],[0.1111111111111111,\"#46039f\"],[0.2222222222222222,\"#7201a8\"],[0.3333333333333333,\"#9c179e\"],[0.4444444444444444,\"#bd3786\"],[0.5555555555555556,\"#d8576b\"],[0.6666666666666666,\"#ed7953\"],[0.7777777777777778,\"#fb9f3a\"],[0.8888888888888888,\"#fdca26\"],[1.0,\"#f0f921\"]]}],\"surface\":[{\"type\":\"surface\",\"colorbar\":{\"outlinewidth\":0,\"ticks\":\"\"},\"colorscale\":[[0.0,\"#0d0887\"],[0.1111111111111111,\"#46039f\"],[0.2222222222222222,\"#7201a8\"],[0.3333333333333333,\"#9c179e\"],[0.4444444444444444,\"#bd3786\"],[0.5555555555555556,\"#d8576b\"],[0.6666666666666666,\"#ed7953\"],[0.7777777777777778,\"#fb9f3a\"],[0.8888888888888888,\"#fdca26\"],[1.0,\"#f0f921\"]]}],\"mesh3d\":[{\"type\":\"mesh3d\",\"colorbar\":{\"outlinewidth\":0,\"ticks\":\"\"}}],\"scatter\":[{\"fillpattern\":{\"fillmode\":\"overlay\",\"size\":10,\"solidity\":0.2},\"type\":\"scatter\"}],\"parcoords\":[{\"type\":\"parcoords\",\"line\":{\"colorbar\":{\"outlinewidth\":0,\"ticks\":\"\"}}}],\"scatterpolargl\":[{\"type\":\"scatterpolargl\",\"marker\":{\"colorbar\":{\"outlinewidth\":0,\"ticks\":\"\"}}}],\"bar\":[{\"error_x\":{\"color\":\"#2a3f5f\"},\"error_y\":{\"color\":\"#2a3f5f\"},\"marker\":{\"line\":{\"color\":\"#E5ECF6\",\"width\":0.5},\"pattern\":{\"fillmode\":\"overlay\",\"size\":10,\"solidity\":0.2}},\"type\":\"bar\"}],\"scattergeo\":[{\"type\":\"scattergeo\",\"marker\":{\"colorbar\":{\"outlinewidth\":0,\"ticks\":\"\"}}}],\"scatterpolar\":[{\"type\":\"scatterpolar\",\"marker\":{\"colorbar\":{\"outlinewidth\":0,\"ticks\":\"\"}}}],\"histogram\":[{\"marker\":{\"pattern\":{\"fillmode\":\"overlay\",\"size\":10,\"solidity\":0.2}},\"type\":\"histogram\"}],\"scattergl\":[{\"type\":\"scattergl\",\"marker\":{\"colorbar\":{\"outlinewidth\":0,\"ticks\":\"\"}}}],\"scatter3d\":[{\"type\":\"scatter3d\",\"line\":{\"colorbar\":{\"outlinewidth\":0,\"ticks\":\"\"}},\"marker\":{\"colorbar\":{\"outlinewidth\":0,\"ticks\":\"\"}}}],\"scattermapbox\":[{\"type\":\"scattermapbox\",\"marker\":{\"colorbar\":{\"outlinewidth\":0,\"ticks\":\"\"}}}],\"scatterternary\":[{\"type\":\"scatterternary\",\"marker\":{\"colorbar\":{\"outlinewidth\":0,\"ticks\":\"\"}}}],\"scattercarpet\":[{\"type\":\"scattercarpet\",\"marker\":{\"colorbar\":{\"outlinewidth\":0,\"ticks\":\"\"}}}],\"carpet\":[{\"aaxis\":{\"endlinecolor\":\"#2a3f5f\",\"gridcolor\":\"white\",\"linecolor\":\"white\",\"minorgridcolor\":\"white\",\"startlinecolor\":\"#2a3f5f\"},\"baxis\":{\"endlinecolor\":\"#2a3f5f\",\"gridcolor\":\"white\",\"linecolor\":\"white\",\"minorgridcolor\":\"white\",\"startlinecolor\":\"#2a3f5f\"},\"type\":\"carpet\"}],\"table\":[{\"cells\":{\"fill\":{\"color\":\"#EBF0F8\"},\"line\":{\"color\":\"white\"}},\"header\":{\"fill\":{\"color\":\"#C8D4E3\"},\"line\":{\"color\":\"white\"}},\"type\":\"table\"}],\"barpolar\":[{\"marker\":{\"line\":{\"color\":\"#E5ECF6\",\"width\":0.5},\"pattern\":{\"fillmode\":\"overlay\",\"size\":10,\"solidity\":0.2}},\"type\":\"barpolar\"}],\"pie\":[{\"automargin\":true,\"type\":\"pie\"}]},\"layout\":{\"autotypenumbers\":\"strict\",\"colorway\":[\"#636efa\",\"#EF553B\",\"#00cc96\",\"#ab63fa\",\"#FFA15A\",\"#19d3f3\",\"#FF6692\",\"#B6E880\",\"#FF97FF\",\"#FECB52\"],\"font\":{\"color\":\"#2a3f5f\"},\"hovermode\":\"closest\",\"hoverlabel\":{\"align\":\"left\"},\"paper_bgcolor\":\"white\",\"plot_bgcolor\":\"#E5ECF6\",\"polar\":{\"bgcolor\":\"#E5ECF6\",\"angularaxis\":{\"gridcolor\":\"white\",\"linecolor\":\"white\",\"ticks\":\"\"},\"radialaxis\":{\"gridcolor\":\"white\",\"linecolor\":\"white\",\"ticks\":\"\"}},\"ternary\":{\"bgcolor\":\"#E5ECF6\",\"aaxis\":{\"gridcolor\":\"white\",\"linecolor\":\"white\",\"ticks\":\"\"},\"baxis\":{\"gridcolor\":\"white\",\"linecolor\":\"white\",\"ticks\":\"\"},\"caxis\":{\"gridcolor\":\"white\",\"linecolor\":\"white\",\"ticks\":\"\"}},\"coloraxis\":{\"colorbar\":{\"outlinewidth\":0,\"ticks\":\"\"}},\"colorscale\":{\"sequential\":[[0.0,\"#0d0887\"],[0.1111111111111111,\"#46039f\"],[0.2222222222222222,\"#7201a8\"],[0.3333333333333333,\"#9c179e\"],[0.4444444444444444,\"#bd3786\"],[0.5555555555555556,\"#d8576b\"],[0.6666666666666666,\"#ed7953\"],[0.7777777777777778,\"#fb9f3a\"],[0.8888888888888888,\"#fdca26\"],[1.0,\"#f0f921\"]],\"sequentialminus\":[[0.0,\"#0d0887\"],[0.1111111111111111,\"#46039f\"],[0.2222222222222222,\"#7201a8\"],[0.3333333333333333,\"#9c179e\"],[0.4444444444444444,\"#bd3786\"],[0.5555555555555556,\"#d8576b\"],[0.6666666666666666,\"#ed7953\"],[0.7777777777777778,\"#fb9f3a\"],[0.8888888888888888,\"#fdca26\"],[1.0,\"#f0f921\"]],\"diverging\":[[0,\"#8e0152\"],[0.1,\"#c51b7d\"],[0.2,\"#de77ae\"],[0.3,\"#f1b6da\"],[0.4,\"#fde0ef\"],[0.5,\"#f7f7f7\"],[0.6,\"#e6f5d0\"],[0.7,\"#b8e186\"],[0.8,\"#7fbc41\"],[0.9,\"#4d9221\"],[1,\"#276419\"]]},\"xaxis\":{\"gridcolor\":\"white\",\"linecolor\":\"white\",\"ticks\":\"\",\"title\":{\"standoff\":15},\"zerolinecolor\":\"white\",\"automargin\":true,\"zerolinewidth\":2},\"yaxis\":{\"gridcolor\":\"white\",\"linecolor\":\"white\",\"ticks\":\"\",\"title\":{\"standoff\":15},\"zerolinecolor\":\"white\",\"automargin\":true,\"zerolinewidth\":2},\"scene\":{\"xaxis\":{\"backgroundcolor\":\"#E5ECF6\",\"gridcolor\":\"white\",\"linecolor\":\"white\",\"showbackground\":true,\"ticks\":\"\",\"zerolinecolor\":\"white\",\"gridwidth\":2},\"yaxis\":{\"backgroundcolor\":\"#E5ECF6\",\"gridcolor\":\"white\",\"linecolor\":\"white\",\"showbackground\":true,\"ticks\":\"\",\"zerolinecolor\":\"white\",\"gridwidth\":2},\"zaxis\":{\"backgroundcolor\":\"#E5ECF6\",\"gridcolor\":\"white\",\"linecolor\":\"white\",\"showbackground\":true,\"ticks\":\"\",\"zerolinecolor\":\"white\",\"gridwidth\":2}},\"shapedefaults\":{\"line\":{\"color\":\"#2a3f5f\"}},\"annotationdefaults\":{\"arrowcolor\":\"#2a3f5f\",\"arrowhead\":0,\"arrowwidth\":1},\"geo\":{\"bgcolor\":\"white\",\"landcolor\":\"#E5ECF6\",\"subunitcolor\":\"white\",\"showland\":true,\"showlakes\":true,\"lakecolor\":\"white\"},\"title\":{\"x\":0.05},\"mapbox\":{\"style\":\"light\"}}},\"xaxis\":{\"anchor\":\"y\",\"domain\":[0.0,1.0]},\"yaxis\":{\"anchor\":\"x\",\"domain\":[0.0,1.0]}},                        {\"responsive\": true}                    ).then(function(){\n",
       "                            \n",
       "var gd = document.getElementById('31f9b1a4-43de-4f5a-ac7a-66d5d741f575');\n",
       "var x = new MutationObserver(function (mutations, observer) {{\n",
       "        var display = window.getComputedStyle(gd).display;\n",
       "        if (!display || display === 'none') {{\n",
       "            console.log([gd, 'removed!']);\n",
       "            Plotly.purge(gd);\n",
       "            observer.disconnect();\n",
       "        }}\n",
       "}});\n",
       "\n",
       "// Listen for the removal of the full notebook cells\n",
       "var notebookContainer = gd.closest('#notebook-container');\n",
       "if (notebookContainer) {{\n",
       "    x.observe(notebookContainer, {childList: true});\n",
       "}}\n",
       "\n",
       "// Listen for the clearing of the current output cell\n",
       "var outputEl = gd.closest('.output');\n",
       "if (outputEl) {{\n",
       "    x.observe(outputEl, {childList: true});\n",
       "}}\n",
       "\n",
       "                        })                };                });            </script>        </div>"
      ]
     },
     "metadata": {},
     "output_type": "display_data"
    }
   ],
   "source": [
    "predictions = pd.DataFrame(truth_df)\n",
    "predictions['Close'] = y_pred\n",
    "\n",
    "fig = make_subplots(rows=1, cols=1)\n",
    "fig.add_trace(go.Scatter(x=truth_df['Exchange Date'], \n",
    "                         y=truth_df['Close'],\n",
    "                         name='Truth'))\n",
    "\n",
    "fig.add_trace(go.Scatter(x=predictions['Exchange Date'],\n",
    "                         y=predictions['Close'],\n",
    "                         name='Prediction'))\n",
    "fig.show()"
   ]
  }
 ],
 "metadata": {
  "kernelspec": {
   "display_name": "lseg",
   "language": "python",
   "name": "python3"
  },
  "language_info": {
   "codemirror_mode": {
    "name": "ipython",
    "version": 3
   },
   "file_extension": ".py",
   "mimetype": "text/x-python",
   "name": "python",
   "nbconvert_exporter": "python",
   "pygments_lexer": "ipython3",
   "version": "3.12.3"
  }
 },
 "nbformat": 4,
 "nbformat_minor": 2
}
